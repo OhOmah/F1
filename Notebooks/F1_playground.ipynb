{
  "nbformat": 4,
  "nbformat_minor": 0,
  "metadata": {
    "colab": {
      "name": "F1 playground.ipynb",
      "provenance": [],
      "collapsed_sections": []
    },
    "kernelspec": {
      "name": "python3",
      "display_name": "Python 3"
    }
  },
  "cells": [
    {
      "cell_type": "code",
      "metadata": {
        "id": "U8KZkYafHuhj"
      },
      "source": [
        "import requests \n",
        "import json \n",
        "import pandas as pd\n",
        "\n",
        "# Turning this into a full function now \n",
        "def GetConstructorStanding(years, rounds):\n",
        "  url = \"http://ergast.com/api/f1/{year}/{round}/constructorStandings.json\".format(year = str(years), round = str(rounds))\n",
        "  response = requests.get(url)\n",
        "  stats = json.loads(response.text)\n",
        "  column_list = [\"Year\", \"Round\", \"Constructor\", \"Constructor_Points\", \"Constructor_Wins\"]\n",
        "  # make a new dataframe to write to \n",
        "  export = pd.DataFrame(columns=column_list)\n",
        "\n",
        "  i = 0\n",
        "  length = int(stats['MRData']['total'])\n",
        "\n",
        "  while i < length: \n",
        "    # creating an if statement to stop the loop if\n",
        "    # nothing is there \n",
        "    try:\n",
        "      # creating an empty dict\n",
        "      conStat = {}\n",
        "\n",
        "      # now assigning what I need to this dict\n",
        "      conStat['Year'] = stats['MRData']['StandingsTable']['season']\n",
        "      conStat['Round'] = stats['MRData']['StandingsTable']['round']\n",
        "      conStat['Constructor'] = stats['MRData']['StandingsTable']['StandingsLists'][0]['ConstructorStandings'][i]['Constructor']['name']\n",
        "      conStat['Constructor_Points'] = stats['MRData']['StandingsTable']['StandingsLists'][0]['ConstructorStandings'][i]['points']\n",
        "      conStat['Constructor_Wins'] = stats['MRData']['StandingsTable']['StandingsLists'][0]['ConstructorStandings'][i]['wins']\n",
        "\n",
        "      # now creating a dataframe to work with this. \n",
        "      quick_df = pd.DataFrame(conStat, index= [0])\n",
        "      export = pd.concat([export, quick_df], ignore_index=True)\n",
        "      i+=1\n",
        "    except IndexError:\n",
        "      return export\n",
        "  return export \n"
      ],
      "execution_count": 7,
      "outputs": []
    },
    {
      "cell_type": "code",
      "execution_count": 8,
      "metadata": {},
      "outputs": [
        {
          "output_type": "execute_result",
          "data": {
            "text/plain": [
              "   Year Round   Constructor Constructor_Points Constructor_Wins\n",
              "0  2020     5      Mercedes                180                4\n",
              "1  2020     5      Red Bull                113                1\n",
              "2  2020     5       Ferrari                 55                0\n",
              "3  2020     5       McLaren                 53                0\n",
              "4  2020     5  Racing Point                 41                0\n",
              "5  2020     5       Renault                 36                0\n",
              "6  2020     5    AlphaTauri                 14                0\n",
              "7  2020     5    Alfa Romeo                  2                0\n",
              "8  2020     5  Haas F1 Team                  1                0\n",
              "9  2020     5      Williams                  0                0"
            ],
            "text/html": "<div>\n<style scoped>\n    .dataframe tbody tr th:only-of-type {\n        vertical-align: middle;\n    }\n\n    .dataframe tbody tr th {\n        vertical-align: top;\n    }\n\n    .dataframe thead th {\n        text-align: right;\n    }\n</style>\n<table border=\"1\" class=\"dataframe\">\n  <thead>\n    <tr style=\"text-align: right;\">\n      <th></th>\n      <th>Year</th>\n      <th>Round</th>\n      <th>Constructor</th>\n      <th>Constructor_Points</th>\n      <th>Constructor_Wins</th>\n    </tr>\n  </thead>\n  <tbody>\n    <tr>\n      <th>0</th>\n      <td>2020</td>\n      <td>5</td>\n      <td>Mercedes</td>\n      <td>180</td>\n      <td>4</td>\n    </tr>\n    <tr>\n      <th>1</th>\n      <td>2020</td>\n      <td>5</td>\n      <td>Red Bull</td>\n      <td>113</td>\n      <td>1</td>\n    </tr>\n    <tr>\n      <th>2</th>\n      <td>2020</td>\n      <td>5</td>\n      <td>Ferrari</td>\n      <td>55</td>\n      <td>0</td>\n    </tr>\n    <tr>\n      <th>3</th>\n      <td>2020</td>\n      <td>5</td>\n      <td>McLaren</td>\n      <td>53</td>\n      <td>0</td>\n    </tr>\n    <tr>\n      <th>4</th>\n      <td>2020</td>\n      <td>5</td>\n      <td>Racing Point</td>\n      <td>41</td>\n      <td>0</td>\n    </tr>\n    <tr>\n      <th>5</th>\n      <td>2020</td>\n      <td>5</td>\n      <td>Renault</td>\n      <td>36</td>\n      <td>0</td>\n    </tr>\n    <tr>\n      <th>6</th>\n      <td>2020</td>\n      <td>5</td>\n      <td>AlphaTauri</td>\n      <td>14</td>\n      <td>0</td>\n    </tr>\n    <tr>\n      <th>7</th>\n      <td>2020</td>\n      <td>5</td>\n      <td>Alfa Romeo</td>\n      <td>2</td>\n      <td>0</td>\n    </tr>\n    <tr>\n      <th>8</th>\n      <td>2020</td>\n      <td>5</td>\n      <td>Haas F1 Team</td>\n      <td>1</td>\n      <td>0</td>\n    </tr>\n    <tr>\n      <th>9</th>\n      <td>2020</td>\n      <td>5</td>\n      <td>Williams</td>\n      <td>0</td>\n      <td>0</td>\n    </tr>\n  </tbody>\n</table>\n</div>"
          },
          "metadata": {},
          "execution_count": 8
        }
      ],
      "source": [
        "GetConstructorStanding(2020, 5)"
      ]
    },
    {
      "cell_type": "code",
      "metadata": {
        "id": "oQg7-su5HOB3"
      },
      "source": [
        "def cleandata(df):\r\n",
        "  '''\r\n",
        "    The goal is to take in the messy dataframe and clean it up by creating data\r\n",
        "    frames that contain only the data and returns a cleaned up dataframe. \r\n",
        "\r\n",
        "    TODO: Find a way to get this function working with a for loop. \r\n",
        "  '''\r\n",
        "  df1 = pd.DataFrame()\r\n",
        "  df2 = pd.DataFrame()\r\n",
        "  df3 = pd.DataFrame()\r\n",
        "  df4 = pd.DataFrame()\r\n",
        "  df5 = pd.DataFrame()\r\n",
        "\r\n",
        "  df1[\"Number\"] = df['PermanentNumber']\r\n",
        "  df2['First_Name'] = df['First_Name']\r\n",
        "  df3['Last_Name'] = df['Last_Name']\r\n",
        "  df4[\"DOB\"] = df['DOB']\r\n",
        "  df5['Nationality'] = df['Nationality']\r\n",
        "\r\n",
        "  df1 = df1.dropna()\r\n",
        "  df2 = df2.dropna().reset_index()\r\n",
        "  df3 = df3.dropna().reset_index()\r\n",
        "  df4 = df4.dropna().reset_index()\r\n",
        "  df5 = df5.dropna().reset_index()\r\n",
        "\r\n",
        "  new_df= pd.DataFrame()\r\n",
        "  new_df[\"Number\"] = df1['Number']\r\n",
        "  new_df['First_Name'] = df2['First_Name']\r\n",
        "  new_df['Last_Name'] = df3['Last_Name']\r\n",
        "  new_df[\"DOB\"] = df4['DOB']\r\n",
        "  new_df['Nationality'] = df5['Nationality']\r\n",
        "  return new_df"
      ],
      "execution_count": 10,
      "outputs": []
    },
    {
      "cell_type": "code",
      "execution_count": 11,
      "metadata": {},
      "outputs": [
        {
          "output_type": "execute_result",
          "data": {
            "text/plain": [
              "'+13.719'"
            ]
          },
          "metadata": {},
          "execution_count": 11
        }
      ],
      "source": [
        "# Testing to see how to implement being one lap behind pace. \n",
        "url = \"http://ergast.com/api/f1/2020/2/results.json\"\n",
        "response = requests.get(url)\n",
        "laps = json.loads(response.text)\n",
        "# This query is essentially grabbing the driver information for whoever ended with a +1 lap\n",
        "# I need to make it a true/false statement. \n",
        "# EVEN BETTER I GOT WHERE I CAN GET THEIR FASTEST LAP INFORMATION.... \n",
        "\n",
        "laps['MRData']['RaceTable']['Races'][0]['Results'][1]['Time']['time']"
      ]
    },
    {
      "cell_type": "code",
      "execution_count": 29,
      "metadata": {},
      "outputs": [
        {
          "output_type": "execute_result",
          "data": {
            "text/plain": [
              "           Driver FastestLap FastestTime FastestLapAvgSpeedKPH    status\n",
              "0  Lewis Hamilton         68    1:06.719               232.989  Finished"
            ],
            "text/html": "<div>\n<style scoped>\n    .dataframe tbody tr th:only-of-type {\n        vertical-align: middle;\n    }\n\n    .dataframe tbody tr th {\n        vertical-align: top;\n    }\n\n    .dataframe thead th {\n        text-align: right;\n    }\n</style>\n<table border=\"1\" class=\"dataframe\">\n  <thead>\n    <tr style=\"text-align: right;\">\n      <th></th>\n      <th>Driver</th>\n      <th>FastestLap</th>\n      <th>FastestTime</th>\n      <th>FastestLapAvgSpeedKPH</th>\n      <th>status</th>\n    </tr>\n  </thead>\n  <tbody>\n    <tr>\n      <th>0</th>\n      <td>Lewis Hamilton</td>\n      <td>68</td>\n      <td>1:06.719</td>\n      <td>232.989</td>\n      <td>Finished</td>\n    </tr>\n  </tbody>\n</table>\n</div>"
          },
          "metadata": {},
          "execution_count": 29
        }
      ],
      "source": [
        "# Creating a mock dataframe that will contain the information I would like to keep. \n",
        "\n",
        "finish_mock = {}\n",
        "finish_mock1 = {}\n",
        "finish_mock1['First_Name'] = laps['MRData']['RaceTable']['Races'][0]['Results'][0]['Driver']['givenName']\n",
        "finish_mock1['Last_Name'] = laps['MRData']['RaceTable']['Races'][0]['Results'][0]['Driver']['familyName']\n",
        "finish_mock['Driver'] = finish_mock1['First_Name'] + \" \" + finish_mock1['Last_Name']\n",
        "finish_mock['FastestLap'] = laps['MRData']['RaceTable']['Races'][0]['Results'][0]['FastestLap']['lap']\n",
        "finish_mock['FastestTime'] = laps['MRData']['RaceTable']['Races'][0]['Results'][0]['FastestLap']['Time']['time']\n",
        "finish_mock['FastestLapAvgSpeedKPH'] = laps['MRData']['RaceTable']['Races'][0]['Results'][0]['FastestLap']['AverageSpeed']['speed']\n",
        "finish_mock['status'] = laps['MRData']['RaceTable']['Races'][0]['Results'][0]['status']\n",
        "\n",
        "finish_mock_df = pd.DataFrame(finish_mock, index= [0])\n",
        "finish_mock_df"
      ]
    },
    {
      "cell_type": "code",
      "execution_count": 28,
      "metadata": {},
      "outputs": [
        {
          "output_type": "execute_result",
          "data": {
            "text/plain": [
              "           Driver FastestLap FastestTime FastestLapAvgSpeedKPH    status\n",
              "0  Lewis Hamilton         68    1:06.719               232.989  Finished"
            ],
            "text/html": "<div>\n<style scoped>\n    .dataframe tbody tr th:only-of-type {\n        vertical-align: middle;\n    }\n\n    .dataframe tbody tr th {\n        vertical-align: top;\n    }\n\n    .dataframe thead th {\n        text-align: right;\n    }\n</style>\n<table border=\"1\" class=\"dataframe\">\n  <thead>\n    <tr style=\"text-align: right;\">\n      <th></th>\n      <th>Driver</th>\n      <th>FastestLap</th>\n      <th>FastestTime</th>\n      <th>FastestLapAvgSpeedKPH</th>\n      <th>status</th>\n    </tr>\n  </thead>\n  <tbody>\n    <tr>\n      <th>0</th>\n      <td>Lewis Hamilton</td>\n      <td>68</td>\n      <td>1:06.719</td>\n      <td>232.989</td>\n      <td>Finished</td>\n    </tr>\n  </tbody>\n</table>\n</div>"
          },
          "metadata": {},
          "execution_count": 28
        }
      ],
      "source": [
        "# Now I want to combine the first and last name columns. \n",
        "\n",
        "finish_mock_df['Driver'] = finish_mock_df[[\"First_Name\", \"Last_Name\"]].apply(lambda x: \" \".join(x), axis=1)\n",
        "finish_mock_df = finish_mock_df.drop([\"First_Name\", \"Last_Name\"], axis=1)\n",
        "finish_mock_df"
      ]
    },
    {
      "cell_type": "code",
      "execution_count": 32,
      "metadata": {},
      "outputs": [],
      "source": [
        "# I got the bare bones working, time to put this into a loop that will grab that information for all the drivers of that race \n",
        "\n",
        "def getLapInfo(year, round):\n",
        "    \"\"\" \n",
        "        This function takes in the year and round of a f1 race and returns the race information beyond what place they have               finished. It returns info such as if they finished a lap or more behind, or out of the race for any reason, their fastest         lap and the time the driver is behind the race leader. \n",
        "    \"\"\"\n",
        "    url = \"http://ergast.com/api/f1/{years}/{rounds}/results.json\".format(years=year, rounds=round)\n",
        "    response = requests.get(url)\n",
        "    laps = json.loads(response.text)   \n",
        "    column = ['Year', 'Round', 'Driver','FastestLap','FastestTime','FastestLapAvgSpeedKPH']\n",
        "    # Grabbing the amount of drivers \n",
        "    total_drivers = int(laps['MRData']['total'])\n",
        "    export = pd.DataFrame(columns=column)\n",
        "\n",
        "    # Setting i variable for try/while loop\n",
        "    i = 0 \n",
        "\n",
        "    # Now using a try/except/while loop to get what information I need \n",
        "    try:\n",
        "        while i < total_drivers:\n",
        "            finish_mock = {}\n",
        "            finish_mock1 = {}\n",
        "            finish_mock['Year'] = year\n",
        "            finish_mock['Round'] = round\n",
        "            finish_mock1['First_Name'] = laps['MRData']['RaceTable']['Races'][0]['Results'][i]['Driver']['givenName']\n",
        "            finish_mock1['Last_Name'] = laps['MRData']['RaceTable']['Races'][0]['Results'][i]['Driver']['familyName']\n",
        "            finish_mock['Driver'] = finish_mock1[\"First_Name\"] + \" \" + finish_mock1[\"Last_Name\"]\n",
        "            finish_mock['status'] = laps['MRData']['RaceTable']['Races'][0]['Results'][i]['status']\n",
        "\n",
        "            try: \n",
        "                finish_mock['FastestLap'] = laps['MRData']['RaceTable']['Races'][0]['Results'][i]['FastestLap']['lap']\n",
        "                finish_mock['FastestTime'] = laps['MRData']['RaceTable']['Races'][0]['Results'][i]['FastestLap']['Time']['time']\n",
        "                finish_mock['FastestLapAvgSpeedKPH'] = laps['MRData']['RaceTable']['Races'][0]['Results'][i]['FastestLap']['AverageSpeed']['speed']\n",
        "                finish_mock['TimeBehind'] = laps['MRData']['RaceTable']['Races'][0]['Results'][i]['Time']['time']\n",
        "                finish_mock_df = pd.DataFrame(finish_mock, index=[0])\n",
        "                export = pd.concat([export, finish_mock_df], ignore_index=True)\n",
        "\n",
        "            except KeyError:\n",
        "                finish_mock['TimeBehind'] = laps['MRData']['RaceTable']['Races'][0]['Results'][i]['status']\n",
        "                finish_mock['FastestLap'] = None\n",
        "                finish_mock['FastestTime'] = None\n",
        "                finish_mock['FastestLapAvgSpeedKPH'] = None\n",
        "                finish_mock_df = pd.DataFrame(finish_mock, index=[0])\n",
        "                export = pd.concat([export, finish_mock_df], ignore_index=True)\n",
        "            i += 1 \n",
        "    except IndexError:\n",
        "        return export \n",
        "\n",
        "    return export "
      ]
    },
    {
      "cell_type": "code",
      "execution_count": 33,
      "metadata": {},
      "outputs": [
        {
          "output_type": "execute_result",
          "data": {
            "text/plain": [
              "    Year Round              Driver FastestLap FastestTime  \\\n",
              "0   2020     6      Lewis Hamilton         63    1:19.822   \n",
              "1   2020     6      Max Verstappen         53    1:21.477   \n",
              "2   2020     6     Valtteri Bottas         66    1:18.183   \n",
              "3   2020     6        Lance Stroll       None        None   \n",
              "4   2020     6        Sergio Pérez       None        None   \n",
              "5   2020     6        Carlos Sainz       None        None   \n",
              "6   2020     6    Sebastian Vettel       None        None   \n",
              "7   2020     6     Alexander Albon       None        None   \n",
              "8   2020     6        Pierre Gasly       None        None   \n",
              "9   2020     6        Lando Norris       None        None   \n",
              "10  2020     6    Daniel Ricciardo       None        None   \n",
              "11  2020     6        Daniil Kvyat       None        None   \n",
              "12  2020     6        Esteban Ocon       None        None   \n",
              "13  2020     6      Kimi Räikkönen       None        None   \n",
              "14  2020     6     Kevin Magnussen       None        None   \n",
              "15  2020     6  Antonio Giovinazzi       None        None   \n",
              "16  2020     6      George Russell       None        None   \n",
              "17  2020     6     Nicholas Latifi       None        None   \n",
              "18  2020     6     Romain Grosjean       None        None   \n",
              "19  2020     6     Charles Leclerc       None        None   \n",
              "\n",
              "   FastestLapAvgSpeedKPH       status   TimeBehind  \n",
              "0                209.942     Finished  1:31:45.279  \n",
              "1                205.677     Finished      +24.177  \n",
              "2                214.343     Finished      +44.752  \n",
              "3                   None       +1 Lap       +1 Lap  \n",
              "4                   None       +1 Lap       +1 Lap  \n",
              "5                   None       +1 Lap       +1 Lap  \n",
              "6                   None       +1 Lap       +1 Lap  \n",
              "7                   None       +1 Lap       +1 Lap  \n",
              "8                   None       +1 Lap       +1 Lap  \n",
              "9                   None       +1 Lap       +1 Lap  \n",
              "10                  None       +1 Lap       +1 Lap  \n",
              "11                  None       +1 Lap       +1 Lap  \n",
              "12                  None       +1 Lap       +1 Lap  \n",
              "13                  None       +1 Lap       +1 Lap  \n",
              "14                  None       +1 Lap       +1 Lap  \n",
              "15                  None       +1 Lap       +1 Lap  \n",
              "16                  None       +1 Lap       +1 Lap  \n",
              "17                  None      +2 Laps      +2 Laps  \n",
              "18                  None      +2 Laps      +2 Laps  \n",
              "19                  None  Electronics  Electronics  "
            ],
            "text/html": "<div>\n<style scoped>\n    .dataframe tbody tr th:only-of-type {\n        vertical-align: middle;\n    }\n\n    .dataframe tbody tr th {\n        vertical-align: top;\n    }\n\n    .dataframe thead th {\n        text-align: right;\n    }\n</style>\n<table border=\"1\" class=\"dataframe\">\n  <thead>\n    <tr style=\"text-align: right;\">\n      <th></th>\n      <th>Year</th>\n      <th>Round</th>\n      <th>Driver</th>\n      <th>FastestLap</th>\n      <th>FastestTime</th>\n      <th>FastestLapAvgSpeedKPH</th>\n      <th>status</th>\n      <th>TimeBehind</th>\n    </tr>\n  </thead>\n  <tbody>\n    <tr>\n      <th>0</th>\n      <td>2020</td>\n      <td>6</td>\n      <td>Lewis Hamilton</td>\n      <td>63</td>\n      <td>1:19.822</td>\n      <td>209.942</td>\n      <td>Finished</td>\n      <td>1:31:45.279</td>\n    </tr>\n    <tr>\n      <th>1</th>\n      <td>2020</td>\n      <td>6</td>\n      <td>Max Verstappen</td>\n      <td>53</td>\n      <td>1:21.477</td>\n      <td>205.677</td>\n      <td>Finished</td>\n      <td>+24.177</td>\n    </tr>\n    <tr>\n      <th>2</th>\n      <td>2020</td>\n      <td>6</td>\n      <td>Valtteri Bottas</td>\n      <td>66</td>\n      <td>1:18.183</td>\n      <td>214.343</td>\n      <td>Finished</td>\n      <td>+44.752</td>\n    </tr>\n    <tr>\n      <th>3</th>\n      <td>2020</td>\n      <td>6</td>\n      <td>Lance Stroll</td>\n      <td>None</td>\n      <td>None</td>\n      <td>None</td>\n      <td>+1 Lap</td>\n      <td>+1 Lap</td>\n    </tr>\n    <tr>\n      <th>4</th>\n      <td>2020</td>\n      <td>6</td>\n      <td>Sergio Pérez</td>\n      <td>None</td>\n      <td>None</td>\n      <td>None</td>\n      <td>+1 Lap</td>\n      <td>+1 Lap</td>\n    </tr>\n    <tr>\n      <th>5</th>\n      <td>2020</td>\n      <td>6</td>\n      <td>Carlos Sainz</td>\n      <td>None</td>\n      <td>None</td>\n      <td>None</td>\n      <td>+1 Lap</td>\n      <td>+1 Lap</td>\n    </tr>\n    <tr>\n      <th>6</th>\n      <td>2020</td>\n      <td>6</td>\n      <td>Sebastian Vettel</td>\n      <td>None</td>\n      <td>None</td>\n      <td>None</td>\n      <td>+1 Lap</td>\n      <td>+1 Lap</td>\n    </tr>\n    <tr>\n      <th>7</th>\n      <td>2020</td>\n      <td>6</td>\n      <td>Alexander Albon</td>\n      <td>None</td>\n      <td>None</td>\n      <td>None</td>\n      <td>+1 Lap</td>\n      <td>+1 Lap</td>\n    </tr>\n    <tr>\n      <th>8</th>\n      <td>2020</td>\n      <td>6</td>\n      <td>Pierre Gasly</td>\n      <td>None</td>\n      <td>None</td>\n      <td>None</td>\n      <td>+1 Lap</td>\n      <td>+1 Lap</td>\n    </tr>\n    <tr>\n      <th>9</th>\n      <td>2020</td>\n      <td>6</td>\n      <td>Lando Norris</td>\n      <td>None</td>\n      <td>None</td>\n      <td>None</td>\n      <td>+1 Lap</td>\n      <td>+1 Lap</td>\n    </tr>\n    <tr>\n      <th>10</th>\n      <td>2020</td>\n      <td>6</td>\n      <td>Daniel Ricciardo</td>\n      <td>None</td>\n      <td>None</td>\n      <td>None</td>\n      <td>+1 Lap</td>\n      <td>+1 Lap</td>\n    </tr>\n    <tr>\n      <th>11</th>\n      <td>2020</td>\n      <td>6</td>\n      <td>Daniil Kvyat</td>\n      <td>None</td>\n      <td>None</td>\n      <td>None</td>\n      <td>+1 Lap</td>\n      <td>+1 Lap</td>\n    </tr>\n    <tr>\n      <th>12</th>\n      <td>2020</td>\n      <td>6</td>\n      <td>Esteban Ocon</td>\n      <td>None</td>\n      <td>None</td>\n      <td>None</td>\n      <td>+1 Lap</td>\n      <td>+1 Lap</td>\n    </tr>\n    <tr>\n      <th>13</th>\n      <td>2020</td>\n      <td>6</td>\n      <td>Kimi Räikkönen</td>\n      <td>None</td>\n      <td>None</td>\n      <td>None</td>\n      <td>+1 Lap</td>\n      <td>+1 Lap</td>\n    </tr>\n    <tr>\n      <th>14</th>\n      <td>2020</td>\n      <td>6</td>\n      <td>Kevin Magnussen</td>\n      <td>None</td>\n      <td>None</td>\n      <td>None</td>\n      <td>+1 Lap</td>\n      <td>+1 Lap</td>\n    </tr>\n    <tr>\n      <th>15</th>\n      <td>2020</td>\n      <td>6</td>\n      <td>Antonio Giovinazzi</td>\n      <td>None</td>\n      <td>None</td>\n      <td>None</td>\n      <td>+1 Lap</td>\n      <td>+1 Lap</td>\n    </tr>\n    <tr>\n      <th>16</th>\n      <td>2020</td>\n      <td>6</td>\n      <td>George Russell</td>\n      <td>None</td>\n      <td>None</td>\n      <td>None</td>\n      <td>+1 Lap</td>\n      <td>+1 Lap</td>\n    </tr>\n    <tr>\n      <th>17</th>\n      <td>2020</td>\n      <td>6</td>\n      <td>Nicholas Latifi</td>\n      <td>None</td>\n      <td>None</td>\n      <td>None</td>\n      <td>+2 Laps</td>\n      <td>+2 Laps</td>\n    </tr>\n    <tr>\n      <th>18</th>\n      <td>2020</td>\n      <td>6</td>\n      <td>Romain Grosjean</td>\n      <td>None</td>\n      <td>None</td>\n      <td>None</td>\n      <td>+2 Laps</td>\n      <td>+2 Laps</td>\n    </tr>\n    <tr>\n      <th>19</th>\n      <td>2020</td>\n      <td>6</td>\n      <td>Charles Leclerc</td>\n      <td>None</td>\n      <td>None</td>\n      <td>None</td>\n      <td>Electronics</td>\n      <td>Electronics</td>\n    </tr>\n  </tbody>\n</table>\n</div>"
          },
          "metadata": {},
          "execution_count": 33
        }
      ],
      "source": [
        "# getting the final dataframe to see how it would look\n",
        "df = getLapInfo(2020, 6)\n",
        "df\n",
        "# TODO: Get this function to merge with the main dataframe! "
      ]
    },
    {
      "cell_type": "markdown",
      "metadata": {
        "id": "Hs-NKVLsh7R8"
      },
      "source": [
        "# Change of pace\n",
        "I'm going to take a complete left turn. \n",
        "\n",
        "I think it would be better to have have to data I get be a JSON file instead of an xml. It is faster to parse AND I believe it would be easier to work with. "
      ]
    },
    {
      "cell_type": "code",
      "metadata": {
        "colab": {
          "base_uri": "https://localhost:8080/",
          "height": 35
        },
        "id": "MDWm7r-XsT6m",
        "outputId": "332354f7-bab0-4f2d-a9ee-cf5b77c634ef"
      },
      "source": [
        "# Quick test Seeing how I would get a JSON \n",
        "import json\n",
        "\n",
        "j = 2016\n",
        "length = 0\n",
        "\n",
        "url = \"http://ergast.com/api/f1/{year}/{round}/driverStandings.json\"\n",
        "url1 = url.format(year = str(j), round = str(length))\n",
        "\n",
        "url1"
      ],
      "execution_count": 36,
      "outputs": [
        {
          "output_type": "execute_result",
          "data": {
            "text/plain": [
              "'http://ergast.com/api/f1/2016/0/driverStandings.json'"
            ]
          },
          "metadata": {},
          "execution_count": 36
        }
      ]
    },
    {
      "cell_type": "code",
      "metadata": {
        "id": "02gzeQfBtEQx"
      },
      "source": [
        "import requests \n",
        "\n",
        "response = requests.get(url1)\n",
        "standing = json.loads(response.text)"
      ],
      "execution_count": 37,
      "outputs": []
    },
    {
      "cell_type": "code",
      "metadata": {
        "id": "W0wDIhontyAi"
      },
      "source": [
        "import pandas as pd \n",
        "\n",
        "df = pd.DataFrame()\n",
        "\n",
        "column_list = ['Driver', 'Nationality', 'Number', \n",
        "               'Points', 'Position', 'Wins']"
      ],
      "execution_count": 34,
      "outputs": []
    },
    {
      "cell_type": "markdown",
      "metadata": {
        "id": "F6-Re-6o2rd5"
      },
      "source": [
        "# New Data Extraction Function\n",
        "\n",
        "Using what I've learned from my spotify project, I'm going to create a function that will take my scrapped data and return it as a pandas dataframe. "
      ]
    },
    {
      "cell_type": "code",
      "metadata": {
        "colab": {
          "base_uri": "https://localhost:8080/",
          "height": 35
        },
        "id": "PilWNN19Py9R",
        "outputId": "9a91dc5d-73a3-4c47-d24d-86e5774f9fbd"
      },
      "source": [
        "# live test to see how I'm going to parse the data to get what I need for each column\n",
        "years = 2020\n",
        "rounds = 3\n",
        "url = \"http://ergast.com/api/f1/{year}/{round}/driverStandings.json\"\n",
        "url1 = url.format(year = str(years), round = str(rounds))\n",
        "standing['MRData']['StandingsTable']['StandingsLists'][0]['DriverStandings'][1]['Driver']['nationality']"
      ],
      "execution_count": 24,
      "outputs": [
        {
          "output_type": "execute_result",
          "data": {
            "text/plain": [
              "'British'"
            ]
          },
          "metadata": {},
          "execution_count": 24
        }
      ]
    },
    {
      "cell_type": "code",
      "metadata": {
        "id": "RN8_VgGk24fJ"
      },
      "source": [
        "# This is a test function to get test data. \n",
        "# Keeping it simple and controlled\n",
        "def GetStandings(years, rounds):\n",
        "  '''\n",
        "    Simple function that returns a dataframe that contains the \n",
        "    year and round of a race and how the drivers place on it. \n",
        "  '''\n",
        "  # making sure the inputs are strings \n",
        "  url = \"http://ergast.com/api/f1/{year}/{round}/driverStandings.json\"\n",
        "  url1 = url.format(year = str(years), round = str(rounds))\n",
        "\n",
        "  # now creating my dataframe \n",
        "  df = pd.DataFrame()\n",
        "\n",
        "  # getting my dict that I will turn into a dataframe\n",
        "  response = requests.get(url1)\n",
        "  standing = json.loads(response.text)\n",
        "\n",
        "  # with that info creating my columns \n",
        "  column_list = ['Year', 'Round', 'Driver', \n",
        "                 'Track', 'Points', 'Position', \n",
        "                 'Wins']\n",
        "\n",
        "  # now with that done time to take my dict and make \n",
        "  # it a data frame \n",
        "  i = 0\n",
        "\n",
        "  # this determines how long the loop goes so we don't get an index error!\n",
        "  length = int(standing['MRData']['total'])\n",
        "  \n",
        "  # This is going to be another variable, which will \n",
        "  # Get the track name of the round that it's in \n",
        "  url = \"http://ergast.com/api/f1/{year}/{round}/qualifying.json\".format(year = str(years), round = str(rounds))\n",
        "  response = requests.get(url)\n",
        "  track = json.loads(response.text)\n",
        "  # This will be my final dataframe\n",
        "  standing_df = pd.DataFrame(columns=column_list)\n",
        "\n",
        "  # Using a while loop since every season has a different number of drivers\n",
        "  # Want this program to work in the long run. \n",
        "  while i < length:\n",
        "    driver_features = {}\n",
        "    driver_name = {}\n",
        "    # getting the data I need\n",
        "    driver_features['Year'] = int(years)\n",
        "    driver_features['Round'] = int(rounds)\n",
        "    driver_name['First_Name'] = standing['MRData']['StandingsTable']['StandingsLists'][0]['DriverStandings'][i]['Driver']['givenName']\n",
        "    driver_name['Last_Name'] = standing['MRData']['StandingsTable']['StandingsLists'][0]['DriverStandings'][i]['Driver']['familyName']\n",
        "    driver_features['Driver'] = driver_name['First_Name'] + ' ' + driver_name['Last_Name']\n",
        "    driver_features['Track'] = track[\"MRData\"][\"RaceTable\"][\"Races\"][0]['Circuit']['circuitId']\n",
        "    driver_features['Points'] = standing['MRData']['StandingsTable']['StandingsLists'][0]['DriverStandings'][i]['points']\n",
        "    driver_features['Position'] = standing['MRData']['StandingsTable']['StandingsLists'][0]['DriverStandings'][i]['position']\n",
        "    driver_features['Wins'] = standing['MRData']['StandingsTable']['StandingsLists'][0]['DriverStandings'][i]['wins']\n",
        "    i+=1\n",
        "\n",
        "    standing_df1 = pd.DataFrame(driver_features, index= [0])\n",
        "    standing_df = pd.concat([standing_df, standing_df1], ignore_index=True)\n",
        "  return standing_df"
      ],
      "execution_count": 41,
      "outputs": []
    },
    {
      "cell_type": "code",
      "metadata": {
        "colab": {
          "base_uri": "https://localhost:8080/",
          "height": 35
        },
        "id": "EPbv4EvFfrP6",
        "outputId": "5820ed1d-632e-463a-ae40-7e437cf075cf"
      },
      "source": [
        "import requests\n",
        "import json \n",
        "import pandas as pd \n",
        "\n",
        "url = \"http://ergast.com/api/f1/{year}/{round}/qualifying.json\".format(year = \"2016\", round = '3')\n",
        "\n",
        "response = requests.get(url)\n",
        "test = json.loads(response.text)\n",
        "test['MRData']['RaceTable']['Races'][0]['Circuit']['circuitId']"
      ],
      "execution_count": 42,
      "outputs": [
        {
          "output_type": "execute_result",
          "data": {
            "text/plain": [
              "'shanghai'"
            ]
          },
          "metadata": {},
          "execution_count": 42
        }
      ]
    },
    {
      "cell_type": "markdown",
      "metadata": {
        "id": "hsTieFr3-NIi"
      },
      "source": [
        "My current problem is that no matter how I set the loop up, I seem to only get one result with my dataframe. \n",
        "\n",
        "fixed it by creating a dataframe outside the loop and concatted the newly created one to the other one until the loop is done. it was overwriting itself the entire time. LOL\n",
        "\n",
        "my second problem is that sometimes the total number of drivers is less than the actual number\n",
        "\n",
        "The fix was simple, an overthinking part on my side. forgot that the json I'm working with already had the number of drivers in it already. used that to count the total instead. \n"
      ]
    },
    {
      "cell_type": "code",
      "metadata": {
        "colab": {
          "base_uri": "https://localhost:8080/",
          "height": 669
        },
        "id": "qqxmMquB9oht",
        "outputId": "5b094f16-c05f-4cff-c277-c5ffb1171a5c"
      },
      "source": [
        "GetStandings(2020, 3)"
      ],
      "execution_count": 43,
      "outputs": [
        {
          "output_type": "execute_result",
          "data": {
            "text/plain": [
              "    Year Round              Driver        Track Points Position Wins\n",
              "0   2020     3      Lewis Hamilton  hungaroring     63        1    2\n",
              "1   2020     3     Valtteri Bottas  hungaroring     58        2    1\n",
              "2   2020     3      Max Verstappen  hungaroring     33        3    0\n",
              "3   2020     3        Lando Norris  hungaroring     26        4    0\n",
              "4   2020     3     Alexander Albon  hungaroring     22        5    0\n",
              "5   2020     3        Sergio Pérez  hungaroring     22        6    0\n",
              "6   2020     3     Charles Leclerc  hungaroring     18        7    0\n",
              "7   2020     3        Lance Stroll  hungaroring     18        8    0\n",
              "8   2020     3        Carlos Sainz  hungaroring     15        9    0\n",
              "9   2020     3    Sebastian Vettel  hungaroring      9       10    0\n",
              "10  2020     3    Daniel Ricciardo  hungaroring      8       11    0\n",
              "11  2020     3        Pierre Gasly  hungaroring      6       12    0\n",
              "12  2020     3        Esteban Ocon  hungaroring      4       13    0\n",
              "13  2020     3  Antonio Giovinazzi  hungaroring      2       14    0\n",
              "14  2020     3        Daniil Kvyat  hungaroring      1       15    0\n",
              "15  2020     3     Kevin Magnussen  hungaroring      1       16    0\n",
              "16  2020     3      Kimi Räikkönen  hungaroring      0       17    0\n",
              "17  2020     3     Nicholas Latifi  hungaroring      0       18    0\n",
              "18  2020     3     Romain Grosjean  hungaroring      0       19    0\n",
              "19  2020     3      George Russell  hungaroring      0       20    0"
            ],
            "text/html": "<div>\n<style scoped>\n    .dataframe tbody tr th:only-of-type {\n        vertical-align: middle;\n    }\n\n    .dataframe tbody tr th {\n        vertical-align: top;\n    }\n\n    .dataframe thead th {\n        text-align: right;\n    }\n</style>\n<table border=\"1\" class=\"dataframe\">\n  <thead>\n    <tr style=\"text-align: right;\">\n      <th></th>\n      <th>Year</th>\n      <th>Round</th>\n      <th>Driver</th>\n      <th>Track</th>\n      <th>Points</th>\n      <th>Position</th>\n      <th>Wins</th>\n    </tr>\n  </thead>\n  <tbody>\n    <tr>\n      <th>0</th>\n      <td>2020</td>\n      <td>3</td>\n      <td>Lewis Hamilton</td>\n      <td>hungaroring</td>\n      <td>63</td>\n      <td>1</td>\n      <td>2</td>\n    </tr>\n    <tr>\n      <th>1</th>\n      <td>2020</td>\n      <td>3</td>\n      <td>Valtteri Bottas</td>\n      <td>hungaroring</td>\n      <td>58</td>\n      <td>2</td>\n      <td>1</td>\n    </tr>\n    <tr>\n      <th>2</th>\n      <td>2020</td>\n      <td>3</td>\n      <td>Max Verstappen</td>\n      <td>hungaroring</td>\n      <td>33</td>\n      <td>3</td>\n      <td>0</td>\n    </tr>\n    <tr>\n      <th>3</th>\n      <td>2020</td>\n      <td>3</td>\n      <td>Lando Norris</td>\n      <td>hungaroring</td>\n      <td>26</td>\n      <td>4</td>\n      <td>0</td>\n    </tr>\n    <tr>\n      <th>4</th>\n      <td>2020</td>\n      <td>3</td>\n      <td>Alexander Albon</td>\n      <td>hungaroring</td>\n      <td>22</td>\n      <td>5</td>\n      <td>0</td>\n    </tr>\n    <tr>\n      <th>5</th>\n      <td>2020</td>\n      <td>3</td>\n      <td>Sergio Pérez</td>\n      <td>hungaroring</td>\n      <td>22</td>\n      <td>6</td>\n      <td>0</td>\n    </tr>\n    <tr>\n      <th>6</th>\n      <td>2020</td>\n      <td>3</td>\n      <td>Charles Leclerc</td>\n      <td>hungaroring</td>\n      <td>18</td>\n      <td>7</td>\n      <td>0</td>\n    </tr>\n    <tr>\n      <th>7</th>\n      <td>2020</td>\n      <td>3</td>\n      <td>Lance Stroll</td>\n      <td>hungaroring</td>\n      <td>18</td>\n      <td>8</td>\n      <td>0</td>\n    </tr>\n    <tr>\n      <th>8</th>\n      <td>2020</td>\n      <td>3</td>\n      <td>Carlos Sainz</td>\n      <td>hungaroring</td>\n      <td>15</td>\n      <td>9</td>\n      <td>0</td>\n    </tr>\n    <tr>\n      <th>9</th>\n      <td>2020</td>\n      <td>3</td>\n      <td>Sebastian Vettel</td>\n      <td>hungaroring</td>\n      <td>9</td>\n      <td>10</td>\n      <td>0</td>\n    </tr>\n    <tr>\n      <th>10</th>\n      <td>2020</td>\n      <td>3</td>\n      <td>Daniel Ricciardo</td>\n      <td>hungaroring</td>\n      <td>8</td>\n      <td>11</td>\n      <td>0</td>\n    </tr>\n    <tr>\n      <th>11</th>\n      <td>2020</td>\n      <td>3</td>\n      <td>Pierre Gasly</td>\n      <td>hungaroring</td>\n      <td>6</td>\n      <td>12</td>\n      <td>0</td>\n    </tr>\n    <tr>\n      <th>12</th>\n      <td>2020</td>\n      <td>3</td>\n      <td>Esteban Ocon</td>\n      <td>hungaroring</td>\n      <td>4</td>\n      <td>13</td>\n      <td>0</td>\n    </tr>\n    <tr>\n      <th>13</th>\n      <td>2020</td>\n      <td>3</td>\n      <td>Antonio Giovinazzi</td>\n      <td>hungaroring</td>\n      <td>2</td>\n      <td>14</td>\n      <td>0</td>\n    </tr>\n    <tr>\n      <th>14</th>\n      <td>2020</td>\n      <td>3</td>\n      <td>Daniil Kvyat</td>\n      <td>hungaroring</td>\n      <td>1</td>\n      <td>15</td>\n      <td>0</td>\n    </tr>\n    <tr>\n      <th>15</th>\n      <td>2020</td>\n      <td>3</td>\n      <td>Kevin Magnussen</td>\n      <td>hungaroring</td>\n      <td>1</td>\n      <td>16</td>\n      <td>0</td>\n    </tr>\n    <tr>\n      <th>16</th>\n      <td>2020</td>\n      <td>3</td>\n      <td>Kimi Räikkönen</td>\n      <td>hungaroring</td>\n      <td>0</td>\n      <td>17</td>\n      <td>0</td>\n    </tr>\n    <tr>\n      <th>17</th>\n      <td>2020</td>\n      <td>3</td>\n      <td>Nicholas Latifi</td>\n      <td>hungaroring</td>\n      <td>0</td>\n      <td>18</td>\n      <td>0</td>\n    </tr>\n    <tr>\n      <th>18</th>\n      <td>2020</td>\n      <td>3</td>\n      <td>Romain Grosjean</td>\n      <td>hungaroring</td>\n      <td>0</td>\n      <td>19</td>\n      <td>0</td>\n    </tr>\n    <tr>\n      <th>19</th>\n      <td>2020</td>\n      <td>3</td>\n      <td>George Russell</td>\n      <td>hungaroring</td>\n      <td>0</td>\n      <td>20</td>\n      <td>0</td>\n    </tr>\n  </tbody>\n</table>\n</div>"
          },
          "metadata": {},
          "execution_count": 43
        }
      ]
    },
    {
      "cell_type": "markdown",
      "metadata": {
        "id": "s8hxkfwmEL3w"
      },
      "source": [
        "Now since I got the simple function done, time to make the big one again. This time it's much faster and much smaller. \n",
        "\n",
        "I want this function to return the results of the last 5 years "
      ]
    },
    {
      "cell_type": "code",
      "metadata": {
        "id": "sNIpcdaNELCE"
      },
      "source": [
        "from datetime import datetime\n",
        "def GetLast5Years():\n",
        "  '''\n",
        "  This function takes the driver standings from the last \n",
        "  5 years and returns an exported dataframe to work with. \n",
        "  '''\n",
        "  # bringing in the column list once again \n",
        "  # TODO, in VSCODE make sure I can easily import it \n",
        "  # to save memory when running the full app. \n",
        "  column_list = ['Year', 'Round', 'Driver', \n",
        "                 'Track', 'Points', 'Position', \n",
        "                 'Wins']\n",
        "  column_list2 = [\"Year\", \"Round\", \"Driver\", \n",
        "                  \"Q1_Time\", \"Q2_Time\", \"Q3_Time\"]\n",
        "  column_list3 = ['Year', 'Round', 'Driver','FastestLap','FastestTime','FastestLapAvgSpeedKPH']\n",
        "  column_list4 = [\"Year\", \"Round\", \"Constructor\", \"Constructor_Points\", \"Constructor_Wins\"]\n",
        "  # making a new dataframe that will contain all of my variables. \n",
        "  export = pd.DataFrame(columns=column_list)\n",
        "  export1 = pd.DataFrame(columns= column_list2)\n",
        "  export_Con = pd.DataFrame(columns= column_list4) # Used to be export 2\n",
        "  export_Lap = pd.DataFrame(columns= column_list3) # Used to be export 3\n",
        "\n",
        "  # Starting with my first for loop, witch will loop through \n",
        "  # the last 5 years from the current date \n",
        "  today = datetime.today().year\n",
        "  # A temporary fix since the 2021 season hasn't started yet\n",
        "  # TODO, find a way to have to function work if \n",
        "  # The season hasn't started yet. \n",
        "  # Probs just have it do a precheck, if it returns an error\n",
        "  # Skip the year and continue. \n",
        "  if today == 2021:\n",
        "    today -= 1\n",
        "  year_list = []\n",
        "  # Creating my boundries for the loop \n",
        "  for i in range(5):\n",
        "    year_list.append(today)\n",
        "    today -= 1\n",
        "\n",
        "  for race in year_list:\n",
        "    # Grabbing the length of the inner loop. \n",
        "    url4 = \"http://ergast.com/api/f1/{year}.json\".format(year=str(race))\n",
        "    response = requests.get(url4)\n",
        "    test = json.loads(response.text)\n",
        "    length = int(test['MRData']['total'])\n",
        "    \n",
        "\n",
        "    for k in range(length):\n",
        "      # The goal of this loop is to grab the standings for each round \n",
        "      # and add it to the dataframe. \n",
        "      temp4 = getLapInfo(race, k)\n",
        "      temp2 = get_qualifying(race, k)\n",
        "      temp = GetStandings(race, k)\n",
        "      temp3 = GetConstructorStanding(race, k)\n",
        "      # Merging the Constructor dataframes\n",
        "      export_Con = pd.concat([export_Con, temp3], ignore_index=True)\n",
        "      # Merging the additional driver info \n",
        "      export_Lap = pd.concat([export_Lap, temp4], ignore_index=True)\n",
        "      # Merging the base driver info. \n",
        "      export = pd.concat([export, temp], ignore_index=True)\n",
        "      export1 = pd.concat([export1, temp2], ignore_index=True)\n",
        "      # Final combination of the dataframes. \n",
        "  \n",
        "  done = pd.merge(export1, export, on=['Year', 'Round', 'Driver'])\n",
        "  final_export = pd.merge(export_Lap, done, on=['Year', 'Round', 'Driver'])    \n",
        "  return final_export, export_Con"
      ],
      "execution_count": 51,
      "outputs": []
    },
    {
      "cell_type": "markdown",
      "metadata": {
        "id": "9FsqkTyXF6In"
      },
      "source": [
        "# Getting the qualifying times \r\n",
        "\r\n",
        "This function will grab all of the Q1 times for each driver\r\n",
        "\r\n",
        "TODO: If I do have any spare time, have this function take the drivers fastest time instead of just their Q1 time. Problem is that it will make the function just a bit slower....\r\n"
      ]
    },
    {
      "cell_type": "code",
      "metadata": {
        "id": "LOk-dCoHq5VV"
      },
      "source": [
        "# Writing a function that will get the qualifying times for Q1\n",
        "def get_qualifying(years, rounds):\n",
        "  # making my columns list\n",
        "  column_list = [\"Year\", \"Round\", \"Driver\", \"Q1_Time\", \"Q2_Time\", \"Q3_Time\", \"Constructor\"]\n",
        "  # make a new dataframe to write to \n",
        "  export = pd.DataFrame(columns=column_list)\n",
        "  \n",
        "  # now getting the dict\n",
        "  url = \"http://ergast.com/api/f1/{year}/{round}/qualifying.json\".format(year = str(years), round = str(rounds))\n",
        "  response = requests.get(url)\n",
        "  qual = json.loads(response.text)\n",
        "\n",
        "  # Setting the varible for our while loop\n",
        "  i = 0 \n",
        "\n",
        "  length = int(qual['MRData']['total'])\n",
        "\n",
        "  # making a while loop \n",
        "  while i < length: \n",
        "    # creating an if statement to stop the loop if\n",
        "    # nothing is there \n",
        "    try:\n",
        "      # creating an empty dict\n",
        "      qual_feat = {}\n",
        "      qual_name = {}\n",
        "\n",
        "      # now assigning what I need to this dict\n",
        "      qual_feat[\"Year\"] = int(years)\n",
        "      qual_feat[\"Round\"] = (int(rounds) + 1)\n",
        "      qual_name[\"First_Name\"] = qual[\"MRData\"][\"RaceTable\"][\"Races\"][0][\"QualifyingResults\"][i]['Driver']['givenName']\n",
        "      qual_name[\"Last_Name\"] = qual['MRData']['RaceTable']['Races'][0]['QualifyingResults'][i]['Driver']['familyName']\n",
        "      qual_feat[\"Driver\"] = qual_name[\"First_Name\"] + \" \" + qual_name['Last_Name']\n",
        "      qual_feat[\"Q1_Time\"] = qual['MRData']['RaceTable']['Races'][0]['QualifyingResults'][i]['Q1']\n",
        "      try:\n",
        "        qual_feat['Q2_Time'] = qual['MRData']['RaceTable']['Races'][0]['QualifyingResults'][i]['Q2']\n",
        "      except KeyError:\n",
        "        pass\n",
        "      try:\n",
        "        qual_feat[\"Q3_Time\"] = qual['MRData']['RaceTable']['Races'][0]['QualifyingResults'][i]['Q3']\n",
        "      except KeyError:\n",
        "        pass \n",
        "      qual_feat[\"Constructor\"] = qual['MRData']['RaceTable']['Races'][0]['QualifyingResults'][i]['Constructor']['name']\n",
        "\n",
        "      # now creating a dataframe to work with this. \n",
        "      quick_df = pd.DataFrame(qual_feat, index= [0])\n",
        "      export = pd.concat([export, quick_df], ignore_index=True)\n",
        "      i+=1\n",
        "    except IndexError:\n",
        "      return export\n",
        "  return export "
      ],
      "execution_count": 52,
      "outputs": []
    },
    {
      "cell_type": "code",
      "metadata": {
        "colab": {
          "base_uri": "https://localhost:8080/",
          "height": 419
        },
        "id": "qF7CtrO1IN5w",
        "outputId": "0e54b330-f883-40a5-ea67-8d115c4c2284"
      },
      "source": [
        "df, test = GetLast5Years()\n",
        "df"
      ],
      "execution_count": 53,
      "outputs": [
        {
          "output_type": "execute_result",
          "data": {
            "text/plain": [
              "      Year Round             Driver FastestLap FastestTime  \\\n",
              "0     2020     1    Valtteri Bottas         68    1:07.657   \n",
              "1     2020     1    Charles Leclerc         64    1:07.901   \n",
              "2     2020     1       Lando Norris         71    1:07.475   \n",
              "3     2020     1     Lewis Hamilton         67    1:07.712   \n",
              "4     2020     1       Carlos Sainz         63    1:07.974   \n",
              "...    ...   ...                ...        ...         ...   \n",
              "1908  2016    20  Esteban Gutiérrez       None        None   \n",
              "1909  2016    20       Felipe Massa       None        None   \n",
              "1910  2016    20     Kimi Räikkönen       None        None   \n",
              "1911  2016    20    Marcus Ericsson       None        None   \n",
              "1912  2016    20    Romain Grosjean       None        None   \n",
              "\n",
              "     FastestLapAvgSpeedKPH     status   TimeBehind   Q1_Time   Q2_Time  \\\n",
              "0                  229.758   Finished  1:30:55.739  1:04.111  1:03.015   \n",
              "1                  228.933   Finished       +2.700  1:04.500  1:04.041   \n",
              "2                  230.378   Finished       +5.491  1:04.606  1:03.819   \n",
              "3                  229.572   Finished       +5.689  1:04.198  1:03.096   \n",
              "4                  228.687   Finished       +8.903  1:04.537  1:03.971   \n",
              "...                    ...        ...          ...       ...       ...   \n",
              "1908                  None    Retired      Retired  1:21.401       NaN   \n",
              "1909                  None  Collision    Collision  1:20.423  1:20.151   \n",
              "1910                  None  Collision    Collision  1:19.554  1:19.936   \n",
              "1911                  None  Collision    Collision  1:21.062  1:21.536   \n",
              "1912                  None   Withdrew     Withdrew  1:21.916       NaN   \n",
              "\n",
              "       Q3_Time   Constructor          Track Points Position Wins  \n",
              "0     1:02.939      Mercedes  red_bull_ring     25        1    1  \n",
              "1     1:03.923       Ferrari  red_bull_ring     18        2    0  \n",
              "2     1:03.626       McLaren  red_bull_ring     16        3    0  \n",
              "3     1:02.951      Mercedes  red_bull_ring     12        4    0  \n",
              "4     1:03.971       McLaren  red_bull_ring     10        5    0  \n",
              "...        ...           ...            ...    ...      ...  ...  \n",
              "1908       NaN  Haas F1 Team     interlagos      0       21    0  \n",
              "1909  1:20.032      Williams     interlagos     51       11    0  \n",
              "1910  1:19.376       Ferrari     interlagos    178        6    0  \n",
              "1911       NaN        Sauber     interlagos      0       22    0  \n",
              "1912       NaN  Haas F1 Team     interlagos     29       13    0  \n",
              "\n",
              "[1913 rows x 16 columns]"
            ],
            "text/html": "<div>\n<style scoped>\n    .dataframe tbody tr th:only-of-type {\n        vertical-align: middle;\n    }\n\n    .dataframe tbody tr th {\n        vertical-align: top;\n    }\n\n    .dataframe thead th {\n        text-align: right;\n    }\n</style>\n<table border=\"1\" class=\"dataframe\">\n  <thead>\n    <tr style=\"text-align: right;\">\n      <th></th>\n      <th>Year</th>\n      <th>Round</th>\n      <th>Driver</th>\n      <th>FastestLap</th>\n      <th>FastestTime</th>\n      <th>FastestLapAvgSpeedKPH</th>\n      <th>status</th>\n      <th>TimeBehind</th>\n      <th>Q1_Time</th>\n      <th>Q2_Time</th>\n      <th>Q3_Time</th>\n      <th>Constructor</th>\n      <th>Track</th>\n      <th>Points</th>\n      <th>Position</th>\n      <th>Wins</th>\n    </tr>\n  </thead>\n  <tbody>\n    <tr>\n      <th>0</th>\n      <td>2020</td>\n      <td>1</td>\n      <td>Valtteri Bottas</td>\n      <td>68</td>\n      <td>1:07.657</td>\n      <td>229.758</td>\n      <td>Finished</td>\n      <td>1:30:55.739</td>\n      <td>1:04.111</td>\n      <td>1:03.015</td>\n      <td>1:02.939</td>\n      <td>Mercedes</td>\n      <td>red_bull_ring</td>\n      <td>25</td>\n      <td>1</td>\n      <td>1</td>\n    </tr>\n    <tr>\n      <th>1</th>\n      <td>2020</td>\n      <td>1</td>\n      <td>Charles Leclerc</td>\n      <td>64</td>\n      <td>1:07.901</td>\n      <td>228.933</td>\n      <td>Finished</td>\n      <td>+2.700</td>\n      <td>1:04.500</td>\n      <td>1:04.041</td>\n      <td>1:03.923</td>\n      <td>Ferrari</td>\n      <td>red_bull_ring</td>\n      <td>18</td>\n      <td>2</td>\n      <td>0</td>\n    </tr>\n    <tr>\n      <th>2</th>\n      <td>2020</td>\n      <td>1</td>\n      <td>Lando Norris</td>\n      <td>71</td>\n      <td>1:07.475</td>\n      <td>230.378</td>\n      <td>Finished</td>\n      <td>+5.491</td>\n      <td>1:04.606</td>\n      <td>1:03.819</td>\n      <td>1:03.626</td>\n      <td>McLaren</td>\n      <td>red_bull_ring</td>\n      <td>16</td>\n      <td>3</td>\n      <td>0</td>\n    </tr>\n    <tr>\n      <th>3</th>\n      <td>2020</td>\n      <td>1</td>\n      <td>Lewis Hamilton</td>\n      <td>67</td>\n      <td>1:07.712</td>\n      <td>229.572</td>\n      <td>Finished</td>\n      <td>+5.689</td>\n      <td>1:04.198</td>\n      <td>1:03.096</td>\n      <td>1:02.951</td>\n      <td>Mercedes</td>\n      <td>red_bull_ring</td>\n      <td>12</td>\n      <td>4</td>\n      <td>0</td>\n    </tr>\n    <tr>\n      <th>4</th>\n      <td>2020</td>\n      <td>1</td>\n      <td>Carlos Sainz</td>\n      <td>63</td>\n      <td>1:07.974</td>\n      <td>228.687</td>\n      <td>Finished</td>\n      <td>+8.903</td>\n      <td>1:04.537</td>\n      <td>1:03.971</td>\n      <td>1:03.971</td>\n      <td>McLaren</td>\n      <td>red_bull_ring</td>\n      <td>10</td>\n      <td>5</td>\n      <td>0</td>\n    </tr>\n    <tr>\n      <th>...</th>\n      <td>...</td>\n      <td>...</td>\n      <td>...</td>\n      <td>...</td>\n      <td>...</td>\n      <td>...</td>\n      <td>...</td>\n      <td>...</td>\n      <td>...</td>\n      <td>...</td>\n      <td>...</td>\n      <td>...</td>\n      <td>...</td>\n      <td>...</td>\n      <td>...</td>\n      <td>...</td>\n    </tr>\n    <tr>\n      <th>1908</th>\n      <td>2016</td>\n      <td>20</td>\n      <td>Esteban Gutiérrez</td>\n      <td>None</td>\n      <td>None</td>\n      <td>None</td>\n      <td>Retired</td>\n      <td>Retired</td>\n      <td>1:21.401</td>\n      <td>NaN</td>\n      <td>NaN</td>\n      <td>Haas F1 Team</td>\n      <td>interlagos</td>\n      <td>0</td>\n      <td>21</td>\n      <td>0</td>\n    </tr>\n    <tr>\n      <th>1909</th>\n      <td>2016</td>\n      <td>20</td>\n      <td>Felipe Massa</td>\n      <td>None</td>\n      <td>None</td>\n      <td>None</td>\n      <td>Collision</td>\n      <td>Collision</td>\n      <td>1:20.423</td>\n      <td>1:20.151</td>\n      <td>1:20.032</td>\n      <td>Williams</td>\n      <td>interlagos</td>\n      <td>51</td>\n      <td>11</td>\n      <td>0</td>\n    </tr>\n    <tr>\n      <th>1910</th>\n      <td>2016</td>\n      <td>20</td>\n      <td>Kimi Räikkönen</td>\n      <td>None</td>\n      <td>None</td>\n      <td>None</td>\n      <td>Collision</td>\n      <td>Collision</td>\n      <td>1:19.554</td>\n      <td>1:19.936</td>\n      <td>1:19.376</td>\n      <td>Ferrari</td>\n      <td>interlagos</td>\n      <td>178</td>\n      <td>6</td>\n      <td>0</td>\n    </tr>\n    <tr>\n      <th>1911</th>\n      <td>2016</td>\n      <td>20</td>\n      <td>Marcus Ericsson</td>\n      <td>None</td>\n      <td>None</td>\n      <td>None</td>\n      <td>Collision</td>\n      <td>Collision</td>\n      <td>1:21.062</td>\n      <td>1:21.536</td>\n      <td>NaN</td>\n      <td>Sauber</td>\n      <td>interlagos</td>\n      <td>0</td>\n      <td>22</td>\n      <td>0</td>\n    </tr>\n    <tr>\n      <th>1912</th>\n      <td>2016</td>\n      <td>20</td>\n      <td>Romain Grosjean</td>\n      <td>None</td>\n      <td>None</td>\n      <td>None</td>\n      <td>Withdrew</td>\n      <td>Withdrew</td>\n      <td>1:21.916</td>\n      <td>NaN</td>\n      <td>NaN</td>\n      <td>Haas F1 Team</td>\n      <td>interlagos</td>\n      <td>29</td>\n      <td>13</td>\n      <td>0</td>\n    </tr>\n  </tbody>\n</table>\n<p>1913 rows × 16 columns</p>\n</div>"
          },
          "metadata": {},
          "execution_count": 53
        }
      ]
    },
    {
      "cell_type": "code",
      "metadata": {
        "colab": {
          "base_uri": "https://localhost:8080/",
          "height": 359
        },
        "id": "5jHCYiGOZ_bW",
        "outputId": "ff020ae8-2a52-4808-ab30-e65a9a1debb8"
      },
      "source": [
        "test"
      ],
      "execution_count": 55,
      "outputs": [
        {
          "output_type": "execute_result",
          "data": {
            "text/plain": [
              "      Year Round     Constructor Constructor_Points Constructor_Wins\n",
              "0     2020     0        Mercedes                573               13\n",
              "1     2020     0        Red Bull                319                2\n",
              "2     2020     0         McLaren                202                0\n",
              "3     2020     0    Racing Point                195                1\n",
              "4     2020     0         Renault                181                0\n",
              "...    ...   ...             ...                ...              ...\n",
              "1016  2016    20      Toro Rosso                 63                0\n",
              "1017  2016    20    Haas F1 Team                 29                0\n",
              "1018  2016    20         Renault                  8                0\n",
              "1019  2016    20          Sauber                  2                0\n",
              "1020  2016    20  Manor Marussia                  1                0\n",
              "\n",
              "[1021 rows x 5 columns]"
            ],
            "text/html": "<div>\n<style scoped>\n    .dataframe tbody tr th:only-of-type {\n        vertical-align: middle;\n    }\n\n    .dataframe tbody tr th {\n        vertical-align: top;\n    }\n\n    .dataframe thead th {\n        text-align: right;\n    }\n</style>\n<table border=\"1\" class=\"dataframe\">\n  <thead>\n    <tr style=\"text-align: right;\">\n      <th></th>\n      <th>Year</th>\n      <th>Round</th>\n      <th>Constructor</th>\n      <th>Constructor_Points</th>\n      <th>Constructor_Wins</th>\n    </tr>\n  </thead>\n  <tbody>\n    <tr>\n      <th>0</th>\n      <td>2020</td>\n      <td>0</td>\n      <td>Mercedes</td>\n      <td>573</td>\n      <td>13</td>\n    </tr>\n    <tr>\n      <th>1</th>\n      <td>2020</td>\n      <td>0</td>\n      <td>Red Bull</td>\n      <td>319</td>\n      <td>2</td>\n    </tr>\n    <tr>\n      <th>2</th>\n      <td>2020</td>\n      <td>0</td>\n      <td>McLaren</td>\n      <td>202</td>\n      <td>0</td>\n    </tr>\n    <tr>\n      <th>3</th>\n      <td>2020</td>\n      <td>0</td>\n      <td>Racing Point</td>\n      <td>195</td>\n      <td>1</td>\n    </tr>\n    <tr>\n      <th>4</th>\n      <td>2020</td>\n      <td>0</td>\n      <td>Renault</td>\n      <td>181</td>\n      <td>0</td>\n    </tr>\n    <tr>\n      <th>...</th>\n      <td>...</td>\n      <td>...</td>\n      <td>...</td>\n      <td>...</td>\n      <td>...</td>\n    </tr>\n    <tr>\n      <th>1016</th>\n      <td>2016</td>\n      <td>20</td>\n      <td>Toro Rosso</td>\n      <td>63</td>\n      <td>0</td>\n    </tr>\n    <tr>\n      <th>1017</th>\n      <td>2016</td>\n      <td>20</td>\n      <td>Haas F1 Team</td>\n      <td>29</td>\n      <td>0</td>\n    </tr>\n    <tr>\n      <th>1018</th>\n      <td>2016</td>\n      <td>20</td>\n      <td>Renault</td>\n      <td>8</td>\n      <td>0</td>\n    </tr>\n    <tr>\n      <th>1019</th>\n      <td>2016</td>\n      <td>20</td>\n      <td>Sauber</td>\n      <td>2</td>\n      <td>0</td>\n    </tr>\n    <tr>\n      <th>1020</th>\n      <td>2016</td>\n      <td>20</td>\n      <td>Manor Marussia</td>\n      <td>1</td>\n      <td>0</td>\n    </tr>\n  </tbody>\n</table>\n<p>1021 rows × 5 columns</p>\n</div>"
          },
          "metadata": {},
          "execution_count": 55
        }
      ]
    },
    {
      "cell_type": "markdown",
      "metadata": {
        "id": "lxqvA0oeLJyG"
      },
      "source": [
        "I got the function working, now time to include the drivers best times (from qualifying Q1), will need to source that indivdually, but will add to these functions. After that I am done extracting the data I need. LET'S GO!! \n",
        "\n",
        "Also going to need to get tracks they raced on that round. "
      ]
    },
    {
      "cell_type": "markdown",
      "metadata": {
        "id": "rloa1xVQUJzi"
      },
      "source": [
        "Today's task is relitivly simple, going to get the remaining data, the qualifying laptimes and their "
      ]
    },
    {
      "cell_type": "markdown",
      "metadata": {
        "id": "sFOBj_9DnuQU"
      },
      "source": [
        "I want to get the qualifying times for each racer and race as well, problem is that the order might just be messed up. I need to see how I would restructure the data so I can merge safely or see if I can merge two dataframes with a pandas function that finds the index automaticlly. \n",
        "\n",
        "I can use the pd.merge function to get what I need, just need to do a quick test to see if it would work. \n",
        "\n",
        "I want to merge the dataframes on the last names and the year and rounds. \n"
      ]
    },
    {
      "cell_type": "code",
      "metadata": {
        "id": "3xNa80o2LVBe"
      },
      "source": [
        "# These 3 cells grab all the information from the qualifying json of the Ergast Database. \n",
        "years = 2020\n",
        "rounds = 9\n",
        "done = \"http://ergast.com/api/f1/{year}/{round}/qualifying.json\"\n",
        "done1 = done.format(year = str(years), round = rounds)\n",
        "response = requests.get(done1)\n",
        "test = json.loads(response.text)"
      ],
      "execution_count": 56,
      "outputs": []
    },
    {
      "cell_type": "code",
      "metadata": {
        "colab": {
          "base_uri": "https://localhost:8080/",
          "height": 35
        },
        "id": "MejjYH_iTk5g",
        "outputId": "27b3e018-2f49-4bb1-9947-24d17ddd5b79"
      },
      "source": [
        "test['MRData']['RaceTable']['Races'][0]['QualifyingResults'][0]['Q1']"
      ],
      "execution_count": 57,
      "outputs": [
        {
          "output_type": "execute_result",
          "data": {
            "text/plain": [
              "'1:15.778'"
            ]
          },
          "metadata": {},
          "execution_count": 57
        }
      ]
    },
    {
      "cell_type": "code",
      "metadata": {
        "colab": {
          "base_uri": "https://localhost:8080/"
        },
        "id": "GAaVOrnXoq6E",
        "outputId": "808507f7-5756-474d-ab9f-32889c9c94c5"
      },
      "source": [
        "test['MRData']['RaceTable']['Races'][0]['QualifyingResults'][0]['Driver']['familyName']\n",
        "test['MRData']['RaceTable']['round']\n",
        "test['MRData']['RaceTable']['season']\n",
        "test['MRData']['RaceTable']['Races'][0]['QualifyingResults'][0]['Driver']['givenName']\n",
        "test['MRData']['total']\n",
        "test['MRData']['RaceTable']['Races'][0]['QualifyingResults'][0]['Constructor']"
      ],
      "execution_count": 58,
      "outputs": [
        {
          "output_type": "execute_result",
          "data": {
            "text/plain": [
              "{'constructorId': 'mercedes',\n",
              " 'url': 'http://en.wikipedia.org/wiki/Mercedes-Benz_in_Formula_One',\n",
              " 'name': 'Mercedes',\n",
              " 'nationality': 'German'}"
            ]
          },
          "metadata": {},
          "execution_count": 58
        }
      ]
    },
    {
      "cell_type": "code",
      "metadata": {
        "id": "PzYHfnPqDlHU"
      },
      "source": [
        "# Now grabbing what I can from the constructor standings page from the API. \n",
        "\n",
        "url = \"http://ergast.com/api/f1/{year}/{round}/constructorStandings.json\".format(year = str(2019), round = str(5))\n",
        "response = requests.get(url)\n",
        "test1 = json.loads(response.text)"
      ],
      "execution_count": 59,
      "outputs": []
    },
    {
      "cell_type": "code",
      "metadata": {
        "colab": {
          "base_uri": "https://localhost:8080/"
        },
        "id": "ZoKrtSVtK6Ni",
        "outputId": "0a1ea88a-6fb0-4ee5-fbd5-0d20f4952895"
      },
      "source": [
        "test1['MRData']['StandingsTable']"
      ],
      "execution_count": 60,
      "outputs": [
        {
          "output_type": "execute_result",
          "data": {
            "text/plain": [
              "{'season': '2019',\n",
              " 'round': '5',\n",
              " 'StandingsLists': [{'season': '2019',\n",
              "   'round': '5',\n",
              "   'ConstructorStandings': [{'position': '1',\n",
              "     'positionText': '1',\n",
              "     'points': '217',\n",
              "     'wins': '5',\n",
              "     'Constructor': {'constructorId': 'mercedes',\n",
              "      'url': 'http://en.wikipedia.org/wiki/Mercedes-Benz_in_Formula_One',\n",
              "      'name': 'Mercedes',\n",
              "      'nationality': 'German'}},\n",
              "    {'position': '2',\n",
              "     'positionText': '2',\n",
              "     'points': '121',\n",
              "     'wins': '0',\n",
              "     'Constructor': {'constructorId': 'ferrari',\n",
              "      'url': 'http://en.wikipedia.org/wiki/Scuderia_Ferrari',\n",
              "      'name': 'Ferrari',\n",
              "      'nationality': 'Italian'}},\n",
              "    {'position': '3',\n",
              "     'positionText': '3',\n",
              "     'points': '87',\n",
              "     'wins': '0',\n",
              "     'Constructor': {'constructorId': 'red_bull',\n",
              "      'url': 'http://en.wikipedia.org/wiki/Red_Bull_Racing',\n",
              "      'name': 'Red Bull',\n",
              "      'nationality': 'Austrian'}},\n",
              "    {'position': '4',\n",
              "     'positionText': '4',\n",
              "     'points': '22',\n",
              "     'wins': '0',\n",
              "     'Constructor': {'constructorId': 'mclaren',\n",
              "      'url': 'http://en.wikipedia.org/wiki/McLaren',\n",
              "      'name': 'McLaren',\n",
              "      'nationality': 'British'}},\n",
              "    {'position': '5',\n",
              "     'positionText': '5',\n",
              "     'points': '17',\n",
              "     'wins': '0',\n",
              "     'Constructor': {'constructorId': 'racing_point',\n",
              "      'url': 'http://en.wikipedia.org/wiki/Racing_Point_F1_Team',\n",
              "      'name': 'Racing Point',\n",
              "      'nationality': 'British'}},\n",
              "    {'position': '6',\n",
              "     'positionText': '6',\n",
              "     'points': '15',\n",
              "     'wins': '0',\n",
              "     'Constructor': {'constructorId': 'haas',\n",
              "      'url': 'http://en.wikipedia.org/wiki/Haas_F1_Team',\n",
              "      'name': 'Haas F1 Team',\n",
              "      'nationality': 'American'}},\n",
              "    {'position': '7',\n",
              "     'positionText': '7',\n",
              "     'points': '13',\n",
              "     'wins': '0',\n",
              "     'Constructor': {'constructorId': 'alfa',\n",
              "      'url': 'http://en.wikipedia.org/wiki/Alfa_Romeo_in_Formula_One',\n",
              "      'name': 'Alfa Romeo',\n",
              "      'nationality': 'Swiss'}},\n",
              "    {'position': '8',\n",
              "     'positionText': '8',\n",
              "     'points': '12',\n",
              "     'wins': '0',\n",
              "     'Constructor': {'constructorId': 'renault',\n",
              "      'url': 'http://en.wikipedia.org/wiki/Renault_in_Formula_One',\n",
              "      'name': 'Renault',\n",
              "      'nationality': 'French'}},\n",
              "    {'position': '9',\n",
              "     'positionText': '9',\n",
              "     'points': '6',\n",
              "     'wins': '0',\n",
              "     'Constructor': {'constructorId': 'toro_rosso',\n",
              "      'url': 'http://en.wikipedia.org/wiki/Scuderia_Toro_Rosso',\n",
              "      'name': 'Toro Rosso',\n",
              "      'nationality': 'Italian'}},\n",
              "    {'position': '10',\n",
              "     'positionText': '10',\n",
              "     'points': '0',\n",
              "     'wins': '0',\n",
              "     'Constructor': {'constructorId': 'williams',\n",
              "      'url': 'http://en.wikipedia.org/wiki/Williams_Grand_Prix_Engineering',\n",
              "      'name': 'Williams',\n",
              "      'nationality': 'British'}}]}]}"
            ]
          },
          "metadata": {},
          "execution_count": 60
        }
      ]
    },
    {
      "cell_type": "markdown",
      "metadata": {
        "id": "QFvN0Ie0bEiE"
      },
      "source": [
        "## Explaining the GetConstructorStanding Function. \n",
        "\n",
        "This function takes from another part of the database, this would grab the information of how those constructors are doing in that specific round of a season (the input data).\n",
        "\n",
        "From there, it would take in all the information from the json, convert into a dict (done automaticly on python since dicts are pretty much jsons) and then take the data that is important, and log the data inside a dataframe that will be exported to be later merged with the main dataframe. "
      ]
    },
    {
      "cell_type": "code",
      "metadata": {
        "id": "bvEDwZwoLypF"
      },
      "source": [
        "test1 = GetConstructorStanding(2019, 9)"
      ],
      "execution_count": 37,
      "outputs": []
    },
    {
      "cell_type": "code",
      "metadata": {
        "colab": {
          "base_uri": "https://localhost:8080/",
          "height": 359
        },
        "id": "R2rdKtCMMiTc",
        "outputId": "e317a815-86cc-4c71-b962-8cdb1900067c"
      },
      "source": [
        "test"
      ],
      "execution_count": 38,
      "outputs": [
        {
          "output_type": "execute_result",
          "data": {
            "text/plain": [
              "{'MRData': {'xmlns': 'http://ergast.com/mrd/1.4',\n",
              "  'series': 'f1',\n",
              "  'url': 'http://ergast.com/api/f1/2020/9/qualifying.json',\n",
              "  'limit': '30',\n",
              "  'offset': '0',\n",
              "  'total': '20',\n",
              "  'RaceTable': {'season': '2020',\n",
              "   'round': '9',\n",
              "   'Races': [{'season': '2020',\n",
              "     'round': '9',\n",
              "     'url': 'https://en.wikipedia.org/wiki/2020_Tuscan_Grand_Prix',\n",
              "     'raceName': 'Tuscan Grand Prix',\n",
              "     'Circuit': {'circuitId': 'mugello',\n",
              "      'url': 'http://en.wikipedia.org/wiki/Mugello_Circuit',\n",
              "      'circuitName': 'Autodromo Internazionale del Mugello',\n",
              "      'Location': {'lat': '43.9975',\n",
              "       'long': '11.3719',\n",
              "       'locality': 'Mugello',\n",
              "       'country': 'Italy'}},\n",
              "     'date': '2020-09-13',\n",
              "     'time': '13:10:00Z',\n",
              "     'QualifyingResults': [{'number': '44',\n",
              "       'position': '1',\n",
              "       'Driver': {'driverId': 'hamilton',\n",
              "        'permanentNumber': '44',\n",
              "        'code': 'HAM',\n",
              "        'url': 'http://en.wikipedia.org/wiki/Lewis_Hamilton',\n",
              "        'givenName': 'Lewis',\n",
              "        'familyName': 'Hamilton',\n",
              "        'dateOfBirth': '1985-01-07',\n",
              "        'nationality': 'British'},\n",
              "       'Constructor': {'constructorId': 'mercedes',\n",
              "        'url': 'http://en.wikipedia.org/wiki/Mercedes-Benz_in_Formula_One',\n",
              "        'name': 'Mercedes',\n",
              "        'nationality': 'German'},\n",
              "       'Q1': '1:15.778',\n",
              "       'Q2': '1:15.309',\n",
              "       'Q3': '1:15.144'},\n",
              "      {'number': '77',\n",
              "       'position': '2',\n",
              "       'Driver': {'driverId': 'bottas',\n",
              "        'permanentNumber': '77',\n",
              "        'code': 'BOT',\n",
              "        'url': 'http://en.wikipedia.org/wiki/Valtteri_Bottas',\n",
              "        'givenName': 'Valtteri',\n",
              "        'familyName': 'Bottas',\n",
              "        'dateOfBirth': '1989-08-28',\n",
              "        'nationality': 'Finnish'},\n",
              "       'Constructor': {'constructorId': 'mercedes',\n",
              "        'url': 'http://en.wikipedia.org/wiki/Mercedes-Benz_in_Formula_One',\n",
              "        'name': 'Mercedes',\n",
              "        'nationality': 'German'},\n",
              "       'Q1': '1:15.749',\n",
              "       'Q2': '1:15.322',\n",
              "       'Q3': '1:15.203'},\n",
              "      {'number': '33',\n",
              "       'position': '3',\n",
              "       'Driver': {'driverId': 'max_verstappen',\n",
              "        'permanentNumber': '33',\n",
              "        'code': 'VER',\n",
              "        'url': 'http://en.wikipedia.org/wiki/Max_Verstappen',\n",
              "        'givenName': 'Max',\n",
              "        'familyName': 'Verstappen',\n",
              "        'dateOfBirth': '1997-09-30',\n",
              "        'nationality': 'Dutch'},\n",
              "       'Constructor': {'constructorId': 'red_bull',\n",
              "        'url': 'http://en.wikipedia.org/wiki/Red_Bull_Racing',\n",
              "        'name': 'Red Bull',\n",
              "        'nationality': 'Austrian'},\n",
              "       'Q1': '1:16.335',\n",
              "       'Q2': '1:15.471',\n",
              "       'Q3': '1:15.509'},\n",
              "      {'number': '23',\n",
              "       'position': '4',\n",
              "       'Driver': {'driverId': 'albon',\n",
              "        'permanentNumber': '23',\n",
              "        'code': 'ALB',\n",
              "        'url': 'http://en.wikipedia.org/wiki/Alexander_Albon',\n",
              "        'givenName': 'Alexander',\n",
              "        'familyName': 'Albon',\n",
              "        'dateOfBirth': '1996-03-23',\n",
              "        'nationality': 'Thai'},\n",
              "       'Constructor': {'constructorId': 'red_bull',\n",
              "        'url': 'http://en.wikipedia.org/wiki/Red_Bull_Racing',\n",
              "        'name': 'Red Bull',\n",
              "        'nationality': 'Austrian'},\n",
              "       'Q1': '1:16.527',\n",
              "       'Q2': '1:15.914',\n",
              "       'Q3': '1:15.954'},\n",
              "      {'number': '16',\n",
              "       'position': '5',\n",
              "       'Driver': {'driverId': 'leclerc',\n",
              "        'permanentNumber': '16',\n",
              "        'code': 'LEC',\n",
              "        'url': 'http://en.wikipedia.org/wiki/Charles_Leclerc',\n",
              "        'givenName': 'Charles',\n",
              "        'familyName': 'Leclerc',\n",
              "        'dateOfBirth': '1997-10-16',\n",
              "        'nationality': 'Monegasque'},\n",
              "       'Constructor': {'constructorId': 'ferrari',\n",
              "        'url': 'http://en.wikipedia.org/wiki/Scuderia_Ferrari',\n",
              "        'name': 'Ferrari',\n",
              "        'nationality': 'Italian'},\n",
              "       'Q1': '1:16.698',\n",
              "       'Q2': '1:16.324',\n",
              "       'Q3': '1:16.270'},\n",
              "      {'number': '11',\n",
              "       'position': '6',\n",
              "       'Driver': {'driverId': 'perez',\n",
              "        'permanentNumber': '11',\n",
              "        'code': 'PER',\n",
              "        'url': 'http://en.wikipedia.org/wiki/Sergio_P%C3%A9rez',\n",
              "        'givenName': 'Sergio',\n",
              "        'familyName': 'Pérez',\n",
              "        'dateOfBirth': '1990-01-26',\n",
              "        'nationality': 'Mexican'},\n",
              "       'Constructor': {'constructorId': 'racing_point',\n",
              "        'url': 'http://en.wikipedia.org/wiki/Racing_Point_F1_Team',\n",
              "        'name': 'Racing Point',\n",
              "        'nationality': 'British'},\n",
              "       'Q1': '1:16.596',\n",
              "       'Q2': '1:16.489',\n",
              "       'Q3': '1:16.311'},\n",
              "      {'number': '18',\n",
              "       'position': '7',\n",
              "       'Driver': {'driverId': 'stroll',\n",
              "        'permanentNumber': '18',\n",
              "        'code': 'STR',\n",
              "        'url': 'http://en.wikipedia.org/wiki/Lance_Stroll',\n",
              "        'givenName': 'Lance',\n",
              "        'familyName': 'Stroll',\n",
              "        'dateOfBirth': '1998-10-29',\n",
              "        'nationality': 'Canadian'},\n",
              "       'Constructor': {'constructorId': 'racing_point',\n",
              "        'url': 'http://en.wikipedia.org/wiki/Racing_Point_F1_Team',\n",
              "        'name': 'Racing Point',\n",
              "        'nationality': 'British'},\n",
              "       'Q1': '1:16.701',\n",
              "       'Q2': '1:16.271',\n",
              "       'Q3': '1:16.356'},\n",
              "      {'number': '3',\n",
              "       'position': '8',\n",
              "       'Driver': {'driverId': 'ricciardo',\n",
              "        'permanentNumber': '3',\n",
              "        'code': 'RIC',\n",
              "        'url': 'http://en.wikipedia.org/wiki/Daniel_Ricciardo',\n",
              "        'givenName': 'Daniel',\n",
              "        'familyName': 'Ricciardo',\n",
              "        'dateOfBirth': '1989-07-01',\n",
              "        'nationality': 'Australian'},\n",
              "       'Constructor': {'constructorId': 'renault',\n",
              "        'url': 'http://en.wikipedia.org/wiki/Renault_in_Formula_One',\n",
              "        'name': 'Renault',\n",
              "        'nationality': 'French'},\n",
              "       'Q1': '1:16.981',\n",
              "       'Q2': '1:16.243',\n",
              "       'Q3': '1:16.543'},\n",
              "      {'number': '55',\n",
              "       'position': '9',\n",
              "       'Driver': {'driverId': 'sainz',\n",
              "        'permanentNumber': '55',\n",
              "        'code': 'SAI',\n",
              "        'url': 'http://en.wikipedia.org/wiki/Carlos_Sainz_Jr.',\n",
              "        'givenName': 'Carlos',\n",
              "        'familyName': 'Sainz',\n",
              "        'dateOfBirth': '1994-09-01',\n",
              "        'nationality': 'Spanish'},\n",
              "       'Constructor': {'constructorId': 'mclaren',\n",
              "        'url': 'http://en.wikipedia.org/wiki/McLaren',\n",
              "        'name': 'McLaren',\n",
              "        'nationality': 'British'},\n",
              "       'Q1': '1:16.993',\n",
              "       'Q2': '1:16.522',\n",
              "       'Q3': '1:17.870'},\n",
              "      {'number': '31',\n",
              "       'position': '10',\n",
              "       'Driver': {'driverId': 'ocon',\n",
              "        'permanentNumber': '31',\n",
              "        'code': 'OCO',\n",
              "        'url': 'http://en.wikipedia.org/wiki/Esteban_Ocon',\n",
              "        'givenName': 'Esteban',\n",
              "        'familyName': 'Ocon',\n",
              "        'dateOfBirth': '1996-09-17',\n",
              "        'nationality': 'French'},\n",
              "       'Constructor': {'constructorId': 'renault',\n",
              "        'url': 'http://en.wikipedia.org/wiki/Renault_in_Formula_One',\n",
              "        'name': 'Renault',\n",
              "        'nationality': 'French'},\n",
              "       'Q1': '1:16.825',\n",
              "       'Q2': '1:16.297'},\n",
              "      {'number': '4',\n",
              "       'position': '11',\n",
              "       'Driver': {'driverId': 'norris',\n",
              "        'permanentNumber': '4',\n",
              "        'code': 'NOR',\n",
              "        'url': 'http://en.wikipedia.org/wiki/Lando_Norris',\n",
              "        'givenName': 'Lando',\n",
              "        'familyName': 'Norris',\n",
              "        'dateOfBirth': '1999-11-13',\n",
              "        'nationality': 'British'},\n",
              "       'Constructor': {'constructorId': 'mclaren',\n",
              "        'url': 'http://en.wikipedia.org/wiki/McLaren',\n",
              "        'name': 'McLaren',\n",
              "        'nationality': 'British'},\n",
              "       'Q1': '1:16.895',\n",
              "       'Q2': '1:16.640'},\n",
              "      {'number': '26',\n",
              "       'position': '12',\n",
              "       'Driver': {'driverId': 'kvyat',\n",
              "        'permanentNumber': '26',\n",
              "        'code': 'KVY',\n",
              "        'url': 'http://en.wikipedia.org/wiki/Daniil_Kvyat',\n",
              "        'givenName': 'Daniil',\n",
              "        'familyName': 'Kvyat',\n",
              "        'dateOfBirth': '1994-04-26',\n",
              "        'nationality': 'Russian'},\n",
              "       'Constructor': {'constructorId': 'alphatauri',\n",
              "        'url': 'http://en.wikipedia.org/wiki/Scuderia_AlphaTauri',\n",
              "        'name': 'AlphaTauri',\n",
              "        'nationality': 'Italian'},\n",
              "       'Q1': '1:16.928',\n",
              "       'Q2': '1:16.854'},\n",
              "      {'number': '7',\n",
              "       'position': '13',\n",
              "       'Driver': {'driverId': 'raikkonen',\n",
              "        'permanentNumber': '7',\n",
              "        'code': 'RAI',\n",
              "        'url': 'http://en.wikipedia.org/wiki/Kimi_R%C3%A4ikk%C3%B6nen',\n",
              "        'givenName': 'Kimi',\n",
              "        'familyName': 'Räikkönen',\n",
              "        'dateOfBirth': '1979-10-17',\n",
              "        'nationality': 'Finnish'},\n",
              "       'Constructor': {'constructorId': 'alfa',\n",
              "        'url': 'http://en.wikipedia.org/wiki/Alfa_Romeo_in_Formula_One',\n",
              "        'name': 'Alfa Romeo',\n",
              "        'nationality': 'Swiss'},\n",
              "       'Q1': '1:17.059',\n",
              "       'Q2': '1:16.854'},\n",
              "      {'number': '5',\n",
              "       'position': '14',\n",
              "       'Driver': {'driverId': 'vettel',\n",
              "        'permanentNumber': '5',\n",
              "        'code': 'VET',\n",
              "        'url': 'http://en.wikipedia.org/wiki/Sebastian_Vettel',\n",
              "        'givenName': 'Sebastian',\n",
              "        'familyName': 'Vettel',\n",
              "        'dateOfBirth': '1987-07-03',\n",
              "        'nationality': 'German'},\n",
              "       'Constructor': {'constructorId': 'ferrari',\n",
              "        'url': 'http://en.wikipedia.org/wiki/Scuderia_Ferrari',\n",
              "        'name': 'Ferrari',\n",
              "        'nationality': 'Italian'},\n",
              "       'Q1': '1:17.072',\n",
              "       'Q2': '1:16.858'},\n",
              "      {'number': '8',\n",
              "       'position': '15',\n",
              "       'Driver': {'driverId': 'grosjean',\n",
              "        'permanentNumber': '8',\n",
              "        'code': 'GRO',\n",
              "        'url': 'http://en.wikipedia.org/wiki/Romain_Grosjean',\n",
              "        'givenName': 'Romain',\n",
              "        'familyName': 'Grosjean',\n",
              "        'dateOfBirth': '1986-04-17',\n",
              "        'nationality': 'French'},\n",
              "       'Constructor': {'constructorId': 'haas',\n",
              "        'url': 'http://en.wikipedia.org/wiki/Haas_F1_Team',\n",
              "        'name': 'Haas F1 Team',\n",
              "        'nationality': 'American'},\n",
              "       'Q1': '1:17.069',\n",
              "       'Q2': '1:17.254'},\n",
              "      {'number': '10',\n",
              "       'position': '16',\n",
              "       'Driver': {'driverId': 'gasly',\n",
              "        'permanentNumber': '10',\n",
              "        'code': 'GAS',\n",
              "        'url': 'http://en.wikipedia.org/wiki/Pierre_Gasly',\n",
              "        'givenName': 'Pierre',\n",
              "        'familyName': 'Gasly',\n",
              "        'dateOfBirth': '1996-02-07',\n",
              "        'nationality': 'French'},\n",
              "       'Constructor': {'constructorId': 'alphatauri',\n",
              "        'url': 'http://en.wikipedia.org/wiki/Scuderia_AlphaTauri',\n",
              "        'name': 'AlphaTauri',\n",
              "        'nationality': 'Italian'},\n",
              "       'Q1': '1:17.125'},\n",
              "      {'number': '99',\n",
              "       'position': '17',\n",
              "       'Driver': {'driverId': 'giovinazzi',\n",
              "        'permanentNumber': '99',\n",
              "        'code': 'GIO',\n",
              "        'url': 'http://en.wikipedia.org/wiki/Antonio_Giovinazzi',\n",
              "        'givenName': 'Antonio',\n",
              "        'familyName': 'Giovinazzi',\n",
              "        'dateOfBirth': '1993-12-14',\n",
              "        'nationality': 'Italian'},\n",
              "       'Constructor': {'constructorId': 'alfa',\n",
              "        'url': 'http://en.wikipedia.org/wiki/Alfa_Romeo_in_Formula_One',\n",
              "        'name': 'Alfa Romeo',\n",
              "        'nationality': 'Swiss'},\n",
              "       'Q1': '1:17.220'},\n",
              "      {'number': '63',\n",
              "       'position': '18',\n",
              "       'Driver': {'driverId': 'russell',\n",
              "        'permanentNumber': '63',\n",
              "        'code': 'RUS',\n",
              "        'url': 'http://en.wikipedia.org/wiki/George_Russell_%28racing_driver%29',\n",
              "        'givenName': 'George',\n",
              "        'familyName': 'Russell',\n",
              "        'dateOfBirth': '1998-02-15',\n",
              "        'nationality': 'British'},\n",
              "       'Constructor': {'constructorId': 'williams',\n",
              "        'url': 'http://en.wikipedia.org/wiki/Williams_Grand_Prix_Engineering',\n",
              "        'name': 'Williams',\n",
              "        'nationality': 'British'},\n",
              "       'Q1': '1:17.232'},\n",
              "      {'number': '6',\n",
              "       'position': '19',\n",
              "       'Driver': {'driverId': 'latifi',\n",
              "        'permanentNumber': '6',\n",
              "        'code': 'LAT',\n",
              "        'url': 'http://en.wikipedia.org/wiki/Nicholas_Latifi',\n",
              "        'givenName': 'Nicholas',\n",
              "        'familyName': 'Latifi',\n",
              "        'dateOfBirth': '1995-06-29',\n",
              "        'nationality': 'Canadian'},\n",
              "       'Constructor': {'constructorId': 'williams',\n",
              "        'url': 'http://en.wikipedia.org/wiki/Williams_Grand_Prix_Engineering',\n",
              "        'name': 'Williams',\n",
              "        'nationality': 'British'},\n",
              "       'Q1': '1:17.320'},\n",
              "      {'number': '20',\n",
              "       'position': '20',\n",
              "       'Driver': {'driverId': 'kevin_magnussen',\n",
              "        'permanentNumber': '20',\n",
              "        'code': 'MAG',\n",
              "        'url': 'http://en.wikipedia.org/wiki/Kevin_Magnussen',\n",
              "        'givenName': 'Kevin',\n",
              "        'familyName': 'Magnussen',\n",
              "        'dateOfBirth': '1992-10-05',\n",
              "        'nationality': 'Danish'},\n",
              "       'Constructor': {'constructorId': 'haas',\n",
              "        'url': 'http://en.wikipedia.org/wiki/Haas_F1_Team',\n",
              "        'name': 'Haas F1 Team',\n",
              "        'nationality': 'American'},\n",
              "       'Q1': '1:17.348'}]}]}}}"
            ]
          },
          "metadata": {},
          "execution_count": 38
        }
      ]
    },
    {
      "cell_type": "markdown",
      "metadata": {
        "id": "NrkHxTCMwsEU"
      },
      "source": [
        "## Since I got the standings of the constructor teams... \n",
        "\n",
        "Now I'm going to need to merge the two dataframes into one mega dataframe"
      ]
    },
    {
      "cell_type": "markdown",
      "metadata": {
        "id": "GRjDfQGqaUZd"
      },
      "source": [
        "## Updating the times \n",
        "\n",
        "At first I was going to drop the Q1 Qual time entirely and replace it with fastest time but I realized that it isn't any kind of data leak this data is only going help the model a bit more. So having the Qualifying time (Q1) and Fastest lap time in junction with each other. "
      ]
    },
    {
      "cell_type": "code",
      "metadata": {
        "id": "V2vE_wcLa_n9"
      },
      "source": [
        "# This link is going to need a round and the year.... \n",
        "def GetFastestLap(round, year):\n",
        "  url = \"http://ergast.com/api/f1/{year}/{round}/fastest/1/results\".format(year=year, round=round)"
      ],
      "execution_count": 62,
      "outputs": []
    },
    {
      "cell_type": "code",
      "metadata": {
        "colab": {
          "base_uri": "https://localhost:8080/",
          "height": 669
        },
        "id": "eWbrDKOEqJDx",
        "outputId": "44a03b07-69f5-42a4-caf6-3539af979a57"
      },
      "source": [
        "# Now I'm going to run a test, see if I can these two dataframes merge\n",
        "get_qualifying(2017, 20)"
      ],
      "execution_count": 63,
      "outputs": [
        {
          "output_type": "execute_result",
          "data": {
            "text/plain": [
              "    Year Round             Driver   Q1_Time   Q2_Time   Q3_Time   Constructor\n",
              "0   2017    21    Valtteri Bottas  1:37.356  1:36.822  1:36.231      Mercedes\n",
              "1   2017    21     Lewis Hamilton  1:37.391  1:36.742  1:36.403      Mercedes\n",
              "2   2017    21   Sebastian Vettel  1:37.817  1:37.023  1:36.777       Ferrari\n",
              "3   2017    21   Daniel Ricciardo  1:38.016  1:37.583  1:36.959      Red Bull\n",
              "4   2017    21     Kimi Räikkönen  1:37.453  1:37.302  1:36.985       Ferrari\n",
              "5   2017    21     Max Verstappen  1:38.021  1:37.777  1:37.328      Red Bull\n",
              "6   2017    21    Nico Hülkenberg  1:38.781  1:38.138  1:38.282       Renault\n",
              "7   2017    21       Sergio Pérez  1:38.601  1:38.359  1:38.374   Force India\n",
              "8   2017    21       Esteban Ocon  1:38.896  1:38.392  1:38.397   Force India\n",
              "9   2017    21       Felipe Massa  1:38.629  1:38.565  1:38.550      Williams\n",
              "10  2017    21    Fernando Alonso  1:38.820  1:38.636       NaN       McLaren\n",
              "11  2017    21       Carlos Sainz  1:38.810  1:38.725       NaN       Renault\n",
              "12  2017    21  Stoffel Vandoorne  1:38.777  1:38.808       NaN       McLaren\n",
              "13  2017    21    Kevin Magnussen  1:39.395  1:39.298       NaN  Haas F1 Team\n",
              "14  2017    21       Lance Stroll  1:39.503  1:39.646       NaN      Williams\n",
              "15  2017    21    Romain Grosjean  1:39.516       NaN       NaN  Haas F1 Team\n",
              "16  2017    21       Pierre Gasly  1:39.724       NaN       NaN    Toro Rosso\n",
              "17  2017    21    Pascal Wehrlein  1:39.930       NaN       NaN        Sauber\n",
              "18  2017    21    Marcus Ericsson  1:39.994       NaN       NaN        Sauber\n",
              "19  2017    21    Brendon Hartley  1:40.471       NaN       NaN    Toro Rosso"
            ],
            "text/html": "<div>\n<style scoped>\n    .dataframe tbody tr th:only-of-type {\n        vertical-align: middle;\n    }\n\n    .dataframe tbody tr th {\n        vertical-align: top;\n    }\n\n    .dataframe thead th {\n        text-align: right;\n    }\n</style>\n<table border=\"1\" class=\"dataframe\">\n  <thead>\n    <tr style=\"text-align: right;\">\n      <th></th>\n      <th>Year</th>\n      <th>Round</th>\n      <th>Driver</th>\n      <th>Q1_Time</th>\n      <th>Q2_Time</th>\n      <th>Q3_Time</th>\n      <th>Constructor</th>\n    </tr>\n  </thead>\n  <tbody>\n    <tr>\n      <th>0</th>\n      <td>2017</td>\n      <td>21</td>\n      <td>Valtteri Bottas</td>\n      <td>1:37.356</td>\n      <td>1:36.822</td>\n      <td>1:36.231</td>\n      <td>Mercedes</td>\n    </tr>\n    <tr>\n      <th>1</th>\n      <td>2017</td>\n      <td>21</td>\n      <td>Lewis Hamilton</td>\n      <td>1:37.391</td>\n      <td>1:36.742</td>\n      <td>1:36.403</td>\n      <td>Mercedes</td>\n    </tr>\n    <tr>\n      <th>2</th>\n      <td>2017</td>\n      <td>21</td>\n      <td>Sebastian Vettel</td>\n      <td>1:37.817</td>\n      <td>1:37.023</td>\n      <td>1:36.777</td>\n      <td>Ferrari</td>\n    </tr>\n    <tr>\n      <th>3</th>\n      <td>2017</td>\n      <td>21</td>\n      <td>Daniel Ricciardo</td>\n      <td>1:38.016</td>\n      <td>1:37.583</td>\n      <td>1:36.959</td>\n      <td>Red Bull</td>\n    </tr>\n    <tr>\n      <th>4</th>\n      <td>2017</td>\n      <td>21</td>\n      <td>Kimi Räikkönen</td>\n      <td>1:37.453</td>\n      <td>1:37.302</td>\n      <td>1:36.985</td>\n      <td>Ferrari</td>\n    </tr>\n    <tr>\n      <th>5</th>\n      <td>2017</td>\n      <td>21</td>\n      <td>Max Verstappen</td>\n      <td>1:38.021</td>\n      <td>1:37.777</td>\n      <td>1:37.328</td>\n      <td>Red Bull</td>\n    </tr>\n    <tr>\n      <th>6</th>\n      <td>2017</td>\n      <td>21</td>\n      <td>Nico Hülkenberg</td>\n      <td>1:38.781</td>\n      <td>1:38.138</td>\n      <td>1:38.282</td>\n      <td>Renault</td>\n    </tr>\n    <tr>\n      <th>7</th>\n      <td>2017</td>\n      <td>21</td>\n      <td>Sergio Pérez</td>\n      <td>1:38.601</td>\n      <td>1:38.359</td>\n      <td>1:38.374</td>\n      <td>Force India</td>\n    </tr>\n    <tr>\n      <th>8</th>\n      <td>2017</td>\n      <td>21</td>\n      <td>Esteban Ocon</td>\n      <td>1:38.896</td>\n      <td>1:38.392</td>\n      <td>1:38.397</td>\n      <td>Force India</td>\n    </tr>\n    <tr>\n      <th>9</th>\n      <td>2017</td>\n      <td>21</td>\n      <td>Felipe Massa</td>\n      <td>1:38.629</td>\n      <td>1:38.565</td>\n      <td>1:38.550</td>\n      <td>Williams</td>\n    </tr>\n    <tr>\n      <th>10</th>\n      <td>2017</td>\n      <td>21</td>\n      <td>Fernando Alonso</td>\n      <td>1:38.820</td>\n      <td>1:38.636</td>\n      <td>NaN</td>\n      <td>McLaren</td>\n    </tr>\n    <tr>\n      <th>11</th>\n      <td>2017</td>\n      <td>21</td>\n      <td>Carlos Sainz</td>\n      <td>1:38.810</td>\n      <td>1:38.725</td>\n      <td>NaN</td>\n      <td>Renault</td>\n    </tr>\n    <tr>\n      <th>12</th>\n      <td>2017</td>\n      <td>21</td>\n      <td>Stoffel Vandoorne</td>\n      <td>1:38.777</td>\n      <td>1:38.808</td>\n      <td>NaN</td>\n      <td>McLaren</td>\n    </tr>\n    <tr>\n      <th>13</th>\n      <td>2017</td>\n      <td>21</td>\n      <td>Kevin Magnussen</td>\n      <td>1:39.395</td>\n      <td>1:39.298</td>\n      <td>NaN</td>\n      <td>Haas F1 Team</td>\n    </tr>\n    <tr>\n      <th>14</th>\n      <td>2017</td>\n      <td>21</td>\n      <td>Lance Stroll</td>\n      <td>1:39.503</td>\n      <td>1:39.646</td>\n      <td>NaN</td>\n      <td>Williams</td>\n    </tr>\n    <tr>\n      <th>15</th>\n      <td>2017</td>\n      <td>21</td>\n      <td>Romain Grosjean</td>\n      <td>1:39.516</td>\n      <td>NaN</td>\n      <td>NaN</td>\n      <td>Haas F1 Team</td>\n    </tr>\n    <tr>\n      <th>16</th>\n      <td>2017</td>\n      <td>21</td>\n      <td>Pierre Gasly</td>\n      <td>1:39.724</td>\n      <td>NaN</td>\n      <td>NaN</td>\n      <td>Toro Rosso</td>\n    </tr>\n    <tr>\n      <th>17</th>\n      <td>2017</td>\n      <td>21</td>\n      <td>Pascal Wehrlein</td>\n      <td>1:39.930</td>\n      <td>NaN</td>\n      <td>NaN</td>\n      <td>Sauber</td>\n    </tr>\n    <tr>\n      <th>18</th>\n      <td>2017</td>\n      <td>21</td>\n      <td>Marcus Ericsson</td>\n      <td>1:39.994</td>\n      <td>NaN</td>\n      <td>NaN</td>\n      <td>Sauber</td>\n    </tr>\n    <tr>\n      <th>19</th>\n      <td>2017</td>\n      <td>21</td>\n      <td>Brendon Hartley</td>\n      <td>1:40.471</td>\n      <td>NaN</td>\n      <td>NaN</td>\n      <td>Toro Rosso</td>\n    </tr>\n  </tbody>\n</table>\n</div>"
          },
          "metadata": {},
          "execution_count": 63
        }
      ]
    },
    {
      "cell_type": "code",
      "metadata": {
        "id": "4eJIOZIuub-7"
      },
      "source": [
        "# time to test out the merger\n",
        "df1 = get_qualifying(2020, 4)\n",
        "df2 = GetStandings(2020, 4)"
      ],
      "execution_count": 65,
      "outputs": []
    },
    {
      "cell_type": "code",
      "metadata": {
        "id": "z9elvkZnwzp1"
      },
      "source": [
        "df3 = pd.merge(df1, df2, on=['Year', 'Round', 'Driver'])"
      ],
      "execution_count": 68,
      "outputs": []
    },
    {
      "cell_type": "markdown",
      "metadata": {
        "id": "6DPjDOGF8Rra"
      },
      "source": [
        "My Function works! time to put this function into the main function! Getting the data I need is now done "
      ]
    },
    {
      "cell_type": "code",
      "metadata": {
        "id": "6WNyKY7276gA"
      },
      "source": [
        "# Now it's time to export my data and apply a base model \n",
        "\n",
        "df.to_csv(\"Data/driver-info.csv\")"
      ],
      "execution_count": 71,
      "outputs": []
    },
    {
      "cell_type": "markdown",
      "metadata": {
        "id": "-Ow12nrltO_Y"
      },
      "source": [
        "I got al the data I need now, time to fit a base model and see the results that I get out of it. I'm excited to see the base results\n",
        "\n",
        "Things to note, I'm trying to predict what place each driver ends up in, and also their qualifying times, which are both regressional problems. I will need to build two models that work with that. "
      ]
    },
    {
      "cell_type": "code",
      "metadata": {
        "colab": {
          "base_uri": "https://localhost:8080/"
        },
        "id": "UuxAtP55AXAz",
        "outputId": "d70a96c1-52e8-40c8-b308-12c313fd1fd5"
      },
      "source": [
        "!pip install category_encoders"
      ],
      "execution_count": 45,
      "outputs": [
        {
          "output_type": "stream",
          "name": "stdout",
          "text": [
            "Requirement already satisfied: category_encoders in /opt/anaconda3/lib/python3.8/site-packages (2.2.2)\n",
            "Requirement already satisfied: statsmodels>=0.9.0 in /opt/anaconda3/lib/python3.8/site-packages (from category_encoders) (0.11.1)\n",
            "Requirement already satisfied: scikit-learn>=0.20.0 in /opt/anaconda3/lib/python3.8/site-packages (from category_encoders) (0.23.1)\n",
            "Requirement already satisfied: pandas>=0.21.1 in /opt/anaconda3/lib/python3.8/site-packages (from category_encoders) (1.0.5)\n",
            "Requirement already satisfied: numpy>=1.14.0 in /opt/anaconda3/lib/python3.8/site-packages (from category_encoders) (1.18.5)\n",
            "Requirement already satisfied: scipy>=1.0.0 in /opt/anaconda3/lib/python3.8/site-packages (from category_encoders) (1.5.0)\n",
            "Requirement already satisfied: patsy>=0.5.1 in /opt/anaconda3/lib/python3.8/site-packages (from category_encoders) (0.5.1)\n",
            "Requirement already satisfied: joblib>=0.11 in /opt/anaconda3/lib/python3.8/site-packages (from scikit-learn>=0.20.0->category_encoders) (0.16.0)\n",
            "Requirement already satisfied: threadpoolctl>=2.0.0 in /opt/anaconda3/lib/python3.8/site-packages (from scikit-learn>=0.20.0->category_encoders) (2.1.0)\n",
            "Requirement already satisfied: python-dateutil>=2.6.1 in /opt/anaconda3/lib/python3.8/site-packages (from pandas>=0.21.1->category_encoders) (2.8.1)\n",
            "Requirement already satisfied: pytz>=2017.2 in /opt/anaconda3/lib/python3.8/site-packages (from pandas>=0.21.1->category_encoders) (2020.1)\n",
            "Requirement already satisfied: six in /opt/anaconda3/lib/python3.8/site-packages (from patsy>=0.5.1->category_encoders) (1.15.0)\n"
          ]
        }
      ]
    },
    {
      "cell_type": "code",
      "metadata": {
        "colab": {
          "base_uri": "https://localhost:8080/"
        },
        "id": "CWLr7TLQtNXK",
        "outputId": "e81a4980-eaf0-426f-e8ca-3616b94b08eb"
      },
      "source": [
        "# time to fit a base model\n",
        "from sklearn.ensemble import RandomForestClassifier\n",
        "import category_encoders as ce\n",
        "from sklearn.model_selection import train_test_split\n",
        "\n",
        "\n",
        "\n",
        "# Setting my X variable and my y variable\n",
        "X = df.drop('Position', axis=1)\n",
        "y = df['Position']\n",
        "\n",
        "# Using the One Hot Encoder \n",
        "encoder = ce.OrdinalEncoder()\n",
        "X_encoded = encoder.fit_transform(X)\n",
        "\n",
        "\n",
        "# starting out with a base x_train and y_train\n",
        "X_train, X_test, y_train, y_test = train_test_split(\n",
        "    X_encoded, y, test_size=0.25, random_state=42)\n",
        "\n",
        "\n",
        "# now applying my model \n",
        "model = RandomForestClassifier()\n",
        "model.fit(X_train, y_train)"
      ],
      "execution_count": 72,
      "outputs": [
        {
          "output_type": "execute_result",
          "data": {
            "text/plain": [
              "RandomForestClassifier()"
            ]
          },
          "metadata": {},
          "execution_count": 72
        }
      ]
    },
    {
      "cell_type": "code",
      "metadata": {
        "colab": {
          "base_uri": "https://localhost:8080/",
          "height": 419
        },
        "id": "1ioxS9NL_flO",
        "outputId": "8b4c15c3-6335-41b8-8219-23f72a8191ae"
      },
      "source": [
        "X_test"
      ],
      "execution_count": 73,
      "outputs": [
        {
          "output_type": "execute_result",
          "data": {
            "text/plain": [
              "      Year  Round  Driver  FastestLap  FastestTime  FastestLapAvgSpeedKPH  \\\n",
              "1230     4      7       4         2.0        597.0                  596.0   \n",
              "111      1      6      14        -1.0         -1.0                   -1.0   \n",
              "1846     5     17       8        -1.0         -1.0                   -1.0   \n",
              "1722     5     12      31        34.0        795.0                  797.0   \n",
              "415      2      6      20        51.0        230.0                  229.0   \n",
              "...    ...    ...     ...         ...          ...                    ...   \n",
              "199      1     11      20        11.0        114.0                  113.0   \n",
              "802      3      5      18        -1.0         -1.0                   -1.0   \n",
              "1626     5      7      17        -1.0         -1.0                   -1.0   \n",
              "1828     5     17       4        49.0        846.0                  849.0   \n",
              "1720     5     12      19        36.0        793.0                  795.0   \n",
              "\n",
              "      status  TimeBehind  Q1_Time  Q2_Time  Q3_Time  Constructor  Track  \\\n",
              "1230       1         639     1111      830        7            1     18   \n",
              "111        9          27       90        9        7            7      4   \n",
              "1846       9          27     1682        9        7           14     22   \n",
              "1722       1         850     1564     1164      766            1     20   \n",
              "415        1         257      369      280      184            9     17   \n",
              "...      ...         ...      ...      ...      ...          ...    ...   \n",
              "199        1         131      178      134       88            9      9   \n",
              "802       10          28      723      549        7            8      4   \n",
              "1626      10          28     1471     1098        7            6     18   \n",
              "1828       1         901     1666     1241      813            1     22   \n",
              "1720       1         848     1562     1162      764            9     20   \n",
              "\n",
              "      Points  Wins  \n",
              "1230     210     4  \n",
              "111       11     2  \n",
              "1846      11     2  \n",
              "1722     241     6  \n",
              "415       63     2  \n",
              "...      ...   ...  \n",
              "199       62     1  \n",
              "802        8     2  \n",
              "1626       7     2  \n",
              "1828     230     7  \n",
              "1720     109     2  \n",
              "\n",
              "[479 rows x 15 columns]"
            ],
            "text/html": "<div>\n<style scoped>\n    .dataframe tbody tr th:only-of-type {\n        vertical-align: middle;\n    }\n\n    .dataframe tbody tr th {\n        vertical-align: top;\n    }\n\n    .dataframe thead th {\n        text-align: right;\n    }\n</style>\n<table border=\"1\" class=\"dataframe\">\n  <thead>\n    <tr style=\"text-align: right;\">\n      <th></th>\n      <th>Year</th>\n      <th>Round</th>\n      <th>Driver</th>\n      <th>FastestLap</th>\n      <th>FastestTime</th>\n      <th>FastestLapAvgSpeedKPH</th>\n      <th>status</th>\n      <th>TimeBehind</th>\n      <th>Q1_Time</th>\n      <th>Q2_Time</th>\n      <th>Q3_Time</th>\n      <th>Constructor</th>\n      <th>Track</th>\n      <th>Points</th>\n      <th>Wins</th>\n    </tr>\n  </thead>\n  <tbody>\n    <tr>\n      <th>1230</th>\n      <td>4</td>\n      <td>7</td>\n      <td>4</td>\n      <td>2.0</td>\n      <td>597.0</td>\n      <td>596.0</td>\n      <td>1</td>\n      <td>639</td>\n      <td>1111</td>\n      <td>830</td>\n      <td>7</td>\n      <td>1</td>\n      <td>18</td>\n      <td>210</td>\n      <td>4</td>\n    </tr>\n    <tr>\n      <th>111</th>\n      <td>1</td>\n      <td>6</td>\n      <td>14</td>\n      <td>-1.0</td>\n      <td>-1.0</td>\n      <td>-1.0</td>\n      <td>9</td>\n      <td>27</td>\n      <td>90</td>\n      <td>9</td>\n      <td>7</td>\n      <td>7</td>\n      <td>4</td>\n      <td>11</td>\n      <td>2</td>\n    </tr>\n    <tr>\n      <th>1846</th>\n      <td>5</td>\n      <td>17</td>\n      <td>8</td>\n      <td>-1.0</td>\n      <td>-1.0</td>\n      <td>-1.0</td>\n      <td>9</td>\n      <td>27</td>\n      <td>1682</td>\n      <td>9</td>\n      <td>7</td>\n      <td>14</td>\n      <td>22</td>\n      <td>11</td>\n      <td>2</td>\n    </tr>\n    <tr>\n      <th>1722</th>\n      <td>5</td>\n      <td>12</td>\n      <td>31</td>\n      <td>34.0</td>\n      <td>795.0</td>\n      <td>797.0</td>\n      <td>1</td>\n      <td>850</td>\n      <td>1564</td>\n      <td>1164</td>\n      <td>766</td>\n      <td>1</td>\n      <td>20</td>\n      <td>241</td>\n      <td>6</td>\n    </tr>\n    <tr>\n      <th>415</th>\n      <td>2</td>\n      <td>6</td>\n      <td>20</td>\n      <td>51.0</td>\n      <td>230.0</td>\n      <td>229.0</td>\n      <td>1</td>\n      <td>257</td>\n      <td>369</td>\n      <td>280</td>\n      <td>184</td>\n      <td>9</td>\n      <td>17</td>\n      <td>63</td>\n      <td>2</td>\n    </tr>\n    <tr>\n      <th>...</th>\n      <td>...</td>\n      <td>...</td>\n      <td>...</td>\n      <td>...</td>\n      <td>...</td>\n      <td>...</td>\n      <td>...</td>\n      <td>...</td>\n      <td>...</td>\n      <td>...</td>\n      <td>...</td>\n      <td>...</td>\n      <td>...</td>\n      <td>...</td>\n      <td>...</td>\n    </tr>\n    <tr>\n      <th>199</th>\n      <td>1</td>\n      <td>11</td>\n      <td>20</td>\n      <td>11.0</td>\n      <td>114.0</td>\n      <td>113.0</td>\n      <td>1</td>\n      <td>131</td>\n      <td>178</td>\n      <td>134</td>\n      <td>88</td>\n      <td>9</td>\n      <td>9</td>\n      <td>62</td>\n      <td>1</td>\n    </tr>\n    <tr>\n      <th>802</th>\n      <td>3</td>\n      <td>5</td>\n      <td>18</td>\n      <td>-1.0</td>\n      <td>-1.0</td>\n      <td>-1.0</td>\n      <td>10</td>\n      <td>28</td>\n      <td>723</td>\n      <td>549</td>\n      <td>7</td>\n      <td>8</td>\n      <td>4</td>\n      <td>8</td>\n      <td>2</td>\n    </tr>\n    <tr>\n      <th>1626</th>\n      <td>5</td>\n      <td>7</td>\n      <td>17</td>\n      <td>-1.0</td>\n      <td>-1.0</td>\n      <td>-1.0</td>\n      <td>10</td>\n      <td>28</td>\n      <td>1471</td>\n      <td>1098</td>\n      <td>7</td>\n      <td>6</td>\n      <td>18</td>\n      <td>7</td>\n      <td>2</td>\n    </tr>\n    <tr>\n      <th>1828</th>\n      <td>5</td>\n      <td>17</td>\n      <td>4</td>\n      <td>49.0</td>\n      <td>846.0</td>\n      <td>849.0</td>\n      <td>1</td>\n      <td>901</td>\n      <td>1666</td>\n      <td>1241</td>\n      <td>813</td>\n      <td>1</td>\n      <td>22</td>\n      <td>230</td>\n      <td>7</td>\n    </tr>\n    <tr>\n      <th>1720</th>\n      <td>5</td>\n      <td>12</td>\n      <td>19</td>\n      <td>36.0</td>\n      <td>793.0</td>\n      <td>795.0</td>\n      <td>1</td>\n      <td>848</td>\n      <td>1562</td>\n      <td>1162</td>\n      <td>764</td>\n      <td>9</td>\n      <td>20</td>\n      <td>109</td>\n      <td>2</td>\n    </tr>\n  </tbody>\n</table>\n<p>479 rows × 15 columns</p>\n</div>"
          },
          "metadata": {},
          "execution_count": 73
        }
      ]
    },
    {
      "cell_type": "code",
      "metadata": {
        "id": "wpnXHHGrymF6"
      },
      "source": [
        "# Let's test this \n",
        "y_pred = model.predict(X_test)"
      ],
      "execution_count": 74,
      "outputs": []
    },
    {
      "cell_type": "code",
      "metadata": {
        "colab": {
          "base_uri": "https://localhost:8080/"
        },
        "id": "KRwPMd2AzVlm",
        "outputId": "75c1fc05-42a7-4e58-c3c1-5d37b72b8e9f"
      },
      "source": [
        "y_pred"
      ],
      "execution_count": 75,
      "outputs": [
        {
          "output_type": "execute_result",
          "data": {
            "text/plain": [
              "array(['2', '18', '24', '1', '4', '4', '3', '7', '7', '3', '1', '6', '14',\n",
              "       '16', '13', '20', '5', '20', '2', '14', '17', '3', '6', '8', '7',\n",
              "       '5', '17', '16', '4', '13', '10', '7', '21', '14', '13', '20',\n",
              "       '10', '1', '3', '10', '20', '16', '8', '5', '20', '22', '2', '3',\n",
              "       '1', '17', '3', '20', '2', '2', '21', '20', '7', '12', '17', '22',\n",
              "       '20', '14', '5', '12', '4', '14', '6', '11', '11', '8', '6', '4',\n",
              "       '14', '12', '10', '1', '13', '20', '12', '10', '19', '16', '17',\n",
              "       '20', '3', '22', '16', '12', '23', '16', '12', '4', '7', '6', '2',\n",
              "       '11', '10', '1', '10', '18', '12', '19', '14', '11', '9', '2', '2',\n",
              "       '15', '1', '20', '15', '7', '4', '15', '2', '13', '18', '16', '16',\n",
              "       '14', '18', '14', '22', '16', '23', '2', '7', '2', '11', '9', '20',\n",
              "       '7', '15', '14', '21', '10', '14', '12', '11', '14', '19', '12',\n",
              "       '23', '12', '20', '19', '9', '14', '7', '16', '3', '5', '2', '10',\n",
              "       '13', '4', '8', '9', '2', '5', '8', '20', '9', '19', '17', '14',\n",
              "       '5', '10', '13', '17', '16', '2', '6', '9', '2', '17', '18', '19',\n",
              "       '15', '19', '2', '11', '3', '13', '14', '2', '12', '11', '17', '5',\n",
              "       '18', '1', '13', '7', '10', '14', '18', '17', '10', '17', '5', '6',\n",
              "       '7', '7', '11', '5', '6', '17', '18', '18', '19', '18', '14', '2',\n",
              "       '14', '1', '13', '19', '2', '12', '13', '20', '11', '10', '7',\n",
              "       '11', '7', '17', '13', '11', '7', '16', '5', '3', '9', '14', '22',\n",
              "       '20', '13', '11', '6', '7', '17', '1', '16', '6', '15', '14', '5',\n",
              "       '12', '2', '13', '1', '10', '12', '6', '14', '18', '5', '14', '18',\n",
              "       '5', '10', '8', '10', '14', '19', '13', '19', '8', '9', '1', '5',\n",
              "       '10', '16', '9', '3', '18', '21', '9', '2', '14', '5', '2', '5',\n",
              "       '8', '11', '7', '6', '1', '14', '7', '16', '13', '9', '7', '9',\n",
              "       '6', '12', '16', '16', '20', '21', '6', '7', '8', '14', '15', '13',\n",
              "       '10', '5', '21', '12', '13', '9', '17', '12', '3', '6', '17', '7',\n",
              "       '1', '6', '21', '10', '16', '5', '9', '11', '19', '10', '4', '16',\n",
              "       '17', '8', '7', '16', '20', '24', '7', '3', '6', '7', '15', '18',\n",
              "       '14', '22', '13', '2', '5', '5', '19', '11', '17', '14', '7', '15',\n",
              "       '5', '4', '6', '17', '1', '6', '15', '6', '18', '6', '11', '6',\n",
              "       '11', '13', '6', '13', '5', '8', '7', '10', '5', '15', '17', '5',\n",
              "       '2', '5', '4', '8', '5', '5', '16', '10', '16', '12', '3', '21',\n",
              "       '10', '18', '17', '15', '11', '20', '19', '2', '16', '3', '17',\n",
              "       '6', '20', '10', '9', '20', '11', '24', '21', '12', '5', '18', '7',\n",
              "       '11', '10', '19', '2', '12', '17', '15', '6', '7', '4', '16', '8',\n",
              "       '18', '9', '4', '4', '19', '3', '21', '10', '20', '19', '4', '11',\n",
              "       '7', '12', '13', '6', '7', '15', '5', '11', '16', '15', '14', '11',\n",
              "       '2', '10', '15', '21', '6', '20', '1', '14', '1', '17', '4', '19',\n",
              "       '17', '15', '20', '12', '15', '11', '7', '1', '14', '10', '3',\n",
              "       '18', '15', '1', '3'], dtype=object)"
            ]
          },
          "metadata": {},
          "execution_count": 75
        }
      ]
    },
    {
      "cell_type": "code",
      "metadata": {
        "id": "3LlCYpjKzsEW"
      },
      "source": [
        "X_pred = encoder.inverse_transform(X_test)"
      ],
      "execution_count": 76,
      "outputs": []
    },
    {
      "cell_type": "code",
      "metadata": {
        "id": "dhs60--UBAau"
      },
      "source": [
        "import numpy as np\n",
        "\n",
        "y_pred_df = pd.DataFrame(y_pred, columns=[\"Position\"])"
      ],
      "execution_count": 77,
      "outputs": []
    },
    {
      "cell_type": "code",
      "metadata": {
        "id": "imBAJWNwBOTf"
      },
      "source": [
        "X_pred['Position'] = y_pred"
      ],
      "execution_count": 78,
      "outputs": []
    },
    {
      "cell_type": "code",
      "metadata": {
        "colab": {
          "base_uri": "https://localhost:8080/",
          "height": 419
        },
        "id": "Ge0jDYagBPLm",
        "outputId": "31d7f108-aa40-425b-84a7-c28b56e2a7ad"
      },
      "source": [
        "X_pred"
      ],
      "execution_count": 61,
      "outputs": [
        {
          "output_type": "execute_result",
          "data": {
            "text/plain": [
              "      Year Round First_Name   Last_Name FastestLap FastestTime  \\\n",
              "1230  2017     7      Lewis    Hamilton         64    1:14.551   \n",
              "111   2020     6       Kimi   Räikkönen        NaN         NaN   \n",
              "1846  2016    17    Esteban        Ocon        NaN         NaN   \n",
              "1722  2016    12       Nico     Rosberg         51    1:19.122   \n",
              "415   2019     6        Max  Verstappen          9    1:16.229   \n",
              "...    ...   ...        ...         ...        ...         ...   \n",
              "199   2020    11        Max  Verstappen         60    1:28.139   \n",
              "802   2018     5      Lance      Stroll        NaN         NaN   \n",
              "1626  2016     7      Kevin   Magnussen        NaN         NaN   \n",
              "1828  2016    17      Lewis    Hamilton         36    1:35.152   \n",
              "1720  2016    12     Daniel   Ricciardo         48    1:18.442   \n",
              "\n",
              "     FastestLapAvgSpeedKPH    status   TimeBehind   Q1_Time   Q2_Time  \\\n",
              "1230               210.588  Finished  1:33:05.154  1:13.640  1:14.106   \n",
              "111                    NaN    +1 Lap       +1 Lap  1:28.493       NaN   \n",
              "1846                   NaN    +1 Lap       +1 Lap  1:36.451       NaN   \n",
              "1722               208.114  Finished      +15.845  1:33.302  1:22.806   \n",
              "415                157.593  Finished       +5.537  1:17.244  1:16.726   \n",
              "...                    ...       ...          ...       ...       ...   \n",
              "199                210.267  Finished       +4.470  1:33.630  1:33.157   \n",
              "802                    NaN   +2 Laps      +2 Laps  1:44.359  1:43.585   \n",
              "1626                   NaN   +2 Laps      +2 Laps  1:16.253  1:16.058   \n",
              "1828               219.703  Finished       +5.776  1:34.444  1:33.046   \n",
              "1720               209.918  Finished       +6.996  1:39.968  1:23.234   \n",
              "\n",
              "       Q3_Time     Constructor           Track Points Wins Position  \n",
              "1230       NaN        Mercedes      villeneuve    129    3        2  \n",
              "111        NaN      Alfa Romeo       catalunya      0    0       18  \n",
              "1846       NaN  Manor Marussia          suzuka      0    0       24  \n",
              "1722  1:19.965        Mercedes  hockenheimring    198    5        1  \n",
              "415   1:16.357        Red Bull          monaco     78    0        4  \n",
              "...        ...             ...             ...    ...  ...      ...  \n",
              "199   1:31.867        Red Bull     nurburgring    147    1        3  \n",
              "802        NaN        Williams       catalunya      4    0       18  \n",
              "1626       NaN         Renault      villeneuve      6    0       15  \n",
              "1828  1:32.850        Mercedes          suzuka    280    6        2  \n",
              "1720  1:20.280        Red Bull  hockenheimring    133    0        3  \n",
              "\n",
              "[479 rows x 17 columns]"
            ],
            "text/html": "<div>\n<style scoped>\n    .dataframe tbody tr th:only-of-type {\n        vertical-align: middle;\n    }\n\n    .dataframe tbody tr th {\n        vertical-align: top;\n    }\n\n    .dataframe thead th {\n        text-align: right;\n    }\n</style>\n<table border=\"1\" class=\"dataframe\">\n  <thead>\n    <tr style=\"text-align: right;\">\n      <th></th>\n      <th>Year</th>\n      <th>Round</th>\n      <th>First_Name</th>\n      <th>Last_Name</th>\n      <th>FastestLap</th>\n      <th>FastestTime</th>\n      <th>FastestLapAvgSpeedKPH</th>\n      <th>status</th>\n      <th>TimeBehind</th>\n      <th>Q1_Time</th>\n      <th>Q2_Time</th>\n      <th>Q3_Time</th>\n      <th>Constructor</th>\n      <th>Track</th>\n      <th>Points</th>\n      <th>Wins</th>\n      <th>Position</th>\n    </tr>\n  </thead>\n  <tbody>\n    <tr>\n      <th>1230</th>\n      <td>2017</td>\n      <td>7</td>\n      <td>Lewis</td>\n      <td>Hamilton</td>\n      <td>64</td>\n      <td>1:14.551</td>\n      <td>210.588</td>\n      <td>Finished</td>\n      <td>1:33:05.154</td>\n      <td>1:13.640</td>\n      <td>1:14.106</td>\n      <td>NaN</td>\n      <td>Mercedes</td>\n      <td>villeneuve</td>\n      <td>129</td>\n      <td>3</td>\n      <td>2</td>\n    </tr>\n    <tr>\n      <th>111</th>\n      <td>2020</td>\n      <td>6</td>\n      <td>Kimi</td>\n      <td>Räikkönen</td>\n      <td>NaN</td>\n      <td>NaN</td>\n      <td>NaN</td>\n      <td>+1 Lap</td>\n      <td>+1 Lap</td>\n      <td>1:28.493</td>\n      <td>NaN</td>\n      <td>NaN</td>\n      <td>Alfa Romeo</td>\n      <td>catalunya</td>\n      <td>0</td>\n      <td>0</td>\n      <td>18</td>\n    </tr>\n    <tr>\n      <th>1846</th>\n      <td>2016</td>\n      <td>17</td>\n      <td>Esteban</td>\n      <td>Ocon</td>\n      <td>NaN</td>\n      <td>NaN</td>\n      <td>NaN</td>\n      <td>+1 Lap</td>\n      <td>+1 Lap</td>\n      <td>1:36.451</td>\n      <td>NaN</td>\n      <td>NaN</td>\n      <td>Manor Marussia</td>\n      <td>suzuka</td>\n      <td>0</td>\n      <td>0</td>\n      <td>24</td>\n    </tr>\n    <tr>\n      <th>1722</th>\n      <td>2016</td>\n      <td>12</td>\n      <td>Nico</td>\n      <td>Rosberg</td>\n      <td>51</td>\n      <td>1:19.122</td>\n      <td>208.114</td>\n      <td>Finished</td>\n      <td>+15.845</td>\n      <td>1:33.302</td>\n      <td>1:22.806</td>\n      <td>1:19.965</td>\n      <td>Mercedes</td>\n      <td>hockenheimring</td>\n      <td>198</td>\n      <td>5</td>\n      <td>1</td>\n    </tr>\n    <tr>\n      <th>415</th>\n      <td>2019</td>\n      <td>6</td>\n      <td>Max</td>\n      <td>Verstappen</td>\n      <td>9</td>\n      <td>1:16.229</td>\n      <td>157.593</td>\n      <td>Finished</td>\n      <td>+5.537</td>\n      <td>1:17.244</td>\n      <td>1:16.726</td>\n      <td>1:16.357</td>\n      <td>Red Bull</td>\n      <td>monaco</td>\n      <td>78</td>\n      <td>0</td>\n      <td>4</td>\n    </tr>\n    <tr>\n      <th>...</th>\n      <td>...</td>\n      <td>...</td>\n      <td>...</td>\n      <td>...</td>\n      <td>...</td>\n      <td>...</td>\n      <td>...</td>\n      <td>...</td>\n      <td>...</td>\n      <td>...</td>\n      <td>...</td>\n      <td>...</td>\n      <td>...</td>\n      <td>...</td>\n      <td>...</td>\n      <td>...</td>\n      <td>...</td>\n    </tr>\n    <tr>\n      <th>199</th>\n      <td>2020</td>\n      <td>11</td>\n      <td>Max</td>\n      <td>Verstappen</td>\n      <td>60</td>\n      <td>1:28.139</td>\n      <td>210.267</td>\n      <td>Finished</td>\n      <td>+4.470</td>\n      <td>1:33.630</td>\n      <td>1:33.157</td>\n      <td>1:31.867</td>\n      <td>Red Bull</td>\n      <td>nurburgring</td>\n      <td>147</td>\n      <td>1</td>\n      <td>3</td>\n    </tr>\n    <tr>\n      <th>802</th>\n      <td>2018</td>\n      <td>5</td>\n      <td>Lance</td>\n      <td>Stroll</td>\n      <td>NaN</td>\n      <td>NaN</td>\n      <td>NaN</td>\n      <td>+2 Laps</td>\n      <td>+2 Laps</td>\n      <td>1:44.359</td>\n      <td>1:43.585</td>\n      <td>NaN</td>\n      <td>Williams</td>\n      <td>catalunya</td>\n      <td>4</td>\n      <td>0</td>\n      <td>18</td>\n    </tr>\n    <tr>\n      <th>1626</th>\n      <td>2016</td>\n      <td>7</td>\n      <td>Kevin</td>\n      <td>Magnussen</td>\n      <td>NaN</td>\n      <td>NaN</td>\n      <td>NaN</td>\n      <td>+2 Laps</td>\n      <td>+2 Laps</td>\n      <td>1:16.253</td>\n      <td>1:16.058</td>\n      <td>NaN</td>\n      <td>Renault</td>\n      <td>villeneuve</td>\n      <td>6</td>\n      <td>0</td>\n      <td>15</td>\n    </tr>\n    <tr>\n      <th>1828</th>\n      <td>2016</td>\n      <td>17</td>\n      <td>Lewis</td>\n      <td>Hamilton</td>\n      <td>36</td>\n      <td>1:35.152</td>\n      <td>219.703</td>\n      <td>Finished</td>\n      <td>+5.776</td>\n      <td>1:34.444</td>\n      <td>1:33.046</td>\n      <td>1:32.850</td>\n      <td>Mercedes</td>\n      <td>suzuka</td>\n      <td>280</td>\n      <td>6</td>\n      <td>2</td>\n    </tr>\n    <tr>\n      <th>1720</th>\n      <td>2016</td>\n      <td>12</td>\n      <td>Daniel</td>\n      <td>Ricciardo</td>\n      <td>48</td>\n      <td>1:18.442</td>\n      <td>209.918</td>\n      <td>Finished</td>\n      <td>+6.996</td>\n      <td>1:39.968</td>\n      <td>1:23.234</td>\n      <td>1:20.280</td>\n      <td>Red Bull</td>\n      <td>hockenheimring</td>\n      <td>133</td>\n      <td>0</td>\n      <td>3</td>\n    </tr>\n  </tbody>\n</table>\n<p>479 rows × 17 columns</p>\n</div>"
          },
          "metadata": {},
          "execution_count": 61
        }
      ]
    },
    {
      "cell_type": "markdown",
      "metadata": {
        "id": "0uR0j5dEnBB3"
      },
      "source": [
        "# Where I left off \n",
        "\n",
        "Looking at where I left off, it's clear that I got a base model running. This is a regressional problem, and my base model is not very accurate. I also remembered that since the model spits out a numpy array, I can attach it to my test dataframe so it can predict the places for what place each driver will get. \n",
        "\n",
        "Now I'm going to make another data frame, this one will be the values it's going to take to actually predict. then let's see what the model will do."
      ]
    },
    {
      "cell_type": "code",
      "metadata": {
        "colab": {
          "base_uri": "https://localhost:8080/",
          "height": 269
        },
        "id": "0HnPWWRQuTET",
        "outputId": "da7ad7d4-421a-4a0e-8495-1569d3455a1a"
      },
      "source": [
        "# let's see how good hamilton does in red bull ring\n",
        "mask = df['Track'] == 'red_bull_ring'  \n",
        "mask2 = df['Driver'] == 'Lewis Hamilton'\n",
        "df2 = df[mask]\n",
        "df2[mask2]"
      ],
      "execution_count": 81,
      "outputs": [
        {
          "output_type": "execute_result",
          "data": {
            "text/plain": [
              "      Year Round          Driver FastestLap FastestTime FastestLapAvgSpeedKPH  \\\n",
              "3     2020     1  Lewis Hamilton         67    1:07.712               229.572   \n",
              "20    2020     2  Lewis Hamilton         68    1:06.719               232.989   \n",
              "476   2019     9  Lewis Hamilton         69    1:08.050               228.432   \n",
              "887   2018     9  Lewis Hamilton       None        None                  None   \n",
              "1272  2017     9  Lewis Hamilton         69    1:07.411               230.597   \n",
              "1654  2016     9  Lewis Hamilton         67    1:08.411               227.647   \n",
              "\n",
              "             status     TimeBehind   Q1_Time   Q2_Time   Q3_Time Constructor  \\\n",
              "3          Finished         +5.689  1:04.198  1:03.096  1:02.951    Mercedes   \n",
              "20         Finished    1:22:50.683  1:04.198  1:03.096  1:02.951    Mercedes   \n",
              "476        Finished        +22.805  1:30.609  1:29.520  1:28.319    Mercedes   \n",
              "887   Fuel pressure  Fuel pressure  1:31.271  1:30.645  1:30.029    Mercedes   \n",
              "1272       Finished         +7.430  1:41.983  1:41.275  1:40.593    Mercedes   \n",
              "1654       Finished    1:27:38.107  1:44.259  1:43.526  2:01.954    Mercedes   \n",
              "\n",
              "              Track Points Position Wins  \n",
              "3     red_bull_ring     12        4    0  \n",
              "20    red_bull_ring     37        2    1  \n",
              "476   red_bull_ring    197        1    6  \n",
              "887   red_bull_ring    145        2    3  \n",
              "1272  red_bull_ring    151        2    3  \n",
              "1654  red_bull_ring    142        2    3  "
            ],
            "text/html": "<div>\n<style scoped>\n    .dataframe tbody tr th:only-of-type {\n        vertical-align: middle;\n    }\n\n    .dataframe tbody tr th {\n        vertical-align: top;\n    }\n\n    .dataframe thead th {\n        text-align: right;\n    }\n</style>\n<table border=\"1\" class=\"dataframe\">\n  <thead>\n    <tr style=\"text-align: right;\">\n      <th></th>\n      <th>Year</th>\n      <th>Round</th>\n      <th>Driver</th>\n      <th>FastestLap</th>\n      <th>FastestTime</th>\n      <th>FastestLapAvgSpeedKPH</th>\n      <th>status</th>\n      <th>TimeBehind</th>\n      <th>Q1_Time</th>\n      <th>Q2_Time</th>\n      <th>Q3_Time</th>\n      <th>Constructor</th>\n      <th>Track</th>\n      <th>Points</th>\n      <th>Position</th>\n      <th>Wins</th>\n    </tr>\n  </thead>\n  <tbody>\n    <tr>\n      <th>3</th>\n      <td>2020</td>\n      <td>1</td>\n      <td>Lewis Hamilton</td>\n      <td>67</td>\n      <td>1:07.712</td>\n      <td>229.572</td>\n      <td>Finished</td>\n      <td>+5.689</td>\n      <td>1:04.198</td>\n      <td>1:03.096</td>\n      <td>1:02.951</td>\n      <td>Mercedes</td>\n      <td>red_bull_ring</td>\n      <td>12</td>\n      <td>4</td>\n      <td>0</td>\n    </tr>\n    <tr>\n      <th>20</th>\n      <td>2020</td>\n      <td>2</td>\n      <td>Lewis Hamilton</td>\n      <td>68</td>\n      <td>1:06.719</td>\n      <td>232.989</td>\n      <td>Finished</td>\n      <td>1:22:50.683</td>\n      <td>1:04.198</td>\n      <td>1:03.096</td>\n      <td>1:02.951</td>\n      <td>Mercedes</td>\n      <td>red_bull_ring</td>\n      <td>37</td>\n      <td>2</td>\n      <td>1</td>\n    </tr>\n    <tr>\n      <th>476</th>\n      <td>2019</td>\n      <td>9</td>\n      <td>Lewis Hamilton</td>\n      <td>69</td>\n      <td>1:08.050</td>\n      <td>228.432</td>\n      <td>Finished</td>\n      <td>+22.805</td>\n      <td>1:30.609</td>\n      <td>1:29.520</td>\n      <td>1:28.319</td>\n      <td>Mercedes</td>\n      <td>red_bull_ring</td>\n      <td>197</td>\n      <td>1</td>\n      <td>6</td>\n    </tr>\n    <tr>\n      <th>887</th>\n      <td>2018</td>\n      <td>9</td>\n      <td>Lewis Hamilton</td>\n      <td>None</td>\n      <td>None</td>\n      <td>None</td>\n      <td>Fuel pressure</td>\n      <td>Fuel pressure</td>\n      <td>1:31.271</td>\n      <td>1:30.645</td>\n      <td>1:30.029</td>\n      <td>Mercedes</td>\n      <td>red_bull_ring</td>\n      <td>145</td>\n      <td>2</td>\n      <td>3</td>\n    </tr>\n    <tr>\n      <th>1272</th>\n      <td>2017</td>\n      <td>9</td>\n      <td>Lewis Hamilton</td>\n      <td>69</td>\n      <td>1:07.411</td>\n      <td>230.597</td>\n      <td>Finished</td>\n      <td>+7.430</td>\n      <td>1:41.983</td>\n      <td>1:41.275</td>\n      <td>1:40.593</td>\n      <td>Mercedes</td>\n      <td>red_bull_ring</td>\n      <td>151</td>\n      <td>2</td>\n      <td>3</td>\n    </tr>\n    <tr>\n      <th>1654</th>\n      <td>2016</td>\n      <td>9</td>\n      <td>Lewis Hamilton</td>\n      <td>67</td>\n      <td>1:08.411</td>\n      <td>227.647</td>\n      <td>Finished</td>\n      <td>1:27:38.107</td>\n      <td>1:44.259</td>\n      <td>1:43.526</td>\n      <td>2:01.954</td>\n      <td>Mercedes</td>\n      <td>red_bull_ring</td>\n      <td>142</td>\n      <td>2</td>\n      <td>3</td>\n    </tr>\n  </tbody>\n</table>\n</div>"
          },
          "metadata": {},
          "execution_count": 81
        }
      ]
    },
    {
      "cell_type": "code",
      "metadata": {
        "colab": {
          "base_uri": "https://localhost:8080/"
        },
        "id": "xYmD9rU_CTMQ",
        "outputId": "ac9ee829-4498-423f-f235-ecd158baa930"
      },
      "source": [
        "column_list = [\"Year\", \"Round\", \"Driver\", \"Track\", \"Points\", \"Wins\", \"Q1_Time\", \"Q2_Time\", \"Q3_Time\"]\n",
        "test_df = pd.DataFrame(columns=column_list)\n",
        "\n",
        "new_info = {\"Year\": 2021, \n",
        "            \"Round\": 3,\n",
        "            \"Driver\": \"Lewis Hamilton\",\n",
        "            \"Constructor\": \"Mercedes\",\n",
        "            \"FastestTime\": \"1:07.342\",\n",
        "            \"FastestLap\": \"66\",\n",
        "            \"FastestLapAvgSpeedKPH\": \"222\",\n",
        "            'status': \"Finished\",\n",
        "            'TimeBehind': \"1:20:05.154\",\n",
        "            \"Q1_Time\": \"1:04.432\",\n",
        "            \"Q2_Time\": \"1:04.432\",\n",
        "            \"Q3_Time\": \"1:04.432\",\n",
        "            \"Track\": \"imola\",\n",
        "            \"Points\": 0,\n",
        "            \"Wins\": 0}\n",
        "\n",
        "test_df = test_df.append(new_info, ignore_index=True)\n",
        "# Always make sure to encode my dataframe, \n",
        "# I can decode it after I'm done. \n",
        "test_df_e = encoder.fit_transform(test_df)"
      ],
      "execution_count": 86,
      "outputs": []
    },
    {
      "cell_type": "code",
      "metadata": {
        "colab": {
          "base_uri": "https://localhost:8080/"
        },
        "id": "FpL67PWJpUbN",
        "outputId": "fe61b6d0-20c0-4a8c-96c5-b3c0c36a479c"
      },
      "source": [
        "# getting the prediction, let's see how well he does\n",
        "y_pred = model.predict(test_df_e)\n",
        "y_pred"
      ],
      "execution_count": 87,
      "outputs": [
        {
          "output_type": "execute_result",
          "data": {
            "text/plain": [
              "array(['1'], dtype=object)"
            ]
          },
          "metadata": {},
          "execution_count": 87
        }
      ]
    },
    {
      "cell_type": "markdown",
      "metadata": {
        "id": "tV6Zm5ujqUTI"
      },
      "source": [
        "# Play with the dict and see how it effects the model\n",
        "\n",
        "The only features that are important to this model is the name and which round it is. I thought the wins and points would be the most important parts to the model but it's clear that it's doing it based on the driver. \n",
        "\n",
        "I want to try a tree model that will be much more accurate. and from there see what I can do to get the most accurate model possible. \n",
        "\n"
      ]
    },
    {
      "cell_type": "markdown",
      "metadata": {
        "id": "L2DcmIwIvtwb"
      },
      "source": [
        "# TODO\n",
        "\n",
        "Use the Data to create the second, base classifcation model \n"
      ]
    },
    {
      "cell_type": "code",
      "metadata": {
        "id": "6sR7KvqLp15u"
      },
      "source": [
        "# Notes: This is a multiclassifcation problem, We are trying to predict 3 different outcomes, either Top 3, In the points,\n",
        "# or out of the points. \n",
        "\n",
        "# First of since that is the outcome we are going for we need to change the data accordingly. \n",
        "# Creating a new column called \"Results\". To do that I will make a function that will add all of the results\n",
        "def create_results(df):\n",
        "    # Looping throughout the dataframe to check the results of each driver. \n",
        "    df['Position'] = pd.to_numeric(df['Position'])\n",
        "\n",
        "    if df['Position'] <= 3:\n",
        "        df['Result'] = \"Podium\"\n",
        "    if df['Position'] > 3 & df['Position'] <= 10:\n",
        "        df['Result'] = 'In the Points'\n",
        "    if df['Position'] > 10:\n",
        "        df['Result'] = \"Out of the Points\"\n",
        "    return df"
      ],
      "execution_count": 88,
      "outputs": []
    },
    {
      "cell_type": "code",
      "metadata": {
        "id": "jYJVV8XH6tED"
      },
      "source": [
        "# This .apply function takes the lambda loop and creates the result column. \n",
        "df = df.apply(lambda df: create_results(df), axis=1)"
      ],
      "execution_count": 89,
      "outputs": []
    },
    {
      "cell_type": "code",
      "execution_count": 90,
      "metadata": {},
      "outputs": [],
      "source": [
        "# Dropping the Position column since we don't need that anymore. \n",
        "df_class = df.drop(columns='Position')"
      ]
    },
    {
      "cell_type": "code",
      "execution_count": 91,
      "metadata": {},
      "outputs": [
        {
          "output_type": "execute_result",
          "data": {
            "text/plain": [
              "      Year  Round             Driver FastestLap FastestTime  \\\n",
              "0     2020      1    Valtteri Bottas         68    1:07.657   \n",
              "1     2020      1    Charles Leclerc         64    1:07.901   \n",
              "2     2020      1       Lando Norris         71    1:07.475   \n",
              "3     2020      1     Lewis Hamilton         67    1:07.712   \n",
              "4     2020      1       Carlos Sainz         63    1:07.974   \n",
              "...    ...    ...                ...        ...         ...   \n",
              "1908  2016     20  Esteban Gutiérrez       None        None   \n",
              "1909  2016     20       Felipe Massa       None        None   \n",
              "1910  2016     20     Kimi Räikkönen       None        None   \n",
              "1911  2016     20    Marcus Ericsson       None        None   \n",
              "1912  2016     20    Romain Grosjean       None        None   \n",
              "\n",
              "     FastestLapAvgSpeedKPH     status   TimeBehind   Q1_Time   Q2_Time  \\\n",
              "0                  229.758   Finished  1:30:55.739  1:04.111  1:03.015   \n",
              "1                  228.933   Finished       +2.700  1:04.500  1:04.041   \n",
              "2                  230.378   Finished       +5.491  1:04.606  1:03.819   \n",
              "3                  229.572   Finished       +5.689  1:04.198  1:03.096   \n",
              "4                  228.687   Finished       +8.903  1:04.537  1:03.971   \n",
              "...                    ...        ...          ...       ...       ...   \n",
              "1908                  None    Retired      Retired  1:21.401       NaN   \n",
              "1909                  None  Collision    Collision  1:20.423  1:20.151   \n",
              "1910                  None  Collision    Collision  1:19.554  1:19.936   \n",
              "1911                  None  Collision    Collision  1:21.062  1:21.536   \n",
              "1912                  None   Withdrew     Withdrew  1:21.916       NaN   \n",
              "\n",
              "       Q3_Time   Constructor          Track Points Wins             Result  \n",
              "0     1:02.939      Mercedes  red_bull_ring     25    1             Podium  \n",
              "1     1:03.923       Ferrari  red_bull_ring     18    0             Podium  \n",
              "2     1:03.626       McLaren  red_bull_ring     16    0             Podium  \n",
              "3     1:02.951      Mercedes  red_bull_ring     12    0      In the Points  \n",
              "4     1:03.971       McLaren  red_bull_ring     10    0      In the Points  \n",
              "...        ...           ...            ...    ...  ...                ...  \n",
              "1908       NaN  Haas F1 Team     interlagos      0    0  Out of the Points  \n",
              "1909  1:20.032      Williams     interlagos     51    0  Out of the Points  \n",
              "1910  1:19.376       Ferrari     interlagos    178    0      In the Points  \n",
              "1911       NaN        Sauber     interlagos      0    0  Out of the Points  \n",
              "1912       NaN  Haas F1 Team     interlagos     29    0  Out of the Points  \n",
              "\n",
              "[1913 rows x 16 columns]"
            ],
            "text/html": "<div>\n<style scoped>\n    .dataframe tbody tr th:only-of-type {\n        vertical-align: middle;\n    }\n\n    .dataframe tbody tr th {\n        vertical-align: top;\n    }\n\n    .dataframe thead th {\n        text-align: right;\n    }\n</style>\n<table border=\"1\" class=\"dataframe\">\n  <thead>\n    <tr style=\"text-align: right;\">\n      <th></th>\n      <th>Year</th>\n      <th>Round</th>\n      <th>Driver</th>\n      <th>FastestLap</th>\n      <th>FastestTime</th>\n      <th>FastestLapAvgSpeedKPH</th>\n      <th>status</th>\n      <th>TimeBehind</th>\n      <th>Q1_Time</th>\n      <th>Q2_Time</th>\n      <th>Q3_Time</th>\n      <th>Constructor</th>\n      <th>Track</th>\n      <th>Points</th>\n      <th>Wins</th>\n      <th>Result</th>\n    </tr>\n  </thead>\n  <tbody>\n    <tr>\n      <th>0</th>\n      <td>2020</td>\n      <td>1</td>\n      <td>Valtteri Bottas</td>\n      <td>68</td>\n      <td>1:07.657</td>\n      <td>229.758</td>\n      <td>Finished</td>\n      <td>1:30:55.739</td>\n      <td>1:04.111</td>\n      <td>1:03.015</td>\n      <td>1:02.939</td>\n      <td>Mercedes</td>\n      <td>red_bull_ring</td>\n      <td>25</td>\n      <td>1</td>\n      <td>Podium</td>\n    </tr>\n    <tr>\n      <th>1</th>\n      <td>2020</td>\n      <td>1</td>\n      <td>Charles Leclerc</td>\n      <td>64</td>\n      <td>1:07.901</td>\n      <td>228.933</td>\n      <td>Finished</td>\n      <td>+2.700</td>\n      <td>1:04.500</td>\n      <td>1:04.041</td>\n      <td>1:03.923</td>\n      <td>Ferrari</td>\n      <td>red_bull_ring</td>\n      <td>18</td>\n      <td>0</td>\n      <td>Podium</td>\n    </tr>\n    <tr>\n      <th>2</th>\n      <td>2020</td>\n      <td>1</td>\n      <td>Lando Norris</td>\n      <td>71</td>\n      <td>1:07.475</td>\n      <td>230.378</td>\n      <td>Finished</td>\n      <td>+5.491</td>\n      <td>1:04.606</td>\n      <td>1:03.819</td>\n      <td>1:03.626</td>\n      <td>McLaren</td>\n      <td>red_bull_ring</td>\n      <td>16</td>\n      <td>0</td>\n      <td>Podium</td>\n    </tr>\n    <tr>\n      <th>3</th>\n      <td>2020</td>\n      <td>1</td>\n      <td>Lewis Hamilton</td>\n      <td>67</td>\n      <td>1:07.712</td>\n      <td>229.572</td>\n      <td>Finished</td>\n      <td>+5.689</td>\n      <td>1:04.198</td>\n      <td>1:03.096</td>\n      <td>1:02.951</td>\n      <td>Mercedes</td>\n      <td>red_bull_ring</td>\n      <td>12</td>\n      <td>0</td>\n      <td>In the Points</td>\n    </tr>\n    <tr>\n      <th>4</th>\n      <td>2020</td>\n      <td>1</td>\n      <td>Carlos Sainz</td>\n      <td>63</td>\n      <td>1:07.974</td>\n      <td>228.687</td>\n      <td>Finished</td>\n      <td>+8.903</td>\n      <td>1:04.537</td>\n      <td>1:03.971</td>\n      <td>1:03.971</td>\n      <td>McLaren</td>\n      <td>red_bull_ring</td>\n      <td>10</td>\n      <td>0</td>\n      <td>In the Points</td>\n    </tr>\n    <tr>\n      <th>...</th>\n      <td>...</td>\n      <td>...</td>\n      <td>...</td>\n      <td>...</td>\n      <td>...</td>\n      <td>...</td>\n      <td>...</td>\n      <td>...</td>\n      <td>...</td>\n      <td>...</td>\n      <td>...</td>\n      <td>...</td>\n      <td>...</td>\n      <td>...</td>\n      <td>...</td>\n      <td>...</td>\n    </tr>\n    <tr>\n      <th>1908</th>\n      <td>2016</td>\n      <td>20</td>\n      <td>Esteban Gutiérrez</td>\n      <td>None</td>\n      <td>None</td>\n      <td>None</td>\n      <td>Retired</td>\n      <td>Retired</td>\n      <td>1:21.401</td>\n      <td>NaN</td>\n      <td>NaN</td>\n      <td>Haas F1 Team</td>\n      <td>interlagos</td>\n      <td>0</td>\n      <td>0</td>\n      <td>Out of the Points</td>\n    </tr>\n    <tr>\n      <th>1909</th>\n      <td>2016</td>\n      <td>20</td>\n      <td>Felipe Massa</td>\n      <td>None</td>\n      <td>None</td>\n      <td>None</td>\n      <td>Collision</td>\n      <td>Collision</td>\n      <td>1:20.423</td>\n      <td>1:20.151</td>\n      <td>1:20.032</td>\n      <td>Williams</td>\n      <td>interlagos</td>\n      <td>51</td>\n      <td>0</td>\n      <td>Out of the Points</td>\n    </tr>\n    <tr>\n      <th>1910</th>\n      <td>2016</td>\n      <td>20</td>\n      <td>Kimi Räikkönen</td>\n      <td>None</td>\n      <td>None</td>\n      <td>None</td>\n      <td>Collision</td>\n      <td>Collision</td>\n      <td>1:19.554</td>\n      <td>1:19.936</td>\n      <td>1:19.376</td>\n      <td>Ferrari</td>\n      <td>interlagos</td>\n      <td>178</td>\n      <td>0</td>\n      <td>In the Points</td>\n    </tr>\n    <tr>\n      <th>1911</th>\n      <td>2016</td>\n      <td>20</td>\n      <td>Marcus Ericsson</td>\n      <td>None</td>\n      <td>None</td>\n      <td>None</td>\n      <td>Collision</td>\n      <td>Collision</td>\n      <td>1:21.062</td>\n      <td>1:21.536</td>\n      <td>NaN</td>\n      <td>Sauber</td>\n      <td>interlagos</td>\n      <td>0</td>\n      <td>0</td>\n      <td>Out of the Points</td>\n    </tr>\n    <tr>\n      <th>1912</th>\n      <td>2016</td>\n      <td>20</td>\n      <td>Romain Grosjean</td>\n      <td>None</td>\n      <td>None</td>\n      <td>None</td>\n      <td>Withdrew</td>\n      <td>Withdrew</td>\n      <td>1:21.916</td>\n      <td>NaN</td>\n      <td>NaN</td>\n      <td>Haas F1 Team</td>\n      <td>interlagos</td>\n      <td>29</td>\n      <td>0</td>\n      <td>Out of the Points</td>\n    </tr>\n  </tbody>\n</table>\n<p>1913 rows × 16 columns</p>\n</div>"
          },
          "metadata": {},
          "execution_count": 91
        }
      ],
      "source": [
        "# Testing to see how it comes out. \n",
        "df_class"
      ]
    },
    {
      "cell_type": "code",
      "execution_count": 93,
      "metadata": {},
      "outputs": [],
      "source": [
        "def quick_encode(y):\n",
        "    if y == \"Podium\":\n",
        "        y = 1\n",
        "    if y == 'In the Points':\n",
        "        y = 2\n",
        "    if y == \"Out of the Points\":\n",
        "        y = 3 \n",
        "    return y \n",
        "\n",
        "def quick_decode(y):\n",
        "    if y == 1:\n",
        "        y = \"Podium\"\n",
        "    if y == 2:\n",
        "        y = 'In the Points'\n",
        "    if y == 3:\n",
        "        y = 'Out of the Points'\n",
        "    return y"
      ]
    },
    {
      "cell_type": "code",
      "execution_count": 94,
      "metadata": {},
      "outputs": [
        {
          "output_type": "execute_result",
          "data": {
            "text/plain": [
              "RandomForestClassifier()"
            ]
          },
          "metadata": {},
          "execution_count": 94
        }
      ],
      "source": [
        "# Importing the Random Forest model\n",
        "from sklearn.ensemble import RandomForestClassifier\n",
        "\n",
        "# Now building our second classifcation model. \n",
        "X = df_class.drop('Result', axis=1)\n",
        "y = df_class['Result']\n",
        "\n",
        "# Using the One Hot Encoder \n",
        "encoder = ce.OrdinalEncoder()\n",
        "X_encoded = encoder.fit_transform(X)\n",
        "y_encoded = y.apply(lambda y: quick_encode(y))\n",
        "\n",
        "# starting out with a base x_train and y_train\n",
        "X_train, X_test, y_train, y_test = train_test_split(\n",
        "    X_encoded, y_encoded, test_size=0.25, random_state=42)\n",
        "\n",
        "\n",
        "# now applying my model \n",
        "model2 = RandomForestClassifier()\n",
        "model2.fit(X_train, y_train)"
      ]
    },
    {
      "cell_type": "code",
      "execution_count": 95,
      "metadata": {},
      "outputs": [
        {
          "output_type": "execute_result",
          "data": {
            "text/plain": [
              "array([1, 3, 3, 1, 2, 2, 1, 2, 2, 1, 1, 2, 3, 3, 3, 3, 2, 3, 1, 3, 3, 1,\n",
              "       2, 2, 2, 2, 3, 3, 2, 3, 2, 2, 3, 3, 3, 3, 2, 1, 1, 3, 3, 3, 3, 2,\n",
              "       3, 3, 1, 1, 1, 3, 1, 3, 1, 1, 3, 3, 2, 3, 3, 3, 3, 3, 2, 2, 3, 3,\n",
              "       2, 3, 2, 2, 2, 2, 3, 3, 2, 1, 2, 3, 3, 3, 3, 3, 3, 3, 1, 3, 3, 3,\n",
              "       3, 3, 2, 2, 2, 2, 1, 3, 3, 1, 2, 3, 3, 3, 3, 2, 3, 1, 1, 3, 1, 3,\n",
              "       3, 2, 2, 3, 1, 3, 3, 3, 3, 3, 3, 3, 3, 3, 3, 1, 2, 1, 3, 2, 3, 2,\n",
              "       3, 3, 3, 2, 3, 3, 2, 3, 3, 3, 3, 3, 3, 3, 2, 3, 2, 3, 1, 2, 1, 3,\n",
              "       2, 2, 2, 2, 1, 2, 2, 3, 2, 3, 3, 3, 2, 3, 3, 3, 3, 1, 2, 2, 1, 3,\n",
              "       3, 3, 3, 3, 1, 2, 2, 3, 3, 1, 2, 3, 3, 2, 3, 2, 3, 2, 2, 3, 3, 3,\n",
              "       2, 3, 2, 3, 2, 2, 2, 2, 2, 3, 3, 3, 3, 3, 3, 1, 3, 1, 3, 3, 1, 3,\n",
              "       3, 3, 3, 2, 2, 3, 2, 3, 3, 3, 2, 3, 2, 1, 3, 3, 3, 3, 3, 2, 2, 2,\n",
              "       2, 1, 3, 2, 3, 3, 2, 2, 1, 2, 1, 2, 2, 2, 3, 3, 2, 3, 3, 2, 2, 2,\n",
              "       2, 3, 3, 3, 3, 1, 2, 1, 2, 3, 3, 3, 2, 3, 3, 2, 1, 3, 2, 1, 2, 3,\n",
              "       3, 2, 2, 1, 3, 2, 3, 3, 3, 2, 2, 2, 3, 3, 3, 3, 3, 2, 3, 3, 3, 3,\n",
              "       3, 2, 3, 3, 3, 3, 2, 3, 3, 1, 2, 3, 2, 1, 2, 3, 2, 3, 2, 2, 3, 3,\n",
              "       3, 2, 3, 3, 2, 3, 3, 3, 3, 2, 1, 2, 2, 3, 3, 3, 3, 3, 1, 2, 2, 3,\n",
              "       2, 3, 3, 2, 3, 2, 2, 3, 3, 1, 2, 3, 3, 3, 2, 3, 2, 3, 3, 2, 3, 2,\n",
              "       2, 2, 2, 2, 3, 3, 2, 1, 2, 2, 2, 2, 2, 3, 2, 3, 3, 2, 3, 2, 3, 3,\n",
              "       3, 2, 3, 3, 1, 3, 2, 3, 2, 3, 2, 2, 3, 2, 3, 3, 3, 2, 3, 3, 2, 2,\n",
              "       3, 1, 3, 3, 3, 2, 2, 2, 3, 2, 3, 2, 2, 2, 3, 1, 3, 2, 3, 3, 2, 3,\n",
              "       2, 3, 3, 2, 2, 3, 2, 2, 3, 3, 3, 3, 1, 2, 3, 3, 2, 3, 1, 3, 1, 3,\n",
              "       2, 3, 3, 3, 3, 3, 3, 3, 2, 1, 3, 3, 1, 3, 3, 1, 2])"
            ]
          },
          "metadata": {},
          "execution_count": 95
        }
      ],
      "source": [
        "# Let's test this \n",
        "y_pred = model2.predict(X_test)\n",
        "y_pred"
      ]
    },
    {
      "cell_type": "code",
      "execution_count": 96,
      "metadata": {},
      "outputs": [
        {
          "output_type": "execute_result",
          "data": {
            "text/plain": [
              "      Year  Round  Driver  FastestLap  FastestTime  FastestLapAvgSpeedKPH  \\\n",
              "1230  2017      7       4         2.0        597.0                  596.0   \n",
              "111   2020      6      14        -1.0         -1.0                   -1.0   \n",
              "1846  2016     17       8        -1.0         -1.0                   -1.0   \n",
              "1722  2016     12      31        34.0        795.0                  797.0   \n",
              "415   2019      6      20        51.0        230.0                  229.0   \n",
              "...    ...    ...     ...         ...          ...                    ...   \n",
              "199   2020     11      20        11.0        114.0                  113.0   \n",
              "802   2018      5      18        -1.0         -1.0                   -1.0   \n",
              "1626  2016      7      17        -1.0         -1.0                   -1.0   \n",
              "1828  2016     17       4        49.0        846.0                  849.0   \n",
              "1720  2016     12      19        36.0        793.0                  795.0   \n",
              "\n",
              "      status  TimeBehind  Q1_Time  Q2_Time  Q3_Time  Constructor  Track  \\\n",
              "1230       1         639     1111      830        7            1     18   \n",
              "111        9          27       90        9        7            7      4   \n",
              "1846       9          27     1682        9        7           14     22   \n",
              "1722       1         850     1564     1164      766            1     20   \n",
              "415        1         257      369      280      184            9     17   \n",
              "...      ...         ...      ...      ...      ...          ...    ...   \n",
              "199        1         131      178      134       88            9      9   \n",
              "802       10          28      723      549        7            8      4   \n",
              "1626      10          28     1471     1098        7            6     18   \n",
              "1828       1         901     1666     1241      813            1     22   \n",
              "1720       1         848     1562     1162      764            9     20   \n",
              "\n",
              "      Points  Wins             Result  \n",
              "1230     210     4                NaN  \n",
              "111       11     2      In the Points  \n",
              "1846      11     2                NaN  \n",
              "1722     241     6                NaN  \n",
              "415       63     2  Out of the Points  \n",
              "...      ...   ...                ...  \n",
              "199       62     1  Out of the Points  \n",
              "802        8     2                NaN  \n",
              "1626       7     2                NaN  \n",
              "1828     230     7                NaN  \n",
              "1720     109     2                NaN  \n",
              "\n",
              "[479 rows x 16 columns]"
            ],
            "text/html": "<div>\n<style scoped>\n    .dataframe tbody tr th:only-of-type {\n        vertical-align: middle;\n    }\n\n    .dataframe tbody tr th {\n        vertical-align: top;\n    }\n\n    .dataframe thead th {\n        text-align: right;\n    }\n</style>\n<table border=\"1\" class=\"dataframe\">\n  <thead>\n    <tr style=\"text-align: right;\">\n      <th></th>\n      <th>Year</th>\n      <th>Round</th>\n      <th>Driver</th>\n      <th>FastestLap</th>\n      <th>FastestTime</th>\n      <th>FastestLapAvgSpeedKPH</th>\n      <th>status</th>\n      <th>TimeBehind</th>\n      <th>Q1_Time</th>\n      <th>Q2_Time</th>\n      <th>Q3_Time</th>\n      <th>Constructor</th>\n      <th>Track</th>\n      <th>Points</th>\n      <th>Wins</th>\n      <th>Result</th>\n    </tr>\n  </thead>\n  <tbody>\n    <tr>\n      <th>1230</th>\n      <td>2017</td>\n      <td>7</td>\n      <td>4</td>\n      <td>2.0</td>\n      <td>597.0</td>\n      <td>596.0</td>\n      <td>1</td>\n      <td>639</td>\n      <td>1111</td>\n      <td>830</td>\n      <td>7</td>\n      <td>1</td>\n      <td>18</td>\n      <td>210</td>\n      <td>4</td>\n      <td>NaN</td>\n    </tr>\n    <tr>\n      <th>111</th>\n      <td>2020</td>\n      <td>6</td>\n      <td>14</td>\n      <td>-1.0</td>\n      <td>-1.0</td>\n      <td>-1.0</td>\n      <td>9</td>\n      <td>27</td>\n      <td>90</td>\n      <td>9</td>\n      <td>7</td>\n      <td>7</td>\n      <td>4</td>\n      <td>11</td>\n      <td>2</td>\n      <td>In the Points</td>\n    </tr>\n    <tr>\n      <th>1846</th>\n      <td>2016</td>\n      <td>17</td>\n      <td>8</td>\n      <td>-1.0</td>\n      <td>-1.0</td>\n      <td>-1.0</td>\n      <td>9</td>\n      <td>27</td>\n      <td>1682</td>\n      <td>9</td>\n      <td>7</td>\n      <td>14</td>\n      <td>22</td>\n      <td>11</td>\n      <td>2</td>\n      <td>NaN</td>\n    </tr>\n    <tr>\n      <th>1722</th>\n      <td>2016</td>\n      <td>12</td>\n      <td>31</td>\n      <td>34.0</td>\n      <td>795.0</td>\n      <td>797.0</td>\n      <td>1</td>\n      <td>850</td>\n      <td>1564</td>\n      <td>1164</td>\n      <td>766</td>\n      <td>1</td>\n      <td>20</td>\n      <td>241</td>\n      <td>6</td>\n      <td>NaN</td>\n    </tr>\n    <tr>\n      <th>415</th>\n      <td>2019</td>\n      <td>6</td>\n      <td>20</td>\n      <td>51.0</td>\n      <td>230.0</td>\n      <td>229.0</td>\n      <td>1</td>\n      <td>257</td>\n      <td>369</td>\n      <td>280</td>\n      <td>184</td>\n      <td>9</td>\n      <td>17</td>\n      <td>63</td>\n      <td>2</td>\n      <td>Out of the Points</td>\n    </tr>\n    <tr>\n      <th>...</th>\n      <td>...</td>\n      <td>...</td>\n      <td>...</td>\n      <td>...</td>\n      <td>...</td>\n      <td>...</td>\n      <td>...</td>\n      <td>...</td>\n      <td>...</td>\n      <td>...</td>\n      <td>...</td>\n      <td>...</td>\n      <td>...</td>\n      <td>...</td>\n      <td>...</td>\n      <td>...</td>\n    </tr>\n    <tr>\n      <th>199</th>\n      <td>2020</td>\n      <td>11</td>\n      <td>20</td>\n      <td>11.0</td>\n      <td>114.0</td>\n      <td>113.0</td>\n      <td>1</td>\n      <td>131</td>\n      <td>178</td>\n      <td>134</td>\n      <td>88</td>\n      <td>9</td>\n      <td>9</td>\n      <td>62</td>\n      <td>1</td>\n      <td>Out of the Points</td>\n    </tr>\n    <tr>\n      <th>802</th>\n      <td>2018</td>\n      <td>5</td>\n      <td>18</td>\n      <td>-1.0</td>\n      <td>-1.0</td>\n      <td>-1.0</td>\n      <td>10</td>\n      <td>28</td>\n      <td>723</td>\n      <td>549</td>\n      <td>7</td>\n      <td>8</td>\n      <td>4</td>\n      <td>8</td>\n      <td>2</td>\n      <td>NaN</td>\n    </tr>\n    <tr>\n      <th>1626</th>\n      <td>2016</td>\n      <td>7</td>\n      <td>17</td>\n      <td>-1.0</td>\n      <td>-1.0</td>\n      <td>-1.0</td>\n      <td>10</td>\n      <td>28</td>\n      <td>1471</td>\n      <td>1098</td>\n      <td>7</td>\n      <td>6</td>\n      <td>18</td>\n      <td>7</td>\n      <td>2</td>\n      <td>NaN</td>\n    </tr>\n    <tr>\n      <th>1828</th>\n      <td>2016</td>\n      <td>17</td>\n      <td>4</td>\n      <td>49.0</td>\n      <td>846.0</td>\n      <td>849.0</td>\n      <td>1</td>\n      <td>901</td>\n      <td>1666</td>\n      <td>1241</td>\n      <td>813</td>\n      <td>1</td>\n      <td>22</td>\n      <td>230</td>\n      <td>7</td>\n      <td>NaN</td>\n    </tr>\n    <tr>\n      <th>1720</th>\n      <td>2016</td>\n      <td>12</td>\n      <td>19</td>\n      <td>36.0</td>\n      <td>793.0</td>\n      <td>795.0</td>\n      <td>1</td>\n      <td>848</td>\n      <td>1562</td>\n      <td>1162</td>\n      <td>764</td>\n      <td>9</td>\n      <td>20</td>\n      <td>109</td>\n      <td>2</td>\n      <td>NaN</td>\n    </tr>\n  </tbody>\n</table>\n<p>479 rows × 16 columns</p>\n</div>"
          },
          "metadata": {},
          "execution_count": 96
        }
      ],
      "source": [
        "# Testing to see how position compares\n",
        "test_df = encoder.inverse_transform(X_test)\n",
        "y_df = pd.DataFrame(y_pred)\n",
        "y_df = y_df[0].apply(lambda y_df: quick_decode(y_df))\n",
        "y_df\n",
        "X_pred = X_test\n",
        "X_pred['Result'] = y_df\n",
        "X_pred"
      ]
    },
    {
      "cell_type": "markdown",
      "metadata": {},
      "source": [
        "## I got both models working. Now I need to start working on deploying them. "
      ]
    },
    {
      "cell_type": "code",
      "execution_count": 97,
      "metadata": {},
      "outputs": [],
      "source": [
        "df.to_csv(\"driver-info.csv\")"
      ]
    },
    {
      "cell_type": "code",
      "execution_count": 98,
      "metadata": {},
      "outputs": [
        {
          "output_type": "execute_result",
          "data": {
            "text/plain": [
              "      Year  Round             Driver FastestLap FastestTime  \\\n",
              "0     2020      1    Valtteri Bottas         68    1:07.657   \n",
              "1     2020      1    Charles Leclerc         64    1:07.901   \n",
              "2     2020      1       Lando Norris         71    1:07.475   \n",
              "3     2020      1     Lewis Hamilton         67    1:07.712   \n",
              "4     2020      1       Carlos Sainz         63    1:07.974   \n",
              "...    ...    ...                ...        ...         ...   \n",
              "1908  2016     20  Esteban Gutiérrez       None        None   \n",
              "1909  2016     20       Felipe Massa       None        None   \n",
              "1910  2016     20     Kimi Räikkönen       None        None   \n",
              "1911  2016     20    Marcus Ericsson       None        None   \n",
              "1912  2016     20    Romain Grosjean       None        None   \n",
              "\n",
              "     FastestLapAvgSpeedKPH     status   TimeBehind   Q1_Time   Q2_Time  \\\n",
              "0                  229.758   Finished  1:30:55.739  1:04.111  1:03.015   \n",
              "1                  228.933   Finished       +2.700  1:04.500  1:04.041   \n",
              "2                  230.378   Finished       +5.491  1:04.606  1:03.819   \n",
              "3                  229.572   Finished       +5.689  1:04.198  1:03.096   \n",
              "4                  228.687   Finished       +8.903  1:04.537  1:03.971   \n",
              "...                    ...        ...          ...       ...       ...   \n",
              "1908                  None    Retired      Retired  1:21.401       NaN   \n",
              "1909                  None  Collision    Collision  1:20.423  1:20.151   \n",
              "1910                  None  Collision    Collision  1:19.554  1:19.936   \n",
              "1911                  None  Collision    Collision  1:21.062  1:21.536   \n",
              "1912                  None   Withdrew     Withdrew  1:21.916       NaN   \n",
              "\n",
              "       Q3_Time   Constructor          Track Points  Position Wins  \\\n",
              "0     1:02.939      Mercedes  red_bull_ring     25         1    1   \n",
              "1     1:03.923       Ferrari  red_bull_ring     18         2    0   \n",
              "2     1:03.626       McLaren  red_bull_ring     16         3    0   \n",
              "3     1:02.951      Mercedes  red_bull_ring     12         4    0   \n",
              "4     1:03.971       McLaren  red_bull_ring     10         5    0   \n",
              "...        ...           ...            ...    ...       ...  ...   \n",
              "1908       NaN  Haas F1 Team     interlagos      0        21    0   \n",
              "1909  1:20.032      Williams     interlagos     51        11    0   \n",
              "1910  1:19.376       Ferrari     interlagos    178         6    0   \n",
              "1911       NaN        Sauber     interlagos      0        22    0   \n",
              "1912       NaN  Haas F1 Team     interlagos     29        13    0   \n",
              "\n",
              "                 Result  \n",
              "0                Podium  \n",
              "1                Podium  \n",
              "2                Podium  \n",
              "3         In the Points  \n",
              "4         In the Points  \n",
              "...                 ...  \n",
              "1908  Out of the Points  \n",
              "1909  Out of the Points  \n",
              "1910      In the Points  \n",
              "1911  Out of the Points  \n",
              "1912  Out of the Points  \n",
              "\n",
              "[1913 rows x 17 columns]"
            ],
            "text/html": "<div>\n<style scoped>\n    .dataframe tbody tr th:only-of-type {\n        vertical-align: middle;\n    }\n\n    .dataframe tbody tr th {\n        vertical-align: top;\n    }\n\n    .dataframe thead th {\n        text-align: right;\n    }\n</style>\n<table border=\"1\" class=\"dataframe\">\n  <thead>\n    <tr style=\"text-align: right;\">\n      <th></th>\n      <th>Year</th>\n      <th>Round</th>\n      <th>Driver</th>\n      <th>FastestLap</th>\n      <th>FastestTime</th>\n      <th>FastestLapAvgSpeedKPH</th>\n      <th>status</th>\n      <th>TimeBehind</th>\n      <th>Q1_Time</th>\n      <th>Q2_Time</th>\n      <th>Q3_Time</th>\n      <th>Constructor</th>\n      <th>Track</th>\n      <th>Points</th>\n      <th>Position</th>\n      <th>Wins</th>\n      <th>Result</th>\n    </tr>\n  </thead>\n  <tbody>\n    <tr>\n      <th>0</th>\n      <td>2020</td>\n      <td>1</td>\n      <td>Valtteri Bottas</td>\n      <td>68</td>\n      <td>1:07.657</td>\n      <td>229.758</td>\n      <td>Finished</td>\n      <td>1:30:55.739</td>\n      <td>1:04.111</td>\n      <td>1:03.015</td>\n      <td>1:02.939</td>\n      <td>Mercedes</td>\n      <td>red_bull_ring</td>\n      <td>25</td>\n      <td>1</td>\n      <td>1</td>\n      <td>Podium</td>\n    </tr>\n    <tr>\n      <th>1</th>\n      <td>2020</td>\n      <td>1</td>\n      <td>Charles Leclerc</td>\n      <td>64</td>\n      <td>1:07.901</td>\n      <td>228.933</td>\n      <td>Finished</td>\n      <td>+2.700</td>\n      <td>1:04.500</td>\n      <td>1:04.041</td>\n      <td>1:03.923</td>\n      <td>Ferrari</td>\n      <td>red_bull_ring</td>\n      <td>18</td>\n      <td>2</td>\n      <td>0</td>\n      <td>Podium</td>\n    </tr>\n    <tr>\n      <th>2</th>\n      <td>2020</td>\n      <td>1</td>\n      <td>Lando Norris</td>\n      <td>71</td>\n      <td>1:07.475</td>\n      <td>230.378</td>\n      <td>Finished</td>\n      <td>+5.491</td>\n      <td>1:04.606</td>\n      <td>1:03.819</td>\n      <td>1:03.626</td>\n      <td>McLaren</td>\n      <td>red_bull_ring</td>\n      <td>16</td>\n      <td>3</td>\n      <td>0</td>\n      <td>Podium</td>\n    </tr>\n    <tr>\n      <th>3</th>\n      <td>2020</td>\n      <td>1</td>\n      <td>Lewis Hamilton</td>\n      <td>67</td>\n      <td>1:07.712</td>\n      <td>229.572</td>\n      <td>Finished</td>\n      <td>+5.689</td>\n      <td>1:04.198</td>\n      <td>1:03.096</td>\n      <td>1:02.951</td>\n      <td>Mercedes</td>\n      <td>red_bull_ring</td>\n      <td>12</td>\n      <td>4</td>\n      <td>0</td>\n      <td>In the Points</td>\n    </tr>\n    <tr>\n      <th>4</th>\n      <td>2020</td>\n      <td>1</td>\n      <td>Carlos Sainz</td>\n      <td>63</td>\n      <td>1:07.974</td>\n      <td>228.687</td>\n      <td>Finished</td>\n      <td>+8.903</td>\n      <td>1:04.537</td>\n      <td>1:03.971</td>\n      <td>1:03.971</td>\n      <td>McLaren</td>\n      <td>red_bull_ring</td>\n      <td>10</td>\n      <td>5</td>\n      <td>0</td>\n      <td>In the Points</td>\n    </tr>\n    <tr>\n      <th>...</th>\n      <td>...</td>\n      <td>...</td>\n      <td>...</td>\n      <td>...</td>\n      <td>...</td>\n      <td>...</td>\n      <td>...</td>\n      <td>...</td>\n      <td>...</td>\n      <td>...</td>\n      <td>...</td>\n      <td>...</td>\n      <td>...</td>\n      <td>...</td>\n      <td>...</td>\n      <td>...</td>\n      <td>...</td>\n    </tr>\n    <tr>\n      <th>1908</th>\n      <td>2016</td>\n      <td>20</td>\n      <td>Esteban Gutiérrez</td>\n      <td>None</td>\n      <td>None</td>\n      <td>None</td>\n      <td>Retired</td>\n      <td>Retired</td>\n      <td>1:21.401</td>\n      <td>NaN</td>\n      <td>NaN</td>\n      <td>Haas F1 Team</td>\n      <td>interlagos</td>\n      <td>0</td>\n      <td>21</td>\n      <td>0</td>\n      <td>Out of the Points</td>\n    </tr>\n    <tr>\n      <th>1909</th>\n      <td>2016</td>\n      <td>20</td>\n      <td>Felipe Massa</td>\n      <td>None</td>\n      <td>None</td>\n      <td>None</td>\n      <td>Collision</td>\n      <td>Collision</td>\n      <td>1:20.423</td>\n      <td>1:20.151</td>\n      <td>1:20.032</td>\n      <td>Williams</td>\n      <td>interlagos</td>\n      <td>51</td>\n      <td>11</td>\n      <td>0</td>\n      <td>Out of the Points</td>\n    </tr>\n    <tr>\n      <th>1910</th>\n      <td>2016</td>\n      <td>20</td>\n      <td>Kimi Räikkönen</td>\n      <td>None</td>\n      <td>None</td>\n      <td>None</td>\n      <td>Collision</td>\n      <td>Collision</td>\n      <td>1:19.554</td>\n      <td>1:19.936</td>\n      <td>1:19.376</td>\n      <td>Ferrari</td>\n      <td>interlagos</td>\n      <td>178</td>\n      <td>6</td>\n      <td>0</td>\n      <td>In the Points</td>\n    </tr>\n    <tr>\n      <th>1911</th>\n      <td>2016</td>\n      <td>20</td>\n      <td>Marcus Ericsson</td>\n      <td>None</td>\n      <td>None</td>\n      <td>None</td>\n      <td>Collision</td>\n      <td>Collision</td>\n      <td>1:21.062</td>\n      <td>1:21.536</td>\n      <td>NaN</td>\n      <td>Sauber</td>\n      <td>interlagos</td>\n      <td>0</td>\n      <td>22</td>\n      <td>0</td>\n      <td>Out of the Points</td>\n    </tr>\n    <tr>\n      <th>1912</th>\n      <td>2016</td>\n      <td>20</td>\n      <td>Romain Grosjean</td>\n      <td>None</td>\n      <td>None</td>\n      <td>None</td>\n      <td>Withdrew</td>\n      <td>Withdrew</td>\n      <td>1:21.916</td>\n      <td>NaN</td>\n      <td>NaN</td>\n      <td>Haas F1 Team</td>\n      <td>interlagos</td>\n      <td>29</td>\n      <td>13</td>\n      <td>0</td>\n      <td>Out of the Points</td>\n    </tr>\n  </tbody>\n</table>\n<p>1913 rows × 17 columns</p>\n</div>"
          },
          "metadata": {},
          "execution_count": 98
        }
      ],
      "source": [
        "df"
      ]
    },
    {
      "cell_type": "code",
      "execution_count": 100,
      "metadata": {},
      "outputs": [
        {
          "output_type": "execute_result",
          "data": {
            "text/plain": [
              "['models/modelPoints.sav']"
            ]
          },
          "metadata": {},
          "execution_count": 100
        }
      ],
      "source": [
        "# Pickling the model using joblib\n",
        "import joblib\n",
        "\n",
        "filename1 = \"models/modelPosition.sav\"\n",
        "filename2 = \"models/modelPoints.sav\"\n",
        "\n",
        "# Dumping both models \n",
        "joblib.dump(model, filename1)\n",
        "joblib.dump(model2, filename2)"
      ]
    },
    {
      "cell_type": "markdown",
      "metadata": {},
      "source": [
        "## Running into an issue with my predict function, this time around since the user input is a class of a dicttionary. It is having a hard time becoming a dataframe. This next few cells will be looking at how I'm going to convert this class into dictionary to convert into a dataframe. \n",
        "\n",
        "* Turns out Pydantic has a .dict() fucntion built into the class, trying to figure out how to correctly use it. \n",
        "\n",
        "## New bug found, when trying to run the second function, something goes wrong and the code doesn't think the dict is a dict. odd but I might have to change the user input possibly? "
      ]
    },
    {
      "cell_type": "code",
      "execution_count": 108,
      "metadata": {},
      "outputs": [],
      "source": [
        "# loading in the model\n",
        "bugfix = joblib.load(\"models/modelPoints.sav\")"
      ]
    },
    {
      "cell_type": "code",
      "execution_count": 109,
      "metadata": {},
      "outputs": [],
      "source": [
        "# Seems like no error pops up this time around, time to see how it would work with the test data. \n",
        "new_info = {\"Year\": 2021, \n",
        "            \"Round\": 3,\n",
        "            \"Driver\": \"Max Verstappen\",\n",
        "            \"Constructor\": \"Red Bull\",\n",
        "            \"FastestTime\": \"1:07.342\",\n",
        "            \"FastestLap\": \"66\",\n",
        "            \"FastestLapAvgSpeedKPH\": \"222\",\n",
        "            'status': \"Finished\",\n",
        "            'TimeBehind': \"1:20:05.154\",\n",
        "            \"Q1_Time\": \"1:04.432\",\n",
        "            \"Q2_Time\": \"1:04.432\",\n",
        "            \"Q3_Time\": \"1:04.432\",\n",
        "            \"Track\": \"imola\",\n",
        "            \"Points\": 0,\n",
        "            \"Wins\": 0}\n",
        "\n",
        "test_df = test_df.append(new_info, ignore_index=True)\n",
        "# Always make sure to encode my dataframe, \n",
        "# I can decode it after I'm done. \n",
        "test_df_e = encoder.fit_transform(test_df)"
      ]
    },
    {
      "cell_type": "code",
      "execution_count": 110,
      "metadata": {},
      "outputs": [
        {
          "output_type": "error",
          "ename": "ValueError",
          "evalue": "could not convert string to float: 'Max'",
          "traceback": [
            "\u001b[0;31m---------------------------------------------------------------------------\u001b[0m",
            "\u001b[0;31mValueError\u001b[0m                                Traceback (most recent call last)",
            "\u001b[0;32m<ipython-input-110-d40fed4529d5>\u001b[0m in \u001b[0;36m<module>\u001b[0;34m\u001b[0m\n\u001b[0;32m----> 1\u001b[0;31m \u001b[0mbugfix\u001b[0m\u001b[0;34m.\u001b[0m\u001b[0mpredict\u001b[0m\u001b[0;34m(\u001b[0m\u001b[0mtest_df_e\u001b[0m\u001b[0;34m)\u001b[0m\u001b[0;34m\u001b[0m\u001b[0;34m\u001b[0m\u001b[0m\n\u001b[0m",
            "\u001b[0;32m/opt/anaconda3/lib/python3.8/site-packages/sklearn/ensemble/_forest.py\u001b[0m in \u001b[0;36mpredict\u001b[0;34m(self, X)\u001b[0m\n\u001b[1;32m    627\u001b[0m             \u001b[0mThe\u001b[0m \u001b[0mpredicted\u001b[0m \u001b[0mclasses\u001b[0m\u001b[0;34m.\u001b[0m\u001b[0;34m\u001b[0m\u001b[0;34m\u001b[0m\u001b[0m\n\u001b[1;32m    628\u001b[0m         \"\"\"\n\u001b[0;32m--> 629\u001b[0;31m         \u001b[0mproba\u001b[0m \u001b[0;34m=\u001b[0m \u001b[0mself\u001b[0m\u001b[0;34m.\u001b[0m\u001b[0mpredict_proba\u001b[0m\u001b[0;34m(\u001b[0m\u001b[0mX\u001b[0m\u001b[0;34m)\u001b[0m\u001b[0;34m\u001b[0m\u001b[0;34m\u001b[0m\u001b[0m\n\u001b[0m\u001b[1;32m    630\u001b[0m \u001b[0;34m\u001b[0m\u001b[0m\n\u001b[1;32m    631\u001b[0m         \u001b[0;32mif\u001b[0m \u001b[0mself\u001b[0m\u001b[0;34m.\u001b[0m\u001b[0mn_outputs_\u001b[0m \u001b[0;34m==\u001b[0m \u001b[0;36m1\u001b[0m\u001b[0;34m:\u001b[0m\u001b[0;34m\u001b[0m\u001b[0;34m\u001b[0m\u001b[0m\n",
            "\u001b[0;32m/opt/anaconda3/lib/python3.8/site-packages/sklearn/ensemble/_forest.py\u001b[0m in \u001b[0;36mpredict_proba\u001b[0;34m(self, X)\u001b[0m\n\u001b[1;32m    671\u001b[0m         \u001b[0mcheck_is_fitted\u001b[0m\u001b[0;34m(\u001b[0m\u001b[0mself\u001b[0m\u001b[0;34m)\u001b[0m\u001b[0;34m\u001b[0m\u001b[0;34m\u001b[0m\u001b[0m\n\u001b[1;32m    672\u001b[0m         \u001b[0;31m# Check data\u001b[0m\u001b[0;34m\u001b[0m\u001b[0;34m\u001b[0m\u001b[0;34m\u001b[0m\u001b[0m\n\u001b[0;32m--> 673\u001b[0;31m         \u001b[0mX\u001b[0m \u001b[0;34m=\u001b[0m \u001b[0mself\u001b[0m\u001b[0;34m.\u001b[0m\u001b[0m_validate_X_predict\u001b[0m\u001b[0;34m(\u001b[0m\u001b[0mX\u001b[0m\u001b[0;34m)\u001b[0m\u001b[0;34m\u001b[0m\u001b[0;34m\u001b[0m\u001b[0m\n\u001b[0m\u001b[1;32m    674\u001b[0m \u001b[0;34m\u001b[0m\u001b[0m\n\u001b[1;32m    675\u001b[0m         \u001b[0;31m# Assign chunk of trees to jobs\u001b[0m\u001b[0;34m\u001b[0m\u001b[0;34m\u001b[0m\u001b[0;34m\u001b[0m\u001b[0m\n",
            "\u001b[0;32m/opt/anaconda3/lib/python3.8/site-packages/sklearn/ensemble/_forest.py\u001b[0m in \u001b[0;36m_validate_X_predict\u001b[0;34m(self, X)\u001b[0m\n\u001b[1;32m    419\u001b[0m         \u001b[0mcheck_is_fitted\u001b[0m\u001b[0;34m(\u001b[0m\u001b[0mself\u001b[0m\u001b[0;34m)\u001b[0m\u001b[0;34m\u001b[0m\u001b[0;34m\u001b[0m\u001b[0m\n\u001b[1;32m    420\u001b[0m \u001b[0;34m\u001b[0m\u001b[0m\n\u001b[0;32m--> 421\u001b[0;31m         \u001b[0;32mreturn\u001b[0m \u001b[0mself\u001b[0m\u001b[0;34m.\u001b[0m\u001b[0mestimators_\u001b[0m\u001b[0;34m[\u001b[0m\u001b[0;36m0\u001b[0m\u001b[0;34m]\u001b[0m\u001b[0;34m.\u001b[0m\u001b[0m_validate_X_predict\u001b[0m\u001b[0;34m(\u001b[0m\u001b[0mX\u001b[0m\u001b[0;34m,\u001b[0m \u001b[0mcheck_input\u001b[0m\u001b[0;34m=\u001b[0m\u001b[0;32mTrue\u001b[0m\u001b[0;34m)\u001b[0m\u001b[0;34m\u001b[0m\u001b[0;34m\u001b[0m\u001b[0m\n\u001b[0m\u001b[1;32m    422\u001b[0m \u001b[0;34m\u001b[0m\u001b[0m\n\u001b[1;32m    423\u001b[0m     \u001b[0;34m@\u001b[0m\u001b[0mproperty\u001b[0m\u001b[0;34m\u001b[0m\u001b[0;34m\u001b[0m\u001b[0m\n",
            "\u001b[0;32m/opt/anaconda3/lib/python3.8/site-packages/sklearn/tree/_classes.py\u001b[0m in \u001b[0;36m_validate_X_predict\u001b[0;34m(self, X, check_input)\u001b[0m\n\u001b[1;32m    386\u001b[0m         \u001b[0;34m\"\"\"Validate X whenever one tries to predict, apply, predict_proba\"\"\"\u001b[0m\u001b[0;34m\u001b[0m\u001b[0;34m\u001b[0m\u001b[0m\n\u001b[1;32m    387\u001b[0m         \u001b[0;32mif\u001b[0m \u001b[0mcheck_input\u001b[0m\u001b[0;34m:\u001b[0m\u001b[0;34m\u001b[0m\u001b[0;34m\u001b[0m\u001b[0m\n\u001b[0;32m--> 388\u001b[0;31m             \u001b[0mX\u001b[0m \u001b[0;34m=\u001b[0m \u001b[0mcheck_array\u001b[0m\u001b[0;34m(\u001b[0m\u001b[0mX\u001b[0m\u001b[0;34m,\u001b[0m \u001b[0mdtype\u001b[0m\u001b[0;34m=\u001b[0m\u001b[0mDTYPE\u001b[0m\u001b[0;34m,\u001b[0m \u001b[0maccept_sparse\u001b[0m\u001b[0;34m=\u001b[0m\u001b[0;34m\"csr\"\u001b[0m\u001b[0;34m)\u001b[0m\u001b[0;34m\u001b[0m\u001b[0;34m\u001b[0m\u001b[0m\n\u001b[0m\u001b[1;32m    389\u001b[0m             if issparse(X) and (X.indices.dtype != np.intc or\n\u001b[1;32m    390\u001b[0m                                 X.indptr.dtype != np.intc):\n",
            "\u001b[0;32m/opt/anaconda3/lib/python3.8/site-packages/sklearn/utils/validation.py\u001b[0m in \u001b[0;36minner_f\u001b[0;34m(*args, **kwargs)\u001b[0m\n\u001b[1;32m     71\u001b[0m                           FutureWarning)\n\u001b[1;32m     72\u001b[0m         \u001b[0mkwargs\u001b[0m\u001b[0;34m.\u001b[0m\u001b[0mupdate\u001b[0m\u001b[0;34m(\u001b[0m\u001b[0;34m{\u001b[0m\u001b[0mk\u001b[0m\u001b[0;34m:\u001b[0m \u001b[0marg\u001b[0m \u001b[0;32mfor\u001b[0m \u001b[0mk\u001b[0m\u001b[0;34m,\u001b[0m \u001b[0marg\u001b[0m \u001b[0;32min\u001b[0m \u001b[0mzip\u001b[0m\u001b[0;34m(\u001b[0m\u001b[0msig\u001b[0m\u001b[0;34m.\u001b[0m\u001b[0mparameters\u001b[0m\u001b[0;34m,\u001b[0m \u001b[0margs\u001b[0m\u001b[0;34m)\u001b[0m\u001b[0;34m}\u001b[0m\u001b[0;34m)\u001b[0m\u001b[0;34m\u001b[0m\u001b[0;34m\u001b[0m\u001b[0m\n\u001b[0;32m---> 73\u001b[0;31m         \u001b[0;32mreturn\u001b[0m \u001b[0mf\u001b[0m\u001b[0;34m(\u001b[0m\u001b[0;34m**\u001b[0m\u001b[0mkwargs\u001b[0m\u001b[0;34m)\u001b[0m\u001b[0;34m\u001b[0m\u001b[0;34m\u001b[0m\u001b[0m\n\u001b[0m\u001b[1;32m     74\u001b[0m     \u001b[0;32mreturn\u001b[0m \u001b[0minner_f\u001b[0m\u001b[0;34m\u001b[0m\u001b[0;34m\u001b[0m\u001b[0m\n\u001b[1;32m     75\u001b[0m \u001b[0;34m\u001b[0m\u001b[0m\n",
            "\u001b[0;32m/opt/anaconda3/lib/python3.8/site-packages/sklearn/utils/validation.py\u001b[0m in \u001b[0;36mcheck_array\u001b[0;34m(array, accept_sparse, accept_large_sparse, dtype, order, copy, force_all_finite, ensure_2d, allow_nd, ensure_min_samples, ensure_min_features, estimator)\u001b[0m\n\u001b[1;32m    597\u001b[0m                     \u001b[0marray\u001b[0m \u001b[0;34m=\u001b[0m \u001b[0marray\u001b[0m\u001b[0;34m.\u001b[0m\u001b[0mastype\u001b[0m\u001b[0;34m(\u001b[0m\u001b[0mdtype\u001b[0m\u001b[0;34m,\u001b[0m \u001b[0mcasting\u001b[0m\u001b[0;34m=\u001b[0m\u001b[0;34m\"unsafe\"\u001b[0m\u001b[0;34m,\u001b[0m \u001b[0mcopy\u001b[0m\u001b[0;34m=\u001b[0m\u001b[0;32mFalse\u001b[0m\u001b[0;34m)\u001b[0m\u001b[0;34m\u001b[0m\u001b[0;34m\u001b[0m\u001b[0m\n\u001b[1;32m    598\u001b[0m                 \u001b[0;32melse\u001b[0m\u001b[0;34m:\u001b[0m\u001b[0;34m\u001b[0m\u001b[0;34m\u001b[0m\u001b[0m\n\u001b[0;32m--> 599\u001b[0;31m                     \u001b[0marray\u001b[0m \u001b[0;34m=\u001b[0m \u001b[0mnp\u001b[0m\u001b[0;34m.\u001b[0m\u001b[0masarray\u001b[0m\u001b[0;34m(\u001b[0m\u001b[0marray\u001b[0m\u001b[0;34m,\u001b[0m \u001b[0morder\u001b[0m\u001b[0;34m=\u001b[0m\u001b[0morder\u001b[0m\u001b[0;34m,\u001b[0m \u001b[0mdtype\u001b[0m\u001b[0;34m=\u001b[0m\u001b[0mdtype\u001b[0m\u001b[0;34m)\u001b[0m\u001b[0;34m\u001b[0m\u001b[0;34m\u001b[0m\u001b[0m\n\u001b[0m\u001b[1;32m    600\u001b[0m             \u001b[0;32mexcept\u001b[0m \u001b[0mComplexWarning\u001b[0m\u001b[0;34m:\u001b[0m\u001b[0;34m\u001b[0m\u001b[0;34m\u001b[0m\u001b[0m\n\u001b[1;32m    601\u001b[0m                 raise ValueError(\"Complex data not supported\\n\"\n",
            "\u001b[0;32m/opt/anaconda3/lib/python3.8/site-packages/numpy/core/_asarray.py\u001b[0m in \u001b[0;36masarray\u001b[0;34m(a, dtype, order)\u001b[0m\n\u001b[1;32m     83\u001b[0m \u001b[0;34m\u001b[0m\u001b[0m\n\u001b[1;32m     84\u001b[0m     \"\"\"\n\u001b[0;32m---> 85\u001b[0;31m     \u001b[0;32mreturn\u001b[0m \u001b[0marray\u001b[0m\u001b[0;34m(\u001b[0m\u001b[0ma\u001b[0m\u001b[0;34m,\u001b[0m \u001b[0mdtype\u001b[0m\u001b[0;34m,\u001b[0m \u001b[0mcopy\u001b[0m\u001b[0;34m=\u001b[0m\u001b[0;32mFalse\u001b[0m\u001b[0;34m,\u001b[0m \u001b[0morder\u001b[0m\u001b[0;34m=\u001b[0m\u001b[0morder\u001b[0m\u001b[0;34m)\u001b[0m\u001b[0;34m\u001b[0m\u001b[0;34m\u001b[0m\u001b[0m\n\u001b[0m\u001b[1;32m     86\u001b[0m \u001b[0;34m\u001b[0m\u001b[0m\n\u001b[1;32m     87\u001b[0m \u001b[0;34m\u001b[0m\u001b[0m\n",
            "\u001b[0;31mValueError\u001b[0m: could not convert string to float: 'Max'"
          ]
        }
      ],
      "source": [
        "bugfix.predict(test_df_e)"
      ]
    },
    {
      "cell_type": "code",
      "execution_count": 111,
      "metadata": {},
      "outputs": [
        {
          "output_type": "execute_result",
          "data": {
            "text/plain": [
              "     Year  Round            Driver FastestLap FastestTime  \\\n",
              "0    2017      7    Lewis Hamilton         64    1:14.551   \n",
              "1    2020      6    Kimi Räikkönen        NaN         NaN   \n",
              "2    2016     17      Esteban Ocon        NaN         NaN   \n",
              "3    2016     12      Nico Rosberg         51    1:19.122   \n",
              "4    2019      6    Max Verstappen          9    1:16.229   \n",
              "..    ...    ...               ...        ...         ...   \n",
              "478  2016     12  Daniel Ricciardo         48    1:18.442   \n",
              "479  2021      3               NaN         66    1:07.342   \n",
              "480  2021      3    Max Verstappen         66    1:07.342   \n",
              "481  2021      3    Max Verstappen         66    1:07.342   \n",
              "482  2021      3    Max Verstappen         66    1:07.342   \n",
              "\n",
              "    FastestLapAvgSpeedKPH    status   TimeBehind   Q1_Time   Q2_Time  \\\n",
              "0                 210.588  Finished  1:33:05.154  1:13.640  1:14.106   \n",
              "1                     NaN    +1 Lap       +1 Lap  1:28.493       NaN   \n",
              "2                     NaN    +1 Lap       +1 Lap  1:36.451       NaN   \n",
              "3                 208.114  Finished      +15.845  1:33.302  1:22.806   \n",
              "4                 157.593  Finished       +5.537  1:17.244  1:16.726   \n",
              "..                    ...       ...          ...       ...       ...   \n",
              "478               209.918  Finished       +6.996  1:39.968  1:23.234   \n",
              "479                   222  Finished  1:20:05.154  1:04.432  1:04.432   \n",
              "480                   222  Finished  1:20:05.154  1:04.432  1:04.432   \n",
              "481                   222  Finished  1:20:05.154  1:04.432  1:04.432   \n",
              "482                   222  Finished  1:20:05.154  1:04.432  1:04.432   \n",
              "\n",
              "      Q3_Time     Constructor           Track Points Wins First_Name  \\\n",
              "0         NaN        Mercedes      villeneuve    129    3        NaN   \n",
              "1         NaN      Alfa Romeo       catalunya      0    0        NaN   \n",
              "2         NaN  Manor Marussia          suzuka      0    0        NaN   \n",
              "3    1:19.965        Mercedes  hockenheimring    198    5        NaN   \n",
              "4    1:16.357        Red Bull          monaco     78    0        NaN   \n",
              "..        ...             ...             ...    ...  ...        ...   \n",
              "478  1:20.280        Red Bull  hockenheimring    133    0        NaN   \n",
              "479  1:04.432        Red Bull           imola      0    0        Max   \n",
              "480  1:04.432        Red Bull           imola      0    0        NaN   \n",
              "481  1:04.432        Red Bull           imola      0    0        NaN   \n",
              "482  1:04.432        Red Bull           imola      0    0        NaN   \n",
              "\n",
              "      Last_Name  \n",
              "0           NaN  \n",
              "1           NaN  \n",
              "2           NaN  \n",
              "3           NaN  \n",
              "4           NaN  \n",
              "..          ...  \n",
              "478         NaN  \n",
              "479  Verstappen  \n",
              "480         NaN  \n",
              "481         NaN  \n",
              "482         NaN  \n",
              "\n",
              "[483 rows x 17 columns]"
            ],
            "text/html": "<div>\n<style scoped>\n    .dataframe tbody tr th:only-of-type {\n        vertical-align: middle;\n    }\n\n    .dataframe tbody tr th {\n        vertical-align: top;\n    }\n\n    .dataframe thead th {\n        text-align: right;\n    }\n</style>\n<table border=\"1\" class=\"dataframe\">\n  <thead>\n    <tr style=\"text-align: right;\">\n      <th></th>\n      <th>Year</th>\n      <th>Round</th>\n      <th>Driver</th>\n      <th>FastestLap</th>\n      <th>FastestTime</th>\n      <th>FastestLapAvgSpeedKPH</th>\n      <th>status</th>\n      <th>TimeBehind</th>\n      <th>Q1_Time</th>\n      <th>Q2_Time</th>\n      <th>Q3_Time</th>\n      <th>Constructor</th>\n      <th>Track</th>\n      <th>Points</th>\n      <th>Wins</th>\n      <th>First_Name</th>\n      <th>Last_Name</th>\n    </tr>\n  </thead>\n  <tbody>\n    <tr>\n      <th>0</th>\n      <td>2017</td>\n      <td>7</td>\n      <td>Lewis Hamilton</td>\n      <td>64</td>\n      <td>1:14.551</td>\n      <td>210.588</td>\n      <td>Finished</td>\n      <td>1:33:05.154</td>\n      <td>1:13.640</td>\n      <td>1:14.106</td>\n      <td>NaN</td>\n      <td>Mercedes</td>\n      <td>villeneuve</td>\n      <td>129</td>\n      <td>3</td>\n      <td>NaN</td>\n      <td>NaN</td>\n    </tr>\n    <tr>\n      <th>1</th>\n      <td>2020</td>\n      <td>6</td>\n      <td>Kimi Räikkönen</td>\n      <td>NaN</td>\n      <td>NaN</td>\n      <td>NaN</td>\n      <td>+1 Lap</td>\n      <td>+1 Lap</td>\n      <td>1:28.493</td>\n      <td>NaN</td>\n      <td>NaN</td>\n      <td>Alfa Romeo</td>\n      <td>catalunya</td>\n      <td>0</td>\n      <td>0</td>\n      <td>NaN</td>\n      <td>NaN</td>\n    </tr>\n    <tr>\n      <th>2</th>\n      <td>2016</td>\n      <td>17</td>\n      <td>Esteban Ocon</td>\n      <td>NaN</td>\n      <td>NaN</td>\n      <td>NaN</td>\n      <td>+1 Lap</td>\n      <td>+1 Lap</td>\n      <td>1:36.451</td>\n      <td>NaN</td>\n      <td>NaN</td>\n      <td>Manor Marussia</td>\n      <td>suzuka</td>\n      <td>0</td>\n      <td>0</td>\n      <td>NaN</td>\n      <td>NaN</td>\n    </tr>\n    <tr>\n      <th>3</th>\n      <td>2016</td>\n      <td>12</td>\n      <td>Nico Rosberg</td>\n      <td>51</td>\n      <td>1:19.122</td>\n      <td>208.114</td>\n      <td>Finished</td>\n      <td>+15.845</td>\n      <td>1:33.302</td>\n      <td>1:22.806</td>\n      <td>1:19.965</td>\n      <td>Mercedes</td>\n      <td>hockenheimring</td>\n      <td>198</td>\n      <td>5</td>\n      <td>NaN</td>\n      <td>NaN</td>\n    </tr>\n    <tr>\n      <th>4</th>\n      <td>2019</td>\n      <td>6</td>\n      <td>Max Verstappen</td>\n      <td>9</td>\n      <td>1:16.229</td>\n      <td>157.593</td>\n      <td>Finished</td>\n      <td>+5.537</td>\n      <td>1:17.244</td>\n      <td>1:16.726</td>\n      <td>1:16.357</td>\n      <td>Red Bull</td>\n      <td>monaco</td>\n      <td>78</td>\n      <td>0</td>\n      <td>NaN</td>\n      <td>NaN</td>\n    </tr>\n    <tr>\n      <th>...</th>\n      <td>...</td>\n      <td>...</td>\n      <td>...</td>\n      <td>...</td>\n      <td>...</td>\n      <td>...</td>\n      <td>...</td>\n      <td>...</td>\n      <td>...</td>\n      <td>...</td>\n      <td>...</td>\n      <td>...</td>\n      <td>...</td>\n      <td>...</td>\n      <td>...</td>\n      <td>...</td>\n      <td>...</td>\n    </tr>\n    <tr>\n      <th>478</th>\n      <td>2016</td>\n      <td>12</td>\n      <td>Daniel Ricciardo</td>\n      <td>48</td>\n      <td>1:18.442</td>\n      <td>209.918</td>\n      <td>Finished</td>\n      <td>+6.996</td>\n      <td>1:39.968</td>\n      <td>1:23.234</td>\n      <td>1:20.280</td>\n      <td>Red Bull</td>\n      <td>hockenheimring</td>\n      <td>133</td>\n      <td>0</td>\n      <td>NaN</td>\n      <td>NaN</td>\n    </tr>\n    <tr>\n      <th>479</th>\n      <td>2021</td>\n      <td>3</td>\n      <td>NaN</td>\n      <td>66</td>\n      <td>1:07.342</td>\n      <td>222</td>\n      <td>Finished</td>\n      <td>1:20:05.154</td>\n      <td>1:04.432</td>\n      <td>1:04.432</td>\n      <td>1:04.432</td>\n      <td>Red Bull</td>\n      <td>imola</td>\n      <td>0</td>\n      <td>0</td>\n      <td>Max</td>\n      <td>Verstappen</td>\n    </tr>\n    <tr>\n      <th>480</th>\n      <td>2021</td>\n      <td>3</td>\n      <td>Max Verstappen</td>\n      <td>66</td>\n      <td>1:07.342</td>\n      <td>222</td>\n      <td>Finished</td>\n      <td>1:20:05.154</td>\n      <td>1:04.432</td>\n      <td>1:04.432</td>\n      <td>1:04.432</td>\n      <td>Red Bull</td>\n      <td>imola</td>\n      <td>0</td>\n      <td>0</td>\n      <td>NaN</td>\n      <td>NaN</td>\n    </tr>\n    <tr>\n      <th>481</th>\n      <td>2021</td>\n      <td>3</td>\n      <td>Max Verstappen</td>\n      <td>66</td>\n      <td>1:07.342</td>\n      <td>222</td>\n      <td>Finished</td>\n      <td>1:20:05.154</td>\n      <td>1:04.432</td>\n      <td>1:04.432</td>\n      <td>1:04.432</td>\n      <td>Red Bull</td>\n      <td>imola</td>\n      <td>0</td>\n      <td>0</td>\n      <td>NaN</td>\n      <td>NaN</td>\n    </tr>\n    <tr>\n      <th>482</th>\n      <td>2021</td>\n      <td>3</td>\n      <td>Max Verstappen</td>\n      <td>66</td>\n      <td>1:07.342</td>\n      <td>222</td>\n      <td>Finished</td>\n      <td>1:20:05.154</td>\n      <td>1:04.432</td>\n      <td>1:04.432</td>\n      <td>1:04.432</td>\n      <td>Red Bull</td>\n      <td>imola</td>\n      <td>0</td>\n      <td>0</td>\n      <td>NaN</td>\n      <td>NaN</td>\n    </tr>\n  </tbody>\n</table>\n<p>483 rows × 17 columns</p>\n</div>"
          },
          "metadata": {},
          "execution_count": 111
        }
      ],
      "source": [
        "# Looks like it manages to predict it just fine, must be something with the API. Going to have to make a new router possibly! \n",
        "test_df"
      ]
    },
    {
      "cell_type": "code",
      "execution_count": null,
      "metadata": {},
      "outputs": [],
      "source": []
    }
  ]
}