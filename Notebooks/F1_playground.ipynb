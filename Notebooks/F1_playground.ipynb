{
  "nbformat": 4,
  "nbformat_minor": 0,
  "metadata": {
    "colab": {
      "name": "F1 playground.ipynb",
      "provenance": [],
      "collapsed_sections": []
    },
    "kernelspec": {
      "name": "python3",
      "display_name": "Python 3"
    }
  },
  "cells": [
    {
      "cell_type": "code",
      "metadata": {
        "colab": {
          "base_uri": "https://localhost:8080/"
        },
        "id": "7h3xqV2DWPVQ",
        "outputId": "55300fd6-7be5-444c-97e2-a31b7826978a"
      },
      "source": [
        "# My goal today is extremely simple. Make a function that returns the history of a Formula One Driver. \r\n",
        "import requests\r\n",
        "driver = 'hamilton'\r\n",
        "\r\n",
        "def DriverHistory(driverid1):\r\n",
        "  \r\n",
        "  url = \"http://ergast.com/api/f1/drivers/{driverid}\"\r\n",
        "  url = url.format(driverid = driverid1)\r\n",
        "\r\n",
        "  payload = {}\r\n",
        "  headers = {}\r\n",
        "\r\n",
        "  response = requests.request(\"GET\", url, headers=headers, data=payload)\r\n",
        "  return response.text.encode('utf8')\r\n",
        "\r\n",
        "xml = DriverHistory(driver)\r\n",
        "print(xml)"
      ],
      "execution_count": null,
      "outputs": [
        {
          "output_type": "stream",
          "text": [
            "b'<?xml version=\"1.0\" encoding=\"utf-8\"?>\\n<?xml-stylesheet type=\"text/xsl\" href=\"/schemas/mrd-1.4.xsl\"?>\\n<MRData xmlns=\"http://ergast.com/mrd/1.4\" series=\"f1\" url=\"http://ergast.com/api/f1/drivers/hamilton\" limit=\"30\" offset=\"0\" total=\"1\">\\n\\t<DriverTable driverId=\"hamilton\">\\n\\t\\t<Driver driverId=\"hamilton\" code=\"HAM\" url=\"http://en.wikipedia.org/wiki/Lewis_Hamilton\">\\n\\t\\t\\t<PermanentNumber>44</PermanentNumber>\\n\\t\\t\\t<GivenName>Lewis</GivenName>\\n\\t\\t\\t<FamilyName>Hamilton</FamilyName>\\n\\t\\t\\t<DateOfBirth>1985-01-07</DateOfBirth>\\n\\t\\t\\t<Nationality>British</Nationality>\\n\\t\\t</Driver>\\n\\t</DriverTable>\\n</MRData>\\n'\n"
          ],
          "name": "stdout"
        }
      ]
    },
    {
      "cell_type": "code",
      "metadata": {
        "id": "YsBHHIxmBIEG"
      },
      "source": [
        "def DriverHistoryAll(year1):\r\n",
        "\r\n",
        "  '''\r\n",
        "      Grabbing the the list of drivers who participated in a F1 season \r\n",
        "      within a certain year.\r\n",
        "  '''\r\n",
        "  url = \"http://ergast.com/api/f1/{year}/drivers\"\r\n",
        "  url = url.format(year = year1)\r\n",
        "  payload = {}\r\n",
        "  headers = {}\r\n",
        "\r\n",
        "  response = requests.request(\"GET\", url, headers=headers, data=payload)\r\n",
        "  return response.text.encode('utf8')"
      ],
      "execution_count": null,
      "outputs": []
    },
    {
      "cell_type": "code",
      "metadata": {
        "colab": {
          "base_uri": "https://localhost:8080/"
        },
        "id": "nhaFvVsYB_dc",
        "outputId": "1844e601-9f98-431e-dc5d-0e4287eb8380"
      },
      "source": [
        "newxml = DriverHistoryAll('2020')\r\n",
        "print(newxml)"
      ],
      "execution_count": null,
      "outputs": [
        {
          "output_type": "stream",
          "text": [
            "b'<?xml version=\"1.0\" encoding=\"utf-8\"?>\\n<?xml-stylesheet type=\"text/xsl\" href=\"/schemas/mrd-1.4.xsl\"?>\\n<MRData xmlns=\"http://ergast.com/mrd/1.4\" series=\"f1\" url=\"http://ergast.com/api/f1/2020/drivers\" limit=\"30\" offset=\"0\" total=\"23\">\\n\\t<DriverTable season=\"2020\">\\n\\t\\t<Driver driverId=\"aitken\" code=\"AIT\" url=\"http://en.wikipedia.org/wiki/Jack_Aitken\">\\n\\t\\t\\t<PermanentNumber>89</PermanentNumber>\\n\\t\\t\\t<GivenName>Jack</GivenName>\\n\\t\\t\\t<FamilyName>Aitken</FamilyName>\\n\\t\\t\\t<DateOfBirth>1995-09-23</DateOfBirth>\\n\\t\\t\\t<Nationality>British</Nationality>\\n\\t\\t</Driver>\\n\\t\\t<Driver driverId=\"albon\" code=\"ALB\" url=\"http://en.wikipedia.org/wiki/Alexander_Albon\">\\n\\t\\t\\t<PermanentNumber>23</PermanentNumber>\\n\\t\\t\\t<GivenName>Alexander</GivenName>\\n\\t\\t\\t<FamilyName>Albon</FamilyName>\\n\\t\\t\\t<DateOfBirth>1996-03-23</DateOfBirth>\\n\\t\\t\\t<Nationality>Thai</Nationality>\\n\\t\\t</Driver>\\n\\t\\t<Driver driverId=\"bottas\" code=\"BOT\" url=\"http://en.wikipedia.org/wiki/Valtteri_Bottas\">\\n\\t\\t\\t<PermanentNumber>77</PermanentNumber>\\n\\t\\t\\t<GivenName>Valtteri</GivenName>\\n\\t\\t\\t<FamilyName>Bottas</FamilyName>\\n\\t\\t\\t<DateOfBirth>1989-08-28</DateOfBirth>\\n\\t\\t\\t<Nationality>Finnish</Nationality>\\n\\t\\t</Driver>\\n\\t\\t<Driver driverId=\"pietro_fittipaldi\" code=\"FIT\" url=\"http://en.wikipedia.org/wiki/Pietro_Fittipaldi\">\\n\\t\\t\\t<PermanentNumber>51</PermanentNumber>\\n\\t\\t\\t<GivenName>Pietro</GivenName>\\n\\t\\t\\t<FamilyName>Fittipaldi</FamilyName>\\n\\t\\t\\t<DateOfBirth>1996-06-25</DateOfBirth>\\n\\t\\t\\t<Nationality>Brazilian</Nationality>\\n\\t\\t</Driver>\\n\\t\\t<Driver driverId=\"gasly\" code=\"GAS\" url=\"http://en.wikipedia.org/wiki/Pierre_Gasly\">\\n\\t\\t\\t<PermanentNumber>10</PermanentNumber>\\n\\t\\t\\t<GivenName>Pierre</GivenName>\\n\\t\\t\\t<FamilyName>Gasly</FamilyName>\\n\\t\\t\\t<DateOfBirth>1996-02-07</DateOfBirth>\\n\\t\\t\\t<Nationality>French</Nationality>\\n\\t\\t</Driver>\\n\\t\\t<Driver driverId=\"giovinazzi\" code=\"GIO\" url=\"http://en.wikipedia.org/wiki/Antonio_Giovinazzi\">\\n\\t\\t\\t<PermanentNumber>99</PermanentNumber>\\n\\t\\t\\t<GivenName>Antonio</GivenName>\\n\\t\\t\\t<FamilyName>Giovinazzi</FamilyName>\\n\\t\\t\\t<DateOfBirth>1993-12-14</DateOfBirth>\\n\\t\\t\\t<Nationality>Italian</Nationality>\\n\\t\\t</Driver>\\n\\t\\t<Driver driverId=\"grosjean\" code=\"GRO\" url=\"http://en.wikipedia.org/wiki/Romain_Grosjean\">\\n\\t\\t\\t<PermanentNumber>8</PermanentNumber>\\n\\t\\t\\t<GivenName>Romain</GivenName>\\n\\t\\t\\t<FamilyName>Grosjean</FamilyName>\\n\\t\\t\\t<DateOfBirth>1986-04-17</DateOfBirth>\\n\\t\\t\\t<Nationality>French</Nationality>\\n\\t\\t</Driver>\\n\\t\\t<Driver driverId=\"hamilton\" code=\"HAM\" url=\"http://en.wikipedia.org/wiki/Lewis_Hamilton\">\\n\\t\\t\\t<PermanentNumber>44</PermanentNumber>\\n\\t\\t\\t<GivenName>Lewis</GivenName>\\n\\t\\t\\t<FamilyName>Hamilton</FamilyName>\\n\\t\\t\\t<DateOfBirth>1985-01-07</DateOfBirth>\\n\\t\\t\\t<Nationality>British</Nationality>\\n\\t\\t</Driver>\\n\\t\\t<Driver driverId=\"hulkenberg\" code=\"HUL\" url=\"http://en.wikipedia.org/wiki/Nico_H%C3%BClkenberg\">\\n\\t\\t\\t<PermanentNumber>27</PermanentNumber>\\n\\t\\t\\t<GivenName>Nico</GivenName>\\n\\t\\t\\t<FamilyName>H\\xc3\\xbclkenberg</FamilyName>\\n\\t\\t\\t<DateOfBirth>1987-08-19</DateOfBirth>\\n\\t\\t\\t<Nationality>German</Nationality>\\n\\t\\t</Driver>\\n\\t\\t<Driver driverId=\"kvyat\" code=\"KVY\" url=\"http://en.wikipedia.org/wiki/Daniil_Kvyat\">\\n\\t\\t\\t<PermanentNumber>26</PermanentNumber>\\n\\t\\t\\t<GivenName>Daniil</GivenName>\\n\\t\\t\\t<FamilyName>Kvyat</FamilyName>\\n\\t\\t\\t<DateOfBirth>1994-04-26</DateOfBirth>\\n\\t\\t\\t<Nationality>Russian</Nationality>\\n\\t\\t</Driver>\\n\\t\\t<Driver driverId=\"latifi\" code=\"LAT\" url=\"http://en.wikipedia.org/wiki/Nicholas_Latifi\">\\n\\t\\t\\t<PermanentNumber>6</PermanentNumber>\\n\\t\\t\\t<GivenName>Nicholas</GivenName>\\n\\t\\t\\t<FamilyName>Latifi</FamilyName>\\n\\t\\t\\t<DateOfBirth>1995-06-29</DateOfBirth>\\n\\t\\t\\t<Nationality>Canadian</Nationality>\\n\\t\\t</Driver>\\n\\t\\t<Driver driverId=\"leclerc\" code=\"LEC\" url=\"http://en.wikipedia.org/wiki/Charles_Leclerc\">\\n\\t\\t\\t<PermanentNumber>16</PermanentNumber>\\n\\t\\t\\t<GivenName>Charles</GivenName>\\n\\t\\t\\t<FamilyName>Leclerc</FamilyName>\\n\\t\\t\\t<DateOfBirth>1997-10-16</DateOfBirth>\\n\\t\\t\\t<Nationality>Monegasque</Nationality>\\n\\t\\t</Driver>\\n\\t\\t<Driver driverId=\"kevin_magnussen\" code=\"MAG\" url=\"http://en.wikipedia.org/wiki/Kevin_Magnussen\">\\n\\t\\t\\t<PermanentNumber>20</PermanentNumber>\\n\\t\\t\\t<GivenName>Kevin</GivenName>\\n\\t\\t\\t<FamilyName>Magnussen</FamilyName>\\n\\t\\t\\t<DateOfBirth>1992-10-05</DateOfBirth>\\n\\t\\t\\t<Nationality>Danish</Nationality>\\n\\t\\t</Driver>\\n\\t\\t<Driver driverId=\"norris\" code=\"NOR\" url=\"http://en.wikipedia.org/wiki/Lando_Norris\">\\n\\t\\t\\t<PermanentNumber>4</PermanentNumber>\\n\\t\\t\\t<GivenName>Lando</GivenName>\\n\\t\\t\\t<FamilyName>Norris</FamilyName>\\n\\t\\t\\t<DateOfBirth>1999-11-13</DateOfBirth>\\n\\t\\t\\t<Nationality>British</Nationality>\\n\\t\\t</Driver>\\n\\t\\t<Driver driverId=\"ocon\" code=\"OCO\" url=\"http://en.wikipedia.org/wiki/Esteban_Ocon\">\\n\\t\\t\\t<PermanentNumber>31</PermanentNumber>\\n\\t\\t\\t<GivenName>Esteban</GivenName>\\n\\t\\t\\t<FamilyName>Ocon</FamilyName>\\n\\t\\t\\t<DateOfBirth>1996-09-17</DateOfBirth>\\n\\t\\t\\t<Nationality>French</Nationality>\\n\\t\\t</Driver>\\n\\t\\t<Driver driverId=\"perez\" code=\"PER\" url=\"http://en.wikipedia.org/wiki/Sergio_P%C3%A9rez\">\\n\\t\\t\\t<PermanentNumber>11</PermanentNumber>\\n\\t\\t\\t<GivenName>Sergio</GivenName>\\n\\t\\t\\t<FamilyName>P\\xc3\\xa9rez</FamilyName>\\n\\t\\t\\t<DateOfBirth>1990-01-26</DateOfBirth>\\n\\t\\t\\t<Nationality>Mexican</Nationality>\\n\\t\\t</Driver>\\n\\t\\t<Driver driverId=\"raikkonen\" code=\"RAI\" url=\"http://en.wikipedia.org/wiki/Kimi_R%C3%A4ikk%C3%B6nen\">\\n\\t\\t\\t<PermanentNumber>7</PermanentNumber>\\n\\t\\t\\t<GivenName>Kimi</GivenName>\\n\\t\\t\\t<FamilyName>R\\xc3\\xa4ikk\\xc3\\xb6nen</FamilyName>\\n\\t\\t\\t<DateOfBirth>1979-10-17</DateOfBirth>\\n\\t\\t\\t<Nationality>Finnish</Nationality>\\n\\t\\t</Driver>\\n\\t\\t<Driver driverId=\"ricciardo\" code=\"RIC\" url=\"http://en.wikipedia.org/wiki/Daniel_Ricciardo\">\\n\\t\\t\\t<PermanentNumber>3</PermanentNumber>\\n\\t\\t\\t<GivenName>Daniel</GivenName>\\n\\t\\t\\t<FamilyName>Ricciardo</FamilyName>\\n\\t\\t\\t<DateOfBirth>1989-07-01</DateOfBirth>\\n\\t\\t\\t<Nationality>Australian</Nationality>\\n\\t\\t</Driver>\\n\\t\\t<Driver driverId=\"russell\" code=\"RUS\" url=\"http://en.wikipedia.org/wiki/George_Russell_%28racing_driver%29\">\\n\\t\\t\\t<PermanentNumber>63</PermanentNumber>\\n\\t\\t\\t<GivenName>George</GivenName>\\n\\t\\t\\t<FamilyName>Russell</FamilyName>\\n\\t\\t\\t<DateOfBirth>1998-02-15</DateOfBirth>\\n\\t\\t\\t<Nationality>British</Nationality>\\n\\t\\t</Driver>\\n\\t\\t<Driver driverId=\"sainz\" code=\"SAI\" url=\"http://en.wikipedia.org/wiki/Carlos_Sainz_Jr.\">\\n\\t\\t\\t<PermanentNumber>55</PermanentNumber>\\n\\t\\t\\t<GivenName>Carlos</GivenName>\\n\\t\\t\\t<FamilyName>Sainz</FamilyName>\\n\\t\\t\\t<DateOfBirth>1994-09-01</DateOfBirth>\\n\\t\\t\\t<Nationality>Spanish</Nationality>\\n\\t\\t</Driver>\\n\\t\\t<Driver driverId=\"stroll\" code=\"STR\" url=\"http://en.wikipedia.org/wiki/Lance_Stroll\">\\n\\t\\t\\t<PermanentNumber>18</PermanentNumber>\\n\\t\\t\\t<GivenName>Lance</GivenName>\\n\\t\\t\\t<FamilyName>Stroll</FamilyName>\\n\\t\\t\\t<DateOfBirth>1998-10-29</DateOfBirth>\\n\\t\\t\\t<Nationality>Canadian</Nationality>\\n\\t\\t</Driver>\\n\\t\\t<Driver driverId=\"max_verstappen\" code=\"VER\" url=\"http://en.wikipedia.org/wiki/Max_Verstappen\">\\n\\t\\t\\t<PermanentNumber>33</PermanentNumber>\\n\\t\\t\\t<GivenName>Max</GivenName>\\n\\t\\t\\t<FamilyName>Verstappen</FamilyName>\\n\\t\\t\\t<DateOfBirth>1997-09-30</DateOfBirth>\\n\\t\\t\\t<Nationality>Dutch</Nationality>\\n\\t\\t</Driver>\\n\\t\\t<Driver driverId=\"vettel\" code=\"VET\" url=\"http://en.wikipedia.org/wiki/Sebastian_Vettel\">\\n\\t\\t\\t<PermanentNumber>5</PermanentNumber>\\n\\t\\t\\t<GivenName>Sebastian</GivenName>\\n\\t\\t\\t<FamilyName>Vettel</FamilyName>\\n\\t\\t\\t<DateOfBirth>1987-07-03</DateOfBirth>\\n\\t\\t\\t<Nationality>German</Nationality>\\n\\t\\t</Driver>\\n\\t</DriverTable>\\n</MRData>\\n'\n"
          ],
          "name": "stdout"
        }
      ]
    },
    {
      "cell_type": "code",
      "metadata": {
        "id": "JsA34YP-Wd58"
      },
      "source": [
        "# TODO: Take that information and turn it into a pandas dataframe \r\n",
        "import xml.etree.ElementTree as et\r\n",
        "\r\n",
        "def DriverXMLExport(year1):\r\n",
        "  url = \"http://ergast.com/api/f1/{year}/drivers\"\r\n",
        "  url = url.format(year = year1)\r\n",
        "\r\n",
        "\r\n",
        "  r = requests.get(url)\r\n",
        "  root = et.fromstring(r.text)\r\n",
        "\r\n",
        "  tree = et.ElementTree(root)\r\n",
        "  tree.write(\"file.xml\")"
      ],
      "execution_count": null,
      "outputs": []
    },
    {
      "cell_type": "code",
      "metadata": {
        "id": "rkQpOPrLZew5"
      },
      "source": [
        "DriverXMLExport('2020')"
      ],
      "execution_count": null,
      "outputs": []
    },
    {
      "cell_type": "code",
      "metadata": {
        "id": "AtddXHKjlI9O"
      },
      "source": [
        "xtree = et.parse(\"file.xml\")\r\n",
        "xroot = xtree.getroot()"
      ],
      "execution_count": null,
      "outputs": []
    },
    {
      "cell_type": "code",
      "metadata": {
        "colab": {
          "base_uri": "https://localhost:8080/"
        },
        "id": "S_w-FWJE1Uvl",
        "outputId": "3c62b895-f11c-49ad-e58b-f5f5137127ea"
      },
      "source": [
        "xroot"
      ],
      "execution_count": null,
      "outputs": [
        {
          "output_type": "execute_result",
          "data": {
            "text/plain": [
              "<Element '{http://ergast.com/mrd/1.4}MRData' at 0x7f0663e22e08>"
            ]
          },
          "metadata": {
            "tags": []
          },
          "execution_count": 8
        }
      ]
    },
    {
      "cell_type": "code",
      "metadata": {
        "colab": {
          "base_uri": "https://localhost:8080/"
        },
        "id": "swgzToi01fQA",
        "outputId": "55116e27-c270-4748-e590-eef2c00dd9d3"
      },
      "source": [
        "xroot.attrib"
      ],
      "execution_count": null,
      "outputs": [
        {
          "output_type": "execute_result",
          "data": {
            "text/plain": [
              "{'limit': '30',\n",
              " 'offset': '0',\n",
              " 'series': 'f1',\n",
              " 'total': '23',\n",
              " 'url': 'http://ergast.com/api/f1/2020/drivers'}"
            ]
          },
          "metadata": {
            "tags": []
          },
          "execution_count": 9
        }
      ]
    },
    {
      "cell_type": "code",
      "metadata": {
        "id": "Jjo8aTWh1i0q"
      },
      "source": [
        "from lxml import etree\r\n",
        "filen = \"file.xml\"\r\n",
        "data = etree.parse(filen)\r\n",
        "\r\n",
        "result = [node.text.strip()\r\n",
        "          for node in data.xpath(\"//AssetType[@longname='characters']/type\")]"
      ],
      "execution_count": null,
      "outputs": []
    },
    {
      "cell_type": "code",
      "metadata": {
        "colab": {
          "base_uri": "https://localhost:8080/"
        },
        "id": "7WtklfEw4tre",
        "outputId": "80ebe62a-e04e-4189-d503-2aec6e6dffee"
      },
      "source": [
        "for child in xroot:\r\n",
        "  print(child.tag, child.attrib)"
      ],
      "execution_count": null,
      "outputs": [
        {
          "output_type": "stream",
          "text": [
            "{http://ergast.com/mrd/1.4}DriverTable {'season': '2020'}\n"
          ],
          "name": "stdout"
        }
      ]
    },
    {
      "cell_type": "code",
      "metadata": {
        "colab": {
          "base_uri": "https://localhost:8080/"
        },
        "id": "wUI4XXkn8Ex7",
        "outputId": "fac09914-810f-4177-8288-94d94e96d7f0"
      },
      "source": [
        "[elem.tag for elem in xroot.iter()]"
      ],
      "execution_count": null,
      "outputs": [
        {
          "output_type": "execute_result",
          "data": {
            "text/plain": [
              "['{http://ergast.com/mrd/1.4}MRData',\n",
              " '{http://ergast.com/mrd/1.4}DriverTable',\n",
              " '{http://ergast.com/mrd/1.4}Driver',\n",
              " '{http://ergast.com/mrd/1.4}PermanentNumber',\n",
              " '{http://ergast.com/mrd/1.4}GivenName',\n",
              " '{http://ergast.com/mrd/1.4}FamilyName',\n",
              " '{http://ergast.com/mrd/1.4}DateOfBirth',\n",
              " '{http://ergast.com/mrd/1.4}Nationality',\n",
              " '{http://ergast.com/mrd/1.4}Driver',\n",
              " '{http://ergast.com/mrd/1.4}PermanentNumber',\n",
              " '{http://ergast.com/mrd/1.4}GivenName',\n",
              " '{http://ergast.com/mrd/1.4}FamilyName',\n",
              " '{http://ergast.com/mrd/1.4}DateOfBirth',\n",
              " '{http://ergast.com/mrd/1.4}Nationality',\n",
              " '{http://ergast.com/mrd/1.4}Driver',\n",
              " '{http://ergast.com/mrd/1.4}PermanentNumber',\n",
              " '{http://ergast.com/mrd/1.4}GivenName',\n",
              " '{http://ergast.com/mrd/1.4}FamilyName',\n",
              " '{http://ergast.com/mrd/1.4}DateOfBirth',\n",
              " '{http://ergast.com/mrd/1.4}Nationality',\n",
              " '{http://ergast.com/mrd/1.4}Driver',\n",
              " '{http://ergast.com/mrd/1.4}PermanentNumber',\n",
              " '{http://ergast.com/mrd/1.4}GivenName',\n",
              " '{http://ergast.com/mrd/1.4}FamilyName',\n",
              " '{http://ergast.com/mrd/1.4}DateOfBirth',\n",
              " '{http://ergast.com/mrd/1.4}Nationality',\n",
              " '{http://ergast.com/mrd/1.4}Driver',\n",
              " '{http://ergast.com/mrd/1.4}PermanentNumber',\n",
              " '{http://ergast.com/mrd/1.4}GivenName',\n",
              " '{http://ergast.com/mrd/1.4}FamilyName',\n",
              " '{http://ergast.com/mrd/1.4}DateOfBirth',\n",
              " '{http://ergast.com/mrd/1.4}Nationality',\n",
              " '{http://ergast.com/mrd/1.4}Driver',\n",
              " '{http://ergast.com/mrd/1.4}PermanentNumber',\n",
              " '{http://ergast.com/mrd/1.4}GivenName',\n",
              " '{http://ergast.com/mrd/1.4}FamilyName',\n",
              " '{http://ergast.com/mrd/1.4}DateOfBirth',\n",
              " '{http://ergast.com/mrd/1.4}Nationality',\n",
              " '{http://ergast.com/mrd/1.4}Driver',\n",
              " '{http://ergast.com/mrd/1.4}PermanentNumber',\n",
              " '{http://ergast.com/mrd/1.4}GivenName',\n",
              " '{http://ergast.com/mrd/1.4}FamilyName',\n",
              " '{http://ergast.com/mrd/1.4}DateOfBirth',\n",
              " '{http://ergast.com/mrd/1.4}Nationality',\n",
              " '{http://ergast.com/mrd/1.4}Driver',\n",
              " '{http://ergast.com/mrd/1.4}PermanentNumber',\n",
              " '{http://ergast.com/mrd/1.4}GivenName',\n",
              " '{http://ergast.com/mrd/1.4}FamilyName',\n",
              " '{http://ergast.com/mrd/1.4}DateOfBirth',\n",
              " '{http://ergast.com/mrd/1.4}Nationality',\n",
              " '{http://ergast.com/mrd/1.4}Driver',\n",
              " '{http://ergast.com/mrd/1.4}PermanentNumber',\n",
              " '{http://ergast.com/mrd/1.4}GivenName',\n",
              " '{http://ergast.com/mrd/1.4}FamilyName',\n",
              " '{http://ergast.com/mrd/1.4}DateOfBirth',\n",
              " '{http://ergast.com/mrd/1.4}Nationality',\n",
              " '{http://ergast.com/mrd/1.4}Driver',\n",
              " '{http://ergast.com/mrd/1.4}PermanentNumber',\n",
              " '{http://ergast.com/mrd/1.4}GivenName',\n",
              " '{http://ergast.com/mrd/1.4}FamilyName',\n",
              " '{http://ergast.com/mrd/1.4}DateOfBirth',\n",
              " '{http://ergast.com/mrd/1.4}Nationality',\n",
              " '{http://ergast.com/mrd/1.4}Driver',\n",
              " '{http://ergast.com/mrd/1.4}PermanentNumber',\n",
              " '{http://ergast.com/mrd/1.4}GivenName',\n",
              " '{http://ergast.com/mrd/1.4}FamilyName',\n",
              " '{http://ergast.com/mrd/1.4}DateOfBirth',\n",
              " '{http://ergast.com/mrd/1.4}Nationality',\n",
              " '{http://ergast.com/mrd/1.4}Driver',\n",
              " '{http://ergast.com/mrd/1.4}PermanentNumber',\n",
              " '{http://ergast.com/mrd/1.4}GivenName',\n",
              " '{http://ergast.com/mrd/1.4}FamilyName',\n",
              " '{http://ergast.com/mrd/1.4}DateOfBirth',\n",
              " '{http://ergast.com/mrd/1.4}Nationality',\n",
              " '{http://ergast.com/mrd/1.4}Driver',\n",
              " '{http://ergast.com/mrd/1.4}PermanentNumber',\n",
              " '{http://ergast.com/mrd/1.4}GivenName',\n",
              " '{http://ergast.com/mrd/1.4}FamilyName',\n",
              " '{http://ergast.com/mrd/1.4}DateOfBirth',\n",
              " '{http://ergast.com/mrd/1.4}Nationality',\n",
              " '{http://ergast.com/mrd/1.4}Driver',\n",
              " '{http://ergast.com/mrd/1.4}PermanentNumber',\n",
              " '{http://ergast.com/mrd/1.4}GivenName',\n",
              " '{http://ergast.com/mrd/1.4}FamilyName',\n",
              " '{http://ergast.com/mrd/1.4}DateOfBirth',\n",
              " '{http://ergast.com/mrd/1.4}Nationality',\n",
              " '{http://ergast.com/mrd/1.4}Driver',\n",
              " '{http://ergast.com/mrd/1.4}PermanentNumber',\n",
              " '{http://ergast.com/mrd/1.4}GivenName',\n",
              " '{http://ergast.com/mrd/1.4}FamilyName',\n",
              " '{http://ergast.com/mrd/1.4}DateOfBirth',\n",
              " '{http://ergast.com/mrd/1.4}Nationality',\n",
              " '{http://ergast.com/mrd/1.4}Driver',\n",
              " '{http://ergast.com/mrd/1.4}PermanentNumber',\n",
              " '{http://ergast.com/mrd/1.4}GivenName',\n",
              " '{http://ergast.com/mrd/1.4}FamilyName',\n",
              " '{http://ergast.com/mrd/1.4}DateOfBirth',\n",
              " '{http://ergast.com/mrd/1.4}Nationality',\n",
              " '{http://ergast.com/mrd/1.4}Driver',\n",
              " '{http://ergast.com/mrd/1.4}PermanentNumber',\n",
              " '{http://ergast.com/mrd/1.4}GivenName',\n",
              " '{http://ergast.com/mrd/1.4}FamilyName',\n",
              " '{http://ergast.com/mrd/1.4}DateOfBirth',\n",
              " '{http://ergast.com/mrd/1.4}Nationality',\n",
              " '{http://ergast.com/mrd/1.4}Driver',\n",
              " '{http://ergast.com/mrd/1.4}PermanentNumber',\n",
              " '{http://ergast.com/mrd/1.4}GivenName',\n",
              " '{http://ergast.com/mrd/1.4}FamilyName',\n",
              " '{http://ergast.com/mrd/1.4}DateOfBirth',\n",
              " '{http://ergast.com/mrd/1.4}Nationality',\n",
              " '{http://ergast.com/mrd/1.4}Driver',\n",
              " '{http://ergast.com/mrd/1.4}PermanentNumber',\n",
              " '{http://ergast.com/mrd/1.4}GivenName',\n",
              " '{http://ergast.com/mrd/1.4}FamilyName',\n",
              " '{http://ergast.com/mrd/1.4}DateOfBirth',\n",
              " '{http://ergast.com/mrd/1.4}Nationality',\n",
              " '{http://ergast.com/mrd/1.4}Driver',\n",
              " '{http://ergast.com/mrd/1.4}PermanentNumber',\n",
              " '{http://ergast.com/mrd/1.4}GivenName',\n",
              " '{http://ergast.com/mrd/1.4}FamilyName',\n",
              " '{http://ergast.com/mrd/1.4}DateOfBirth',\n",
              " '{http://ergast.com/mrd/1.4}Nationality',\n",
              " '{http://ergast.com/mrd/1.4}Driver',\n",
              " '{http://ergast.com/mrd/1.4}PermanentNumber',\n",
              " '{http://ergast.com/mrd/1.4}GivenName',\n",
              " '{http://ergast.com/mrd/1.4}FamilyName',\n",
              " '{http://ergast.com/mrd/1.4}DateOfBirth',\n",
              " '{http://ergast.com/mrd/1.4}Nationality',\n",
              " '{http://ergast.com/mrd/1.4}Driver',\n",
              " '{http://ergast.com/mrd/1.4}PermanentNumber',\n",
              " '{http://ergast.com/mrd/1.4}GivenName',\n",
              " '{http://ergast.com/mrd/1.4}FamilyName',\n",
              " '{http://ergast.com/mrd/1.4}DateOfBirth',\n",
              " '{http://ergast.com/mrd/1.4}Nationality',\n",
              " '{http://ergast.com/mrd/1.4}Driver',\n",
              " '{http://ergast.com/mrd/1.4}PermanentNumber',\n",
              " '{http://ergast.com/mrd/1.4}GivenName',\n",
              " '{http://ergast.com/mrd/1.4}FamilyName',\n",
              " '{http://ergast.com/mrd/1.4}DateOfBirth',\n",
              " '{http://ergast.com/mrd/1.4}Nationality']"
            ]
          },
          "metadata": {
            "tags": []
          },
          "execution_count": 13
        }
      ]
    },
    {
      "cell_type": "code",
      "metadata": {
        "id": "B9md-3ee6K4P"
      },
      "source": [
        "# Now I have my xml as a string. \r\n",
        "raw = et.tostring(xroot, encoding='utf8').decode('utf8')"
      ],
      "execution_count": null,
      "outputs": []
    },
    {
      "cell_type": "code",
      "metadata": {
        "colab": {
          "base_uri": "https://localhost:8080/",
          "height": 122
        },
        "id": "PRTZgq767EGm",
        "outputId": "d75ee41f-6c70-4172-8a71-1727adf27d11"
      },
      "source": [
        "raw"
      ],
      "execution_count": null,
      "outputs": [
        {
          "output_type": "execute_result",
          "data": {
            "application/vnd.google.colaboratory.intrinsic+json": {
              "type": "string"
            },
            "text/plain": [
              "'<?xml version=\\'1.0\\' encoding=\\'utf8\\'?>\\n<ns0:MRData xmlns:ns0=\"http://ergast.com/mrd/1.4\" limit=\"30\" offset=\"0\" series=\"f1\" total=\"23\" url=\"http://ergast.com/api/f1/2020/drivers\">\\n\\t<ns0:DriverTable season=\"2020\">\\n\\t\\t<ns0:Driver code=\"AIT\" driverId=\"aitken\" url=\"http://en.wikipedia.org/wiki/Jack_Aitken\">\\n\\t\\t\\t<ns0:PermanentNumber>89</ns0:PermanentNumber>\\n\\t\\t\\t<ns0:GivenName>Jack</ns0:GivenName>\\n\\t\\t\\t<ns0:FamilyName>Aitken</ns0:FamilyName>\\n\\t\\t\\t<ns0:DateOfBirth>1995-09-23</ns0:DateOfBirth>\\n\\t\\t\\t<ns0:Nationality>British</ns0:Nationality>\\n\\t\\t</ns0:Driver>\\n\\t\\t<ns0:Driver code=\"ALB\" driverId=\"albon\" url=\"http://en.wikipedia.org/wiki/Alexander_Albon\">\\n\\t\\t\\t<ns0:PermanentNumber>23</ns0:PermanentNumber>\\n\\t\\t\\t<ns0:GivenName>Alexander</ns0:GivenName>\\n\\t\\t\\t<ns0:FamilyName>Albon</ns0:FamilyName>\\n\\t\\t\\t<ns0:DateOfBirth>1996-03-23</ns0:DateOfBirth>\\n\\t\\t\\t<ns0:Nationality>Thai</ns0:Nationality>\\n\\t\\t</ns0:Driver>\\n\\t\\t<ns0:Driver code=\"BOT\" driverId=\"bottas\" url=\"http://en.wikipedia.org/wiki/Valtteri_Bottas\">\\n\\t\\t\\t<ns0:PermanentNumber>77</ns0:PermanentNumber>\\n\\t\\t\\t<ns0:GivenName>Valtteri</ns0:GivenName>\\n\\t\\t\\t<ns0:FamilyName>Bottas</ns0:FamilyName>\\n\\t\\t\\t<ns0:DateOfBirth>1989-08-28</ns0:DateOfBirth>\\n\\t\\t\\t<ns0:Nationality>Finnish</ns0:Nationality>\\n\\t\\t</ns0:Driver>\\n\\t\\t<ns0:Driver code=\"FIT\" driverId=\"pietro_fittipaldi\" url=\"http://en.wikipedia.org/wiki/Pietro_Fittipaldi\">\\n\\t\\t\\t<ns0:PermanentNumber>51</ns0:PermanentNumber>\\n\\t\\t\\t<ns0:GivenName>Pietro</ns0:GivenName>\\n\\t\\t\\t<ns0:FamilyName>Fittipaldi</ns0:FamilyName>\\n\\t\\t\\t<ns0:DateOfBirth>1996-06-25</ns0:DateOfBirth>\\n\\t\\t\\t<ns0:Nationality>Brazilian</ns0:Nationality>\\n\\t\\t</ns0:Driver>\\n\\t\\t<ns0:Driver code=\"GAS\" driverId=\"gasly\" url=\"http://en.wikipedia.org/wiki/Pierre_Gasly\">\\n\\t\\t\\t<ns0:PermanentNumber>10</ns0:PermanentNumber>\\n\\t\\t\\t<ns0:GivenName>Pierre</ns0:GivenName>\\n\\t\\t\\t<ns0:FamilyName>Gasly</ns0:FamilyName>\\n\\t\\t\\t<ns0:DateOfBirth>1996-02-07</ns0:DateOfBirth>\\n\\t\\t\\t<ns0:Nationality>French</ns0:Nationality>\\n\\t\\t</ns0:Driver>\\n\\t\\t<ns0:Driver code=\"GIO\" driverId=\"giovinazzi\" url=\"http://en.wikipedia.org/wiki/Antonio_Giovinazzi\">\\n\\t\\t\\t<ns0:PermanentNumber>99</ns0:PermanentNumber>\\n\\t\\t\\t<ns0:GivenName>Antonio</ns0:GivenName>\\n\\t\\t\\t<ns0:FamilyName>Giovinazzi</ns0:FamilyName>\\n\\t\\t\\t<ns0:DateOfBirth>1993-12-14</ns0:DateOfBirth>\\n\\t\\t\\t<ns0:Nationality>Italian</ns0:Nationality>\\n\\t\\t</ns0:Driver>\\n\\t\\t<ns0:Driver code=\"GRO\" driverId=\"grosjean\" url=\"http://en.wikipedia.org/wiki/Romain_Grosjean\">\\n\\t\\t\\t<ns0:PermanentNumber>8</ns0:PermanentNumber>\\n\\t\\t\\t<ns0:GivenName>Romain</ns0:GivenName>\\n\\t\\t\\t<ns0:FamilyName>Grosjean</ns0:FamilyName>\\n\\t\\t\\t<ns0:DateOfBirth>1986-04-17</ns0:DateOfBirth>\\n\\t\\t\\t<ns0:Nationality>French</ns0:Nationality>\\n\\t\\t</ns0:Driver>\\n\\t\\t<ns0:Driver code=\"HAM\" driverId=\"hamilton\" url=\"http://en.wikipedia.org/wiki/Lewis_Hamilton\">\\n\\t\\t\\t<ns0:PermanentNumber>44</ns0:PermanentNumber>\\n\\t\\t\\t<ns0:GivenName>Lewis</ns0:GivenName>\\n\\t\\t\\t<ns0:FamilyName>Hamilton</ns0:FamilyName>\\n\\t\\t\\t<ns0:DateOfBirth>1985-01-07</ns0:DateOfBirth>\\n\\t\\t\\t<ns0:Nationality>British</ns0:Nationality>\\n\\t\\t</ns0:Driver>\\n\\t\\t<ns0:Driver code=\"HUL\" driverId=\"hulkenberg\" url=\"http://en.wikipedia.org/wiki/Nico_H%C3%BClkenberg\">\\n\\t\\t\\t<ns0:PermanentNumber>27</ns0:PermanentNumber>\\n\\t\\t\\t<ns0:GivenName>Nico</ns0:GivenName>\\n\\t\\t\\t<ns0:FamilyName>Hülkenberg</ns0:FamilyName>\\n\\t\\t\\t<ns0:DateOfBirth>1987-08-19</ns0:DateOfBirth>\\n\\t\\t\\t<ns0:Nationality>German</ns0:Nationality>\\n\\t\\t</ns0:Driver>\\n\\t\\t<ns0:Driver code=\"KVY\" driverId=\"kvyat\" url=\"http://en.wikipedia.org/wiki/Daniil_Kvyat\">\\n\\t\\t\\t<ns0:PermanentNumber>26</ns0:PermanentNumber>\\n\\t\\t\\t<ns0:GivenName>Daniil</ns0:GivenName>\\n\\t\\t\\t<ns0:FamilyName>Kvyat</ns0:FamilyName>\\n\\t\\t\\t<ns0:DateOfBirth>1994-04-26</ns0:DateOfBirth>\\n\\t\\t\\t<ns0:Nationality>Russian</ns0:Nationality>\\n\\t\\t</ns0:Driver>\\n\\t\\t<ns0:Driver code=\"LAT\" driverId=\"latifi\" url=\"http://en.wikipedia.org/wiki/Nicholas_Latifi\">\\n\\t\\t\\t<ns0:PermanentNumber>6</ns0:PermanentNumber>\\n\\t\\t\\t<ns0:GivenName>Nicholas</ns0:GivenName>\\n\\t\\t\\t<ns0:FamilyName>Latifi</ns0:FamilyName>\\n\\t\\t\\t<ns0:DateOfBirth>1995-06-29</ns0:DateOfBirth>\\n\\t\\t\\t<ns0:Nationality>Canadian</ns0:Nationality>\\n\\t\\t</ns0:Driver>\\n\\t\\t<ns0:Driver code=\"LEC\" driverId=\"leclerc\" url=\"http://en.wikipedia.org/wiki/Charles_Leclerc\">\\n\\t\\t\\t<ns0:PermanentNumber>16</ns0:PermanentNumber>\\n\\t\\t\\t<ns0:GivenName>Charles</ns0:GivenName>\\n\\t\\t\\t<ns0:FamilyName>Leclerc</ns0:FamilyName>\\n\\t\\t\\t<ns0:DateOfBirth>1997-10-16</ns0:DateOfBirth>\\n\\t\\t\\t<ns0:Nationality>Monegasque</ns0:Nationality>\\n\\t\\t</ns0:Driver>\\n\\t\\t<ns0:Driver code=\"MAG\" driverId=\"kevin_magnussen\" url=\"http://en.wikipedia.org/wiki/Kevin_Magnussen\">\\n\\t\\t\\t<ns0:PermanentNumber>20</ns0:PermanentNumber>\\n\\t\\t\\t<ns0:GivenName>Kevin</ns0:GivenName>\\n\\t\\t\\t<ns0:FamilyName>Magnussen</ns0:FamilyName>\\n\\t\\t\\t<ns0:DateOfBirth>1992-10-05</ns0:DateOfBirth>\\n\\t\\t\\t<ns0:Nationality>Danish</ns0:Nationality>\\n\\t\\t</ns0:Driver>\\n\\t\\t<ns0:Driver code=\"NOR\" driverId=\"norris\" url=\"http://en.wikipedia.org/wiki/Lando_Norris\">\\n\\t\\t\\t<ns0:PermanentNumber>4</ns0:PermanentNumber>\\n\\t\\t\\t<ns0:GivenName>Lando</ns0:GivenName>\\n\\t\\t\\t<ns0:FamilyName>Norris</ns0:FamilyName>\\n\\t\\t\\t<ns0:DateOfBirth>1999-11-13</ns0:DateOfBirth>\\n\\t\\t\\t<ns0:Nationality>British</ns0:Nationality>\\n\\t\\t</ns0:Driver>\\n\\t\\t<ns0:Driver code=\"OCO\" driverId=\"ocon\" url=\"http://en.wikipedia.org/wiki/Esteban_Ocon\">\\n\\t\\t\\t<ns0:PermanentNumber>31</ns0:PermanentNumber>\\n\\t\\t\\t<ns0:GivenName>Esteban</ns0:GivenName>\\n\\t\\t\\t<ns0:FamilyName>Ocon</ns0:FamilyName>\\n\\t\\t\\t<ns0:DateOfBirth>1996-09-17</ns0:DateOfBirth>\\n\\t\\t\\t<ns0:Nationality>French</ns0:Nationality>\\n\\t\\t</ns0:Driver>\\n\\t\\t<ns0:Driver code=\"PER\" driverId=\"perez\" url=\"http://en.wikipedia.org/wiki/Sergio_P%C3%A9rez\">\\n\\t\\t\\t<ns0:PermanentNumber>11</ns0:PermanentNumber>\\n\\t\\t\\t<ns0:GivenName>Sergio</ns0:GivenName>\\n\\t\\t\\t<ns0:FamilyName>Pérez</ns0:FamilyName>\\n\\t\\t\\t<ns0:DateOfBirth>1990-01-26</ns0:DateOfBirth>\\n\\t\\t\\t<ns0:Nationality>Mexican</ns0:Nationality>\\n\\t\\t</ns0:Driver>\\n\\t\\t<ns0:Driver code=\"RAI\" driverId=\"raikkonen\" url=\"http://en.wikipedia.org/wiki/Kimi_R%C3%A4ikk%C3%B6nen\">\\n\\t\\t\\t<ns0:PermanentNumber>7</ns0:PermanentNumber>\\n\\t\\t\\t<ns0:GivenName>Kimi</ns0:GivenName>\\n\\t\\t\\t<ns0:FamilyName>Räikkönen</ns0:FamilyName>\\n\\t\\t\\t<ns0:DateOfBirth>1979-10-17</ns0:DateOfBirth>\\n\\t\\t\\t<ns0:Nationality>Finnish</ns0:Nationality>\\n\\t\\t</ns0:Driver>\\n\\t\\t<ns0:Driver code=\"RIC\" driverId=\"ricciardo\" url=\"http://en.wikipedia.org/wiki/Daniel_Ricciardo\">\\n\\t\\t\\t<ns0:PermanentNumber>3</ns0:PermanentNumber>\\n\\t\\t\\t<ns0:GivenName>Daniel</ns0:GivenName>\\n\\t\\t\\t<ns0:FamilyName>Ricciardo</ns0:FamilyName>\\n\\t\\t\\t<ns0:DateOfBirth>1989-07-01</ns0:DateOfBirth>\\n\\t\\t\\t<ns0:Nationality>Australian</ns0:Nationality>\\n\\t\\t</ns0:Driver>\\n\\t\\t<ns0:Driver code=\"RUS\" driverId=\"russell\" url=\"http://en.wikipedia.org/wiki/George_Russell_%28racing_driver%29\">\\n\\t\\t\\t<ns0:PermanentNumber>63</ns0:PermanentNumber>\\n\\t\\t\\t<ns0:GivenName>George</ns0:GivenName>\\n\\t\\t\\t<ns0:FamilyName>Russell</ns0:FamilyName>\\n\\t\\t\\t<ns0:DateOfBirth>1998-02-15</ns0:DateOfBirth>\\n\\t\\t\\t<ns0:Nationality>British</ns0:Nationality>\\n\\t\\t</ns0:Driver>\\n\\t\\t<ns0:Driver code=\"SAI\" driverId=\"sainz\" url=\"http://en.wikipedia.org/wiki/Carlos_Sainz_Jr.\">\\n\\t\\t\\t<ns0:PermanentNumber>55</ns0:PermanentNumber>\\n\\t\\t\\t<ns0:GivenName>Carlos</ns0:GivenName>\\n\\t\\t\\t<ns0:FamilyName>Sainz</ns0:FamilyName>\\n\\t\\t\\t<ns0:DateOfBirth>1994-09-01</ns0:DateOfBirth>\\n\\t\\t\\t<ns0:Nationality>Spanish</ns0:Nationality>\\n\\t\\t</ns0:Driver>\\n\\t\\t<ns0:Driver code=\"STR\" driverId=\"stroll\" url=\"http://en.wikipedia.org/wiki/Lance_Stroll\">\\n\\t\\t\\t<ns0:PermanentNumber>18</ns0:PermanentNumber>\\n\\t\\t\\t<ns0:GivenName>Lance</ns0:GivenName>\\n\\t\\t\\t<ns0:FamilyName>Stroll</ns0:FamilyName>\\n\\t\\t\\t<ns0:DateOfBirth>1998-10-29</ns0:DateOfBirth>\\n\\t\\t\\t<ns0:Nationality>Canadian</ns0:Nationality>\\n\\t\\t</ns0:Driver>\\n\\t\\t<ns0:Driver code=\"VER\" driverId=\"max_verstappen\" url=\"http://en.wikipedia.org/wiki/Max_Verstappen\">\\n\\t\\t\\t<ns0:PermanentNumber>33</ns0:PermanentNumber>\\n\\t\\t\\t<ns0:GivenName>Max</ns0:GivenName>\\n\\t\\t\\t<ns0:FamilyName>Verstappen</ns0:FamilyName>\\n\\t\\t\\t<ns0:DateOfBirth>1997-09-30</ns0:DateOfBirth>\\n\\t\\t\\t<ns0:Nationality>Dutch</ns0:Nationality>\\n\\t\\t</ns0:Driver>\\n\\t\\t<ns0:Driver code=\"VET\" driverId=\"vettel\" url=\"http://en.wikipedia.org/wiki/Sebastian_Vettel\">\\n\\t\\t\\t<ns0:PermanentNumber>5</ns0:PermanentNumber>\\n\\t\\t\\t<ns0:GivenName>Sebastian</ns0:GivenName>\\n\\t\\t\\t<ns0:FamilyName>Vettel</ns0:FamilyName>\\n\\t\\t\\t<ns0:DateOfBirth>1987-07-03</ns0:DateOfBirth>\\n\\t\\t\\t<ns0:Nationality>German</ns0:Nationality>\\n\\t\\t</ns0:Driver>\\n\\t</ns0:DriverTable>\\n</ns0:MRData>'"
            ]
          },
          "metadata": {
            "tags": []
          },
          "execution_count": 15
        }
      ]
    },
    {
      "cell_type": "code",
      "metadata": {
        "id": "SIqVIzh67adL"
      },
      "source": [
        "for name in xroot.iter('{http://ergast.com/mrd/1.4}RaceTable'):\r\n",
        "  print(name.attrib['round'])"
      ],
      "execution_count": null,
      "outputs": []
    },
    {
      "cell_type": "code",
      "metadata": {
        "id": "4cbZnAIb83EL"
      },
      "source": [
        "# Now time to make it into a pandas dataframe\r\n",
        "import pandas as pd\r\n",
        "\r\n",
        "def XMLToDFDriver(file):\r\n",
        "  '''\r\n",
        "      This function takes an XML and returns a dataframe of the driver's \r\n",
        "      information. \r\n",
        "  '''\r\n",
        "  # getting into the XML files, getting what I need from that. \r\n",
        "  xtree = et.parse(file)\r\n",
        "  xroot = xtree.getroot()\r\n",
        "\r\n",
        "  df_cols = [\"PermanentNumber\", \"First_Name\", \"Last_Name\", \"DOB\", \"Nationality\"]\r\n",
        "  rows = []\r\n",
        "  # Loops that grab the number, names, dob and nationality of each driver\r\n",
        "  for number in xroot.iter('{http://ergast.com/mrd/1.4}PermanentNumber'):\r\n",
        "    num = number.text\r\n",
        "    rows.append({\"PermanentNumber\": num})\r\n",
        "  for firstn in xroot.iter('{http://ergast.com/mrd/1.4}GivenName'):\r\n",
        "    f_name = firstn.text\r\n",
        "    rows.append({\"First_Name\": f_name})\r\n",
        "  for name in xroot.iter('{http://ergast.com/mrd/1.4}FamilyName'):\r\n",
        "    l_name = (name.text)\r\n",
        "    rows.append({\"Last_Name\": l_name})\r\n",
        "  for dob1 in xroot.iter('{http://ergast.com/mrd/1.4}DateOfBirth'):\r\n",
        "    dob = dob1.text\r\n",
        "    rows.append({\"DOB\": dob})\r\n",
        "  for national in xroot.iter('{http://ergast.com/mrd/1.4}Nationality'):\r\n",
        "    nat = national.text\r\n",
        "    rows.append({\"Nationality\": nat})\r\n",
        "\r\n",
        "\r\n",
        "  df = pd.DataFrame(rows, columns = df_cols)\r\n",
        "  df = cleandata(df)\r\n",
        "  return df"
      ],
      "execution_count": null,
      "outputs": []
    },
    {
      "cell_type": "code",
      "metadata": {
        "id": "oQg7-su5HOB3"
      },
      "source": [
        "def cleandata(df):\r\n",
        "  '''\r\n",
        "    The goal is to take in the messy dataframe and clean it up by creating data\r\n",
        "    frames that contain only the data and returns a cleaned up dataframe. \r\n",
        "\r\n",
        "    TODO: Find a way to get this function working with a for loop. \r\n",
        "  '''\r\n",
        "  df1 = pd.DataFrame()\r\n",
        "  df2 = pd.DataFrame()\r\n",
        "  df3 = pd.DataFrame()\r\n",
        "  df4 = pd.DataFrame()\r\n",
        "  df5 = pd.DataFrame()\r\n",
        "\r\n",
        "  df1[\"Number\"] = df['PermanentNumber']\r\n",
        "  df2['First_Name'] = df['First_Name']\r\n",
        "  df3['Last_Name'] = df['Last_Name']\r\n",
        "  df4[\"DOB\"] = df['DOB']\r\n",
        "  df5['Nationality'] = df['Nationality']\r\n",
        "\r\n",
        "  df1 = df1.dropna()\r\n",
        "  df2 = df2.dropna().reset_index()\r\n",
        "  df3 = df3.dropna().reset_index()\r\n",
        "  df4 = df4.dropna().reset_index()\r\n",
        "  df5 = df5.dropna().reset_index()\r\n",
        "\r\n",
        "  new_df= pd.DataFrame()\r\n",
        "  new_df[\"Number\"] = df1['Number']\r\n",
        "  new_df['First_Name'] = df2['First_Name']\r\n",
        "  new_df['Last_Name'] = df3['Last_Name']\r\n",
        "  new_df[\"DOB\"] = df4['DOB']\r\n",
        "  new_df['Nationality'] = df5['Nationality']\r\n",
        "  return new_df"
      ],
      "execution_count": null,
      "outputs": []
    },
    {
      "cell_type": "code",
      "metadata": {
        "id": "KI_her699tat"
      },
      "source": [
        "df = XMLToDFDriver(\"file.xml\")"
      ],
      "execution_count": null,
      "outputs": []
    },
    {
      "cell_type": "code",
      "metadata": {
        "colab": {
          "base_uri": "https://localhost:8080/",
          "height": 738
        },
        "id": "uQPA5flXI07l",
        "outputId": "3b8c0ecd-8e3c-45b3-e0d1-dc0bdfcfea11"
      },
      "source": [
        "df"
      ],
      "execution_count": null,
      "outputs": [
        {
          "output_type": "execute_result",
          "data": {
            "text/html": [
              "<div>\n",
              "<style scoped>\n",
              "    .dataframe tbody tr th:only-of-type {\n",
              "        vertical-align: middle;\n",
              "    }\n",
              "\n",
              "    .dataframe tbody tr th {\n",
              "        vertical-align: top;\n",
              "    }\n",
              "\n",
              "    .dataframe thead th {\n",
              "        text-align: right;\n",
              "    }\n",
              "</style>\n",
              "<table border=\"1\" class=\"dataframe\">\n",
              "  <thead>\n",
              "    <tr style=\"text-align: right;\">\n",
              "      <th></th>\n",
              "      <th>Number</th>\n",
              "      <th>First_Name</th>\n",
              "      <th>Last_Name</th>\n",
              "      <th>DOB</th>\n",
              "      <th>Nationality</th>\n",
              "    </tr>\n",
              "  </thead>\n",
              "  <tbody>\n",
              "    <tr>\n",
              "      <th>0</th>\n",
              "      <td>89</td>\n",
              "      <td>Jack</td>\n",
              "      <td>Aitken</td>\n",
              "      <td>1995-09-23</td>\n",
              "      <td>British</td>\n",
              "    </tr>\n",
              "    <tr>\n",
              "      <th>1</th>\n",
              "      <td>23</td>\n",
              "      <td>Alexander</td>\n",
              "      <td>Albon</td>\n",
              "      <td>1996-03-23</td>\n",
              "      <td>Thai</td>\n",
              "    </tr>\n",
              "    <tr>\n",
              "      <th>2</th>\n",
              "      <td>77</td>\n",
              "      <td>Valtteri</td>\n",
              "      <td>Bottas</td>\n",
              "      <td>1989-08-28</td>\n",
              "      <td>Finnish</td>\n",
              "    </tr>\n",
              "    <tr>\n",
              "      <th>3</th>\n",
              "      <td>51</td>\n",
              "      <td>Pietro</td>\n",
              "      <td>Fittipaldi</td>\n",
              "      <td>1996-06-25</td>\n",
              "      <td>Brazilian</td>\n",
              "    </tr>\n",
              "    <tr>\n",
              "      <th>4</th>\n",
              "      <td>10</td>\n",
              "      <td>Pierre</td>\n",
              "      <td>Gasly</td>\n",
              "      <td>1996-02-07</td>\n",
              "      <td>French</td>\n",
              "    </tr>\n",
              "    <tr>\n",
              "      <th>5</th>\n",
              "      <td>99</td>\n",
              "      <td>Antonio</td>\n",
              "      <td>Giovinazzi</td>\n",
              "      <td>1993-12-14</td>\n",
              "      <td>Italian</td>\n",
              "    </tr>\n",
              "    <tr>\n",
              "      <th>6</th>\n",
              "      <td>8</td>\n",
              "      <td>Romain</td>\n",
              "      <td>Grosjean</td>\n",
              "      <td>1986-04-17</td>\n",
              "      <td>French</td>\n",
              "    </tr>\n",
              "    <tr>\n",
              "      <th>7</th>\n",
              "      <td>44</td>\n",
              "      <td>Lewis</td>\n",
              "      <td>Hamilton</td>\n",
              "      <td>1985-01-07</td>\n",
              "      <td>British</td>\n",
              "    </tr>\n",
              "    <tr>\n",
              "      <th>8</th>\n",
              "      <td>27</td>\n",
              "      <td>Nico</td>\n",
              "      <td>Hülkenberg</td>\n",
              "      <td>1987-08-19</td>\n",
              "      <td>German</td>\n",
              "    </tr>\n",
              "    <tr>\n",
              "      <th>9</th>\n",
              "      <td>26</td>\n",
              "      <td>Daniil</td>\n",
              "      <td>Kvyat</td>\n",
              "      <td>1994-04-26</td>\n",
              "      <td>Russian</td>\n",
              "    </tr>\n",
              "    <tr>\n",
              "      <th>10</th>\n",
              "      <td>6</td>\n",
              "      <td>Nicholas</td>\n",
              "      <td>Latifi</td>\n",
              "      <td>1995-06-29</td>\n",
              "      <td>Canadian</td>\n",
              "    </tr>\n",
              "    <tr>\n",
              "      <th>11</th>\n",
              "      <td>16</td>\n",
              "      <td>Charles</td>\n",
              "      <td>Leclerc</td>\n",
              "      <td>1997-10-16</td>\n",
              "      <td>Monegasque</td>\n",
              "    </tr>\n",
              "    <tr>\n",
              "      <th>12</th>\n",
              "      <td>20</td>\n",
              "      <td>Kevin</td>\n",
              "      <td>Magnussen</td>\n",
              "      <td>1992-10-05</td>\n",
              "      <td>Danish</td>\n",
              "    </tr>\n",
              "    <tr>\n",
              "      <th>13</th>\n",
              "      <td>4</td>\n",
              "      <td>Lando</td>\n",
              "      <td>Norris</td>\n",
              "      <td>1999-11-13</td>\n",
              "      <td>British</td>\n",
              "    </tr>\n",
              "    <tr>\n",
              "      <th>14</th>\n",
              "      <td>31</td>\n",
              "      <td>Esteban</td>\n",
              "      <td>Ocon</td>\n",
              "      <td>1996-09-17</td>\n",
              "      <td>French</td>\n",
              "    </tr>\n",
              "    <tr>\n",
              "      <th>15</th>\n",
              "      <td>11</td>\n",
              "      <td>Sergio</td>\n",
              "      <td>Pérez</td>\n",
              "      <td>1990-01-26</td>\n",
              "      <td>Mexican</td>\n",
              "    </tr>\n",
              "    <tr>\n",
              "      <th>16</th>\n",
              "      <td>7</td>\n",
              "      <td>Kimi</td>\n",
              "      <td>Räikkönen</td>\n",
              "      <td>1979-10-17</td>\n",
              "      <td>Finnish</td>\n",
              "    </tr>\n",
              "    <tr>\n",
              "      <th>17</th>\n",
              "      <td>3</td>\n",
              "      <td>Daniel</td>\n",
              "      <td>Ricciardo</td>\n",
              "      <td>1989-07-01</td>\n",
              "      <td>Australian</td>\n",
              "    </tr>\n",
              "    <tr>\n",
              "      <th>18</th>\n",
              "      <td>63</td>\n",
              "      <td>George</td>\n",
              "      <td>Russell</td>\n",
              "      <td>1998-02-15</td>\n",
              "      <td>British</td>\n",
              "    </tr>\n",
              "    <tr>\n",
              "      <th>19</th>\n",
              "      <td>55</td>\n",
              "      <td>Carlos</td>\n",
              "      <td>Sainz</td>\n",
              "      <td>1994-09-01</td>\n",
              "      <td>Spanish</td>\n",
              "    </tr>\n",
              "    <tr>\n",
              "      <th>20</th>\n",
              "      <td>18</td>\n",
              "      <td>Lance</td>\n",
              "      <td>Stroll</td>\n",
              "      <td>1998-10-29</td>\n",
              "      <td>Canadian</td>\n",
              "    </tr>\n",
              "    <tr>\n",
              "      <th>21</th>\n",
              "      <td>33</td>\n",
              "      <td>Max</td>\n",
              "      <td>Verstappen</td>\n",
              "      <td>1997-09-30</td>\n",
              "      <td>Dutch</td>\n",
              "    </tr>\n",
              "    <tr>\n",
              "      <th>22</th>\n",
              "      <td>5</td>\n",
              "      <td>Sebastian</td>\n",
              "      <td>Vettel</td>\n",
              "      <td>1987-07-03</td>\n",
              "      <td>German</td>\n",
              "    </tr>\n",
              "  </tbody>\n",
              "</table>\n",
              "</div>"
            ],
            "text/plain": [
              "   Number First_Name   Last_Name         DOB Nationality\n",
              "0      89       Jack      Aitken  1995-09-23     British\n",
              "1      23  Alexander       Albon  1996-03-23        Thai\n",
              "2      77   Valtteri      Bottas  1989-08-28     Finnish\n",
              "3      51     Pietro  Fittipaldi  1996-06-25   Brazilian\n",
              "4      10     Pierre       Gasly  1996-02-07      French\n",
              "5      99    Antonio  Giovinazzi  1993-12-14     Italian\n",
              "6       8     Romain    Grosjean  1986-04-17      French\n",
              "7      44      Lewis    Hamilton  1985-01-07     British\n",
              "8      27       Nico  Hülkenberg  1987-08-19      German\n",
              "9      26     Daniil       Kvyat  1994-04-26     Russian\n",
              "10      6   Nicholas      Latifi  1995-06-29    Canadian\n",
              "11     16    Charles     Leclerc  1997-10-16  Monegasque\n",
              "12     20      Kevin   Magnussen  1992-10-05      Danish\n",
              "13      4      Lando      Norris  1999-11-13     British\n",
              "14     31    Esteban        Ocon  1996-09-17      French\n",
              "15     11     Sergio       Pérez  1990-01-26     Mexican\n",
              "16      7       Kimi   Räikkönen  1979-10-17     Finnish\n",
              "17      3     Daniel   Ricciardo  1989-07-01  Australian\n",
              "18     63     George     Russell  1998-02-15     British\n",
              "19     55     Carlos       Sainz  1994-09-01     Spanish\n",
              "20     18      Lance      Stroll  1998-10-29    Canadian\n",
              "21     33        Max  Verstappen  1997-09-30       Dutch\n",
              "22      5  Sebastian      Vettel  1987-07-03      German"
            ]
          },
          "metadata": {
            "tags": []
          },
          "execution_count": 22
        }
      ]
    },
    {
      "cell_type": "code",
      "metadata": {
        "id": "8e17hrOV-evL"
      },
      "source": [
        "df.to_csv(\"driver-info.csv\")"
      ],
      "execution_count": null,
      "outputs": []
    },
    {
      "cell_type": "code",
      "metadata": {
        "id": "x6_NNImy-U_z"
      },
      "source": [
        "DriverXMLExport('hamilton')"
      ],
      "execution_count": null,
      "outputs": []
    },
    {
      "cell_type": "markdown",
      "metadata": {
        "id": "-5lWj7GBPBz_"
      },
      "source": [
        "# The above functions Explained\r\n",
        "\r\n",
        "\r\n",
        "\r\n",
        "1.   First I get the driver information\r\n",
        "2.   Exports Driver Information as a XML (Now does both    steps 1 and 2 in one function (DriverHistoryAll())\r\n",
        "3.   Take that XML and then create a dataframe (XMLToDFDriver(file))\r\n",
        "4.   Then exports the dataframe to a csv to explore and apply my model\r\n",
        "\r\n",
        "# NEXT STEP: \r\n",
        "\r\n",
        "\r\n",
        "1.   Create a function that will return the driver's final standings for each track between the 2015-2020 seasons. \r\n",
        "\r\n",
        "\r\n",
        "\r\n",
        "\r\n",
        "\r\n",
        "\r\n"
      ]
    },
    {
      "cell_type": "markdown",
      "metadata": {
        "id": "HqSg59UlN6AP"
      },
      "source": [
        "# How the function will get what I need.\n",
        "\n",
        "1. Starting with a for loop that will grab my XML. (Will need to be a two layer loop, one for the year (outer loop) and one for the round (inner) \n",
        "2. First for loop will loop through the years, will go 5 times (from 5 years minus the current year.) \n",
        "3. I will need to find a way to get the amount of rounds per year \n",
        "\n",
        "(Possibly grab the whole race charts from each year, convert into a data frame and grab the length of each one possibly?) \n",
        "\n",
        "4. inside the inner loop it will take the standing of each race and append to a new xml variable (total_race) \n",
        "5. after the loops are done, the function will export the file to an external xml document so it can be converted into a dataframe \n",
        "6. to convert into a dataframe I will need to get an example of a table to get the columns I need. \n",
        "\n"
      ]
    },
    {
      "cell_type": "code",
      "metadata": {
        "colab": {
          "base_uri": "https://localhost:8080/"
        },
        "id": "T2Q3Cj_wc0wt",
        "outputId": "455c3c6b-bfa1-4e94-dfb0-fd01a5e9d691"
      },
      "source": [
        "import requests\r\n",
        "\r\n",
        "url = \"http://ergast.com/api/f1/{year}/{round}/driverStandings\"\r\n",
        "url1 = url.format(year = \"2015\", round = \"2\")\r\n",
        "payload = {}\r\n",
        "headers= {}\r\n",
        "\r\n",
        "response = requests.request(\"GET\", url1, headers=headers, data = payload)\r\n",
        "\r\n",
        "print(response.text.encode('utf8'))\r\n"
      ],
      "execution_count": null,
      "outputs": [
        {
          "output_type": "stream",
          "text": [
            "b'<?xml version=\"1.0\" encoding=\"utf-8\"?>\\n<?xml-stylesheet type=\"text/xsl\" href=\"/schemas/mrd-1.4.xsl\"?>\\n<MRData xmlns=\"http://ergast.com/mrd/1.4\" series=\"f1\" url=\"http://ergast.com/api/f1/2015/2/driverstandings\" limit=\"30\" offset=\"0\" total=\"21\">\\n\\t<StandingsTable season=\"2015\" round=\"2\">\\n\\t\\t<StandingsList season=\"2015\" round=\"2\">\\n\\t\\t\\t<DriverStanding position=\"1\" positionText=\"1\" points=\"43\" wins=\"1\">\\n\\t\\t\\t\\t<Driver driverId=\"hamilton\" code=\"HAM\" url=\"http://en.wikipedia.org/wiki/Lewis_Hamilton\">\\n\\t\\t\\t\\t\\t<PermanentNumber>44</PermanentNumber>\\n\\t\\t\\t\\t\\t<GivenName>Lewis</GivenName>\\n\\t\\t\\t\\t\\t<FamilyName>Hamilton</FamilyName>\\n\\t\\t\\t\\t\\t<DateOfBirth>1985-01-07</DateOfBirth>\\n\\t\\t\\t\\t\\t<Nationality>British</Nationality>\\n\\t\\t\\t\\t</Driver>\\n\\t\\t\\t\\t<Constructor constructorId=\"mercedes\" url=\"http://en.wikipedia.org/wiki/Mercedes-Benz_in_Formula_One\">\\n\\t\\t\\t\\t\\t<Name>Mercedes</Name>\\n\\t\\t\\t\\t\\t<Nationality>German</Nationality>\\n\\t\\t\\t\\t</Constructor>\\n\\t\\t\\t</DriverStanding>\\n\\t\\t\\t<DriverStanding position=\"2\" positionText=\"2\" points=\"40\" wins=\"1\">\\n\\t\\t\\t\\t<Driver driverId=\"vettel\" code=\"VET\" url=\"http://en.wikipedia.org/wiki/Sebastian_Vettel\">\\n\\t\\t\\t\\t\\t<PermanentNumber>5</PermanentNumber>\\n\\t\\t\\t\\t\\t<GivenName>Sebastian</GivenName>\\n\\t\\t\\t\\t\\t<FamilyName>Vettel</FamilyName>\\n\\t\\t\\t\\t\\t<DateOfBirth>1987-07-03</DateOfBirth>\\n\\t\\t\\t\\t\\t<Nationality>German</Nationality>\\n\\t\\t\\t\\t</Driver>\\n\\t\\t\\t\\t<Constructor constructorId=\"ferrari\" url=\"http://en.wikipedia.org/wiki/Scuderia_Ferrari\">\\n\\t\\t\\t\\t\\t<Name>Ferrari</Name>\\n\\t\\t\\t\\t\\t<Nationality>Italian</Nationality>\\n\\t\\t\\t\\t</Constructor>\\n\\t\\t\\t</DriverStanding>\\n\\t\\t\\t<DriverStanding position=\"3\" positionText=\"3\" points=\"33\" wins=\"0\">\\n\\t\\t\\t\\t<Driver driverId=\"rosberg\" code=\"ROS\" url=\"http://en.wikipedia.org/wiki/Nico_Rosberg\">\\n\\t\\t\\t\\t\\t<PermanentNumber>6</PermanentNumber>\\n\\t\\t\\t\\t\\t<GivenName>Nico</GivenName>\\n\\t\\t\\t\\t\\t<FamilyName>Rosberg</FamilyName>\\n\\t\\t\\t\\t\\t<DateOfBirth>1985-06-27</DateOfBirth>\\n\\t\\t\\t\\t\\t<Nationality>German</Nationality>\\n\\t\\t\\t\\t</Driver>\\n\\t\\t\\t\\t<Constructor constructorId=\"mercedes\" url=\"http://en.wikipedia.org/wiki/Mercedes-Benz_in_Formula_One\">\\n\\t\\t\\t\\t\\t<Name>Mercedes</Name>\\n\\t\\t\\t\\t\\t<Nationality>German</Nationality>\\n\\t\\t\\t\\t</Constructor>\\n\\t\\t\\t</DriverStanding>\\n\\t\\t\\t<DriverStanding position=\"4\" positionText=\"4\" points=\"20\" wins=\"0\">\\n\\t\\t\\t\\t<Driver driverId=\"massa\" code=\"MAS\" url=\"http://en.wikipedia.org/wiki/Felipe_Massa\">\\n\\t\\t\\t\\t\\t<PermanentNumber>19</PermanentNumber>\\n\\t\\t\\t\\t\\t<GivenName>Felipe</GivenName>\\n\\t\\t\\t\\t\\t<FamilyName>Massa</FamilyName>\\n\\t\\t\\t\\t\\t<DateOfBirth>1981-04-25</DateOfBirth>\\n\\t\\t\\t\\t\\t<Nationality>Brazilian</Nationality>\\n\\t\\t\\t\\t</Driver>\\n\\t\\t\\t\\t<Constructor constructorId=\"williams\" url=\"http://en.wikipedia.org/wiki/Williams_Grand_Prix_Engineering\">\\n\\t\\t\\t\\t\\t<Name>Williams</Name>\\n\\t\\t\\t\\t\\t<Nationality>British</Nationality>\\n\\t\\t\\t\\t</Constructor>\\n\\t\\t\\t</DriverStanding>\\n\\t\\t\\t<DriverStanding position=\"5\" positionText=\"5\" points=\"12\" wins=\"0\">\\n\\t\\t\\t\\t<Driver driverId=\"raikkonen\" code=\"RAI\" url=\"http://en.wikipedia.org/wiki/Kimi_R%C3%A4ikk%C3%B6nen\">\\n\\t\\t\\t\\t\\t<PermanentNumber>7</PermanentNumber>\\n\\t\\t\\t\\t\\t<GivenName>Kimi</GivenName>\\n\\t\\t\\t\\t\\t<FamilyName>R\\xc3\\xa4ikk\\xc3\\xb6nen</FamilyName>\\n\\t\\t\\t\\t\\t<DateOfBirth>1979-10-17</DateOfBirth>\\n\\t\\t\\t\\t\\t<Nationality>Finnish</Nationality>\\n\\t\\t\\t\\t</Driver>\\n\\t\\t\\t\\t<Constructor constructorId=\"ferrari\" url=\"http://en.wikipedia.org/wiki/Scuderia_Ferrari\">\\n\\t\\t\\t\\t\\t<Name>Ferrari</Name>\\n\\t\\t\\t\\t\\t<Nationality>Italian</Nationality>\\n\\t\\t\\t\\t</Constructor>\\n\\t\\t\\t</DriverStanding>\\n\\t\\t\\t<DriverStanding position=\"6\" positionText=\"6\" points=\"10\" wins=\"0\">\\n\\t\\t\\t\\t<Driver driverId=\"nasr\" code=\"NAS\" url=\"http://en.wikipedia.org/wiki/Felipe_Nasr\">\\n\\t\\t\\t\\t\\t<PermanentNumber>12</PermanentNumber>\\n\\t\\t\\t\\t\\t<GivenName>Felipe</GivenName>\\n\\t\\t\\t\\t\\t<FamilyName>Nasr</FamilyName>\\n\\t\\t\\t\\t\\t<DateOfBirth>1992-08-21</DateOfBirth>\\n\\t\\t\\t\\t\\t<Nationality>Brazilian</Nationality>\\n\\t\\t\\t\\t</Driver>\\n\\t\\t\\t\\t<Constructor constructorId=\"sauber\" url=\"http://en.wikipedia.org/wiki/Sauber\">\\n\\t\\t\\t\\t\\t<Name>Sauber</Name>\\n\\t\\t\\t\\t\\t<Nationality>Swiss</Nationality>\\n\\t\\t\\t\\t</Constructor>\\n\\t\\t\\t</DriverStanding>\\n\\t\\t\\t<DriverStanding position=\"7\" positionText=\"7\" points=\"10\" wins=\"0\">\\n\\t\\t\\t\\t<Driver driverId=\"bottas\" code=\"BOT\" url=\"http://en.wikipedia.org/wiki/Valtteri_Bottas\">\\n\\t\\t\\t\\t\\t<PermanentNumber>77</PermanentNumber>\\n\\t\\t\\t\\t\\t<GivenName>Valtteri</GivenName>\\n\\t\\t\\t\\t\\t<FamilyName>Bottas</FamilyName>\\n\\t\\t\\t\\t\\t<DateOfBirth>1989-08-28</DateOfBirth>\\n\\t\\t\\t\\t\\t<Nationality>Finnish</Nationality>\\n\\t\\t\\t\\t</Driver>\\n\\t\\t\\t\\t<Constructor constructorId=\"williams\" url=\"http://en.wikipedia.org/wiki/Williams_Grand_Prix_Engineering\">\\n\\t\\t\\t\\t\\t<Name>Williams</Name>\\n\\t\\t\\t\\t\\t<Nationality>British</Nationality>\\n\\t\\t\\t\\t</Constructor>\\n\\t\\t\\t</DriverStanding>\\n\\t\\t\\t<DriverStanding position=\"8\" positionText=\"8\" points=\"9\" wins=\"0\">\\n\\t\\t\\t\\t<Driver driverId=\"ricciardo\" code=\"RIC\" url=\"http://en.wikipedia.org/wiki/Daniel_Ricciardo\">\\n\\t\\t\\t\\t\\t<PermanentNumber>3</PermanentNumber>\\n\\t\\t\\t\\t\\t<GivenName>Daniel</GivenName>\\n\\t\\t\\t\\t\\t<FamilyName>Ricciardo</FamilyName>\\n\\t\\t\\t\\t\\t<DateOfBirth>1989-07-01</DateOfBirth>\\n\\t\\t\\t\\t\\t<Nationality>Australian</Nationality>\\n\\t\\t\\t\\t</Driver>\\n\\t\\t\\t\\t<Constructor constructorId=\"red_bull\" url=\"http://en.wikipedia.org/wiki/Red_Bull_Racing\">\\n\\t\\t\\t\\t\\t<Name>Red Bull</Name>\\n\\t\\t\\t\\t\\t<Nationality>Austrian</Nationality>\\n\\t\\t\\t\\t</Constructor>\\n\\t\\t\\t</DriverStanding>\\n\\t\\t\\t<DriverStanding position=\"9\" positionText=\"9\" points=\"6\" wins=\"0\">\\n\\t\\t\\t\\t<Driver driverId=\"hulkenberg\" code=\"HUL\" url=\"http://en.wikipedia.org/wiki/Nico_H%C3%BClkenberg\">\\n\\t\\t\\t\\t\\t<PermanentNumber>27</PermanentNumber>\\n\\t\\t\\t\\t\\t<GivenName>Nico</GivenName>\\n\\t\\t\\t\\t\\t<FamilyName>H\\xc3\\xbclkenberg</FamilyName>\\n\\t\\t\\t\\t\\t<DateOfBirth>1987-08-19</DateOfBirth>\\n\\t\\t\\t\\t\\t<Nationality>German</Nationality>\\n\\t\\t\\t\\t</Driver>\\n\\t\\t\\t\\t<Constructor constructorId=\"force_india\" url=\"http://en.wikipedia.org/wiki/Racing_Point_Force_India\">\\n\\t\\t\\t\\t\\t<Name>Force India</Name>\\n\\t\\t\\t\\t\\t<Nationality>Indian</Nationality>\\n\\t\\t\\t\\t</Constructor>\\n\\t\\t\\t</DriverStanding>\\n\\t\\t\\t<DriverStanding position=\"10\" positionText=\"10\" points=\"6\" wins=\"0\">\\n\\t\\t\\t\\t<Driver driverId=\"max_verstappen\" code=\"VER\" url=\"http://en.wikipedia.org/wiki/Max_Verstappen\">\\n\\t\\t\\t\\t\\t<PermanentNumber>33</PermanentNumber>\\n\\t\\t\\t\\t\\t<GivenName>Max</GivenName>\\n\\t\\t\\t\\t\\t<FamilyName>Verstappen</FamilyName>\\n\\t\\t\\t\\t\\t<DateOfBirth>1997-09-30</DateOfBirth>\\n\\t\\t\\t\\t\\t<Nationality>Dutch</Nationality>\\n\\t\\t\\t\\t</Driver>\\n\\t\\t\\t\\t<Constructor constructorId=\"toro_rosso\" url=\"http://en.wikipedia.org/wiki/Scuderia_Toro_Rosso\">\\n\\t\\t\\t\\t\\t<Name>Toro Rosso</Name>\\n\\t\\t\\t\\t\\t<Nationality>Italian</Nationality>\\n\\t\\t\\t\\t</Constructor>\\n\\t\\t\\t</DriverStanding>\\n\\t\\t\\t<DriverStanding position=\"11\" positionText=\"11\" points=\"6\" wins=\"0\">\\n\\t\\t\\t\\t<Driver driverId=\"sainz\" code=\"SAI\" url=\"http://en.wikipedia.org/wiki/Carlos_Sainz_Jr.\">\\n\\t\\t\\t\\t\\t<PermanentNumber>55</PermanentNumber>\\n\\t\\t\\t\\t\\t<GivenName>Carlos</GivenName>\\n\\t\\t\\t\\t\\t<FamilyName>Sainz</FamilyName>\\n\\t\\t\\t\\t\\t<DateOfBirth>1994-09-01</DateOfBirth>\\n\\t\\t\\t\\t\\t<Nationality>Spanish</Nationality>\\n\\t\\t\\t\\t</Driver>\\n\\t\\t\\t\\t<Constructor constructorId=\"toro_rosso\" url=\"http://en.wikipedia.org/wiki/Scuderia_Toro_Rosso\">\\n\\t\\t\\t\\t\\t<Name>Toro Rosso</Name>\\n\\t\\t\\t\\t\\t<Nationality>Italian</Nationality>\\n\\t\\t\\t\\t</Constructor>\\n\\t\\t\\t</DriverStanding>\\n\\t\\t\\t<DriverStanding position=\"12\" positionText=\"12\" points=\"4\" wins=\"0\">\\n\\t\\t\\t\\t<Driver driverId=\"ericsson\" code=\"ERI\" url=\"http://en.wikipedia.org/wiki/Marcus_Ericsson\">\\n\\t\\t\\t\\t\\t<PermanentNumber>9</PermanentNumber>\\n\\t\\t\\t\\t\\t<GivenName>Marcus</GivenName>\\n\\t\\t\\t\\t\\t<FamilyName>Ericsson</FamilyName>\\n\\t\\t\\t\\t\\t<DateOfBirth>1990-09-02</DateOfBirth>\\n\\t\\t\\t\\t\\t<Nationality>Swedish</Nationality>\\n\\t\\t\\t\\t</Driver>\\n\\t\\t\\t\\t<Constructor constructorId=\"sauber\" url=\"http://en.wikipedia.org/wiki/Sauber\">\\n\\t\\t\\t\\t\\t<Name>Sauber</Name>\\n\\t\\t\\t\\t\\t<Nationality>Swiss</Nationality>\\n\\t\\t\\t\\t</Constructor>\\n\\t\\t\\t</DriverStanding>\\n\\t\\t\\t<DriverStanding position=\"13\" positionText=\"13\" points=\"2\" wins=\"0\">\\n\\t\\t\\t\\t<Driver driverId=\"kvyat\" code=\"KVY\" url=\"http://en.wikipedia.org/wiki/Daniil_Kvyat\">\\n\\t\\t\\t\\t\\t<PermanentNumber>26</PermanentNumber>\\n\\t\\t\\t\\t\\t<GivenName>Daniil</GivenName>\\n\\t\\t\\t\\t\\t<FamilyName>Kvyat</FamilyName>\\n\\t\\t\\t\\t\\t<DateOfBirth>1994-04-26</DateOfBirth>\\n\\t\\t\\t\\t\\t<Nationality>Russian</Nationality>\\n\\t\\t\\t\\t</Driver>\\n\\t\\t\\t\\t<Constructor constructorId=\"red_bull\" url=\"http://en.wikipedia.org/wiki/Red_Bull_Racing\">\\n\\t\\t\\t\\t\\t<Name>Red Bull</Name>\\n\\t\\t\\t\\t\\t<Nationality>Austrian</Nationality>\\n\\t\\t\\t\\t</Constructor>\\n\\t\\t\\t</DriverStanding>\\n\\t\\t\\t<DriverStanding position=\"14\" positionText=\"14\" points=\"1\" wins=\"0\">\\n\\t\\t\\t\\t<Driver driverId=\"perez\" code=\"PER\" url=\"http://en.wikipedia.org/wiki/Sergio_P%C3%A9rez\">\\n\\t\\t\\t\\t\\t<PermanentNumber>11</PermanentNumber>\\n\\t\\t\\t\\t\\t<GivenName>Sergio</GivenName>\\n\\t\\t\\t\\t\\t<FamilyName>P\\xc3\\xa9rez</FamilyName>\\n\\t\\t\\t\\t\\t<DateOfBirth>1990-01-26</DateOfBirth>\\n\\t\\t\\t\\t\\t<Nationality>Mexican</Nationality>\\n\\t\\t\\t\\t</Driver>\\n\\t\\t\\t\\t<Constructor constructorId=\"force_india\" url=\"http://en.wikipedia.org/wiki/Racing_Point_Force_India\">\\n\\t\\t\\t\\t\\t<Name>Force India</Name>\\n\\t\\t\\t\\t\\t<Nationality>Indian</Nationality>\\n\\t\\t\\t\\t</Constructor>\\n\\t\\t\\t</DriverStanding>\\n\\t\\t\\t<DriverStanding position=\"15\" positionText=\"15\" points=\"0\" wins=\"0\">\\n\\t\\t\\t\\t<Driver driverId=\"grosjean\" code=\"GRO\" url=\"http://en.wikipedia.org/wiki/Romain_Grosjean\">\\n\\t\\t\\t\\t\\t<PermanentNumber>8</PermanentNumber>\\n\\t\\t\\t\\t\\t<GivenName>Romain</GivenName>\\n\\t\\t\\t\\t\\t<FamilyName>Grosjean</FamilyName>\\n\\t\\t\\t\\t\\t<DateOfBirth>1986-04-17</DateOfBirth>\\n\\t\\t\\t\\t\\t<Nationality>French</Nationality>\\n\\t\\t\\t\\t</Driver>\\n\\t\\t\\t\\t<Constructor constructorId=\"lotus_f1\" url=\"http://en.wikipedia.org/wiki/Lotus_F1\">\\n\\t\\t\\t\\t\\t<Name>Lotus F1</Name>\\n\\t\\t\\t\\t\\t<Nationality>British</Nationality>\\n\\t\\t\\t\\t</Constructor>\\n\\t\\t\\t</DriverStanding>\\n\\t\\t\\t<DriverStanding position=\"16\" positionText=\"16\" points=\"0\" wins=\"0\">\\n\\t\\t\\t\\t<Driver driverId=\"button\" code=\"BUT\" url=\"http://en.wikipedia.org/wiki/Jenson_Button\">\\n\\t\\t\\t\\t\\t<PermanentNumber>22</PermanentNumber>\\n\\t\\t\\t\\t\\t<GivenName>Jenson</GivenName>\\n\\t\\t\\t\\t\\t<FamilyName>Button</FamilyName>\\n\\t\\t\\t\\t\\t<DateOfBirth>1980-01-19</DateOfBirth>\\n\\t\\t\\t\\t\\t<Nationality>British</Nationality>\\n\\t\\t\\t\\t</Driver>\\n\\t\\t\\t\\t<Constructor constructorId=\"mclaren\" url=\"http://en.wikipedia.org/wiki/McLaren\">\\n\\t\\t\\t\\t\\t<Name>McLaren</Name>\\n\\t\\t\\t\\t\\t<Nationality>British</Nationality>\\n\\t\\t\\t\\t</Constructor>\\n\\t\\t\\t</DriverStanding>\\n\\t\\t\\t<DriverStanding position=\"17\" positionText=\"17\" points=\"0\" wins=\"0\">\\n\\t\\t\\t\\t<Driver driverId=\"merhi\" code=\"MER\" url=\"http://en.wikipedia.org/wiki/Roberto_Merhi\">\\n\\t\\t\\t\\t\\t<PermanentNumber>98</PermanentNumber>\\n\\t\\t\\t\\t\\t<GivenName>Roberto</GivenName>\\n\\t\\t\\t\\t\\t<FamilyName>Merhi</FamilyName>\\n\\t\\t\\t\\t\\t<DateOfBirth>1991-03-22</DateOfBirth>\\n\\t\\t\\t\\t\\t<Nationality>Spanish</Nationality>\\n\\t\\t\\t\\t</Driver>\\n\\t\\t\\t\\t<Constructor constructorId=\"manor\" url=\"http://en.wikipedia.org/wiki/Manor_Motorsport\">\\n\\t\\t\\t\\t\\t<Name>Manor Marussia</Name>\\n\\t\\t\\t\\t\\t<Nationality>British</Nationality>\\n\\t\\t\\t\\t</Constructor>\\n\\t\\t\\t</DriverStanding>\\n\\t\\t\\t<DriverStanding position=\"18\" positionText=\"18\" points=\"0\" wins=\"0\">\\n\\t\\t\\t\\t<Driver driverId=\"maldonado\" code=\"MAL\" url=\"http://en.wikipedia.org/wiki/Pastor_Maldonado\">\\n\\t\\t\\t\\t\\t<PermanentNumber>13</PermanentNumber>\\n\\t\\t\\t\\t\\t<GivenName>Pastor</GivenName>\\n\\t\\t\\t\\t\\t<FamilyName>Maldonado</FamilyName>\\n\\t\\t\\t\\t\\t<DateOfBirth>1985-03-09</DateOfBirth>\\n\\t\\t\\t\\t\\t<Nationality>Venezuelan</Nationality>\\n\\t\\t\\t\\t</Driver>\\n\\t\\t\\t\\t<Constructor constructorId=\"lotus_f1\" url=\"http://en.wikipedia.org/wiki/Lotus_F1\">\\n\\t\\t\\t\\t\\t<Name>Lotus F1</Name>\\n\\t\\t\\t\\t\\t<Nationality>British</Nationality>\\n\\t\\t\\t\\t</Constructor>\\n\\t\\t\\t</DriverStanding>\\n\\t\\t\\t<DriverStanding position=\"19\" positionText=\"19\" points=\"0\" wins=\"0\">\\n\\t\\t\\t\\t<Driver driverId=\"kevin_magnussen\" code=\"MAG\" url=\"http://en.wikipedia.org/wiki/Kevin_Magnussen\">\\n\\t\\t\\t\\t\\t<PermanentNumber>20</PermanentNumber>\\n\\t\\t\\t\\t\\t<GivenName>Kevin</GivenName>\\n\\t\\t\\t\\t\\t<FamilyName>Magnussen</FamilyName>\\n\\t\\t\\t\\t\\t<DateOfBirth>1992-10-05</DateOfBirth>\\n\\t\\t\\t\\t\\t<Nationality>Danish</Nationality>\\n\\t\\t\\t\\t</Driver>\\n\\t\\t\\t\\t<Constructor constructorId=\"mclaren\" url=\"http://en.wikipedia.org/wiki/McLaren\">\\n\\t\\t\\t\\t\\t<Name>McLaren</Name>\\n\\t\\t\\t\\t\\t<Nationality>British</Nationality>\\n\\t\\t\\t\\t</Constructor>\\n\\t\\t\\t</DriverStanding>\\n\\t\\t\\t<DriverStanding position=\"20\" positionText=\"20\" points=\"0\" wins=\"0\">\\n\\t\\t\\t\\t<Driver driverId=\"alonso\" code=\"ALO\" url=\"http://en.wikipedia.org/wiki/Fernando_Alonso\">\\n\\t\\t\\t\\t\\t<PermanentNumber>14</PermanentNumber>\\n\\t\\t\\t\\t\\t<GivenName>Fernando</GivenName>\\n\\t\\t\\t\\t\\t<FamilyName>Alonso</FamilyName>\\n\\t\\t\\t\\t\\t<DateOfBirth>1981-07-29</DateOfBirth>\\n\\t\\t\\t\\t\\t<Nationality>Spanish</Nationality>\\n\\t\\t\\t\\t</Driver>\\n\\t\\t\\t\\t<Constructor constructorId=\"mclaren\" url=\"http://en.wikipedia.org/wiki/McLaren\">\\n\\t\\t\\t\\t\\t<Name>McLaren</Name>\\n\\t\\t\\t\\t\\t<Nationality>British</Nationality>\\n\\t\\t\\t\\t</Constructor>\\n\\t\\t\\t</DriverStanding>\\n\\t\\t\\t<DriverStanding position=\"21\" positionText=\"21\" points=\"0\" wins=\"0\">\\n\\t\\t\\t\\t<Driver driverId=\"stevens\" code=\"STE\" url=\"http://en.wikipedia.org/wiki/Will_Stevens\">\\n\\t\\t\\t\\t\\t<PermanentNumber>28</PermanentNumber>\\n\\t\\t\\t\\t\\t<GivenName>Will</GivenName>\\n\\t\\t\\t\\t\\t<FamilyName>Stevens</FamilyName>\\n\\t\\t\\t\\t\\t<DateOfBirth>1991-06-28</DateOfBirth>\\n\\t\\t\\t\\t\\t<Nationality>British</Nationality>\\n\\t\\t\\t\\t</Driver>\\n\\t\\t\\t\\t<Constructor constructorId=\"manor\" url=\"http://en.wikipedia.org/wiki/Manor_Motorsport\">\\n\\t\\t\\t\\t\\t<Name>Manor Marussia</Name>\\n\\t\\t\\t\\t\\t<Nationality>British</Nationality>\\n\\t\\t\\t\\t</Constructor>\\n\\t\\t\\t</DriverStanding>\\n\\t\\t</StandingsList>\\n\\t</StandingsTable>\\n</MRData>\\n'\n"
          ],
          "name": "stdout"
        }
      ]
    },
    {
      "cell_type": "code",
      "metadata": {
        "id": "4GdTe7VkO_ye"
      },
      "source": [
        "# TODO : Create a function that will return \r\n",
        "# The driver point standings for each race between\r\n",
        "# the 2015-2020 seasons. \r\n",
        "from datetime import datetime\r\n",
        "def GetDriverStandings():\r\n",
        "  '''\r\n",
        "  This function takes the driver standings from the last \r\n",
        "  5 years and returns an exported dataframe to work with. \r\n",
        "  '''\r\n",
        "  # Creating a new varible that will take in all the collected data\r\n",
        "  # Since it will be linked with my xml, will be set to None for now\r\n",
        "  Total_Race = \"\"\r\n",
        "\r\n",
        "  # Starting with my first for loop, witch will loop through \r\n",
        "  # the last 5 years from the current date \r\n",
        "  today = datetime.today().year\r\n",
        "  year_list = []\r\n",
        "  # Creating my boundries for the loop \r\n",
        "  for i in range(5):\r\n",
        "    year_list.append(today)\r\n",
        "    today -= 1\r\n",
        "  for j in year_list:\r\n",
        "    # Grabbing the length of the inner loop. \r\n",
        "    url = \"http://ergast.com/api/f1/{year}/last\"\r\n",
        "    url1 = url.format(year = str(j))\r\n",
        "\r\n",
        "    r = requests.get(url1)\r\n",
        "    root = er.fromstring(r.text)\r\n",
        "    tree = et.ElementTree(root)\r\n",
        "    tree.write(\"file.xml\")\r\n",
        "\r\n",
        "    xtree = et.parse('file.xml')\r\n",
        "    xroot = xtree.getroot()\r\n",
        "    for name in xroot.iter('{http://ergast.com/mrd/1.4}RaceTable'):\r\n",
        "      length = int(name.attrib['round'])\r\n",
        "    # the inner loop\r\n",
        "    for k in range(0, length):\r\n",
        "      # The goal of this loop is to grab the standings for each round \r\n",
        "      # and add it to the xml file sounds simple right? \r\n",
        "      url = \"http://ergast.com/api/f1/{year}/{round}/driverStandings\"\r\n",
        "      url1 = url.format(year = str(j), round = str(k))\r\n",
        "      "
      ],
      "execution_count": null,
      "outputs": []
    },
    {
      "cell_type": "code",
      "metadata": {
        "colab": {
          "base_uri": "https://localhost:8080/"
        },
        "id": "Zqasr2_ZNZkS",
        "outputId": "6583b8a3-7f92-4004-be55-c3d4398ad55c"
      },
      "source": [
        "# Test to see how I will make the list \n",
        "j = 2020\n",
        "test_list = []\n",
        "for i in range(5):\n",
        "  test_list.append(j)\n",
        "  j -= 1\n",
        "print(test_list)"
      ],
      "execution_count": null,
      "outputs": [
        {
          "output_type": "stream",
          "text": [
            "[2020, 2019, 2018, 2017, 2016]\n"
          ],
          "name": "stdout"
        }
      ]
    },
    {
      "cell_type": "code",
      "metadata": {
        "colab": {
          "base_uri": "https://localhost:8080/"
        },
        "id": "NFhXjO6gNaIn",
        "outputId": "3c9c7045-4e4e-4f9a-e38e-2fb24b78ccac"
      },
      "source": [
        "# What I need is to grab the last round number to know the length of the season. \n",
        "# Next 4 cells contains the code to get the amount of rounds in a year of F1 \n",
        "url = 'http://ergast.com/api/f1/{year}/last'\n",
        "url1 = url.format(year = \"2020\")\n",
        "payload = {}\n",
        "headers= {}\n",
        "\n",
        "response = requests.request(\"GET\", url1, headers=headers, data = payload)\n",
        "\n",
        "print(response.text.encode('utf8'))"
      ],
      "execution_count": null,
      "outputs": [
        {
          "output_type": "stream",
          "text": [
            "b'<?xml version=\"1.0\" encoding=\"utf-8\"?>\\n<?xml-stylesheet type=\"text/xsl\" href=\"/schemas/mrd-1.4.xsl\"?>\\n<MRData xmlns=\"http://ergast.com/mrd/1.4\" series=\"f1\" url=\"http://ergast.com/api/f1/2020/last\" limit=\"30\" offset=\"0\" total=\"1\">\\n\\t<RaceTable season=\"2020\" round=\"17\">\\n\\t\\t<Race season=\"2020\" round=\"17\" url=\"https://en.wikipedia.org/wiki/2020_Abu_Dhabi_Grand_Prix\">\\n\\t\\t\\t<RaceName>Abu Dhabi Grand Prix</RaceName>\\n\\t\\t\\t<Circuit circuitId=\"yas_marina\" url=\"http://en.wikipedia.org/wiki/Yas_Marina_Circuit\">\\n\\t\\t\\t\\t<CircuitName>Yas Marina Circuit</CircuitName>\\n\\t\\t\\t\\t<Location lat=\"24.4672\" long=\"54.6031\">\\n\\t\\t\\t\\t\\t<Locality>Abu Dhabi</Locality>\\n\\t\\t\\t\\t\\t<Country>UAE</Country>\\n\\t\\t\\t\\t</Location>\\n\\t\\t\\t</Circuit>\\n\\t\\t\\t<Date>2020-12-13</Date>\\n\\t\\t\\t<Time>13:10:00Z</Time>\\n\\t\\t</Race>\\n\\t</RaceTable>\\n</MRData>\\n'\n"
          ],
          "name": "stdout"
        }
      ]
    },
    {
      "cell_type": "code",
      "metadata": {
        "id": "6XjqKFZESXz_"
      },
      "source": [
        "r = requests.get(url1)\n",
        "root = et.fromstring(r.text)\n",
        "\n",
        "tree = et.ElementTree(root)  \n",
        "tree.write(\"file.xml\")"
      ],
      "execution_count": null,
      "outputs": []
    },
    {
      "cell_type": "code",
      "metadata": {
        "id": "6XSobl8CW980"
      },
      "source": [
        "xtree = et.parse(\"file.xml\")\n",
        "xroot = xtree.getroot()"
      ],
      "execution_count": null,
      "outputs": []
    },
    {
      "cell_type": "code",
      "metadata": {
        "colab": {
          "base_uri": "https://localhost:8080/"
        },
        "id": "KtR9YW8oVSjG",
        "outputId": "67a7690f-3b70-4d61-97a4-e3187743a5f4"
      },
      "source": [
        "for name in xroot.iter('{http://ergast.com/mrd/1.4}RaceTable'):\n",
        "  print(name.attrib['round'])\n",
        "  length = int(name.attrib['round'])\n",
        "  length"
      ],
      "execution_count": null,
      "outputs": [
        {
          "output_type": "stream",
          "text": [
            "17\n"
          ],
          "name": "stdout"
        }
      ]
    },
    {
      "cell_type": "code",
      "metadata": {
        "colab": {
          "base_uri": "https://localhost:8080/"
        },
        "id": "7V-pI7PaVkiL",
        "outputId": "4b183957-9151-43be-def9-85f5d3ff138c"
      },
      "source": [
        "j = 2016\r\n",
        "length = 0\r\n",
        "\r\n",
        "# doing a test run to see how it would work \r\n",
        "url = \"http://ergast.com/api/f1/{year}/{round}/driverStandings\"\r\n",
        "url1 = url.format(year = str(j), round = str(length))\r\n",
        "payload = {}\r\n",
        "headers= {}\r\n",
        "response = requests.request(\"GET\", url1, headers=headers, data = payload)\r\n",
        "\r\n",
        "print(response.text.encode('utf8'))"
      ],
      "execution_count": null,
      "outputs": [
        {
          "output_type": "stream",
          "text": [
            "b'<?xml version=\"1.0\" encoding=\"utf-8\"?>\\n<?xml-stylesheet type=\"text/xsl\" href=\"/schemas/mrd-1.4.xsl\"?>\\n<MRData xmlns=\"http://ergast.com/mrd/1.4\" series=\"f1\" url=\"http://ergast.com/api/f1/2016/0/driverstandings\" limit=\"30\" offset=\"0\" total=\"24\">\\n\\t<StandingsTable season=\"2016\" round=\"0\">\\n\\t\\t<StandingsList season=\"2016\" round=\"21\">\\n\\t\\t\\t<DriverStanding position=\"1\" positionText=\"1\" points=\"385\" wins=\"9\">\\n\\t\\t\\t\\t<Driver driverId=\"rosberg\" code=\"ROS\" url=\"http://en.wikipedia.org/wiki/Nico_Rosberg\">\\n\\t\\t\\t\\t\\t<PermanentNumber>6</PermanentNumber>\\n\\t\\t\\t\\t\\t<GivenName>Nico</GivenName>\\n\\t\\t\\t\\t\\t<FamilyName>Rosberg</FamilyName>\\n\\t\\t\\t\\t\\t<DateOfBirth>1985-06-27</DateOfBirth>\\n\\t\\t\\t\\t\\t<Nationality>German</Nationality>\\n\\t\\t\\t\\t</Driver>\\n\\t\\t\\t\\t<Constructor constructorId=\"mercedes\" url=\"http://en.wikipedia.org/wiki/Mercedes-Benz_in_Formula_One\">\\n\\t\\t\\t\\t\\t<Name>Mercedes</Name>\\n\\t\\t\\t\\t\\t<Nationality>German</Nationality>\\n\\t\\t\\t\\t</Constructor>\\n\\t\\t\\t</DriverStanding>\\n\\t\\t\\t<DriverStanding position=\"2\" positionText=\"2\" points=\"380\" wins=\"10\">\\n\\t\\t\\t\\t<Driver driverId=\"hamilton\" code=\"HAM\" url=\"http://en.wikipedia.org/wiki/Lewis_Hamilton\">\\n\\t\\t\\t\\t\\t<PermanentNumber>44</PermanentNumber>\\n\\t\\t\\t\\t\\t<GivenName>Lewis</GivenName>\\n\\t\\t\\t\\t\\t<FamilyName>Hamilton</FamilyName>\\n\\t\\t\\t\\t\\t<DateOfBirth>1985-01-07</DateOfBirth>\\n\\t\\t\\t\\t\\t<Nationality>British</Nationality>\\n\\t\\t\\t\\t</Driver>\\n\\t\\t\\t\\t<Constructor constructorId=\"mercedes\" url=\"http://en.wikipedia.org/wiki/Mercedes-Benz_in_Formula_One\">\\n\\t\\t\\t\\t\\t<Name>Mercedes</Name>\\n\\t\\t\\t\\t\\t<Nationality>German</Nationality>\\n\\t\\t\\t\\t</Constructor>\\n\\t\\t\\t</DriverStanding>\\n\\t\\t\\t<DriverStanding position=\"3\" positionText=\"3\" points=\"256\" wins=\"1\">\\n\\t\\t\\t\\t<Driver driverId=\"ricciardo\" code=\"RIC\" url=\"http://en.wikipedia.org/wiki/Daniel_Ricciardo\">\\n\\t\\t\\t\\t\\t<PermanentNumber>3</PermanentNumber>\\n\\t\\t\\t\\t\\t<GivenName>Daniel</GivenName>\\n\\t\\t\\t\\t\\t<FamilyName>Ricciardo</FamilyName>\\n\\t\\t\\t\\t\\t<DateOfBirth>1989-07-01</DateOfBirth>\\n\\t\\t\\t\\t\\t<Nationality>Australian</Nationality>\\n\\t\\t\\t\\t</Driver>\\n\\t\\t\\t\\t<Constructor constructorId=\"red_bull\" url=\"http://en.wikipedia.org/wiki/Red_Bull_Racing\">\\n\\t\\t\\t\\t\\t<Name>Red Bull</Name>\\n\\t\\t\\t\\t\\t<Nationality>Austrian</Nationality>\\n\\t\\t\\t\\t</Constructor>\\n\\t\\t\\t</DriverStanding>\\n\\t\\t\\t<DriverStanding position=\"4\" positionText=\"4\" points=\"212\" wins=\"0\">\\n\\t\\t\\t\\t<Driver driverId=\"vettel\" code=\"VET\" url=\"http://en.wikipedia.org/wiki/Sebastian_Vettel\">\\n\\t\\t\\t\\t\\t<PermanentNumber>5</PermanentNumber>\\n\\t\\t\\t\\t\\t<GivenName>Sebastian</GivenName>\\n\\t\\t\\t\\t\\t<FamilyName>Vettel</FamilyName>\\n\\t\\t\\t\\t\\t<DateOfBirth>1987-07-03</DateOfBirth>\\n\\t\\t\\t\\t\\t<Nationality>German</Nationality>\\n\\t\\t\\t\\t</Driver>\\n\\t\\t\\t\\t<Constructor constructorId=\"ferrari\" url=\"http://en.wikipedia.org/wiki/Scuderia_Ferrari\">\\n\\t\\t\\t\\t\\t<Name>Ferrari</Name>\\n\\t\\t\\t\\t\\t<Nationality>Italian</Nationality>\\n\\t\\t\\t\\t</Constructor>\\n\\t\\t\\t</DriverStanding>\\n\\t\\t\\t<DriverStanding position=\"5\" positionText=\"5\" points=\"204\" wins=\"1\">\\n\\t\\t\\t\\t<Driver driverId=\"max_verstappen\" code=\"VER\" url=\"http://en.wikipedia.org/wiki/Max_Verstappen\">\\n\\t\\t\\t\\t\\t<PermanentNumber>33</PermanentNumber>\\n\\t\\t\\t\\t\\t<GivenName>Max</GivenName>\\n\\t\\t\\t\\t\\t<FamilyName>Verstappen</FamilyName>\\n\\t\\t\\t\\t\\t<DateOfBirth>1997-09-30</DateOfBirth>\\n\\t\\t\\t\\t\\t<Nationality>Dutch</Nationality>\\n\\t\\t\\t\\t</Driver>\\n\\t\\t\\t\\t<Constructor constructorId=\"toro_rosso\" url=\"http://en.wikipedia.org/wiki/Scuderia_Toro_Rosso\">\\n\\t\\t\\t\\t\\t<Name>Toro Rosso</Name>\\n\\t\\t\\t\\t\\t<Nationality>Italian</Nationality>\\n\\t\\t\\t\\t</Constructor>\\n\\t\\t\\t\\t<Constructor constructorId=\"red_bull\" url=\"http://en.wikipedia.org/wiki/Red_Bull_Racing\">\\n\\t\\t\\t\\t\\t<Name>Red Bull</Name>\\n\\t\\t\\t\\t\\t<Nationality>Austrian</Nationality>\\n\\t\\t\\t\\t</Constructor>\\n\\t\\t\\t</DriverStanding>\\n\\t\\t\\t<DriverStanding position=\"6\" positionText=\"6\" points=\"186\" wins=\"0\">\\n\\t\\t\\t\\t<Driver driverId=\"raikkonen\" code=\"RAI\" url=\"http://en.wikipedia.org/wiki/Kimi_R%C3%A4ikk%C3%B6nen\">\\n\\t\\t\\t\\t\\t<PermanentNumber>7</PermanentNumber>\\n\\t\\t\\t\\t\\t<GivenName>Kimi</GivenName>\\n\\t\\t\\t\\t\\t<FamilyName>R\\xc3\\xa4ikk\\xc3\\xb6nen</FamilyName>\\n\\t\\t\\t\\t\\t<DateOfBirth>1979-10-17</DateOfBirth>\\n\\t\\t\\t\\t\\t<Nationality>Finnish</Nationality>\\n\\t\\t\\t\\t</Driver>\\n\\t\\t\\t\\t<Constructor constructorId=\"ferrari\" url=\"http://en.wikipedia.org/wiki/Scuderia_Ferrari\">\\n\\t\\t\\t\\t\\t<Name>Ferrari</Name>\\n\\t\\t\\t\\t\\t<Nationality>Italian</Nationality>\\n\\t\\t\\t\\t</Constructor>\\n\\t\\t\\t</DriverStanding>\\n\\t\\t\\t<DriverStanding position=\"7\" positionText=\"7\" points=\"101\" wins=\"0\">\\n\\t\\t\\t\\t<Driver driverId=\"perez\" code=\"PER\" url=\"http://en.wikipedia.org/wiki/Sergio_P%C3%A9rez\">\\n\\t\\t\\t\\t\\t<PermanentNumber>11</PermanentNumber>\\n\\t\\t\\t\\t\\t<GivenName>Sergio</GivenName>\\n\\t\\t\\t\\t\\t<FamilyName>P\\xc3\\xa9rez</FamilyName>\\n\\t\\t\\t\\t\\t<DateOfBirth>1990-01-26</DateOfBirth>\\n\\t\\t\\t\\t\\t<Nationality>Mexican</Nationality>\\n\\t\\t\\t\\t</Driver>\\n\\t\\t\\t\\t<Constructor constructorId=\"force_india\" url=\"http://en.wikipedia.org/wiki/Racing_Point_Force_India\">\\n\\t\\t\\t\\t\\t<Name>Force India</Name>\\n\\t\\t\\t\\t\\t<Nationality>Indian</Nationality>\\n\\t\\t\\t\\t</Constructor>\\n\\t\\t\\t</DriverStanding>\\n\\t\\t\\t<DriverStanding position=\"8\" positionText=\"8\" points=\"85\" wins=\"0\">\\n\\t\\t\\t\\t<Driver driverId=\"bottas\" code=\"BOT\" url=\"http://en.wikipedia.org/wiki/Valtteri_Bottas\">\\n\\t\\t\\t\\t\\t<PermanentNumber>77</PermanentNumber>\\n\\t\\t\\t\\t\\t<GivenName>Valtteri</GivenName>\\n\\t\\t\\t\\t\\t<FamilyName>Bottas</FamilyName>\\n\\t\\t\\t\\t\\t<DateOfBirth>1989-08-28</DateOfBirth>\\n\\t\\t\\t\\t\\t<Nationality>Finnish</Nationality>\\n\\t\\t\\t\\t</Driver>\\n\\t\\t\\t\\t<Constructor constructorId=\"williams\" url=\"http://en.wikipedia.org/wiki/Williams_Grand_Prix_Engineering\">\\n\\t\\t\\t\\t\\t<Name>Williams</Name>\\n\\t\\t\\t\\t\\t<Nationality>British</Nationality>\\n\\t\\t\\t\\t</Constructor>\\n\\t\\t\\t</DriverStanding>\\n\\t\\t\\t<DriverStanding position=\"9\" positionText=\"9\" points=\"72\" wins=\"0\">\\n\\t\\t\\t\\t<Driver driverId=\"hulkenberg\" code=\"HUL\" url=\"http://en.wikipedia.org/wiki/Nico_H%C3%BClkenberg\">\\n\\t\\t\\t\\t\\t<PermanentNumber>27</PermanentNumber>\\n\\t\\t\\t\\t\\t<GivenName>Nico</GivenName>\\n\\t\\t\\t\\t\\t<FamilyName>H\\xc3\\xbclkenberg</FamilyName>\\n\\t\\t\\t\\t\\t<DateOfBirth>1987-08-19</DateOfBirth>\\n\\t\\t\\t\\t\\t<Nationality>German</Nationality>\\n\\t\\t\\t\\t</Driver>\\n\\t\\t\\t\\t<Constructor constructorId=\"force_india\" url=\"http://en.wikipedia.org/wiki/Racing_Point_Force_India\">\\n\\t\\t\\t\\t\\t<Name>Force India</Name>\\n\\t\\t\\t\\t\\t<Nationality>Indian</Nationality>\\n\\t\\t\\t\\t</Constructor>\\n\\t\\t\\t</DriverStanding>\\n\\t\\t\\t<DriverStanding position=\"10\" positionText=\"10\" points=\"54\" wins=\"0\">\\n\\t\\t\\t\\t<Driver driverId=\"alonso\" code=\"ALO\" url=\"http://en.wikipedia.org/wiki/Fernando_Alonso\">\\n\\t\\t\\t\\t\\t<PermanentNumber>14</PermanentNumber>\\n\\t\\t\\t\\t\\t<GivenName>Fernando</GivenName>\\n\\t\\t\\t\\t\\t<FamilyName>Alonso</FamilyName>\\n\\t\\t\\t\\t\\t<DateOfBirth>1981-07-29</DateOfBirth>\\n\\t\\t\\t\\t\\t<Nationality>Spanish</Nationality>\\n\\t\\t\\t\\t</Driver>\\n\\t\\t\\t\\t<Constructor constructorId=\"mclaren\" url=\"http://en.wikipedia.org/wiki/McLaren\">\\n\\t\\t\\t\\t\\t<Name>McLaren</Name>\\n\\t\\t\\t\\t\\t<Nationality>British</Nationality>\\n\\t\\t\\t\\t</Constructor>\\n\\t\\t\\t</DriverStanding>\\n\\t\\t\\t<DriverStanding position=\"11\" positionText=\"11\" points=\"53\" wins=\"0\">\\n\\t\\t\\t\\t<Driver driverId=\"massa\" code=\"MAS\" url=\"http://en.wikipedia.org/wiki/Felipe_Massa\">\\n\\t\\t\\t\\t\\t<PermanentNumber>19</PermanentNumber>\\n\\t\\t\\t\\t\\t<GivenName>Felipe</GivenName>\\n\\t\\t\\t\\t\\t<FamilyName>Massa</FamilyName>\\n\\t\\t\\t\\t\\t<DateOfBirth>1981-04-25</DateOfBirth>\\n\\t\\t\\t\\t\\t<Nationality>Brazilian</Nationality>\\n\\t\\t\\t\\t</Driver>\\n\\t\\t\\t\\t<Constructor constructorId=\"williams\" url=\"http://en.wikipedia.org/wiki/Williams_Grand_Prix_Engineering\">\\n\\t\\t\\t\\t\\t<Name>Williams</Name>\\n\\t\\t\\t\\t\\t<Nationality>British</Nationality>\\n\\t\\t\\t\\t</Constructor>\\n\\t\\t\\t</DriverStanding>\\n\\t\\t\\t<DriverStanding position=\"12\" positionText=\"12\" points=\"46\" wins=\"0\">\\n\\t\\t\\t\\t<Driver driverId=\"sainz\" code=\"SAI\" url=\"http://en.wikipedia.org/wiki/Carlos_Sainz_Jr.\">\\n\\t\\t\\t\\t\\t<PermanentNumber>55</PermanentNumber>\\n\\t\\t\\t\\t\\t<GivenName>Carlos</GivenName>\\n\\t\\t\\t\\t\\t<FamilyName>Sainz</FamilyName>\\n\\t\\t\\t\\t\\t<DateOfBirth>1994-09-01</DateOfBirth>\\n\\t\\t\\t\\t\\t<Nationality>Spanish</Nationality>\\n\\t\\t\\t\\t</Driver>\\n\\t\\t\\t\\t<Constructor constructorId=\"toro_rosso\" url=\"http://en.wikipedia.org/wiki/Scuderia_Toro_Rosso\">\\n\\t\\t\\t\\t\\t<Name>Toro Rosso</Name>\\n\\t\\t\\t\\t\\t<Nationality>Italian</Nationality>\\n\\t\\t\\t\\t</Constructor>\\n\\t\\t\\t</DriverStanding>\\n\\t\\t\\t<DriverStanding position=\"13\" positionText=\"13\" points=\"29\" wins=\"0\">\\n\\t\\t\\t\\t<Driver driverId=\"grosjean\" code=\"GRO\" url=\"http://en.wikipedia.org/wiki/Romain_Grosjean\">\\n\\t\\t\\t\\t\\t<PermanentNumber>8</PermanentNumber>\\n\\t\\t\\t\\t\\t<GivenName>Romain</GivenName>\\n\\t\\t\\t\\t\\t<FamilyName>Grosjean</FamilyName>\\n\\t\\t\\t\\t\\t<DateOfBirth>1986-04-17</DateOfBirth>\\n\\t\\t\\t\\t\\t<Nationality>French</Nationality>\\n\\t\\t\\t\\t</Driver>\\n\\t\\t\\t\\t<Constructor constructorId=\"haas\" url=\"http://en.wikipedia.org/wiki/Haas_F1_Team\">\\n\\t\\t\\t\\t\\t<Name>Haas F1 Team</Name>\\n\\t\\t\\t\\t\\t<Nationality>American</Nationality>\\n\\t\\t\\t\\t</Constructor>\\n\\t\\t\\t</DriverStanding>\\n\\t\\t\\t<DriverStanding position=\"14\" positionText=\"14\" points=\"25\" wins=\"0\">\\n\\t\\t\\t\\t<Driver driverId=\"kvyat\" code=\"KVY\" url=\"http://en.wikipedia.org/wiki/Daniil_Kvyat\">\\n\\t\\t\\t\\t\\t<PermanentNumber>26</PermanentNumber>\\n\\t\\t\\t\\t\\t<GivenName>Daniil</GivenName>\\n\\t\\t\\t\\t\\t<FamilyName>Kvyat</FamilyName>\\n\\t\\t\\t\\t\\t<DateOfBirth>1994-04-26</DateOfBirth>\\n\\t\\t\\t\\t\\t<Nationality>Russian</Nationality>\\n\\t\\t\\t\\t</Driver>\\n\\t\\t\\t\\t<Constructor constructorId=\"red_bull\" url=\"http://en.wikipedia.org/wiki/Red_Bull_Racing\">\\n\\t\\t\\t\\t\\t<Name>Red Bull</Name>\\n\\t\\t\\t\\t\\t<Nationality>Austrian</Nationality>\\n\\t\\t\\t\\t</Constructor>\\n\\t\\t\\t\\t<Constructor constructorId=\"toro_rosso\" url=\"http://en.wikipedia.org/wiki/Scuderia_Toro_Rosso\">\\n\\t\\t\\t\\t\\t<Name>Toro Rosso</Name>\\n\\t\\t\\t\\t\\t<Nationality>Italian</Nationality>\\n\\t\\t\\t\\t</Constructor>\\n\\t\\t\\t</DriverStanding>\\n\\t\\t\\t<DriverStanding position=\"15\" positionText=\"15\" points=\"21\" wins=\"0\">\\n\\t\\t\\t\\t<Driver driverId=\"button\" code=\"BUT\" url=\"http://en.wikipedia.org/wiki/Jenson_Button\">\\n\\t\\t\\t\\t\\t<PermanentNumber>22</PermanentNumber>\\n\\t\\t\\t\\t\\t<GivenName>Jenson</GivenName>\\n\\t\\t\\t\\t\\t<FamilyName>Button</FamilyName>\\n\\t\\t\\t\\t\\t<DateOfBirth>1980-01-19</DateOfBirth>\\n\\t\\t\\t\\t\\t<Nationality>British</Nationality>\\n\\t\\t\\t\\t</Driver>\\n\\t\\t\\t\\t<Constructor constructorId=\"mclaren\" url=\"http://en.wikipedia.org/wiki/McLaren\">\\n\\t\\t\\t\\t\\t<Name>McLaren</Name>\\n\\t\\t\\t\\t\\t<Nationality>British</Nationality>\\n\\t\\t\\t\\t</Constructor>\\n\\t\\t\\t</DriverStanding>\\n\\t\\t\\t<DriverStanding position=\"16\" positionText=\"16\" points=\"7\" wins=\"0\">\\n\\t\\t\\t\\t<Driver driverId=\"kevin_magnussen\" code=\"MAG\" url=\"http://en.wikipedia.org/wiki/Kevin_Magnussen\">\\n\\t\\t\\t\\t\\t<PermanentNumber>20</PermanentNumber>\\n\\t\\t\\t\\t\\t<GivenName>Kevin</GivenName>\\n\\t\\t\\t\\t\\t<FamilyName>Magnussen</FamilyName>\\n\\t\\t\\t\\t\\t<DateOfBirth>1992-10-05</DateOfBirth>\\n\\t\\t\\t\\t\\t<Nationality>Danish</Nationality>\\n\\t\\t\\t\\t</Driver>\\n\\t\\t\\t\\t<Constructor constructorId=\"renault\" url=\"http://en.wikipedia.org/wiki/Renault_in_Formula_One\">\\n\\t\\t\\t\\t\\t<Name>Renault</Name>\\n\\t\\t\\t\\t\\t<Nationality>French</Nationality>\\n\\t\\t\\t\\t</Constructor>\\n\\t\\t\\t</DriverStanding>\\n\\t\\t\\t<DriverStanding position=\"17\" positionText=\"17\" points=\"2\" wins=\"0\">\\n\\t\\t\\t\\t<Driver driverId=\"nasr\" code=\"NAS\" url=\"http://en.wikipedia.org/wiki/Felipe_Nasr\">\\n\\t\\t\\t\\t\\t<PermanentNumber>12</PermanentNumber>\\n\\t\\t\\t\\t\\t<GivenName>Felipe</GivenName>\\n\\t\\t\\t\\t\\t<FamilyName>Nasr</FamilyName>\\n\\t\\t\\t\\t\\t<DateOfBirth>1992-08-21</DateOfBirth>\\n\\t\\t\\t\\t\\t<Nationality>Brazilian</Nationality>\\n\\t\\t\\t\\t</Driver>\\n\\t\\t\\t\\t<Constructor constructorId=\"sauber\" url=\"http://en.wikipedia.org/wiki/Sauber\">\\n\\t\\t\\t\\t\\t<Name>Sauber</Name>\\n\\t\\t\\t\\t\\t<Nationality>Swiss</Nationality>\\n\\t\\t\\t\\t</Constructor>\\n\\t\\t\\t</DriverStanding>\\n\\t\\t\\t<DriverStanding position=\"18\" positionText=\"18\" points=\"1\" wins=\"0\">\\n\\t\\t\\t\\t<Driver driverId=\"jolyon_palmer\" code=\"PAL\" url=\"http://en.wikipedia.org/wiki/Jolyon_Palmer\">\\n\\t\\t\\t\\t\\t<PermanentNumber>30</PermanentNumber>\\n\\t\\t\\t\\t\\t<GivenName>Jolyon</GivenName>\\n\\t\\t\\t\\t\\t<FamilyName>Palmer</FamilyName>\\n\\t\\t\\t\\t\\t<DateOfBirth>1991-01-20</DateOfBirth>\\n\\t\\t\\t\\t\\t<Nationality>British</Nationality>\\n\\t\\t\\t\\t</Driver>\\n\\t\\t\\t\\t<Constructor constructorId=\"renault\" url=\"http://en.wikipedia.org/wiki/Renault_in_Formula_One\">\\n\\t\\t\\t\\t\\t<Name>Renault</Name>\\n\\t\\t\\t\\t\\t<Nationality>French</Nationality>\\n\\t\\t\\t\\t</Constructor>\\n\\t\\t\\t</DriverStanding>\\n\\t\\t\\t<DriverStanding position=\"19\" positionText=\"19\" points=\"1\" wins=\"0\">\\n\\t\\t\\t\\t<Driver driverId=\"wehrlein\" code=\"WEH\" url=\"http://en.wikipedia.org/wiki/Pascal_Wehrlein\">\\n\\t\\t\\t\\t\\t<PermanentNumber>94</PermanentNumber>\\n\\t\\t\\t\\t\\t<GivenName>Pascal</GivenName>\\n\\t\\t\\t\\t\\t<FamilyName>Wehrlein</FamilyName>\\n\\t\\t\\t\\t\\t<DateOfBirth>1994-10-18</DateOfBirth>\\n\\t\\t\\t\\t\\t<Nationality>German</Nationality>\\n\\t\\t\\t\\t</Driver>\\n\\t\\t\\t\\t<Constructor constructorId=\"manor\" url=\"http://en.wikipedia.org/wiki/Manor_Motorsport\">\\n\\t\\t\\t\\t\\t<Name>Manor Marussia</Name>\\n\\t\\t\\t\\t\\t<Nationality>British</Nationality>\\n\\t\\t\\t\\t</Constructor>\\n\\t\\t\\t</DriverStanding>\\n\\t\\t\\t<DriverStanding position=\"20\" positionText=\"20\" points=\"1\" wins=\"0\">\\n\\t\\t\\t\\t<Driver driverId=\"vandoorne\" code=\"VAN\" url=\"http://en.wikipedia.org/wiki/Stoffel_Vandoorne\">\\n\\t\\t\\t\\t\\t<PermanentNumber>2</PermanentNumber>\\n\\t\\t\\t\\t\\t<GivenName>Stoffel</GivenName>\\n\\t\\t\\t\\t\\t<FamilyName>Vandoorne</FamilyName>\\n\\t\\t\\t\\t\\t<DateOfBirth>1992-03-26</DateOfBirth>\\n\\t\\t\\t\\t\\t<Nationality>Belgian</Nationality>\\n\\t\\t\\t\\t</Driver>\\n\\t\\t\\t\\t<Constructor constructorId=\"mclaren\" url=\"http://en.wikipedia.org/wiki/McLaren\">\\n\\t\\t\\t\\t\\t<Name>McLaren</Name>\\n\\t\\t\\t\\t\\t<Nationality>British</Nationality>\\n\\t\\t\\t\\t</Constructor>\\n\\t\\t\\t</DriverStanding>\\n\\t\\t\\t<DriverStanding position=\"21\" positionText=\"21\" points=\"0\" wins=\"0\">\\n\\t\\t\\t\\t<Driver driverId=\"gutierrez\" code=\"GUT\" url=\"http://en.wikipedia.org/wiki/Esteban_Guti%C3%A9rrez\">\\n\\t\\t\\t\\t\\t<PermanentNumber>21</PermanentNumber>\\n\\t\\t\\t\\t\\t<GivenName>Esteban</GivenName>\\n\\t\\t\\t\\t\\t<FamilyName>Guti\\xc3\\xa9rrez</FamilyName>\\n\\t\\t\\t\\t\\t<DateOfBirth>1991-08-05</DateOfBirth>\\n\\t\\t\\t\\t\\t<Nationality>Mexican</Nationality>\\n\\t\\t\\t\\t</Driver>\\n\\t\\t\\t\\t<Constructor constructorId=\"haas\" url=\"http://en.wikipedia.org/wiki/Haas_F1_Team\">\\n\\t\\t\\t\\t\\t<Name>Haas F1 Team</Name>\\n\\t\\t\\t\\t\\t<Nationality>American</Nationality>\\n\\t\\t\\t\\t</Constructor>\\n\\t\\t\\t</DriverStanding>\\n\\t\\t\\t<DriverStanding position=\"22\" positionText=\"22\" points=\"0\" wins=\"0\">\\n\\t\\t\\t\\t<Driver driverId=\"ericsson\" code=\"ERI\" url=\"http://en.wikipedia.org/wiki/Marcus_Ericsson\">\\n\\t\\t\\t\\t\\t<PermanentNumber>9</PermanentNumber>\\n\\t\\t\\t\\t\\t<GivenName>Marcus</GivenName>\\n\\t\\t\\t\\t\\t<FamilyName>Ericsson</FamilyName>\\n\\t\\t\\t\\t\\t<DateOfBirth>1990-09-02</DateOfBirth>\\n\\t\\t\\t\\t\\t<Nationality>Swedish</Nationality>\\n\\t\\t\\t\\t</Driver>\\n\\t\\t\\t\\t<Constructor constructorId=\"sauber\" url=\"http://en.wikipedia.org/wiki/Sauber\">\\n\\t\\t\\t\\t\\t<Name>Sauber</Name>\\n\\t\\t\\t\\t\\t<Nationality>Swiss</Nationality>\\n\\t\\t\\t\\t</Constructor>\\n\\t\\t\\t</DriverStanding>\\n\\t\\t\\t<DriverStanding position=\"23\" positionText=\"23\" points=\"0\" wins=\"0\">\\n\\t\\t\\t\\t<Driver driverId=\"ocon\" code=\"OCO\" url=\"http://en.wikipedia.org/wiki/Esteban_Ocon\">\\n\\t\\t\\t\\t\\t<PermanentNumber>31</PermanentNumber>\\n\\t\\t\\t\\t\\t<GivenName>Esteban</GivenName>\\n\\t\\t\\t\\t\\t<FamilyName>Ocon</FamilyName>\\n\\t\\t\\t\\t\\t<DateOfBirth>1996-09-17</DateOfBirth>\\n\\t\\t\\t\\t\\t<Nationality>French</Nationality>\\n\\t\\t\\t\\t</Driver>\\n\\t\\t\\t\\t<Constructor constructorId=\"manor\" url=\"http://en.wikipedia.org/wiki/Manor_Motorsport\">\\n\\t\\t\\t\\t\\t<Name>Manor Marussia</Name>\\n\\t\\t\\t\\t\\t<Nationality>British</Nationality>\\n\\t\\t\\t\\t</Constructor>\\n\\t\\t\\t</DriverStanding>\\n\\t\\t\\t<DriverStanding position=\"24\" positionText=\"24\" points=\"0\" wins=\"0\">\\n\\t\\t\\t\\t<Driver driverId=\"haryanto\" code=\"HAR\" url=\"http://en.wikipedia.org/wiki/Rio_Haryanto\">\\n\\t\\t\\t\\t\\t<PermanentNumber>88</PermanentNumber>\\n\\t\\t\\t\\t\\t<GivenName>Rio</GivenName>\\n\\t\\t\\t\\t\\t<FamilyName>Haryanto</FamilyName>\\n\\t\\t\\t\\t\\t<DateOfBirth>1993-01-22</DateOfBirth>\\n\\t\\t\\t\\t\\t<Nationality>Indonesian</Nationality>\\n\\t\\t\\t\\t</Driver>\\n\\t\\t\\t\\t<Constructor constructorId=\"manor\" url=\"http://en.wikipedia.org/wiki/Manor_Motorsport\">\\n\\t\\t\\t\\t\\t<Name>Manor Marussia</Name>\\n\\t\\t\\t\\t\\t<Nationality>British</Nationality>\\n\\t\\t\\t\\t</Constructor>\\n\\t\\t\\t</DriverStanding>\\n\\t\\t</StandingsList>\\n\\t</StandingsTable>\\n</MRData>\\n'\n"
          ],
          "name": "stdout"
        }
      ]
    },
    {
      "cell_type": "markdown",
      "metadata": {
        "id": "Hs-NKVLsh7R8"
      },
      "source": [
        "# Change of pace\n",
        "I'm going to take a complete left turn. \n",
        "\n",
        "I think it would be better to have have to data I get be a JSON file instead of an xml. It is faster to parse AND I believe it would be easier to work with. "
      ]
    },
    {
      "cell_type": "code",
      "metadata": {
        "colab": {
          "base_uri": "https://localhost:8080/",
          "height": 35
        },
        "id": "MDWm7r-XsT6m",
        "outputId": "15dad327-bc33-4c87-d6a0-2540cda1693e"
      },
      "source": [
        "# Quick test Seeing how I would get a JSON \n",
        "import json\n",
        "\n",
        "j = 2016\n",
        "length = 0\n",
        "\n",
        "url = \"http://ergast.com/api/f1/{year}/{round}/driverStandings.json\"\n",
        "url1 = url.format(year = str(j), round = str(length))\n",
        "\n",
        "url1"
      ],
      "execution_count": null,
      "outputs": [
        {
          "output_type": "execute_result",
          "data": {
            "application/vnd.google.colaboratory.intrinsic+json": {
              "type": "string"
            },
            "text/plain": [
              "'http://ergast.com/api/f1/2016/0/driverStandings.json'"
            ]
          },
          "metadata": {
            "tags": []
          },
          "execution_count": 1
        }
      ]
    },
    {
      "cell_type": "code",
      "metadata": {
        "id": "02gzeQfBtEQx"
      },
      "source": [
        "import requests \n",
        "\n",
        "response = requests.get(url1)\n",
        "standing = json.loads(response.text)"
      ],
      "execution_count": null,
      "outputs": []
    },
    {
      "cell_type": "code",
      "metadata": {
        "id": "W0wDIhontyAi"
      },
      "source": [
        "import pandas as pd \n",
        "\n",
        "df = pd.DataFrame()\n",
        "\n",
        "column_list = ['First_Name', 'Last_Name', 'Nationality', 'Number', \n",
        "               'Points', 'Position', 'Wins']"
      ],
      "execution_count": null,
      "outputs": []
    },
    {
      "cell_type": "markdown",
      "metadata": {
        "id": "F6-Re-6o2rd5"
      },
      "source": [
        "# New Data Extraction Function\n",
        "\n",
        "Using what I've learned from my spotify project, I'm going to create a function that will take my scrapped data and return it as a pandas dataframe. "
      ]
    },
    {
      "cell_type": "code",
      "metadata": {
        "colab": {
          "base_uri": "https://localhost:8080/",
          "height": 35
        },
        "id": "PilWNN19Py9R",
        "outputId": "543a66b3-8745-438f-d9eb-f323c9eebe10"
      },
      "source": [
        "# live test to see how I'm going to parse the data to get what I need for each column\n",
        "years = 2020\n",
        "rounds = 3\n",
        "url = \"http://ergast.com/api/f1/{year}/{round}/driverStandings.json\"\n",
        "url1 = url.format(year = str(years), round = str(rounds))\n",
        "standing['MRData']['StandingsTable']['StandingsLists'][0]['DriverStandings'][1]['Driver']['nationality']"
      ],
      "execution_count": null,
      "outputs": [
        {
          "output_type": "execute_result",
          "data": {
            "application/vnd.google.colaboratory.intrinsic+json": {
              "type": "string"
            },
            "text/plain": [
              "'British'"
            ]
          },
          "metadata": {
            "tags": []
          },
          "execution_count": 40
        }
      ]
    },
    {
      "cell_type": "code",
      "metadata": {
        "id": "RN8_VgGk24fJ"
      },
      "source": [
        "# This is a test function to get test data. \n",
        "# Keeping it simple and controlled\n",
        "def GetStandings(years, rounds):\n",
        "  '''\n",
        "    Simple function that returns a dataframe that contains the \n",
        "    year and round of a race and how the drivers place on it. \n",
        "  '''\n",
        "  # making sure the inputs are strings \n",
        "  url = \"http://ergast.com/api/f1/{year}/{round}/driverStandings.json\"\n",
        "  url1 = url.format(year = str(years), round = str(rounds))\n",
        "\n",
        "  # now creating my dataframe \n",
        "  df = pd.DataFrame()\n",
        "\n",
        "  # getting my dict that I will turn into a dataframe\n",
        "  response = requests.get(url1)\n",
        "  standing = json.loads(response.text)\n",
        "\n",
        "  # with that info creating my columns \n",
        "  column_list = ['Year', 'Round', 'First_Name', 'Last_Name', \n",
        "                 'Track', 'Points', 'Position', \n",
        "                 'Wins']\n",
        "\n",
        "  # now with that done time to take my dict and make \n",
        "  # it a data frame \n",
        "  i = 0\n",
        "\n",
        "  # this determines how long the loop goes so we don't get an index error!\n",
        "  length = int(standing['MRData']['total'])\n",
        "  \n",
        "  # This is going to be another variable, which will \n",
        "  # Get the track name of the round that it's in \n",
        "  url = \"http://ergast.com/api/f1/{year}/{round}/qualifying.json\".format(year = str(years), round = str(rounds))\n",
        "  response = requests.get(url)\n",
        "  track = json.loads(response.text)\n",
        "  # This will be my final dataframe\n",
        "  standing_df = pd.DataFrame(columns=column_list)\n",
        "\n",
        "  # Using a while loop since every season has a different number of drivers\n",
        "  # Want this program to work in the long run. \n",
        "  while i < length:\n",
        "    driver_features = {}\n",
        "    # getting the data I need\n",
        "    driver_features['Year'] = int(years)\n",
        "    driver_features['Round'] = int(rounds)\n",
        "    driver_features['First_Name'] = standing['MRData']['StandingsTable']['StandingsLists'][0]['DriverStandings'][i]['Driver']['givenName']\n",
        "    driver_features['Last_Name'] = standing['MRData']['StandingsTable']['StandingsLists'][0]['DriverStandings'][i]['Driver']['familyName']\n",
        "    driver_features['Track'] = track[\"MRData\"][\"RaceTable\"][\"Races\"][0]['Circuit']['circuitId']\n",
        "    driver_features['Points'] = standing['MRData']['StandingsTable']['StandingsLists'][0]['DriverStandings'][i]['points']\n",
        "    driver_features['Position'] = standing['MRData']['StandingsTable']['StandingsLists'][0]['DriverStandings'][i]['position']\n",
        "    driver_features['Wins'] = standing['MRData']['StandingsTable']['StandingsLists'][0]['DriverStandings'][i]['wins']\n",
        "    i+=1\n",
        "\n",
        "    standing_df1 = pd.DataFrame(driver_features, index= [0])\n",
        "    standing_df = pd.concat([standing_df, standing_df1], ignore_index=True)\n",
        "  return standing_df"
      ],
      "execution_count": null,
      "outputs": []
    },
    {
      "cell_type": "code",
      "metadata": {
        "colab": {
          "base_uri": "https://localhost:8080/",
          "height": 35
        },
        "id": "EPbv4EvFfrP6",
        "outputId": "d098faba-6151-4253-fc31-758dfd97d546"
      },
      "source": [
        "import requests\n",
        "import json \n",
        "import pandas as pd \n",
        "\n",
        "url = \"http://ergast.com/api/f1/{year}/{round}/qualifying.json\".format(year = \"2016\", round = '3')\n",
        "\n",
        "response = requests.get(url)\n",
        "test = json.loads(response.text)\n",
        "test['MRData']['RaceTable']['Races'][0]['Circuit']['circuitId']"
      ],
      "execution_count": null,
      "outputs": [
        {
          "output_type": "execute_result",
          "data": {
            "application/vnd.google.colaboratory.intrinsic+json": {
              "type": "string"
            },
            "text/plain": [
              "'shanghai'"
            ]
          },
          "metadata": {
            "tags": []
          },
          "execution_count": 45
        }
      ]
    },
    {
      "cell_type": "markdown",
      "metadata": {
        "id": "hsTieFr3-NIi"
      },
      "source": [
        "My current problem is that no matter how I set the loop up, I seem to only get one result with my dataframe. \n",
        "\n",
        "fixed it by creating a dataframe outside the loop and concatted the newly created one to the other one until the loop is done. it was overwriting itself the entire time. LOL\n",
        "\n",
        "my second problem is that sometimes the total number of drivers is less than the actual number\n",
        "\n",
        "The fix was simple, an overthinking part on my side. forgot that the json I'm working with already had the number of drivers in it already. used that to count the total instead. \n"
      ]
    },
    {
      "cell_type": "code",
      "metadata": {
        "colab": {
          "base_uri": "https://localhost:8080/",
          "height": 648
        },
        "id": "qqxmMquB9oht",
        "outputId": "8d6ed11c-62bd-4255-ec88-8a74ab066ccc"
      },
      "source": [
        "GetStandings(2020, 3)"
      ],
      "execution_count": null,
      "outputs": [
        {
          "output_type": "execute_result",
          "data": {
            "text/html": [
              "<div>\n",
              "<style scoped>\n",
              "    .dataframe tbody tr th:only-of-type {\n",
              "        vertical-align: middle;\n",
              "    }\n",
              "\n",
              "    .dataframe tbody tr th {\n",
              "        vertical-align: top;\n",
              "    }\n",
              "\n",
              "    .dataframe thead th {\n",
              "        text-align: right;\n",
              "    }\n",
              "</style>\n",
              "<table border=\"1\" class=\"dataframe\">\n",
              "  <thead>\n",
              "    <tr style=\"text-align: right;\">\n",
              "      <th></th>\n",
              "      <th>Year</th>\n",
              "      <th>Round</th>\n",
              "      <th>First_Name</th>\n",
              "      <th>Last_Name</th>\n",
              "      <th>Track</th>\n",
              "      <th>Points</th>\n",
              "      <th>Position</th>\n",
              "      <th>Wins</th>\n",
              "    </tr>\n",
              "  </thead>\n",
              "  <tbody>\n",
              "    <tr>\n",
              "      <th>0</th>\n",
              "      <td>2020</td>\n",
              "      <td>3</td>\n",
              "      <td>Lewis</td>\n",
              "      <td>Hamilton</td>\n",
              "      <td>hungaroring</td>\n",
              "      <td>63</td>\n",
              "      <td>1</td>\n",
              "      <td>2</td>\n",
              "    </tr>\n",
              "    <tr>\n",
              "      <th>1</th>\n",
              "      <td>2020</td>\n",
              "      <td>3</td>\n",
              "      <td>Valtteri</td>\n",
              "      <td>Bottas</td>\n",
              "      <td>hungaroring</td>\n",
              "      <td>58</td>\n",
              "      <td>2</td>\n",
              "      <td>1</td>\n",
              "    </tr>\n",
              "    <tr>\n",
              "      <th>2</th>\n",
              "      <td>2020</td>\n",
              "      <td>3</td>\n",
              "      <td>Max</td>\n",
              "      <td>Verstappen</td>\n",
              "      <td>hungaroring</td>\n",
              "      <td>33</td>\n",
              "      <td>3</td>\n",
              "      <td>0</td>\n",
              "    </tr>\n",
              "    <tr>\n",
              "      <th>3</th>\n",
              "      <td>2020</td>\n",
              "      <td>3</td>\n",
              "      <td>Lando</td>\n",
              "      <td>Norris</td>\n",
              "      <td>hungaroring</td>\n",
              "      <td>26</td>\n",
              "      <td>4</td>\n",
              "      <td>0</td>\n",
              "    </tr>\n",
              "    <tr>\n",
              "      <th>4</th>\n",
              "      <td>2020</td>\n",
              "      <td>3</td>\n",
              "      <td>Alexander</td>\n",
              "      <td>Albon</td>\n",
              "      <td>hungaroring</td>\n",
              "      <td>22</td>\n",
              "      <td>5</td>\n",
              "      <td>0</td>\n",
              "    </tr>\n",
              "    <tr>\n",
              "      <th>5</th>\n",
              "      <td>2020</td>\n",
              "      <td>3</td>\n",
              "      <td>Sergio</td>\n",
              "      <td>Pérez</td>\n",
              "      <td>hungaroring</td>\n",
              "      <td>22</td>\n",
              "      <td>6</td>\n",
              "      <td>0</td>\n",
              "    </tr>\n",
              "    <tr>\n",
              "      <th>6</th>\n",
              "      <td>2020</td>\n",
              "      <td>3</td>\n",
              "      <td>Charles</td>\n",
              "      <td>Leclerc</td>\n",
              "      <td>hungaroring</td>\n",
              "      <td>18</td>\n",
              "      <td>7</td>\n",
              "      <td>0</td>\n",
              "    </tr>\n",
              "    <tr>\n",
              "      <th>7</th>\n",
              "      <td>2020</td>\n",
              "      <td>3</td>\n",
              "      <td>Lance</td>\n",
              "      <td>Stroll</td>\n",
              "      <td>hungaroring</td>\n",
              "      <td>18</td>\n",
              "      <td>8</td>\n",
              "      <td>0</td>\n",
              "    </tr>\n",
              "    <tr>\n",
              "      <th>8</th>\n",
              "      <td>2020</td>\n",
              "      <td>3</td>\n",
              "      <td>Carlos</td>\n",
              "      <td>Sainz</td>\n",
              "      <td>hungaroring</td>\n",
              "      <td>15</td>\n",
              "      <td>9</td>\n",
              "      <td>0</td>\n",
              "    </tr>\n",
              "    <tr>\n",
              "      <th>9</th>\n",
              "      <td>2020</td>\n",
              "      <td>3</td>\n",
              "      <td>Sebastian</td>\n",
              "      <td>Vettel</td>\n",
              "      <td>hungaroring</td>\n",
              "      <td>9</td>\n",
              "      <td>10</td>\n",
              "      <td>0</td>\n",
              "    </tr>\n",
              "    <tr>\n",
              "      <th>10</th>\n",
              "      <td>2020</td>\n",
              "      <td>3</td>\n",
              "      <td>Daniel</td>\n",
              "      <td>Ricciardo</td>\n",
              "      <td>hungaroring</td>\n",
              "      <td>8</td>\n",
              "      <td>11</td>\n",
              "      <td>0</td>\n",
              "    </tr>\n",
              "    <tr>\n",
              "      <th>11</th>\n",
              "      <td>2020</td>\n",
              "      <td>3</td>\n",
              "      <td>Pierre</td>\n",
              "      <td>Gasly</td>\n",
              "      <td>hungaroring</td>\n",
              "      <td>6</td>\n",
              "      <td>12</td>\n",
              "      <td>0</td>\n",
              "    </tr>\n",
              "    <tr>\n",
              "      <th>12</th>\n",
              "      <td>2020</td>\n",
              "      <td>3</td>\n",
              "      <td>Esteban</td>\n",
              "      <td>Ocon</td>\n",
              "      <td>hungaroring</td>\n",
              "      <td>4</td>\n",
              "      <td>13</td>\n",
              "      <td>0</td>\n",
              "    </tr>\n",
              "    <tr>\n",
              "      <th>13</th>\n",
              "      <td>2020</td>\n",
              "      <td>3</td>\n",
              "      <td>Antonio</td>\n",
              "      <td>Giovinazzi</td>\n",
              "      <td>hungaroring</td>\n",
              "      <td>2</td>\n",
              "      <td>14</td>\n",
              "      <td>0</td>\n",
              "    </tr>\n",
              "    <tr>\n",
              "      <th>14</th>\n",
              "      <td>2020</td>\n",
              "      <td>3</td>\n",
              "      <td>Daniil</td>\n",
              "      <td>Kvyat</td>\n",
              "      <td>hungaroring</td>\n",
              "      <td>1</td>\n",
              "      <td>15</td>\n",
              "      <td>0</td>\n",
              "    </tr>\n",
              "    <tr>\n",
              "      <th>15</th>\n",
              "      <td>2020</td>\n",
              "      <td>3</td>\n",
              "      <td>Kevin</td>\n",
              "      <td>Magnussen</td>\n",
              "      <td>hungaroring</td>\n",
              "      <td>1</td>\n",
              "      <td>16</td>\n",
              "      <td>0</td>\n",
              "    </tr>\n",
              "    <tr>\n",
              "      <th>16</th>\n",
              "      <td>2020</td>\n",
              "      <td>3</td>\n",
              "      <td>Kimi</td>\n",
              "      <td>Räikkönen</td>\n",
              "      <td>hungaroring</td>\n",
              "      <td>0</td>\n",
              "      <td>17</td>\n",
              "      <td>0</td>\n",
              "    </tr>\n",
              "    <tr>\n",
              "      <th>17</th>\n",
              "      <td>2020</td>\n",
              "      <td>3</td>\n",
              "      <td>Nicholas</td>\n",
              "      <td>Latifi</td>\n",
              "      <td>hungaroring</td>\n",
              "      <td>0</td>\n",
              "      <td>18</td>\n",
              "      <td>0</td>\n",
              "    </tr>\n",
              "    <tr>\n",
              "      <th>18</th>\n",
              "      <td>2020</td>\n",
              "      <td>3</td>\n",
              "      <td>Romain</td>\n",
              "      <td>Grosjean</td>\n",
              "      <td>hungaroring</td>\n",
              "      <td>0</td>\n",
              "      <td>19</td>\n",
              "      <td>0</td>\n",
              "    </tr>\n",
              "    <tr>\n",
              "      <th>19</th>\n",
              "      <td>2020</td>\n",
              "      <td>3</td>\n",
              "      <td>George</td>\n",
              "      <td>Russell</td>\n",
              "      <td>hungaroring</td>\n",
              "      <td>0</td>\n",
              "      <td>20</td>\n",
              "      <td>0</td>\n",
              "    </tr>\n",
              "  </tbody>\n",
              "</table>\n",
              "</div>"
            ],
            "text/plain": [
              "    Year Round First_Name   Last_Name        Track Points Position Wins\n",
              "0   2020     3      Lewis    Hamilton  hungaroring     63        1    2\n",
              "1   2020     3   Valtteri      Bottas  hungaroring     58        2    1\n",
              "2   2020     3        Max  Verstappen  hungaroring     33        3    0\n",
              "3   2020     3      Lando      Norris  hungaroring     26        4    0\n",
              "4   2020     3  Alexander       Albon  hungaroring     22        5    0\n",
              "5   2020     3     Sergio       Pérez  hungaroring     22        6    0\n",
              "6   2020     3    Charles     Leclerc  hungaroring     18        7    0\n",
              "7   2020     3      Lance      Stroll  hungaroring     18        8    0\n",
              "8   2020     3     Carlos       Sainz  hungaroring     15        9    0\n",
              "9   2020     3  Sebastian      Vettel  hungaroring      9       10    0\n",
              "10  2020     3     Daniel   Ricciardo  hungaroring      8       11    0\n",
              "11  2020     3     Pierre       Gasly  hungaroring      6       12    0\n",
              "12  2020     3    Esteban        Ocon  hungaroring      4       13    0\n",
              "13  2020     3    Antonio  Giovinazzi  hungaroring      2       14    0\n",
              "14  2020     3     Daniil       Kvyat  hungaroring      1       15    0\n",
              "15  2020     3      Kevin   Magnussen  hungaroring      1       16    0\n",
              "16  2020     3       Kimi   Räikkönen  hungaroring      0       17    0\n",
              "17  2020     3   Nicholas      Latifi  hungaroring      0       18    0\n",
              "18  2020     3     Romain    Grosjean  hungaroring      0       19    0\n",
              "19  2020     3     George     Russell  hungaroring      0       20    0"
            ]
          },
          "metadata": {
            "tags": []
          },
          "execution_count": 46
        }
      ]
    },
    {
      "cell_type": "markdown",
      "metadata": {
        "id": "s8hxkfwmEL3w"
      },
      "source": [
        "Now since I got the simple function done, time to make the big one again. This time it's much faster and much smaller. \n",
        "\n",
        "I want this function to return the results of the last 5 years "
      ]
    },
    {
      "cell_type": "code",
      "metadata": {
        "id": "sNIpcdaNELCE"
      },
      "source": [
        "from datetime import datetime\n",
        "def GetLast5Years():\n",
        "  '''\n",
        "  This function takes the driver standings from the last \n",
        "  5 years and returns an exported dataframe to work with. \n",
        "  '''\n",
        "  # bringing in the column list once again \n",
        "  # TODO, in VSCODE make sure I can easily import it \n",
        "  # to save memory when running the full app. \n",
        "  column_list = ['Year', 'Round', 'First_Name', 'Last_Name', \n",
        "                 'Track', 'Points', 'Position', \n",
        "                 'Wins']\n",
        "  column_list2 = [\"Year\", \"Round\", \"First_Name\", \"Last_Name\", \n",
        "                  \"Q_Time\"]\n",
        "\n",
        "  # making a new dataframe that will contain all of my variables. \n",
        "  export = pd.DataFrame(columns=column_list)\n",
        "  export1 = pd.DataFrame(columns= column_list2)\n",
        "\n",
        "  # Starting with my first for loop, witch will loop through \n",
        "  # the last 5 years from the current date \n",
        "  today = datetime.today().year\n",
        "  # A temporary fix since the 2021 season hasn't started yet\n",
        "  # TODO, find a way to have to function work if \n",
        "  # The season hasn't started yet. \n",
        "  # Probs just have it do a precheck, if it returns an error\n",
        "  # Skip the year and continue. \n",
        "  if today == 2021:\n",
        "    today -= 1\n",
        "  year_list = []\n",
        "  # Creating my boundries for the loop \n",
        "  for i in range(5):\n",
        "    year_list.append(today)\n",
        "    today -= 1\n",
        "\n",
        "  for race in year_list:\n",
        "    # Grabbing the length of the inner loop. \n",
        "    url4 = \"http://ergast.com/api/f1/{year}/last.json\".format(year=str(race))\n",
        "    response = requests.get(url4)\n",
        "    test = json.loads(response.text)\n",
        "    length = int(test['MRData']['RaceTable']['round'])\n",
        "    \n",
        "\n",
        "    for k in range(length):\n",
        "      # The goal of this loop is to grab the standings for each round \n",
        "      # and add it to the dataframe. \n",
        "      temp2 = get_qualifying(race, k)\n",
        "      temp = GetStandings(race, k)\n",
        "      export = pd.concat([export, temp], ignore_index=True)\n",
        "      export1 = pd.concat([export1, temp2], ignore_index=True)\n",
        "  \n",
        "  done = pd.merge(export1, export, on=['Year', 'Round', 'First_Name', 'Last_Name'])    \n",
        "  return done"
      ],
      "execution_count": null,
      "outputs": []
    },
    {
      "cell_type": "markdown",
      "metadata": {
        "id": "9FsqkTyXF6In"
      },
      "source": [
        "# Getting the qualifying times \r\n",
        "\r\n",
        "This function will grab all of the Q1 times for each driver\r\n",
        "\r\n",
        "TODO: If I do have any spare time, have this function take the drivers fastest time instead of just their Q1 time. Problem is that it will make the function just a bit slower....\r\n"
      ]
    },
    {
      "cell_type": "code",
      "metadata": {
        "id": "LOk-dCoHq5VV"
      },
      "source": [
        "# Writing a function that will get the qualifying times for Q1\n",
        "def get_qualifying(years, rounds):\n",
        "  # making my columns list\n",
        "  column_list = [\"Year\", \"Round\", \"First_Name\", \"Last_Name\", \"Q_Time\"]\n",
        "  # make a new dataframe to write to \n",
        "  export = pd.DataFrame(columns=column_list)\n",
        "  \n",
        "  # now getting the dict\n",
        "  url = \"http://ergast.com/api/f1/{year}/{round}/qualifying.json\".format(year = str(years), round = str(rounds))\n",
        "  response = requests.get(url)\n",
        "  qual = json.loads(response.text)\n",
        "\n",
        "  # Setting the varible for our while loop\n",
        "  i = 0 \n",
        "\n",
        "  length = int(qual['MRData']['total'])\n",
        "\n",
        "  # making a while loop \n",
        "  while i < length: \n",
        "    # creating an if statement to stop the loop if\n",
        "    # nothing is there \n",
        "    try:\n",
        "      # creating an empty dict\n",
        "      qual_feat = {}\n",
        "\n",
        "      # now assigning what I need to this dict\n",
        "      qual_feat[\"Year\"] = int(years)\n",
        "      qual_feat[\"Round\"] = (int(rounds) + 1)\n",
        "      qual_feat[\"First_Name\"] = qual[\"MRData\"][\"RaceTable\"][\"Races\"][0][\"QualifyingResults\"][i]['Driver']['givenName']\n",
        "      qual_feat[\"Last_Name\"] = qual['MRData']['RaceTable']['Races'][0]['QualifyingResults'][i]['Driver']['familyName']\n",
        "      qual_feat[\"Q_Time\"] = qual['MRData']['RaceTable']['Races'][0]['QualifyingResults'][i]['Q1']\n",
        "\n",
        "      # now creating a dataframe to work with this. \n",
        "      quick_df = pd.DataFrame(qual_feat, index= [0])\n",
        "      export = pd.concat([export, quick_df], ignore_index=True)\n",
        "      i+=1\n",
        "    except IndexError:\n",
        "      return export\n",
        "  return export "
      ],
      "execution_count": null,
      "outputs": []
    },
    {
      "cell_type": "code",
      "metadata": {
        "colab": {
          "base_uri": "https://localhost:8080/",
          "height": 407
        },
        "id": "qF7CtrO1IN5w",
        "outputId": "8c84aa5b-992d-4375-bb47-91cc1b27bce4"
      },
      "source": [
        "df = GetLast5Years()\n",
        "df"
      ],
      "execution_count": null,
      "outputs": [
        {
          "output_type": "execute_result",
          "data": {
            "text/html": [
              "<div>\n",
              "<style scoped>\n",
              "    .dataframe tbody tr th:only-of-type {\n",
              "        vertical-align: middle;\n",
              "    }\n",
              "\n",
              "    .dataframe tbody tr th {\n",
              "        vertical-align: top;\n",
              "    }\n",
              "\n",
              "    .dataframe thead th {\n",
              "        text-align: right;\n",
              "    }\n",
              "</style>\n",
              "<table border=\"1\" class=\"dataframe\">\n",
              "  <thead>\n",
              "    <tr style=\"text-align: right;\">\n",
              "      <th></th>\n",
              "      <th>Year</th>\n",
              "      <th>Round</th>\n",
              "      <th>First_Name</th>\n",
              "      <th>Last_Name</th>\n",
              "      <th>Q_Time</th>\n",
              "      <th>Track</th>\n",
              "      <th>Points</th>\n",
              "      <th>Position</th>\n",
              "      <th>Wins</th>\n",
              "    </tr>\n",
              "  </thead>\n",
              "  <tbody>\n",
              "    <tr>\n",
              "      <th>0</th>\n",
              "      <td>2020</td>\n",
              "      <td>1</td>\n",
              "      <td>Valtteri</td>\n",
              "      <td>Bottas</td>\n",
              "      <td>1:04.111</td>\n",
              "      <td>red_bull_ring</td>\n",
              "      <td>25</td>\n",
              "      <td>1</td>\n",
              "      <td>1</td>\n",
              "    </tr>\n",
              "    <tr>\n",
              "      <th>1</th>\n",
              "      <td>2020</td>\n",
              "      <td>1</td>\n",
              "      <td>Lewis</td>\n",
              "      <td>Hamilton</td>\n",
              "      <td>1:04.198</td>\n",
              "      <td>red_bull_ring</td>\n",
              "      <td>12</td>\n",
              "      <td>4</td>\n",
              "      <td>0</td>\n",
              "    </tr>\n",
              "    <tr>\n",
              "      <th>2</th>\n",
              "      <td>2020</td>\n",
              "      <td>1</td>\n",
              "      <td>Max</td>\n",
              "      <td>Verstappen</td>\n",
              "      <td>1:04.024</td>\n",
              "      <td>red_bull_ring</td>\n",
              "      <td>0</td>\n",
              "      <td>20</td>\n",
              "      <td>0</td>\n",
              "    </tr>\n",
              "    <tr>\n",
              "      <th>3</th>\n",
              "      <td>2020</td>\n",
              "      <td>1</td>\n",
              "      <td>Lando</td>\n",
              "      <td>Norris</td>\n",
              "      <td>1:04.606</td>\n",
              "      <td>red_bull_ring</td>\n",
              "      <td>16</td>\n",
              "      <td>3</td>\n",
              "      <td>0</td>\n",
              "    </tr>\n",
              "    <tr>\n",
              "      <th>4</th>\n",
              "      <td>2020</td>\n",
              "      <td>1</td>\n",
              "      <td>Alexander</td>\n",
              "      <td>Albon</td>\n",
              "      <td>1:04.661</td>\n",
              "      <td>red_bull_ring</td>\n",
              "      <td>0</td>\n",
              "      <td>13</td>\n",
              "      <td>0</td>\n",
              "    </tr>\n",
              "    <tr>\n",
              "      <th>...</th>\n",
              "      <td>...</td>\n",
              "      <td>...</td>\n",
              "      <td>...</td>\n",
              "      <td>...</td>\n",
              "      <td>...</td>\n",
              "      <td>...</td>\n",
              "      <td>...</td>\n",
              "      <td>...</td>\n",
              "      <td>...</td>\n",
              "    </tr>\n",
              "    <tr>\n",
              "      <th>1926</th>\n",
              "      <td>2016</td>\n",
              "      <td>20</td>\n",
              "      <td>Esteban</td>\n",
              "      <td>Gutiérrez</td>\n",
              "      <td>1:21.401</td>\n",
              "      <td>interlagos</td>\n",
              "      <td>0</td>\n",
              "      <td>21</td>\n",
              "      <td>0</td>\n",
              "    </tr>\n",
              "    <tr>\n",
              "      <th>1927</th>\n",
              "      <td>2016</td>\n",
              "      <td>20</td>\n",
              "      <td>Daniil</td>\n",
              "      <td>Kvyat</td>\n",
              "      <td>1:21.454</td>\n",
              "      <td>interlagos</td>\n",
              "      <td>25</td>\n",
              "      <td>14</td>\n",
              "      <td>0</td>\n",
              "    </tr>\n",
              "    <tr>\n",
              "      <th>1928</th>\n",
              "      <td>2016</td>\n",
              "      <td>20</td>\n",
              "      <td>Felipe</td>\n",
              "      <td>Nasr</td>\n",
              "      <td>1:21.692</td>\n",
              "      <td>interlagos</td>\n",
              "      <td>2</td>\n",
              "      <td>17</td>\n",
              "      <td>0</td>\n",
              "    </tr>\n",
              "    <tr>\n",
              "      <th>1929</th>\n",
              "      <td>2016</td>\n",
              "      <td>20</td>\n",
              "      <td>Esteban</td>\n",
              "      <td>Ocon</td>\n",
              "      <td>1:21.881</td>\n",
              "      <td>interlagos</td>\n",
              "      <td>0</td>\n",
              "      <td>23</td>\n",
              "      <td>0</td>\n",
              "    </tr>\n",
              "    <tr>\n",
              "      <th>1930</th>\n",
              "      <td>2016</td>\n",
              "      <td>20</td>\n",
              "      <td>Romain</td>\n",
              "      <td>Grosjean</td>\n",
              "      <td>1:21.916</td>\n",
              "      <td>interlagos</td>\n",
              "      <td>29</td>\n",
              "      <td>13</td>\n",
              "      <td>0</td>\n",
              "    </tr>\n",
              "  </tbody>\n",
              "</table>\n",
              "<p>1931 rows × 9 columns</p>\n",
              "</div>"
            ],
            "text/plain": [
              "      Year Round First_Name   Last_Name  ...          Track Points Position Wins\n",
              "0     2020     1   Valtteri      Bottas  ...  red_bull_ring     25        1    1\n",
              "1     2020     1      Lewis    Hamilton  ...  red_bull_ring     12        4    0\n",
              "2     2020     1        Max  Verstappen  ...  red_bull_ring      0       20    0\n",
              "3     2020     1      Lando      Norris  ...  red_bull_ring     16        3    0\n",
              "4     2020     1  Alexander       Albon  ...  red_bull_ring      0       13    0\n",
              "...    ...   ...        ...         ...  ...            ...    ...      ...  ...\n",
              "1926  2016    20    Esteban   Gutiérrez  ...     interlagos      0       21    0\n",
              "1927  2016    20     Daniil       Kvyat  ...     interlagos     25       14    0\n",
              "1928  2016    20     Felipe        Nasr  ...     interlagos      2       17    0\n",
              "1929  2016    20    Esteban        Ocon  ...     interlagos      0       23    0\n",
              "1930  2016    20     Romain    Grosjean  ...     interlagos     29       13    0\n",
              "\n",
              "[1931 rows x 9 columns]"
            ]
          },
          "metadata": {
            "tags": []
          },
          "execution_count": 50
        }
      ]
    },
    {
      "cell_type": "markdown",
      "metadata": {
        "id": "lxqvA0oeLJyG"
      },
      "source": [
        "I got the function working, now time to include the drivers best times (from qualifying Q1), will need to source that indivdually, but will add to these functions. After that I am done extracting the data I need. LET'S GO!! \n",
        "\n",
        "Also going to need to get tracks they raced on that round. "
      ]
    },
    {
      "cell_type": "markdown",
      "metadata": {
        "id": "rloa1xVQUJzi"
      },
      "source": [
        "Today's task is relitivly simple, going to get the remaining data, the qualifying laptimes and their "
      ]
    },
    {
      "cell_type": "markdown",
      "metadata": {
        "id": "sFOBj_9DnuQU"
      },
      "source": [
        "I want to get the qualifying times for each racer and race as well, problem is that the order might just be messed up. I need to see how I would restructure the data so I can merge safely or see if I can merge two dataframes with a pandas function that finds the index automaticlly. \n",
        "\n",
        "I can use the pd.merge function to get what I need, just need to do a quick test to see if it would work. \n",
        "\n",
        "I want to merge the dataframes on the last names and the year and rounds. \n"
      ]
    },
    {
      "cell_type": "code",
      "metadata": {
        "id": "3xNa80o2LVBe"
      },
      "source": [
        "years = 2020\n",
        "rounds = 9\n",
        "done = \"http://ergast.com/api/f1/{year}/{round}/qualifying.json\"\n",
        "done1 = done.format(year = str(years), round = rounds)\n",
        "response = requests.get(done1)\n",
        "test = json.loads(response.text)"
      ],
      "execution_count": null,
      "outputs": []
    },
    {
      "cell_type": "code",
      "metadata": {
        "colab": {
          "base_uri": "https://localhost:8080/",
          "height": 37
        },
        "id": "MejjYH_iTk5g",
        "outputId": "0a47f228-8438-432c-c782-494c970d2a70"
      },
      "source": [
        "test['MRData']['RaceTable']['Races'][0]['QualifyingResults'][0]['Q1']"
      ],
      "execution_count": null,
      "outputs": [
        {
          "output_type": "execute_result",
          "data": {
            "application/vnd.google.colaboratory.intrinsic+json": {
              "type": "string"
            },
            "text/plain": [
              "'1:15.778'"
            ]
          },
          "metadata": {
            "tags": []
          },
          "execution_count": 40
        }
      ]
    },
    {
      "cell_type": "code",
      "metadata": {
        "colab": {
          "base_uri": "https://localhost:8080/",
          "height": 37
        },
        "id": "GAaVOrnXoq6E",
        "outputId": "52dfe4c4-9d1b-45c7-8722-1a01ff4bc814"
      },
      "source": [
        "test['MRData']['RaceTable']['Races'][0]['QualifyingResults'][0]['Driver']['familyName']\n",
        "test['MRData']['RaceTable']['round']\n",
        "test['MRData']['RaceTable']['season']\n",
        "test['MRData']['RaceTable']['Races'][0]['QualifyingResults'][0]['Driver']['givenName']\n",
        "test['MRData']['total']"
      ],
      "execution_count": null,
      "outputs": [
        {
          "output_type": "execute_result",
          "data": {
            "application/vnd.google.colaboratory.intrinsic+json": {
              "type": "string"
            },
            "text/plain": [
              "'20'"
            ]
          },
          "metadata": {
            "tags": []
          },
          "execution_count": 41
        }
      ]
    },
    {
      "cell_type": "code",
      "metadata": {
        "colab": {
          "base_uri": "https://localhost:8080/"
        },
        "id": "ba42Jv55CekG",
        "outputId": "6724e930-f577-43ff-80fd-287d3acf1742"
      },
      "source": [
        "bool(test[\"MRData\"][\"RaceTable\"][\"Races\"][0][\"QualifyingResults\"][19]['Driver']['givenName'])"
      ],
      "execution_count": null,
      "outputs": [
        {
          "output_type": "execute_result",
          "data": {
            "text/plain": [
              "True"
            ]
          },
          "metadata": {
            "tags": []
          },
          "execution_count": 42
        }
      ]
    },
    {
      "cell_type": "code",
      "metadata": {
        "colab": {
          "base_uri": "https://localhost:8080/",
          "height": 669
        },
        "id": "eWbrDKOEqJDx",
        "outputId": "e6d7e8f9-4f54-4508-f74a-00e505572d9b"
      },
      "source": [
        "# Now I'm going to run a test, see if I can these two dataframes merge\n",
        "get_qualifying(2017, 20)"
      ],
      "execution_count": null,
      "outputs": [
        {
          "output_type": "execute_result",
          "data": {
            "text/html": [
              "<div>\n",
              "<style scoped>\n",
              "    .dataframe tbody tr th:only-of-type {\n",
              "        vertical-align: middle;\n",
              "    }\n",
              "\n",
              "    .dataframe tbody tr th {\n",
              "        vertical-align: top;\n",
              "    }\n",
              "\n",
              "    .dataframe thead th {\n",
              "        text-align: right;\n",
              "    }\n",
              "</style>\n",
              "<table border=\"1\" class=\"dataframe\">\n",
              "  <thead>\n",
              "    <tr style=\"text-align: right;\">\n",
              "      <th></th>\n",
              "      <th>Year</th>\n",
              "      <th>Round</th>\n",
              "      <th>First_Name</th>\n",
              "      <th>Last_Name</th>\n",
              "      <th>Q_Time</th>\n",
              "    </tr>\n",
              "  </thead>\n",
              "  <tbody>\n",
              "    <tr>\n",
              "      <th>0</th>\n",
              "      <td>2017</td>\n",
              "      <td>21</td>\n",
              "      <td>Valtteri</td>\n",
              "      <td>Bottas</td>\n",
              "      <td>1:37.356</td>\n",
              "    </tr>\n",
              "    <tr>\n",
              "      <th>1</th>\n",
              "      <td>2017</td>\n",
              "      <td>21</td>\n",
              "      <td>Lewis</td>\n",
              "      <td>Hamilton</td>\n",
              "      <td>1:37.391</td>\n",
              "    </tr>\n",
              "    <tr>\n",
              "      <th>2</th>\n",
              "      <td>2017</td>\n",
              "      <td>21</td>\n",
              "      <td>Sebastian</td>\n",
              "      <td>Vettel</td>\n",
              "      <td>1:37.817</td>\n",
              "    </tr>\n",
              "    <tr>\n",
              "      <th>3</th>\n",
              "      <td>2017</td>\n",
              "      <td>21</td>\n",
              "      <td>Daniel</td>\n",
              "      <td>Ricciardo</td>\n",
              "      <td>1:38.016</td>\n",
              "    </tr>\n",
              "    <tr>\n",
              "      <th>4</th>\n",
              "      <td>2017</td>\n",
              "      <td>21</td>\n",
              "      <td>Kimi</td>\n",
              "      <td>Räikkönen</td>\n",
              "      <td>1:37.453</td>\n",
              "    </tr>\n",
              "    <tr>\n",
              "      <th>5</th>\n",
              "      <td>2017</td>\n",
              "      <td>21</td>\n",
              "      <td>Max</td>\n",
              "      <td>Verstappen</td>\n",
              "      <td>1:38.021</td>\n",
              "    </tr>\n",
              "    <tr>\n",
              "      <th>6</th>\n",
              "      <td>2017</td>\n",
              "      <td>21</td>\n",
              "      <td>Nico</td>\n",
              "      <td>Hülkenberg</td>\n",
              "      <td>1:38.781</td>\n",
              "    </tr>\n",
              "    <tr>\n",
              "      <th>7</th>\n",
              "      <td>2017</td>\n",
              "      <td>21</td>\n",
              "      <td>Sergio</td>\n",
              "      <td>Pérez</td>\n",
              "      <td>1:38.601</td>\n",
              "    </tr>\n",
              "    <tr>\n",
              "      <th>8</th>\n",
              "      <td>2017</td>\n",
              "      <td>21</td>\n",
              "      <td>Esteban</td>\n",
              "      <td>Ocon</td>\n",
              "      <td>1:38.896</td>\n",
              "    </tr>\n",
              "    <tr>\n",
              "      <th>9</th>\n",
              "      <td>2017</td>\n",
              "      <td>21</td>\n",
              "      <td>Felipe</td>\n",
              "      <td>Massa</td>\n",
              "      <td>1:38.629</td>\n",
              "    </tr>\n",
              "    <tr>\n",
              "      <th>10</th>\n",
              "      <td>2017</td>\n",
              "      <td>21</td>\n",
              "      <td>Fernando</td>\n",
              "      <td>Alonso</td>\n",
              "      <td>1:38.820</td>\n",
              "    </tr>\n",
              "    <tr>\n",
              "      <th>11</th>\n",
              "      <td>2017</td>\n",
              "      <td>21</td>\n",
              "      <td>Carlos</td>\n",
              "      <td>Sainz</td>\n",
              "      <td>1:38.810</td>\n",
              "    </tr>\n",
              "    <tr>\n",
              "      <th>12</th>\n",
              "      <td>2017</td>\n",
              "      <td>21</td>\n",
              "      <td>Stoffel</td>\n",
              "      <td>Vandoorne</td>\n",
              "      <td>1:38.777</td>\n",
              "    </tr>\n",
              "    <tr>\n",
              "      <th>13</th>\n",
              "      <td>2017</td>\n",
              "      <td>21</td>\n",
              "      <td>Kevin</td>\n",
              "      <td>Magnussen</td>\n",
              "      <td>1:39.395</td>\n",
              "    </tr>\n",
              "    <tr>\n",
              "      <th>14</th>\n",
              "      <td>2017</td>\n",
              "      <td>21</td>\n",
              "      <td>Lance</td>\n",
              "      <td>Stroll</td>\n",
              "      <td>1:39.503</td>\n",
              "    </tr>\n",
              "    <tr>\n",
              "      <th>15</th>\n",
              "      <td>2017</td>\n",
              "      <td>21</td>\n",
              "      <td>Romain</td>\n",
              "      <td>Grosjean</td>\n",
              "      <td>1:39.516</td>\n",
              "    </tr>\n",
              "    <tr>\n",
              "      <th>16</th>\n",
              "      <td>2017</td>\n",
              "      <td>21</td>\n",
              "      <td>Pierre</td>\n",
              "      <td>Gasly</td>\n",
              "      <td>1:39.724</td>\n",
              "    </tr>\n",
              "    <tr>\n",
              "      <th>17</th>\n",
              "      <td>2017</td>\n",
              "      <td>21</td>\n",
              "      <td>Pascal</td>\n",
              "      <td>Wehrlein</td>\n",
              "      <td>1:39.930</td>\n",
              "    </tr>\n",
              "    <tr>\n",
              "      <th>18</th>\n",
              "      <td>2017</td>\n",
              "      <td>21</td>\n",
              "      <td>Marcus</td>\n",
              "      <td>Ericsson</td>\n",
              "      <td>1:39.994</td>\n",
              "    </tr>\n",
              "    <tr>\n",
              "      <th>19</th>\n",
              "      <td>2017</td>\n",
              "      <td>21</td>\n",
              "      <td>Brendon</td>\n",
              "      <td>Hartley</td>\n",
              "      <td>1:40.471</td>\n",
              "    </tr>\n",
              "  </tbody>\n",
              "</table>\n",
              "</div>"
            ],
            "text/plain": [
              "    Year Round First_Name   Last_Name    Q_Time\n",
              "0   2017    21   Valtteri      Bottas  1:37.356\n",
              "1   2017    21      Lewis    Hamilton  1:37.391\n",
              "2   2017    21  Sebastian      Vettel  1:37.817\n",
              "3   2017    21     Daniel   Ricciardo  1:38.016\n",
              "4   2017    21       Kimi   Räikkönen  1:37.453\n",
              "5   2017    21        Max  Verstappen  1:38.021\n",
              "6   2017    21       Nico  Hülkenberg  1:38.781\n",
              "7   2017    21     Sergio       Pérez  1:38.601\n",
              "8   2017    21    Esteban        Ocon  1:38.896\n",
              "9   2017    21     Felipe       Massa  1:38.629\n",
              "10  2017    21   Fernando      Alonso  1:38.820\n",
              "11  2017    21     Carlos       Sainz  1:38.810\n",
              "12  2017    21    Stoffel   Vandoorne  1:38.777\n",
              "13  2017    21      Kevin   Magnussen  1:39.395\n",
              "14  2017    21      Lance      Stroll  1:39.503\n",
              "15  2017    21     Romain    Grosjean  1:39.516\n",
              "16  2017    21     Pierre       Gasly  1:39.724\n",
              "17  2017    21     Pascal    Wehrlein  1:39.930\n",
              "18  2017    21     Marcus    Ericsson  1:39.994\n",
              "19  2017    21    Brendon     Hartley  1:40.471"
            ]
          },
          "metadata": {
            "tags": []
          },
          "execution_count": 43
        }
      ]
    },
    {
      "cell_type": "code",
      "metadata": {
        "id": "4eJIOZIuub-7"
      },
      "source": [
        "# time to test out the merger\n",
        "df1 = get_qualifying(2020, 4)\n",
        "df2 = GetStandings(2020, 4)"
      ],
      "execution_count": null,
      "outputs": []
    },
    {
      "cell_type": "code",
      "metadata": {
        "id": "z9elvkZnwzp1"
      },
      "source": [
        "df3 = pd.merge(df1, df2, on=['Year', 'Round', 'First_Name', 'Last_Name'])"
      ],
      "execution_count": null,
      "outputs": []
    },
    {
      "cell_type": "markdown",
      "metadata": {
        "id": "6DPjDOGF8Rra"
      },
      "source": [
        "My Function works! time to put this function into the main function! Getting the data I need is now done "
      ]
    },
    {
      "cell_type": "code",
      "metadata": {
        "id": "6WNyKY7276gA"
      },
      "source": [
        "# Now it's time to export my data and apply a base model \n",
        "\n",
        "df.to_csv(\"driver-info.csv\")"
      ],
      "execution_count": null,
      "outputs": []
    },
    {
      "cell_type": "code",
      "metadata": {
        "colab": {
          "base_uri": "https://localhost:8080/",
          "height": 289
        },
        "id": "0HnPWWRQuTET",
        "outputId": "ee3806fd-8db4-4d38-d9ef-03e63d5248d1"
      },
      "source": [
        "# let's see how good hamilton does in red bull ring\n",
        "mask = df['Track'] == 'red_bull_ring'  \n",
        "mask2 = df['Last_Name'] == 'Hamilton'\n",
        "df2 = df[mask]\n",
        "df2[mask2]"
      ],
      "execution_count": null,
      "outputs": [
        {
          "output_type": "stream",
          "text": [
            "/usr/local/lib/python3.6/dist-packages/ipykernel_launcher.py:5: UserWarning: Boolean Series key will be reindexed to match DataFrame index.\n",
            "  \"\"\"\n"
          ],
          "name": "stderr"
        },
        {
          "output_type": "execute_result",
          "data": {
            "text/html": [
              "<div>\n",
              "<style scoped>\n",
              "    .dataframe tbody tr th:only-of-type {\n",
              "        vertical-align: middle;\n",
              "    }\n",
              "\n",
              "    .dataframe tbody tr th {\n",
              "        vertical-align: top;\n",
              "    }\n",
              "\n",
              "    .dataframe thead th {\n",
              "        text-align: right;\n",
              "    }\n",
              "</style>\n",
              "<table border=\"1\" class=\"dataframe\">\n",
              "  <thead>\n",
              "    <tr style=\"text-align: right;\">\n",
              "      <th></th>\n",
              "      <th>Year</th>\n",
              "      <th>Round</th>\n",
              "      <th>First_Name</th>\n",
              "      <th>Last_Name</th>\n",
              "      <th>Q_Time</th>\n",
              "      <th>Track</th>\n",
              "      <th>Points</th>\n",
              "      <th>Position</th>\n",
              "      <th>Wins</th>\n",
              "    </tr>\n",
              "  </thead>\n",
              "  <tbody>\n",
              "    <tr>\n",
              "      <th>1</th>\n",
              "      <td>2020</td>\n",
              "      <td>1</td>\n",
              "      <td>Lewis</td>\n",
              "      <td>Hamilton</td>\n",
              "      <td>1:04.198</td>\n",
              "      <td>red_bull_ring</td>\n",
              "      <td>12</td>\n",
              "      <td>4</td>\n",
              "      <td>0</td>\n",
              "    </tr>\n",
              "    <tr>\n",
              "      <th>21</th>\n",
              "      <td>2020</td>\n",
              "      <td>2</td>\n",
              "      <td>Lewis</td>\n",
              "      <td>Hamilton</td>\n",
              "      <td>1:04.198</td>\n",
              "      <td>red_bull_ring</td>\n",
              "      <td>37</td>\n",
              "      <td>2</td>\n",
              "      <td>1</td>\n",
              "    </tr>\n",
              "    <tr>\n",
              "      <th>478</th>\n",
              "      <td>2019</td>\n",
              "      <td>9</td>\n",
              "      <td>Lewis</td>\n",
              "      <td>Hamilton</td>\n",
              "      <td>1:30.609</td>\n",
              "      <td>red_bull_ring</td>\n",
              "      <td>197</td>\n",
              "      <td>1</td>\n",
              "      <td>6</td>\n",
              "    </tr>\n",
              "    <tr>\n",
              "      <th>878</th>\n",
              "      <td>2018</td>\n",
              "      <td>9</td>\n",
              "      <td>Lewis</td>\n",
              "      <td>Hamilton</td>\n",
              "      <td>1:31.271</td>\n",
              "      <td>red_bull_ring</td>\n",
              "      <td>145</td>\n",
              "      <td>2</td>\n",
              "      <td>3</td>\n",
              "    </tr>\n",
              "    <tr>\n",
              "      <th>1278</th>\n",
              "      <td>2017</td>\n",
              "      <td>9</td>\n",
              "      <td>Lewis</td>\n",
              "      <td>Hamilton</td>\n",
              "      <td>1:41.983</td>\n",
              "      <td>red_bull_ring</td>\n",
              "      <td>151</td>\n",
              "      <td>2</td>\n",
              "      <td>3</td>\n",
              "    </tr>\n",
              "    <tr>\n",
              "      <th>1680</th>\n",
              "      <td>2016</td>\n",
              "      <td>9</td>\n",
              "      <td>Lewis</td>\n",
              "      <td>Hamilton</td>\n",
              "      <td>1:44.259</td>\n",
              "      <td>red_bull_ring</td>\n",
              "      <td>142</td>\n",
              "      <td>2</td>\n",
              "      <td>3</td>\n",
              "    </tr>\n",
              "  </tbody>\n",
              "</table>\n",
              "</div>"
            ],
            "text/plain": [
              "      Year Round First_Name Last_Name  ...          Track Points Position Wins\n",
              "1     2020     1      Lewis  Hamilton  ...  red_bull_ring     12        4    0\n",
              "21    2020     2      Lewis  Hamilton  ...  red_bull_ring     37        2    1\n",
              "478   2019     9      Lewis  Hamilton  ...  red_bull_ring    197        1    6\n",
              "878   2018     9      Lewis  Hamilton  ...  red_bull_ring    145        2    3\n",
              "1278  2017     9      Lewis  Hamilton  ...  red_bull_ring    151        2    3\n",
              "1680  2016     9      Lewis  Hamilton  ...  red_bull_ring    142        2    3\n",
              "\n",
              "[6 rows x 9 columns]"
            ]
          },
          "metadata": {
            "tags": []
          },
          "execution_count": 47
        }
      ]
    },
    {
      "cell_type": "markdown",
      "metadata": {
        "id": "-Ow12nrltO_Y"
      },
      "source": [
        "I got al the data I need now, time to fit a base model and see the results that I get out of it. I'm excited to see the base results\n",
        "\n",
        "Things to note, I'm trying to predict what place each driver ends up in, and also their qualifying times, which are both regressional problems. I will need to build two models that work with that. "
      ]
    },
    {
      "cell_type": "code",
      "metadata": {
        "colab": {
          "base_uri": "https://localhost:8080/"
        },
        "id": "UuxAtP55AXAz",
        "outputId": "dae3fd28-a109-4e14-fe3f-761ae870c891"
      },
      "source": [
        "!pip install category_encoders"
      ],
      "execution_count": null,
      "outputs": [
        {
          "output_type": "stream",
          "text": [
            "Collecting category_encoders\n",
            "\u001b[?25l  Downloading https://files.pythonhosted.org/packages/44/57/fcef41c248701ee62e8325026b90c432adea35555cbc870aff9cfba23727/category_encoders-2.2.2-py2.py3-none-any.whl (80kB)\n",
            "\r\u001b[K     |████                            | 10kB 15.0MB/s eta 0:00:01\r\u001b[K     |████████▏                       | 20kB 20.3MB/s eta 0:00:01\r\u001b[K     |████████████▏                   | 30kB 10.4MB/s eta 0:00:01\r\u001b[K     |████████████████▎               | 40kB 8.4MB/s eta 0:00:01\r\u001b[K     |████████████████████▎           | 51kB 4.3MB/s eta 0:00:01\r\u001b[K     |████████████████████████▍       | 61kB 4.8MB/s eta 0:00:01\r\u001b[K     |████████████████████████████▍   | 71kB 5.0MB/s eta 0:00:01\r\u001b[K     |████████████████████████████████| 81kB 2.4MB/s \n",
            "\u001b[?25hRequirement already satisfied: scikit-learn>=0.20.0 in /usr/local/lib/python3.6/dist-packages (from category_encoders) (0.22.2.post1)\n",
            "Requirement already satisfied: pandas>=0.21.1 in /usr/local/lib/python3.6/dist-packages (from category_encoders) (1.1.5)\n",
            "Requirement already satisfied: scipy>=1.0.0 in /usr/local/lib/python3.6/dist-packages (from category_encoders) (1.4.1)\n",
            "Requirement already satisfied: patsy>=0.5.1 in /usr/local/lib/python3.6/dist-packages (from category_encoders) (0.5.1)\n",
            "Requirement already satisfied: statsmodels>=0.9.0 in /usr/local/lib/python3.6/dist-packages (from category_encoders) (0.10.2)\n",
            "Requirement already satisfied: numpy>=1.14.0 in /usr/local/lib/python3.6/dist-packages (from category_encoders) (1.19.4)\n",
            "Requirement already satisfied: joblib>=0.11 in /usr/local/lib/python3.6/dist-packages (from scikit-learn>=0.20.0->category_encoders) (1.0.0)\n",
            "Requirement already satisfied: pytz>=2017.2 in /usr/local/lib/python3.6/dist-packages (from pandas>=0.21.1->category_encoders) (2018.9)\n",
            "Requirement already satisfied: python-dateutil>=2.7.3 in /usr/local/lib/python3.6/dist-packages (from pandas>=0.21.1->category_encoders) (2.8.1)\n",
            "Requirement already satisfied: six in /usr/local/lib/python3.6/dist-packages (from patsy>=0.5.1->category_encoders) (1.15.0)\n",
            "Installing collected packages: category-encoders\n",
            "Successfully installed category-encoders-2.2.2\n"
          ],
          "name": "stdout"
        }
      ]
    },
    {
      "cell_type": "code",
      "metadata": {
        "colab": {
          "base_uri": "https://localhost:8080/"
        },
        "id": "CWLr7TLQtNXK",
        "outputId": "8e96d873-3bf4-4eb4-df3c-203780719196"
      },
      "source": [
        "# time to fit a base model\n",
        "from sklearn.linear_model import LinearRegression\n",
        "import category_encoders as ce\n",
        "from sklearn.model_selection import train_test_split\n",
        "\n",
        "\n",
        "\n",
        "# Setting my X variable and my y variable\n",
        "X = df.drop('Position', axis=1)\n",
        "y = df['Position']\n",
        "\n",
        "# Using the One Hot Encoder \n",
        "encoder = ce.OrdinalEncoder()\n",
        "X_encoded = encoder.fit_transform(X)\n",
        "\n",
        "\n",
        "# starting out with a base x_train and y_train\n",
        "X_train, X_test, y_train, y_test = train_test_split(\n",
        "    X_encoded, y, test_size=0.25, random_state=42)\n",
        "\n",
        "\n",
        "# now applying my model \n",
        "model = LinearRegression()\n",
        "model.fit(X_train, y_train)"
      ],
      "execution_count": null,
      "outputs": [
        {
          "output_type": "stream",
          "text": [
            "/usr/local/lib/python3.6/dist-packages/statsmodels/tools/_testing.py:19: FutureWarning: pandas.util.testing is deprecated. Use the functions in the public API at pandas.testing instead.\n",
            "  import pandas.util.testing as tm\n"
          ],
          "name": "stderr"
        },
        {
          "output_type": "execute_result",
          "data": {
            "text/plain": [
              "LinearRegression(copy_X=True, fit_intercept=True, n_jobs=None, normalize=False)"
            ]
          },
          "metadata": {
            "tags": []
          },
          "execution_count": 49
        }
      ]
    },
    {
      "cell_type": "code",
      "metadata": {
        "colab": {
          "base_uri": "https://localhost:8080/",
          "height": 419
        },
        "id": "1ioxS9NL_flO",
        "outputId": "5414f8a4-12fb-405a-9d13-7d8faa952687"
      },
      "source": [
        "X_test"
      ],
      "execution_count": null,
      "outputs": [
        {
          "output_type": "execute_result",
          "data": {
            "text/html": [
              "<div>\n",
              "<style scoped>\n",
              "    .dataframe tbody tr th:only-of-type {\n",
              "        vertical-align: middle;\n",
              "    }\n",
              "\n",
              "    .dataframe tbody tr th {\n",
              "        vertical-align: top;\n",
              "    }\n",
              "\n",
              "    .dataframe thead th {\n",
              "        text-align: right;\n",
              "    }\n",
              "</style>\n",
              "<table border=\"1\" class=\"dataframe\">\n",
              "  <thead>\n",
              "    <tr style=\"text-align: right;\">\n",
              "      <th></th>\n",
              "      <th>Year</th>\n",
              "      <th>Round</th>\n",
              "      <th>First_Name</th>\n",
              "      <th>Last_Name</th>\n",
              "      <th>Q_Time</th>\n",
              "      <th>Track</th>\n",
              "      <th>Points</th>\n",
              "      <th>Wins</th>\n",
              "    </tr>\n",
              "  </thead>\n",
              "  <tbody>\n",
              "    <tr>\n",
              "      <th>1078</th>\n",
              "      <td>3</td>\n",
              "      <td>19</td>\n",
              "      <td>2</td>\n",
              "      <td>2</td>\n",
              "      <td>988</td>\n",
              "      <td>23</td>\n",
              "      <td>201</td>\n",
              "      <td>10</td>\n",
              "    </tr>\n",
              "    <tr>\n",
              "      <th>1655</th>\n",
              "      <td>5</td>\n",
              "      <td>8</td>\n",
              "      <td>19</td>\n",
              "      <td>19</td>\n",
              "      <td>1497</td>\n",
              "      <td>16</td>\n",
              "      <td>234</td>\n",
              "      <td>2</td>\n",
              "    </tr>\n",
              "    <tr>\n",
              "      <th>1866</th>\n",
              "      <td>5</td>\n",
              "      <td>18</td>\n",
              "      <td>21</td>\n",
              "      <td>33</td>\n",
              "      <td>1700</td>\n",
              "      <td>24</td>\n",
              "      <td>192</td>\n",
              "      <td>10</td>\n",
              "    </tr>\n",
              "    <tr>\n",
              "      <th>942</th>\n",
              "      <td>3</td>\n",
              "      <td>12</td>\n",
              "      <td>16</td>\n",
              "      <td>16</td>\n",
              "      <td>855</td>\n",
              "      <td>2</td>\n",
              "      <td>29</td>\n",
              "      <td>2</td>\n",
              "    </tr>\n",
              "    <tr>\n",
              "      <th>331</th>\n",
              "      <td>2</td>\n",
              "      <td>1</td>\n",
              "      <td>10</td>\n",
              "      <td>10</td>\n",
              "      <td>308</td>\n",
              "      <td>14</td>\n",
              "      <td>3</td>\n",
              "      <td>2</td>\n",
              "    </tr>\n",
              "    <tr>\n",
              "      <th>...</th>\n",
              "      <td>...</td>\n",
              "      <td>...</td>\n",
              "      <td>...</td>\n",
              "      <td>...</td>\n",
              "      <td>...</td>\n",
              "      <td>...</td>\n",
              "      <td>...</td>\n",
              "      <td>...</td>\n",
              "    </tr>\n",
              "    <tr>\n",
              "      <th>561</th>\n",
              "      <td>2</td>\n",
              "      <td>13</td>\n",
              "      <td>7</td>\n",
              "      <td>7</td>\n",
              "      <td>513</td>\n",
              "      <td>5</td>\n",
              "      <td>39</td>\n",
              "      <td>1</td>\n",
              "    </tr>\n",
              "    <tr>\n",
              "      <th>836</th>\n",
              "      <td>3</td>\n",
              "      <td>6</td>\n",
              "      <td>9</td>\n",
              "      <td>9</td>\n",
              "      <td>755</td>\n",
              "      <td>17</td>\n",
              "      <td>10</td>\n",
              "      <td>2</td>\n",
              "    </tr>\n",
              "    <tr>\n",
              "      <th>465</th>\n",
              "      <td>2</td>\n",
              "      <td>8</td>\n",
              "      <td>4</td>\n",
              "      <td>4</td>\n",
              "      <td>418</td>\n",
              "      <td>19</td>\n",
              "      <td>36</td>\n",
              "      <td>2</td>\n",
              "    </tr>\n",
              "    <tr>\n",
              "      <th>588</th>\n",
              "      <td>2</td>\n",
              "      <td>14</td>\n",
              "      <td>15</td>\n",
              "      <td>15</td>\n",
              "      <td>539</td>\n",
              "      <td>6</td>\n",
              "      <td>5</td>\n",
              "      <td>2</td>\n",
              "    </tr>\n",
              "    <tr>\n",
              "      <th>199</th>\n",
              "      <td>1</td>\n",
              "      <td>10</td>\n",
              "      <td>16</td>\n",
              "      <td>16</td>\n",
              "      <td>178</td>\n",
              "      <td>8</td>\n",
              "      <td>8</td>\n",
              "      <td>2</td>\n",
              "    </tr>\n",
              "  </tbody>\n",
              "</table>\n",
              "<p>483 rows × 8 columns</p>\n",
              "</div>"
            ],
            "text/plain": [
              "      Year  Round  First_Name  Last_Name  Q_Time  Track  Points  Wins\n",
              "1078     3     19           2          2     988     23     201    10\n",
              "1655     5      8          19         19    1497     16     234     2\n",
              "1866     5     18          21         33    1700     24     192    10\n",
              "942      3     12          16         16     855      2      29     2\n",
              "331      2      1          10         10     308     14       3     2\n",
              "...    ...    ...         ...        ...     ...    ...     ...   ...\n",
              "561      2     13           7          7     513      5      39     1\n",
              "836      3      6           9          9     755     17      10     2\n",
              "465      2      8           4          4     418     19      36     2\n",
              "588      2     14          15         15     539      6       5     2\n",
              "199      1     10          16         16     178      8       8     2\n",
              "\n",
              "[483 rows x 8 columns]"
            ]
          },
          "metadata": {
            "tags": []
          },
          "execution_count": 50
        }
      ]
    },
    {
      "cell_type": "code",
      "metadata": {
        "id": "wpnXHHGrymF6"
      },
      "source": [
        "# Let's test this \n",
        "y_pred = model.predict(X_test)"
      ],
      "execution_count": null,
      "outputs": []
    },
    {
      "cell_type": "code",
      "metadata": {
        "colab": {
          "base_uri": "https://localhost:8080/"
        },
        "id": "KRwPMd2AzVlm",
        "outputId": "22fbc2d6-74da-4244-dc99-30e17f93f65a"
      },
      "source": [
        "y_pred"
      ],
      "execution_count": null,
      "outputs": [
        {
          "output_type": "execute_result",
          "data": {
            "text/plain": [
              "array([-1.75322234e+00,  4.18170941e+00,  6.91485510e+00,  1.31819020e+01,\n",
              "        1.00399339e+01,  5.51434127e+00,  1.65275861e+01,  9.59043294e+00,\n",
              "        1.23255419e+01,  9.18788031e+00,  1.01467325e+01,  8.89502081e+00,\n",
              "        1.58354344e+01,  8.26550106e+00,  1.49267233e+01,  8.66567093e+00,\n",
              "        1.42527760e+01,  1.56853737e+01,  1.46395827e+01,  1.09148894e+01,\n",
              "        1.14062326e+01,  5.76284153e+00,  1.24690632e+01,  1.04985139e+01,\n",
              "        8.25864014e+00,  1.29199703e+01,  7.64415469e+00,  1.12160127e+01,\n",
              "        1.20640437e+01,  1.33302156e+01,  1.58827822e+01,  1.47525585e+01,\n",
              "        1.15329623e+01,  1.55338379e+01,  9.98355222e+00,  9.31205792e+00,\n",
              "        1.77294278e+01,  7.95110254e+00,  1.66180635e+01,  9.76903676e+00,\n",
              "        1.24842998e+01,  9.10537202e+00,  9.11673544e+00,  1.24545624e+01,\n",
              "        5.11082502e+00,  1.35106360e+01,  1.72087700e+01,  1.51517834e+01,\n",
              "        1.56274307e+01,  1.60952126e+01,  1.44104937e+01,  1.64396189e+01,\n",
              "        1.38913113e+01,  9.73380005e+00,  1.41021009e+01,  1.63036705e+01,\n",
              "       -2.32276817e+00,  9.97974471e+00,  1.27393568e+01,  6.60481858e+00,\n",
              "        1.47911335e+01,  1.04099537e+01,  1.35973779e+01,  1.17884763e+01,\n",
              "        1.22271477e+01,  1.21589174e+01,  1.32053859e+01,  8.32124235e+00,\n",
              "        4.68791260e+00,  1.82518410e+01,  1.02283791e+01, -3.61910524e+00,\n",
              "        1.11068858e+01,  1.14984250e+01,  1.32082087e+01,  1.20778646e+01,\n",
              "        1.45413496e+01,  9.24308936e+00,  9.74433462e+00,  7.88255389e+00,\n",
              "        1.28807589e+01,  1.71640315e+01,  1.00991244e+01,  1.13850095e+01,\n",
              "        8.08626617e+00,  1.01534318e+01,  7.94164513e+00,  1.08711803e+01,\n",
              "        3.11554682e+00,  1.89223765e+01,  4.69908175e+00,  1.34558583e+01,\n",
              "        1.05343685e+01,  6.56334232e+00,  1.30784763e+01,  5.51534086e+00,\n",
              "        1.30389749e+01,  1.60787126e+01, -1.60801832e+00,  7.22549515e+00,\n",
              "        1.34927635e+01,  9.43835114e+00,  1.46031332e+01,  1.50385141e+01,\n",
              "        1.15668359e+01,  1.06263505e+01,  1.30279502e+01,  1.48284051e+01,\n",
              "        1.18126216e+01,  1.09795447e+01,  8.30632609e+00,  9.30239487e+00,\n",
              "        8.84981502e+00,  1.08193512e+01,  1.51187825e+01,  1.43825752e+01,\n",
              "        7.91771673e+00,  5.02050847e+00,  1.35583111e+01,  1.86786019e+01,\n",
              "        1.12483863e+01,  4.44700352e+00,  1.15348147e+01,  1.65081074e+01,\n",
              "        1.30157060e+01,  1.50157704e+01,  9.83833653e+00,  1.17556327e+01,\n",
              "        1.62887273e+01,  4.64330089e+00,  3.22417934e+00,  1.92196229e+00,\n",
              "        2.19172023e+00,  1.14787132e+01,  1.85551205e+01,  1.52042496e+01,\n",
              "        1.50926830e+01,  1.68284253e+01,  9.24062892e+00,  4.36464574e+00,\n",
              "        1.28077323e+01,  1.65459700e+01,  1.11190689e+01,  1.91204828e+01,\n",
              "        1.47294562e+01,  1.24261340e+01,  1.38049293e+01,  8.78261968e+00,\n",
              "        8.40490216e+00,  1.66831127e+01,  1.58087642e+01,  1.77255691e+01,\n",
              "        9.92792738e+00,  1.94393284e+01,  1.50850382e+01,  7.92864434e+00,\n",
              "        7.97332181e+00,  1.19951258e+01,  8.83800533e+00,  3.04795631e+00,\n",
              "        1.09322915e+01,  1.07788067e+01,  1.05204025e+01,  1.01254650e+01,\n",
              "        1.76696023e+01,  1.11512137e+01,  6.39207754e+00,  8.12271680e+00,\n",
              "        4.88646200e+00,  1.16874486e+00,  1.02986372e+01,  1.84781593e+01,\n",
              "        1.73590054e+01,  1.08048311e+01,  1.90493978e+01,  6.09345211e+00,\n",
              "        1.66673848e+01,  1.14185040e+01,  3.05870376e+00,  1.19026926e+01,\n",
              "        1.19904313e+01,  6.35247273e+00,  1.57995737e+01,  1.78031354e+01,\n",
              "        5.06888578e+00,  1.87139758e+00,  1.41988620e+01,  1.81454463e+01,\n",
              "        1.10555397e+01,  9.94005066e+00,  1.44765427e+01,  1.48220818e+01,\n",
              "        9.45684011e+00,  1.12298322e+01,  1.67830005e+01,  1.32348743e+01,\n",
              "        2.26090036e+00,  5.43425111e+00,  1.11404661e+01,  5.54320356e+00,\n",
              "        2.01581839e+01,  1.35817117e+01,  9.55478896e+00,  6.69023446e+00,\n",
              "        8.61442688e+00,  8.54197393e+00,  1.41589379e+01,  2.53918764e+00,\n",
              "        1.13856224e+01,  9.02034675e+00,  1.01651917e+01,  1.43827188e+01,\n",
              "        8.91044237e+00,  1.21860912e+01,  7.78300301e+00,  1.06215650e+01,\n",
              "        1.07255235e+01,  1.70089191e+01,  7.85410482e+00,  7.49889275e+00,\n",
              "        1.12332198e+01,  7.70629492e+00,  1.55867533e+01,  1.03966424e+01,\n",
              "        1.16252277e+01,  1.11934922e+01,  8.83210406e+00,  1.67866256e+01,\n",
              "        6.42533742e+00,  2.05719339e+01,  1.51774190e+01,  1.30479248e+01,\n",
              "        1.22171979e+01,  9.36667447e+00,  1.09946749e+01,  1.10798094e+01,\n",
              "        1.47102303e+01,  6.99721605e+00,  1.21620489e+01,  1.03584248e+01,\n",
              "        8.83572989e+00,  1.08466927e+01,  1.15243577e+01,  1.59551330e+01,\n",
              "        9.50844414e+00,  7.66293215e+00,  1.93403871e+01,  5.67081006e+00,\n",
              "        1.00620613e+01,  1.03309839e+01,  1.26101962e+01,  6.32369623e+00,\n",
              "        7.31455818e+00,  1.37725987e+01,  1.46536214e+01,  1.43174272e+01,\n",
              "        8.19676633e+00,  1.38068985e+01,  1.70714218e+01,  1.83335874e+01,\n",
              "        1.15868773e+01,  2.91476083e+00,  1.05527896e+01,  9.67163848e+00,\n",
              "        1.69920108e+01,  1.47653479e+01,  1.57509936e+01,  1.87015165e+01,\n",
              "        1.05037306e+01,  1.79180589e+01,  1.51716540e+01,  1.48148136e+01,\n",
              "        1.30210002e+01,  1.30839465e+01,  3.39615189e+00,  9.56737523e+00,\n",
              "        1.60634243e+01,  1.63732119e+01,  1.26711599e+01,  1.15907836e+01,\n",
              "        5.25393061e+00,  9.76497958e+00,  3.66791713e+00,  1.49059626e+01,\n",
              "        1.92266155e+01,  1.65234228e+01,  1.12126014e+01,  1.02551677e+01,\n",
              "        8.78072251e+00,  7.48320365e-01,  1.00314712e+01,  1.17865607e+01,\n",
              "        1.55216053e+01,  1.83224756e+01,  8.44979845e+00,  9.45734041e+00,\n",
              "        1.11915146e+01,  1.68636843e+01,  1.22795417e+01,  6.94275947e+00,\n",
              "        1.16228495e+01,  1.64878012e+01,  1.69401964e+01,  7.52204878e+00,\n",
              "        1.69987704e+01,  1.31626312e+01,  1.20743977e+01,  9.59238338e+00,\n",
              "        5.84282737e+00,  9.83573034e+00, -1.54709820e-02,  6.47691800e+00,\n",
              "        1.83776209e+01,  1.30796937e+01,  1.33031594e+01,  1.37729035e+01,\n",
              "        1.53951769e+01,  1.65598328e+01,  1.39170774e+01,  1.22756230e+01,\n",
              "        8.66542382e+00,  1.52143437e+01,  7.98854084e+00,  3.60380530e+00,\n",
              "        7.80949334e+00,  1.03162439e+01,  2.64429162e+00,  7.70044087e+00,\n",
              "        7.44856869e+00,  1.60395447e+01,  1.10006566e+01,  1.22947395e+01,\n",
              "        5.03220056e+00,  1.55949917e+01,  1.06592656e+01,  5.62925893e-01,\n",
              "        1.20646999e+01,  1.57156265e+01,  8.14132332e+00,  1.36749373e+01,\n",
              "        1.59238256e+01,  7.53215136e+00,  7.45898495e+00,  5.28030729e+00,\n",
              "        2.06465103e+00,  1.38279421e+01,  2.63352371e+00,  1.08379261e+01,\n",
              "        3.29427468e+00,  1.31394641e+01,  1.22815882e+01,  1.62523376e+01,\n",
              "        9.63054867e+00,  1.11732833e+01,  1.78586200e+01,  1.13188241e+01,\n",
              "        1.21365219e+01,  1.30716437e+01,  1.13739841e+01,  1.60317309e+01,\n",
              "        1.28496327e+01,  8.41176512e+00,  4.82976268e+00,  1.79172369e+01,\n",
              "        8.45096221e+00,  1.63015495e+01,  1.31379151e+01,  1.48294935e+01,\n",
              "        1.55287000e+01,  1.92269075e+00,  1.39964339e+01,  9.33881814e+00,\n",
              "        1.49264807e+01,  1.00334917e+01,  8.03006409e-01,  4.04358857e+00,\n",
              "        1.98854571e+01,  1.52742938e+01,  7.77065683e+00,  1.01918076e+01,\n",
              "        1.46985537e+01,  1.00571710e+01,  7.62467990e+00,  1.25034039e+01,\n",
              "        4.17275791e+00,  3.21915336e+00,  1.05012105e+01,  7.67913279e+00,\n",
              "        7.95830179e+00,  1.14852282e+01,  6.57544720e+00,  1.93511407e+01,\n",
              "        1.38584355e+01,  1.11338158e+01,  1.07048887e+01,  6.56870288e+00,\n",
              "        4.10477318e+00,  3.23080777e+00,  1.29627648e+01,  9.28464111e+00,\n",
              "        4.19308057e+00,  8.38376039e+00,  1.12578532e+01,  1.20555458e+01,\n",
              "        1.93432013e+01,  3.31273041e+00,  1.41018335e+01,  1.44325346e+01,\n",
              "        1.01751475e+00,  1.27262833e+01,  6.46678995e+00,  1.82572993e+01,\n",
              "        1.68981305e+01,  1.27407538e+01,  1.41749976e+01,  6.72608800e+00,\n",
              "       -1.32201862e+00,  1.86841521e+01,  7.92746181e-01,  3.86707868e+00,\n",
              "        1.83193202e+01,  1.25480307e+01,  6.74816743e+00,  1.24009505e+01,\n",
              "        1.68403570e+01,  1.06758195e+01,  5.33605680e+00,  8.81684080e+00,\n",
              "        5.94360432e+00,  7.82371416e+00,  1.16644433e+00,  1.08579937e+01,\n",
              "        8.15669906e+00,  8.03588674e+00,  1.27402467e+01,  9.51050414e+00,\n",
              "        3.81314210e+00,  1.40017038e+01,  1.58910483e+00,  1.67567526e+01,\n",
              "        4.70799878e-01,  1.18647199e+01,  5.69162277e+00,  1.45682082e+01,\n",
              "        1.24736323e+01,  1.25578499e+01,  5.87942957e+00,  1.04382683e+01,\n",
              "        8.24535443e+00,  6.17054543e+00,  1.61943329e+01,  5.93845161e+00,\n",
              "        1.98974269e+01,  1.46810846e+01,  1.78920124e+01,  1.35508926e+01,\n",
              "        2.93824169e+00,  8.83584102e+00,  2.82150962e-01,  1.79358027e+01,\n",
              "        1.07794410e+01,  6.05960369e+00,  9.83099222e+00,  8.89952557e+00,\n",
              "        1.27788309e+01,  1.69848477e+01,  1.53474437e+01,  8.57124297e+00,\n",
              "        1.53642644e+01,  1.20970825e+01,  8.07228539e+00,  1.48364976e+01,\n",
              "        2.51906121e+00,  1.46250993e+01,  1.04263262e+01,  1.88899503e+01,\n",
              "        1.14679293e+01,  8.20460672e+00,  1.07870499e+01,  1.04263909e+01,\n",
              "        8.25504866e+00,  1.44458130e+01,  1.38775866e+01])"
            ]
          },
          "metadata": {
            "tags": []
          },
          "execution_count": 52
        }
      ]
    },
    {
      "cell_type": "code",
      "metadata": {
        "id": "3LlCYpjKzsEW"
      },
      "source": [
        "X_pred = encoder.inverse_transform(X_test)"
      ],
      "execution_count": null,
      "outputs": []
    },
    {
      "cell_type": "code",
      "metadata": {
        "id": "dhs60--UBAau"
      },
      "source": [
        "import numpy as np\n",
        "\n",
        "y_pred_df = pd.DataFrame(y_pred, columns=[\"Position\"])"
      ],
      "execution_count": null,
      "outputs": []
    },
    {
      "cell_type": "code",
      "metadata": {
        "id": "imBAJWNwBOTf"
      },
      "source": [
        "X_pred['Position'] = y_pred"
      ],
      "execution_count": null,
      "outputs": []
    },
    {
      "cell_type": "code",
      "metadata": {
        "colab": {
          "base_uri": "https://localhost:8080/",
          "height": 419
        },
        "id": "Ge0jDYagBPLm",
        "outputId": "e20d9751-8462-4203-c1ef-4be9d5a7d92e"
      },
      "source": [
        "X_pred"
      ],
      "execution_count": null,
      "outputs": [
        {
          "output_type": "execute_result",
          "data": {
            "text/html": [
              "<div>\n",
              "<style scoped>\n",
              "    .dataframe tbody tr th:only-of-type {\n",
              "        vertical-align: middle;\n",
              "    }\n",
              "\n",
              "    .dataframe tbody tr th {\n",
              "        vertical-align: top;\n",
              "    }\n",
              "\n",
              "    .dataframe thead th {\n",
              "        text-align: right;\n",
              "    }\n",
              "</style>\n",
              "<table border=\"1\" class=\"dataframe\">\n",
              "  <thead>\n",
              "    <tr style=\"text-align: right;\">\n",
              "      <th></th>\n",
              "      <th>Year</th>\n",
              "      <th>Round</th>\n",
              "      <th>First_Name</th>\n",
              "      <th>Last_Name</th>\n",
              "      <th>Q_Time</th>\n",
              "      <th>Track</th>\n",
              "      <th>Points</th>\n",
              "      <th>Wins</th>\n",
              "      <th>Position</th>\n",
              "    </tr>\n",
              "  </thead>\n",
              "  <tbody>\n",
              "    <tr>\n",
              "      <th>1078</th>\n",
              "      <td>2018</td>\n",
              "      <td>19</td>\n",
              "      <td>Lewis</td>\n",
              "      <td>Hamilton</td>\n",
              "      <td>1:34.130</td>\n",
              "      <td>rodriguez</td>\n",
              "      <td>358</td>\n",
              "      <td>9</td>\n",
              "      <td>-1.753222</td>\n",
              "    </tr>\n",
              "    <tr>\n",
              "      <th>1655</th>\n",
              "      <td>2016</td>\n",
              "      <td>8</td>\n",
              "      <td>Kimi</td>\n",
              "      <td>Räikkönen</td>\n",
              "      <td>1:14.477</td>\n",
              "      <td>BAK</td>\n",
              "      <td>81</td>\n",
              "      <td>0</td>\n",
              "      <td>4.181709</td>\n",
              "    </tr>\n",
              "    <tr>\n",
              "      <th>1866</th>\n",
              "      <td>2016</td>\n",
              "      <td>18</td>\n",
              "      <td>Nico</td>\n",
              "      <td>Rosberg</td>\n",
              "      <td>1:31.858</td>\n",
              "      <td>americas</td>\n",
              "      <td>331</td>\n",
              "      <td>9</td>\n",
              "      <td>6.914855</td>\n",
              "    </tr>\n",
              "    <tr>\n",
              "      <th>942</th>\n",
              "      <td>2018</td>\n",
              "      <td>12</td>\n",
              "      <td>Kevin</td>\n",
              "      <td>Magnussen</td>\n",
              "      <td>1:13.105</td>\n",
              "      <td>hungaroring</td>\n",
              "      <td>45</td>\n",
              "      <td>0</td>\n",
              "      <td>13.181902</td>\n",
              "    </tr>\n",
              "    <tr>\n",
              "      <th>331</th>\n",
              "      <td>2019</td>\n",
              "      <td>1</td>\n",
              "      <td>Daniel</td>\n",
              "      <td>Ricciardo</td>\n",
              "      <td>1:22.921</td>\n",
              "      <td>albert_park</td>\n",
              "      <td>0</td>\n",
              "      <td>0</td>\n",
              "      <td>10.039934</td>\n",
              "    </tr>\n",
              "    <tr>\n",
              "      <th>...</th>\n",
              "      <td>...</td>\n",
              "      <td>...</td>\n",
              "      <td>...</td>\n",
              "      <td>...</td>\n",
              "      <td>...</td>\n",
              "      <td>...</td>\n",
              "      <td>...</td>\n",
              "      <td>...</td>\n",
              "      <td>...</td>\n",
              "    </tr>\n",
              "    <tr>\n",
              "      <th>561</th>\n",
              "      <td>2019</td>\n",
              "      <td>13</td>\n",
              "      <td>Charles</td>\n",
              "      <td>Leclerc</td>\n",
              "      <td>1:16.337</td>\n",
              "      <td>spa</td>\n",
              "      <td>157</td>\n",
              "      <td>1</td>\n",
              "      <td>10.787050</td>\n",
              "    </tr>\n",
              "    <tr>\n",
              "      <th>836</th>\n",
              "      <td>2018</td>\n",
              "      <td>6</td>\n",
              "      <td>Lance</td>\n",
              "      <td>Stroll</td>\n",
              "      <td>1:20.225</td>\n",
              "      <td>monaco</td>\n",
              "      <td>4</td>\n",
              "      <td>0</td>\n",
              "      <td>10.426391</td>\n",
              "    </tr>\n",
              "    <tr>\n",
              "      <th>465</th>\n",
              "      <td>2019</td>\n",
              "      <td>8</td>\n",
              "      <td>Lando</td>\n",
              "      <td>Norris</td>\n",
              "      <td>1:11.780</td>\n",
              "      <td>ricard</td>\n",
              "      <td>14</td>\n",
              "      <td>0</td>\n",
              "      <td>8.255049</td>\n",
              "    </tr>\n",
              "    <tr>\n",
              "      <th>588</th>\n",
              "      <td>2019</td>\n",
              "      <td>14</td>\n",
              "      <td>Romain</td>\n",
              "      <td>Grosjean</td>\n",
              "      <td>1:45.694</td>\n",
              "      <td>monza</td>\n",
              "      <td>8</td>\n",
              "      <td>0</td>\n",
              "      <td>14.445813</td>\n",
              "    </tr>\n",
              "    <tr>\n",
              "      <th>199</th>\n",
              "      <td>2020</td>\n",
              "      <td>10</td>\n",
              "      <td>Kevin</td>\n",
              "      <td>Magnussen</td>\n",
              "      <td>1:17.348</td>\n",
              "      <td>sochi</td>\n",
              "      <td>1</td>\n",
              "      <td>0</td>\n",
              "      <td>13.877587</td>\n",
              "    </tr>\n",
              "  </tbody>\n",
              "</table>\n",
              "<p>483 rows × 9 columns</p>\n",
              "</div>"
            ],
            "text/plain": [
              "      Year Round First_Name  Last_Name  ...        Track Points Wins   Position\n",
              "1078  2018    19      Lewis   Hamilton  ...    rodriguez    358    9  -1.753222\n",
              "1655  2016     8       Kimi  Räikkönen  ...          BAK     81    0   4.181709\n",
              "1866  2016    18       Nico    Rosberg  ...     americas    331    9   6.914855\n",
              "942   2018    12      Kevin  Magnussen  ...  hungaroring     45    0  13.181902\n",
              "331   2019     1     Daniel  Ricciardo  ...  albert_park      0    0  10.039934\n",
              "...    ...   ...        ...        ...  ...          ...    ...  ...        ...\n",
              "561   2019    13    Charles    Leclerc  ...          spa    157    1  10.787050\n",
              "836   2018     6      Lance     Stroll  ...       monaco      4    0  10.426391\n",
              "465   2019     8      Lando     Norris  ...       ricard     14    0   8.255049\n",
              "588   2019    14     Romain   Grosjean  ...        monza      8    0  14.445813\n",
              "199   2020    10      Kevin  Magnussen  ...        sochi      1    0  13.877587\n",
              "\n",
              "[483 rows x 9 columns]"
            ]
          },
          "metadata": {
            "tags": []
          },
          "execution_count": 56
        }
      ]
    },
    {
      "cell_type": "markdown",
      "metadata": {
        "id": "0uR0j5dEnBB3"
      },
      "source": [
        "# Where I left off \n",
        "\n",
        "Looking at where I left off, it's clear that I got a base model running. This is a regressional problem, and my base model is not very accurate. I also remembered that since the model spits out a numpy array, I can attach it to my test dataframe so it can predict the places for what place each driver will get. \n",
        "\n",
        "Now I'm going to make another data frame, this one will be the values it's going to take to actually predict. then let's see what the model will do."
      ]
    },
    {
      "cell_type": "code",
      "metadata": {
        "colab": {
          "base_uri": "https://localhost:8080/"
        },
        "id": "xYmD9rU_CTMQ",
        "outputId": "006b8f33-3d2f-4f57-87e9-a2aaa5122a07"
      },
      "source": [
        "column_list = [\"Year\", \"Round\", \"First_Name\", \"Last_Name\", \"Q_Time\", \"Track\", \"Points\", \"Wins\"]\n",
        "test_df = pd.DataFrame(columns=column_list)\n",
        "\n",
        "new_info = {\"Year\": 2021, \n",
        "            \"Round\": 21,\n",
        "            \"First_Name\": \"Lewis\",\n",
        "            \"Last_Name\": \"Hamilton\",\n",
        "            \"Q_Time\": \"1:12.432\",\n",
        "            \"Track\": \"americas\",\n",
        "            \"Points\": 0,\n",
        "            \"Wins\": 10}\n",
        "\n",
        "test_df = test_df.append(new_info, ignore_index=True)\n",
        "# Always make sure to encode my dataframe, \n",
        "# I can decode it after I'm done. \n",
        "test_df_e = encoder.fit_transform(test_df)"
      ],
      "execution_count": null,
      "outputs": [
        {
          "output_type": "stream",
          "text": [
            "/usr/local/lib/python3.6/dist-packages/category_encoders/utils.py:21: FutureWarning: is_categorical is deprecated and will be removed in a future version.  Use is_categorical_dtype instead\n",
            "  elif pd.api.types.is_categorical(cols):\n"
          ],
          "name": "stderr"
        }
      ]
    },
    {
      "cell_type": "code",
      "metadata": {
        "colab": {
          "base_uri": "https://localhost:8080/"
        },
        "id": "FpL67PWJpUbN",
        "outputId": "87fda2ea-e216-406c-8a3d-97c688d6cbef"
      },
      "source": [
        "# getting the prediction, let's see how well he does\n",
        "y_pred = model.predict(test_df_e)\n",
        "y_pred"
      ],
      "execution_count": null,
      "outputs": [
        {
          "output_type": "execute_result",
          "data": {
            "text/plain": [
              "array([9.63239032])"
            ]
          },
          "metadata": {
            "tags": []
          },
          "execution_count": 58
        }
      ]
    },
    {
      "cell_type": "markdown",
      "metadata": {
        "id": "tV6Zm5ujqUTI"
      },
      "source": [
        "# Play with the dict and see how it effects the model\n",
        "\n",
        "The only features that are important to this model is the name and which round it is. I thought the wins and points would be the most important parts to the model but it's clear that it's doing it based on the driver. \n",
        "\n",
        "I want to try a tree model that will be much more accurate. and from there see what I can do to get the most accurate model possible. \n",
        "\n"
      ]
    },
    {
      "cell_type": "markdown",
      "metadata": {
        "id": "L2DcmIwIvtwb"
      },
      "source": [
        "# TODO\n",
        "\n",
        "Linked this project to a GitHub Repo to continue working on the project. It is imparitive that I do that. \n",
        "\n"
      ]
    },
    {
      "cell_type": "code",
      "metadata": {
        "id": "6sR7KvqLp15u"
      },
      "source": [
        "# I made a huge mistake\n",
        "# I went straight to building a model instead of actually \n",
        "# taking the time to explore my data further to see any patterns \n"
      ],
      "execution_count": null,
      "outputs": []
    },
    {
      "cell_type": "code",
      "metadata": {
        "id": "-kvNhGSpISE1"
      },
      "source": [
        "'''\r\n",
        "  Find all the pairs of two integers in an unsorted array that sum up to a given S\r\n",
        "\r\n",
        "  What I need: \r\n",
        "  two loops to go through each pair to find each sum  \r\n",
        "\r\n",
        "  a function that would intake two values, an array and sum = S \r\n",
        "\r\n",
        "  loop 1 would be int \r\n",
        "  then go into loop 2\r\n",
        "\r\n",
        "  if statement to check if it is equal to sum\r\n",
        "  if it isn't then pass, if it is add the two numbers to a list \r\n",
        "  then after loops are done spit out the list of pairs \r\n",
        "'''\r\n",
        "\r\n",
        "\r\n",
        "def sumArray(ar, S):\r\n",
        "  # making two lists, one to hold pairs, then last one to \r\n",
        "  # hold all of the pairs that equate into a sum\r\n",
        "  final_pairs = []\r\n",
        "  pairs = []\r\n",
        "\r\n",
        "  # Only one problem left, have something to make sure that \r\n",
        "  # I'm not adding two numbers on the same index. \r\n",
        "  for i in ar:\r\n",
        "    try:\r\n",
        "      for j in ar:\r\n",
        "        if i > j:\r\n",
        "          testsum = ar[i] + ar[j]\r\n",
        "          if testsum == S:\r\n",
        "            pairs = [ar[i], ar[j]]\r\n",
        "            final_pairs.append(pairs)\r\n",
        "          else:\r\n",
        "            pass\r\n",
        "        else: \r\n",
        "          pass\r\n",
        "    except (IndexError):\r\n",
        "      pass\r\n",
        "  \r\n",
        "  \r\n",
        "  return final_pairs\r\n",
        "\r\n",
        "# my problemm is that it's only returning one of \r\n",
        "# the two pairs it's supposed to return\r\n",
        "# so "
      ],
      "execution_count": null,
      "outputs": []
    },
    {
      "cell_type": "code",
      "metadata": {
        "colab": {
          "base_uri": "https://localhost:8080/"
        },
        "id": "Q96Aop-yJQ_h",
        "outputId": "b292d50e-9bb5-4911-d009-2249fe705e91"
      },
      "source": [
        "test = [3, 5, 2, -4, 8, 11]\r\n",
        "S = 7\r\n",
        "\r\n",
        "sumArray(test, S)"
      ],
      "execution_count": null,
      "outputs": [
        {
          "output_type": "execute_result",
          "data": {
            "text/plain": [
              "[[11, -4]]"
            ]
          },
          "metadata": {
            "tags": []
          },
          "execution_count": 16
        }
      ]
    },
    {
      "cell_type": "code",
      "metadata": {
        "id": "ZPwmVtzPKtew"
      },
      "source": [
        ""
      ],
      "execution_count": null,
      "outputs": []
    }
  ]
}